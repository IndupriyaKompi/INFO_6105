{
 "cells": [
  {
   "cell_type": "markdown",
   "metadata": {
    "collapsed": true
   },
   "source": [
    "## Assignment 3 - Linear Models\n",
    "\n",
    "**Due Tuesday, November 13, 2018**   \n",
    "\n",
    "_Submission: Put the data and Jupyter notebook files in a folder. Make sure all links to data are relative to the folder so the TAs can run the notebooks._   Points will be deducted if the TAs can't run the notebooks.\n",
    "   \n",
    "Find a public dataset with a least 9 columns and 3000 rows. You must post your dataset on the class piazza and get an OK before using it as every student needs to use a different dataset.\n",
    "\n",
    "In this assingment you will create predictive linear models.   \n",
    "\n",
    "  \n",
    "## Part A  - Linear model (40 points)\n",
    "\n",
    "* Generate linear models for your data:\n",
    "\n",
    "    * Find a significant linear relations of your choosing in your data. Create a multivariate (multiple independent variable) linear models.\n",
    "    \n",
    "You MUST use at least 7 independent variables and at least one needs to be a binary categorical variable and  at least one needs to be a multi-class categorical variable.    \n",
    "  \n",
    "You MUST generate at least three models.    \n",
    " \n",
    "Answer the following questions for the multivariate (multiple) linear models:  \n",
    "    * Is the relationship significant?   \n",
    "    * Are any model assumptions violated?      \n",
    "    * Does the model make sense?  \n",
    "    * Cross-validate the model. How well did it do? \n",
    "    * Compare the AIC, BIC and adujested R^2.  Do they agree in their ranking of the models?  \n",
    "\n",
    "## Part B - Multi-colinearity and step-wise regression  (20 points)\n",
    "\n",
    "Check for  multi-colinearity and perform step-wise regression.\n",
    "Answer the following:      \n",
    "   \n",
    "   \n",
    "        * Is there any multi-colinearity in the model?   \n",
    "    * In the multiple regression models are predictor variables independent of all the other predictor variables?   \n",
    "    * In multiple regression models rank the most significant predictor variables and exclude insignificant ones from the model. \n",
    "    * Cross-validate the models. How well did they do?   \n",
    "\n",
    "\n",
    "\n",
    "## Part C -  Interaction effects (20 points)\n",
    "    \n",
    "Create at least two product terms to model two likely interaction effects.        \n",
    "* Is there a significant synergy (interaction effect) in either of your tested product terms?\n",
    "    \n",
    "## Part D - Professional code (10 points)\n",
    "\n",
    "* Style guide   \n",
    "* Consistent Naming Scheme   \n",
    "* Commenting & Documentation   \n",
    "* Consistent Indentation   \n",
    "* DRY Principle/Cookie Cutter (DRY stands for Don't Repeat Yourself)   \n",
    "* File and Folder Organization   \n",
    "* Separation of Code and Data   \n",
    "* Use Efficient Data Structures and Algorithms   \n",
    "* Keep Your Code Portable  \n"
   ]
  },
  {
   "cell_type": "markdown",
   "metadata": {},
   "source": [
    "Last update October 3, 2017"
   ]
  }
 ],
 "metadata": {
  "kernelspec": {
   "display_name": "Python 3",
   "language": "python",
   "name": "python3"
  },
  "language_info": {
   "codemirror_mode": {
    "name": "ipython",
    "version": 3
   },
   "file_extension": ".py",
   "mimetype": "text/x-python",
   "name": "python",
   "nbconvert_exporter": "python",
   "pygments_lexer": "ipython3",
   "version": "3.6.5"
  }
 },
 "nbformat": 4,
 "nbformat_minor": 2
}
