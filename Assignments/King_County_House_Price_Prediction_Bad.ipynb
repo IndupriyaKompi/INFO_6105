{
 "cells": [
  {
   "cell_type": "markdown",
   "metadata": {},
   "source": [
    "#  Assingment 4"
   ]
  },
  {
   "cell_type": "code",
   "execution_count": 1,
   "metadata": {
    "collapsed": true
   },
   "outputs": [],
   "source": [
    "import pandas as pd\n",
    "import seaborn as sns\n",
    "import matplotlib.pyplot as plt\n",
    "import numpy as np\n",
    "from pandas import Series"
   ]
  },
  {
   "cell_type": "code",
   "execution_count": 2,
   "metadata": {
    "collapsed": true
   },
   "outputs": [],
   "source": [
    "#features = pd.read_csv('C://class/king_county_cleansed.csv')\n",
    "features = pd.read_csv('king_county_cleansed.csv')"
   ]
  },
  {
   "cell_type": "code",
   "execution_count": 3,
   "metadata": {
    "scrolled": true
   },
   "outputs": [
    {
     "data": {
      "text/html": [
       "<div>\n",
       "<style>\n",
       "    .dataframe thead tr:only-child th {\n",
       "        text-align: right;\n",
       "    }\n",
       "\n",
       "    .dataframe thead th {\n",
       "        text-align: left;\n",
       "    }\n",
       "\n",
       "    .dataframe tbody tr th {\n",
       "        vertical-align: top;\n",
       "    }\n",
       "</style>\n",
       "<table border=\"1\" class=\"dataframe\">\n",
       "  <thead>\n",
       "    <tr style=\"text-align: right;\">\n",
       "      <th></th>\n",
       "      <th>index</th>\n",
       "      <th>price</th>\n",
       "      <th>bedrooms</th>\n",
       "      <th>bathrooms</th>\n",
       "      <th>sqft_living</th>\n",
       "      <th>sqft_lot</th>\n",
       "      <th>waterfront</th>\n",
       "      <th>sqft_above</th>\n",
       "      <th>sqft_basement</th>\n",
       "      <th>yr_built</th>\n",
       "      <th>...</th>\n",
       "      <th>grade#10</th>\n",
       "      <th>grade#11</th>\n",
       "      <th>grade#12</th>\n",
       "      <th>grade#13</th>\n",
       "      <th>zipcode#98004</th>\n",
       "      <th>zipcode#98102</th>\n",
       "      <th>zipcode#98109</th>\n",
       "      <th>zipcode#98112</th>\n",
       "      <th>zipcode#98039</th>\n",
       "      <th>zipcode#98040</th>\n",
       "    </tr>\n",
       "  </thead>\n",
       "  <tbody>\n",
       "    <tr>\n",
       "      <th>0</th>\n",
       "      <td>16768</td>\n",
       "      <td>437500</td>\n",
       "      <td>3</td>\n",
       "      <td>2.25</td>\n",
       "      <td>1970</td>\n",
       "      <td>35100</td>\n",
       "      <td>0</td>\n",
       "      <td>1970</td>\n",
       "      <td>0</td>\n",
       "      <td>1977</td>\n",
       "      <td>...</td>\n",
       "      <td>0</td>\n",
       "      <td>0</td>\n",
       "      <td>0</td>\n",
       "      <td>0</td>\n",
       "      <td>0</td>\n",
       "      <td>0</td>\n",
       "      <td>0</td>\n",
       "      <td>0</td>\n",
       "      <td>0</td>\n",
       "      <td>0</td>\n",
       "    </tr>\n",
       "    <tr>\n",
       "      <th>1</th>\n",
       "      <td>9596</td>\n",
       "      <td>790000</td>\n",
       "      <td>3</td>\n",
       "      <td>2.50</td>\n",
       "      <td>2600</td>\n",
       "      <td>4750</td>\n",
       "      <td>0</td>\n",
       "      <td>1700</td>\n",
       "      <td>900</td>\n",
       "      <td>1951</td>\n",
       "      <td>...</td>\n",
       "      <td>0</td>\n",
       "      <td>0</td>\n",
       "      <td>0</td>\n",
       "      <td>0</td>\n",
       "      <td>0</td>\n",
       "      <td>0</td>\n",
       "      <td>0</td>\n",
       "      <td>0</td>\n",
       "      <td>0</td>\n",
       "      <td>0</td>\n",
       "    </tr>\n",
       "    <tr>\n",
       "      <th>2</th>\n",
       "      <td>9587</td>\n",
       "      <td>675000</td>\n",
       "      <td>5</td>\n",
       "      <td>2.50</td>\n",
       "      <td>2820</td>\n",
       "      <td>67518</td>\n",
       "      <td>0</td>\n",
       "      <td>2820</td>\n",
       "      <td>0</td>\n",
       "      <td>1979</td>\n",
       "      <td>...</td>\n",
       "      <td>0</td>\n",
       "      <td>0</td>\n",
       "      <td>0</td>\n",
       "      <td>0</td>\n",
       "      <td>0</td>\n",
       "      <td>0</td>\n",
       "      <td>0</td>\n",
       "      <td>0</td>\n",
       "      <td>0</td>\n",
       "      <td>0</td>\n",
       "    </tr>\n",
       "    <tr>\n",
       "      <th>3</th>\n",
       "      <td>20602</td>\n",
       "      <td>555000</td>\n",
       "      <td>4</td>\n",
       "      <td>2.50</td>\n",
       "      <td>3310</td>\n",
       "      <td>6500</td>\n",
       "      <td>0</td>\n",
       "      <td>3310</td>\n",
       "      <td>0</td>\n",
       "      <td>2012</td>\n",
       "      <td>...</td>\n",
       "      <td>0</td>\n",
       "      <td>0</td>\n",
       "      <td>0</td>\n",
       "      <td>0</td>\n",
       "      <td>0</td>\n",
       "      <td>0</td>\n",
       "      <td>0</td>\n",
       "      <td>0</td>\n",
       "      <td>0</td>\n",
       "      <td>0</td>\n",
       "    </tr>\n",
       "    <tr>\n",
       "      <th>4</th>\n",
       "      <td>11577</td>\n",
       "      <td>440000</td>\n",
       "      <td>4</td>\n",
       "      <td>2.25</td>\n",
       "      <td>2160</td>\n",
       "      <td>8119</td>\n",
       "      <td>0</td>\n",
       "      <td>1080</td>\n",
       "      <td>1080</td>\n",
       "      <td>1966</td>\n",
       "      <td>...</td>\n",
       "      <td>0</td>\n",
       "      <td>0</td>\n",
       "      <td>0</td>\n",
       "      <td>0</td>\n",
       "      <td>0</td>\n",
       "      <td>0</td>\n",
       "      <td>0</td>\n",
       "      <td>0</td>\n",
       "      <td>0</td>\n",
       "      <td>0</td>\n",
       "    </tr>\n",
       "  </tbody>\n",
       "</table>\n",
       "<p>5 rows × 51 columns</p>\n",
       "</div>"
      ],
      "text/plain": [
       "   index   price  bedrooms  bathrooms  sqft_living  sqft_lot  waterfront  \\\n",
       "0  16768  437500         3       2.25         1970     35100           0   \n",
       "1   9596  790000         3       2.50         2600      4750           0   \n",
       "2   9587  675000         5       2.50         2820     67518           0   \n",
       "3  20602  555000         4       2.50         3310      6500           0   \n",
       "4  11577  440000         4       2.25         2160      8119           0   \n",
       "\n",
       "   sqft_above  sqft_basement  yr_built      ...        grade#10  grade#11  \\\n",
       "0        1970              0      1977      ...               0         0   \n",
       "1        1700            900      1951      ...               0         0   \n",
       "2        2820              0      1979      ...               0         0   \n",
       "3        3310              0      2012      ...               0         0   \n",
       "4        1080           1080      1966      ...               0         0   \n",
       "\n",
       "   grade#12  grade#13  zipcode#98004  zipcode#98102  zipcode#98109  \\\n",
       "0         0         0              0              0              0   \n",
       "1         0         0              0              0              0   \n",
       "2         0         0              0              0              0   \n",
       "3         0         0              0              0              0   \n",
       "4         0         0              0              0              0   \n",
       "\n",
       "   zipcode#98112  zipcode#98039  zipcode#98040  \n",
       "0              0              0              0  \n",
       "1              0              0              0  \n",
       "2              0              0              0  \n",
       "3              0              0              0  \n",
       "4              0              0              0  \n",
       "\n",
       "[5 rows x 51 columns]"
      ]
     },
     "execution_count": 3,
     "metadata": {},
     "output_type": "execute_result"
    }
   ],
   "source": [
    "features.head(5)"
   ]
  },
  {
   "cell_type": "code",
   "execution_count": 4,
   "metadata": {
    "scrolled": true
   },
   "outputs": [
    {
     "data": {
      "text/html": [
       "<div>\n",
       "<style>\n",
       "    .dataframe thead tr:only-child th {\n",
       "        text-align: right;\n",
       "    }\n",
       "\n",
       "    .dataframe thead th {\n",
       "        text-align: left;\n",
       "    }\n",
       "\n",
       "    .dataframe tbody tr th {\n",
       "        vertical-align: top;\n",
       "    }\n",
       "</style>\n",
       "<table border=\"1\" class=\"dataframe\">\n",
       "  <thead>\n",
       "    <tr style=\"text-align: right;\">\n",
       "      <th></th>\n",
       "      <th>index</th>\n",
       "      <th>price</th>\n",
       "      <th>bedrooms</th>\n",
       "      <th>bathrooms</th>\n",
       "      <th>sqft_living</th>\n",
       "      <th>sqft_lot</th>\n",
       "      <th>waterfront</th>\n",
       "      <th>sqft_above</th>\n",
       "      <th>sqft_basement</th>\n",
       "      <th>yr_built</th>\n",
       "      <th>...</th>\n",
       "      <th>grade#10</th>\n",
       "      <th>grade#11</th>\n",
       "      <th>grade#12</th>\n",
       "      <th>grade#13</th>\n",
       "      <th>zipcode#98004</th>\n",
       "      <th>zipcode#98102</th>\n",
       "      <th>zipcode#98109</th>\n",
       "      <th>zipcode#98112</th>\n",
       "      <th>zipcode#98039</th>\n",
       "      <th>zipcode#98040</th>\n",
       "    </tr>\n",
       "  </thead>\n",
       "  <tbody>\n",
       "    <tr>\n",
       "      <th>count</th>\n",
       "      <td>21613.00000</td>\n",
       "      <td>2.161300e+04</td>\n",
       "      <td>21613.000000</td>\n",
       "      <td>21613.000000</td>\n",
       "      <td>21613.000000</td>\n",
       "      <td>2.161300e+04</td>\n",
       "      <td>21613.000000</td>\n",
       "      <td>21613.000000</td>\n",
       "      <td>21613.000000</td>\n",
       "      <td>21613.000000</td>\n",
       "      <td>...</td>\n",
       "      <td>21613.000000</td>\n",
       "      <td>21613.000000</td>\n",
       "      <td>21613.000000</td>\n",
       "      <td>21613.000000</td>\n",
       "      <td>21613.000000</td>\n",
       "      <td>21613.000000</td>\n",
       "      <td>21613.000000</td>\n",
       "      <td>21613.000000</td>\n",
       "      <td>21613.000000</td>\n",
       "      <td>21613.000000</td>\n",
       "    </tr>\n",
       "    <tr>\n",
       "      <th>mean</th>\n",
       "      <td>10806.00000</td>\n",
       "      <td>5.400881e+05</td>\n",
       "      <td>3.370842</td>\n",
       "      <td>2.114757</td>\n",
       "      <td>2079.899736</td>\n",
       "      <td>1.510697e+04</td>\n",
       "      <td>0.007542</td>\n",
       "      <td>1788.390691</td>\n",
       "      <td>291.509045</td>\n",
       "      <td>1971.005136</td>\n",
       "      <td>...</td>\n",
       "      <td>0.052468</td>\n",
       "      <td>0.018461</td>\n",
       "      <td>0.004164</td>\n",
       "      <td>0.000601</td>\n",
       "      <td>0.014667</td>\n",
       "      <td>0.004858</td>\n",
       "      <td>0.005043</td>\n",
       "      <td>0.012446</td>\n",
       "      <td>0.002313</td>\n",
       "      <td>0.013048</td>\n",
       "    </tr>\n",
       "    <tr>\n",
       "      <th>std</th>\n",
       "      <td>6239.28002</td>\n",
       "      <td>3.671272e+05</td>\n",
       "      <td>0.930062</td>\n",
       "      <td>0.770163</td>\n",
       "      <td>918.440897</td>\n",
       "      <td>4.142051e+04</td>\n",
       "      <td>0.086517</td>\n",
       "      <td>828.090978</td>\n",
       "      <td>442.575043</td>\n",
       "      <td>29.373411</td>\n",
       "      <td>...</td>\n",
       "      <td>0.222975</td>\n",
       "      <td>0.134615</td>\n",
       "      <td>0.064397</td>\n",
       "      <td>0.024518</td>\n",
       "      <td>0.120219</td>\n",
       "      <td>0.069533</td>\n",
       "      <td>0.070838</td>\n",
       "      <td>0.110869</td>\n",
       "      <td>0.048043</td>\n",
       "      <td>0.113482</td>\n",
       "    </tr>\n",
       "    <tr>\n",
       "      <th>min</th>\n",
       "      <td>0.00000</td>\n",
       "      <td>7.500000e+04</td>\n",
       "      <td>0.000000</td>\n",
       "      <td>0.000000</td>\n",
       "      <td>290.000000</td>\n",
       "      <td>5.200000e+02</td>\n",
       "      <td>0.000000</td>\n",
       "      <td>290.000000</td>\n",
       "      <td>0.000000</td>\n",
       "      <td>1900.000000</td>\n",
       "      <td>...</td>\n",
       "      <td>0.000000</td>\n",
       "      <td>0.000000</td>\n",
       "      <td>0.000000</td>\n",
       "      <td>0.000000</td>\n",
       "      <td>0.000000</td>\n",
       "      <td>0.000000</td>\n",
       "      <td>0.000000</td>\n",
       "      <td>0.000000</td>\n",
       "      <td>0.000000</td>\n",
       "      <td>0.000000</td>\n",
       "    </tr>\n",
       "    <tr>\n",
       "      <th>25%</th>\n",
       "      <td>5403.00000</td>\n",
       "      <td>3.219500e+05</td>\n",
       "      <td>3.000000</td>\n",
       "      <td>1.750000</td>\n",
       "      <td>1427.000000</td>\n",
       "      <td>5.040000e+03</td>\n",
       "      <td>0.000000</td>\n",
       "      <td>1190.000000</td>\n",
       "      <td>0.000000</td>\n",
       "      <td>1951.000000</td>\n",
       "      <td>...</td>\n",
       "      <td>0.000000</td>\n",
       "      <td>0.000000</td>\n",
       "      <td>0.000000</td>\n",
       "      <td>0.000000</td>\n",
       "      <td>0.000000</td>\n",
       "      <td>0.000000</td>\n",
       "      <td>0.000000</td>\n",
       "      <td>0.000000</td>\n",
       "      <td>0.000000</td>\n",
       "      <td>0.000000</td>\n",
       "    </tr>\n",
       "    <tr>\n",
       "      <th>50%</th>\n",
       "      <td>10806.00000</td>\n",
       "      <td>4.500000e+05</td>\n",
       "      <td>3.000000</td>\n",
       "      <td>2.250000</td>\n",
       "      <td>1910.000000</td>\n",
       "      <td>7.618000e+03</td>\n",
       "      <td>0.000000</td>\n",
       "      <td>1560.000000</td>\n",
       "      <td>0.000000</td>\n",
       "      <td>1975.000000</td>\n",
       "      <td>...</td>\n",
       "      <td>0.000000</td>\n",
       "      <td>0.000000</td>\n",
       "      <td>0.000000</td>\n",
       "      <td>0.000000</td>\n",
       "      <td>0.000000</td>\n",
       "      <td>0.000000</td>\n",
       "      <td>0.000000</td>\n",
       "      <td>0.000000</td>\n",
       "      <td>0.000000</td>\n",
       "      <td>0.000000</td>\n",
       "    </tr>\n",
       "    <tr>\n",
       "      <th>75%</th>\n",
       "      <td>16209.00000</td>\n",
       "      <td>6.450000e+05</td>\n",
       "      <td>4.000000</td>\n",
       "      <td>2.500000</td>\n",
       "      <td>2550.000000</td>\n",
       "      <td>1.068800e+04</td>\n",
       "      <td>0.000000</td>\n",
       "      <td>2210.000000</td>\n",
       "      <td>560.000000</td>\n",
       "      <td>1997.000000</td>\n",
       "      <td>...</td>\n",
       "      <td>0.000000</td>\n",
       "      <td>0.000000</td>\n",
       "      <td>0.000000</td>\n",
       "      <td>0.000000</td>\n",
       "      <td>0.000000</td>\n",
       "      <td>0.000000</td>\n",
       "      <td>0.000000</td>\n",
       "      <td>0.000000</td>\n",
       "      <td>0.000000</td>\n",
       "      <td>0.000000</td>\n",
       "    </tr>\n",
       "    <tr>\n",
       "      <th>max</th>\n",
       "      <td>21612.00000</td>\n",
       "      <td>7.700000e+06</td>\n",
       "      <td>33.000000</td>\n",
       "      <td>8.000000</td>\n",
       "      <td>13540.000000</td>\n",
       "      <td>1.651359e+06</td>\n",
       "      <td>1.000000</td>\n",
       "      <td>9410.000000</td>\n",
       "      <td>4820.000000</td>\n",
       "      <td>2015.000000</td>\n",
       "      <td>...</td>\n",
       "      <td>1.000000</td>\n",
       "      <td>1.000000</td>\n",
       "      <td>1.000000</td>\n",
       "      <td>1.000000</td>\n",
       "      <td>1.000000</td>\n",
       "      <td>1.000000</td>\n",
       "      <td>1.000000</td>\n",
       "      <td>1.000000</td>\n",
       "      <td>1.000000</td>\n",
       "      <td>1.000000</td>\n",
       "    </tr>\n",
       "  </tbody>\n",
       "</table>\n",
       "<p>8 rows × 51 columns</p>\n",
       "</div>"
      ],
      "text/plain": [
       "             index         price      bedrooms     bathrooms   sqft_living  \\\n",
       "count  21613.00000  2.161300e+04  21613.000000  21613.000000  21613.000000   \n",
       "mean   10806.00000  5.400881e+05      3.370842      2.114757   2079.899736   \n",
       "std     6239.28002  3.671272e+05      0.930062      0.770163    918.440897   \n",
       "min        0.00000  7.500000e+04      0.000000      0.000000    290.000000   \n",
       "25%     5403.00000  3.219500e+05      3.000000      1.750000   1427.000000   \n",
       "50%    10806.00000  4.500000e+05      3.000000      2.250000   1910.000000   \n",
       "75%    16209.00000  6.450000e+05      4.000000      2.500000   2550.000000   \n",
       "max    21612.00000  7.700000e+06     33.000000      8.000000  13540.000000   \n",
       "\n",
       "           sqft_lot    waterfront    sqft_above  sqft_basement      yr_built  \\\n",
       "count  2.161300e+04  21613.000000  21613.000000   21613.000000  21613.000000   \n",
       "mean   1.510697e+04      0.007542   1788.390691     291.509045   1971.005136   \n",
       "std    4.142051e+04      0.086517    828.090978     442.575043     29.373411   \n",
       "min    5.200000e+02      0.000000    290.000000       0.000000   1900.000000   \n",
       "25%    5.040000e+03      0.000000   1190.000000       0.000000   1951.000000   \n",
       "50%    7.618000e+03      0.000000   1560.000000       0.000000   1975.000000   \n",
       "75%    1.068800e+04      0.000000   2210.000000     560.000000   1997.000000   \n",
       "max    1.651359e+06      1.000000   9410.000000    4820.000000   2015.000000   \n",
       "\n",
       "           ...            grade#10      grade#11      grade#12      grade#13  \\\n",
       "count      ...        21613.000000  21613.000000  21613.000000  21613.000000   \n",
       "mean       ...            0.052468      0.018461      0.004164      0.000601   \n",
       "std        ...            0.222975      0.134615      0.064397      0.024518   \n",
       "min        ...            0.000000      0.000000      0.000000      0.000000   \n",
       "25%        ...            0.000000      0.000000      0.000000      0.000000   \n",
       "50%        ...            0.000000      0.000000      0.000000      0.000000   \n",
       "75%        ...            0.000000      0.000000      0.000000      0.000000   \n",
       "max        ...            1.000000      1.000000      1.000000      1.000000   \n",
       "\n",
       "       zipcode#98004  zipcode#98102  zipcode#98109  zipcode#98112  \\\n",
       "count   21613.000000   21613.000000   21613.000000   21613.000000   \n",
       "mean        0.014667       0.004858       0.005043       0.012446   \n",
       "std         0.120219       0.069533       0.070838       0.110869   \n",
       "min         0.000000       0.000000       0.000000       0.000000   \n",
       "25%         0.000000       0.000000       0.000000       0.000000   \n",
       "50%         0.000000       0.000000       0.000000       0.000000   \n",
       "75%         0.000000       0.000000       0.000000       0.000000   \n",
       "max         1.000000       1.000000       1.000000       1.000000   \n",
       "\n",
       "       zipcode#98039  zipcode#98040  \n",
       "count   21613.000000   21613.000000  \n",
       "mean        0.002313       0.013048  \n",
       "std         0.048043       0.113482  \n",
       "min         0.000000       0.000000  \n",
       "25%         0.000000       0.000000  \n",
       "50%         0.000000       0.000000  \n",
       "75%         0.000000       0.000000  \n",
       "max         1.000000       1.000000  \n",
       "\n",
       "[8 rows x 51 columns]"
      ]
     },
     "execution_count": 4,
     "metadata": {},
     "output_type": "execute_result"
    }
   ],
   "source": [
    "features.describe()"
   ]
  },
  {
   "cell_type": "code",
   "execution_count": 5,
   "metadata": {},
   "outputs": [
    {
     "data": {
      "text/plain": [
       "<matplotlib.axes._subplots.AxesSubplot at 0x116feb588>"
      ]
     },
     "execution_count": 5,
     "metadata": {},
     "output_type": "execute_result"
    }
   ],
   "source": [
    "corr = features.corr()\n",
    "\n",
    "mask = np.zeros_like(corr, dtype=np.bool)\n",
    "mask[np.triu_indices_from(mask)] = True\n",
    "\n",
    "# Set up the matplotlib figure\n",
    "f, ax = plt.subplots(figsize=(20, 20))\n",
    "\n",
    "# Generate a custom diverging colormap\n",
    "cmap = sns.diverging_palette(190, 10, as_cmap=True)\n",
    "\n",
    "# Draw the heatmap with the mask and correct aspect ratio\n",
    "sns.heatmap(corr, mask=mask, cmap=cmap, vmax=.3, center=0,\n",
    "            square=True, linewidths=.5, cbar_kws={\"shrink\": .5})"
   ]
  },
  {
   "cell_type": "code",
   "execution_count": 6,
   "metadata": {
    "scrolled": true
   },
   "outputs": [
    {
     "data": {
      "text/plain": [
       "<matplotlib.image.AxesImage at 0x117188ba8>"
      ]
     },
     "execution_count": 6,
     "metadata": {},
     "output_type": "execute_result"
    }
   ],
   "source": [
    "plt.matshow(features.corr())"
   ]
  },
  {
   "cell_type": "code",
   "execution_count": 7,
   "metadata": {},
   "outputs": [
    {
     "name": "stdout",
     "output_type": "stream",
     "text": [
      "450000.0\n"
     ]
    }
   ],
   "source": [
    "median_price = features.loc[:,\"price\"].median()\n",
    "print(median_price)"
   ]
  },
  {
   "cell_type": "markdown",
   "metadata": {},
   "source": [
    "Adding column to dataframe for holding categorical price value : HIGH/LOW\n",
    "\n",
    "All values < median are LOW and Values >= median are HIGH"
   ]
  },
  {
   "cell_type": "code",
   "execution_count": 8,
   "metadata": {
    "collapsed": true
   },
   "outputs": [],
   "source": [
    "features['price_cat'] = features['price'].apply(lambda x: 1 if x > median_price else -1)"
   ]
  },
  {
   "cell_type": "code",
   "execution_count": 9,
   "metadata": {},
   "outputs": [
    {
     "data": {
      "text/html": [
       "<div>\n",
       "<style>\n",
       "    .dataframe thead tr:only-child th {\n",
       "        text-align: right;\n",
       "    }\n",
       "\n",
       "    .dataframe thead th {\n",
       "        text-align: left;\n",
       "    }\n",
       "\n",
       "    .dataframe tbody tr th {\n",
       "        vertical-align: top;\n",
       "    }\n",
       "</style>\n",
       "<table border=\"1\" class=\"dataframe\">\n",
       "  <thead>\n",
       "    <tr style=\"text-align: right;\">\n",
       "      <th></th>\n",
       "      <th>price</th>\n",
       "      <th>price_cat</th>\n",
       "    </tr>\n",
       "  </thead>\n",
       "  <tbody>\n",
       "    <tr>\n",
       "      <th>0</th>\n",
       "      <td>437500</td>\n",
       "      <td>-1</td>\n",
       "    </tr>\n",
       "    <tr>\n",
       "      <th>1</th>\n",
       "      <td>790000</td>\n",
       "      <td>1</td>\n",
       "    </tr>\n",
       "    <tr>\n",
       "      <th>2</th>\n",
       "      <td>675000</td>\n",
       "      <td>1</td>\n",
       "    </tr>\n",
       "    <tr>\n",
       "      <th>3</th>\n",
       "      <td>555000</td>\n",
       "      <td>1</td>\n",
       "    </tr>\n",
       "    <tr>\n",
       "      <th>4</th>\n",
       "      <td>440000</td>\n",
       "      <td>-1</td>\n",
       "    </tr>\n",
       "    <tr>\n",
       "      <th>5</th>\n",
       "      <td>295000</td>\n",
       "      <td>-1</td>\n",
       "    </tr>\n",
       "    <tr>\n",
       "      <th>6</th>\n",
       "      <td>470000</td>\n",
       "      <td>1</td>\n",
       "    </tr>\n",
       "    <tr>\n",
       "      <th>7</th>\n",
       "      <td>550000</td>\n",
       "      <td>1</td>\n",
       "    </tr>\n",
       "    <tr>\n",
       "      <th>8</th>\n",
       "      <td>313000</td>\n",
       "      <td>-1</td>\n",
       "    </tr>\n",
       "    <tr>\n",
       "      <th>9</th>\n",
       "      <td>626000</td>\n",
       "      <td>1</td>\n",
       "    </tr>\n",
       "  </tbody>\n",
       "</table>\n",
       "</div>"
      ],
      "text/plain": [
       "    price  price_cat\n",
       "0  437500         -1\n",
       "1  790000          1\n",
       "2  675000          1\n",
       "3  555000          1\n",
       "4  440000         -1\n",
       "5  295000         -1\n",
       "6  470000          1\n",
       "7  550000          1\n",
       "8  313000         -1\n",
       "9  626000          1"
      ]
     },
     "execution_count": 9,
     "metadata": {},
     "output_type": "execute_result"
    }
   ],
   "source": [
    "features[['price','price_cat']].head(10)"
   ]
  },
  {
   "cell_type": "code",
   "execution_count": 10,
   "metadata": {
    "scrolled": true
   },
   "outputs": [
    {
     "data": {
      "text/html": [
       "<div>\n",
       "<style>\n",
       "    .dataframe thead tr:only-child th {\n",
       "        text-align: right;\n",
       "    }\n",
       "\n",
       "    .dataframe thead th {\n",
       "        text-align: left;\n",
       "    }\n",
       "\n",
       "    .dataframe tbody tr th {\n",
       "        vertical-align: top;\n",
       "    }\n",
       "</style>\n",
       "<table border=\"1\" class=\"dataframe\">\n",
       "  <thead>\n",
       "    <tr style=\"text-align: right;\">\n",
       "      <th></th>\n",
       "      <th>index</th>\n",
       "      <th>price</th>\n",
       "      <th>bedrooms</th>\n",
       "      <th>bathrooms</th>\n",
       "      <th>sqft_living</th>\n",
       "      <th>sqft_lot</th>\n",
       "      <th>waterfront</th>\n",
       "      <th>sqft_above</th>\n",
       "      <th>sqft_basement</th>\n",
       "      <th>yr_built</th>\n",
       "      <th>...</th>\n",
       "      <th>grade#11</th>\n",
       "      <th>grade#12</th>\n",
       "      <th>grade#13</th>\n",
       "      <th>zipcode#98004</th>\n",
       "      <th>zipcode#98102</th>\n",
       "      <th>zipcode#98109</th>\n",
       "      <th>zipcode#98112</th>\n",
       "      <th>zipcode#98039</th>\n",
       "      <th>zipcode#98040</th>\n",
       "      <th>price_cat</th>\n",
       "    </tr>\n",
       "  </thead>\n",
       "  <tbody>\n",
       "    <tr>\n",
       "      <th>0</th>\n",
       "      <td>16768</td>\n",
       "      <td>437500</td>\n",
       "      <td>3</td>\n",
       "      <td>2.25</td>\n",
       "      <td>1970</td>\n",
       "      <td>35100</td>\n",
       "      <td>0</td>\n",
       "      <td>1970</td>\n",
       "      <td>0</td>\n",
       "      <td>1977</td>\n",
       "      <td>...</td>\n",
       "      <td>0</td>\n",
       "      <td>0</td>\n",
       "      <td>0</td>\n",
       "      <td>0</td>\n",
       "      <td>0</td>\n",
       "      <td>0</td>\n",
       "      <td>0</td>\n",
       "      <td>0</td>\n",
       "      <td>0</td>\n",
       "      <td>-1</td>\n",
       "    </tr>\n",
       "    <tr>\n",
       "      <th>1</th>\n",
       "      <td>9596</td>\n",
       "      <td>790000</td>\n",
       "      <td>3</td>\n",
       "      <td>2.50</td>\n",
       "      <td>2600</td>\n",
       "      <td>4750</td>\n",
       "      <td>0</td>\n",
       "      <td>1700</td>\n",
       "      <td>900</td>\n",
       "      <td>1951</td>\n",
       "      <td>...</td>\n",
       "      <td>0</td>\n",
       "      <td>0</td>\n",
       "      <td>0</td>\n",
       "      <td>0</td>\n",
       "      <td>0</td>\n",
       "      <td>0</td>\n",
       "      <td>0</td>\n",
       "      <td>0</td>\n",
       "      <td>0</td>\n",
       "      <td>1</td>\n",
       "    </tr>\n",
       "    <tr>\n",
       "      <th>2</th>\n",
       "      <td>9587</td>\n",
       "      <td>675000</td>\n",
       "      <td>5</td>\n",
       "      <td>2.50</td>\n",
       "      <td>2820</td>\n",
       "      <td>67518</td>\n",
       "      <td>0</td>\n",
       "      <td>2820</td>\n",
       "      <td>0</td>\n",
       "      <td>1979</td>\n",
       "      <td>...</td>\n",
       "      <td>0</td>\n",
       "      <td>0</td>\n",
       "      <td>0</td>\n",
       "      <td>0</td>\n",
       "      <td>0</td>\n",
       "      <td>0</td>\n",
       "      <td>0</td>\n",
       "      <td>0</td>\n",
       "      <td>0</td>\n",
       "      <td>1</td>\n",
       "    </tr>\n",
       "    <tr>\n",
       "      <th>3</th>\n",
       "      <td>20602</td>\n",
       "      <td>555000</td>\n",
       "      <td>4</td>\n",
       "      <td>2.50</td>\n",
       "      <td>3310</td>\n",
       "      <td>6500</td>\n",
       "      <td>0</td>\n",
       "      <td>3310</td>\n",
       "      <td>0</td>\n",
       "      <td>2012</td>\n",
       "      <td>...</td>\n",
       "      <td>0</td>\n",
       "      <td>0</td>\n",
       "      <td>0</td>\n",
       "      <td>0</td>\n",
       "      <td>0</td>\n",
       "      <td>0</td>\n",
       "      <td>0</td>\n",
       "      <td>0</td>\n",
       "      <td>0</td>\n",
       "      <td>1</td>\n",
       "    </tr>\n",
       "    <tr>\n",
       "      <th>4</th>\n",
       "      <td>11577</td>\n",
       "      <td>440000</td>\n",
       "      <td>4</td>\n",
       "      <td>2.25</td>\n",
       "      <td>2160</td>\n",
       "      <td>8119</td>\n",
       "      <td>0</td>\n",
       "      <td>1080</td>\n",
       "      <td>1080</td>\n",
       "      <td>1966</td>\n",
       "      <td>...</td>\n",
       "      <td>0</td>\n",
       "      <td>0</td>\n",
       "      <td>0</td>\n",
       "      <td>0</td>\n",
       "      <td>0</td>\n",
       "      <td>0</td>\n",
       "      <td>0</td>\n",
       "      <td>0</td>\n",
       "      <td>0</td>\n",
       "      <td>-1</td>\n",
       "    </tr>\n",
       "  </tbody>\n",
       "</table>\n",
       "<p>5 rows × 52 columns</p>\n",
       "</div>"
      ],
      "text/plain": [
       "   index   price  bedrooms  bathrooms  sqft_living  sqft_lot  waterfront  \\\n",
       "0  16768  437500         3       2.25         1970     35100           0   \n",
       "1   9596  790000         3       2.50         2600      4750           0   \n",
       "2   9587  675000         5       2.50         2820     67518           0   \n",
       "3  20602  555000         4       2.50         3310      6500           0   \n",
       "4  11577  440000         4       2.25         2160      8119           0   \n",
       "\n",
       "   sqft_above  sqft_basement  yr_built    ...      grade#11  grade#12  \\\n",
       "0        1970              0      1977    ...             0         0   \n",
       "1        1700            900      1951    ...             0         0   \n",
       "2        2820              0      1979    ...             0         0   \n",
       "3        3310              0      2012    ...             0         0   \n",
       "4        1080           1080      1966    ...             0         0   \n",
       "\n",
       "   grade#13  zipcode#98004  zipcode#98102  zipcode#98109  zipcode#98112  \\\n",
       "0         0              0              0              0              0   \n",
       "1         0              0              0              0              0   \n",
       "2         0              0              0              0              0   \n",
       "3         0              0              0              0              0   \n",
       "4         0              0              0              0              0   \n",
       "\n",
       "   zipcode#98039  zipcode#98040  price_cat  \n",
       "0              0              0         -1  \n",
       "1              0              0          1  \n",
       "2              0              0          1  \n",
       "3              0              0          1  \n",
       "4              0              0         -1  \n",
       "\n",
       "[5 rows x 52 columns]"
      ]
     },
     "execution_count": 10,
     "metadata": {},
     "output_type": "execute_result"
    }
   ],
   "source": [
    "features.head(5)"
   ]
  },
  {
   "cell_type": "markdown",
   "metadata": {},
   "source": [
    "## Random Forest Classifier\n"
   ]
  },
  {
   "cell_type": "code",
   "execution_count": 11,
   "metadata": {
    "collapsed": true
   },
   "outputs": [],
   "source": [
    "from sklearn.model_selection import train_test_split"
   ]
  },
  {
   "cell_type": "code",
   "execution_count": 12,
   "metadata": {},
   "outputs": [
    {
     "data": {
      "text/plain": [
       "Index(['index', 'price', 'bedrooms', 'bathrooms', 'sqft_living', 'sqft_lot',\n",
       "       'waterfront', 'sqft_above', 'sqft_basement', 'yr_built', 'yr_renovated',\n",
       "       'lat', 'long', 'sqft_living15', 'sqft_lot15', 'basement_present',\n",
       "       'renovated', 'floors#1.0', 'floors#1.5', 'floors#2.0', 'floors#2.5',\n",
       "       'floors#3.0', 'floors#3.5', 'view#0', 'view#1', 'view#2', 'view#3',\n",
       "       'view#4', 'condition#1', 'condition#2', 'condition#3', 'condition#4',\n",
       "       'condition#5', 'grade#1', 'grade#3', 'grade#4', 'grade#5', 'grade#6',\n",
       "       'grade#7', 'grade#8', 'grade#9', 'grade#10', 'grade#11', 'grade#12',\n",
       "       'grade#13', 'zipcode#98004', 'zipcode#98102', 'zipcode#98109',\n",
       "       'zipcode#98112', 'zipcode#98039', 'zipcode#98040', 'price_cat'],\n",
       "      dtype='object')"
      ]
     },
     "execution_count": 12,
     "metadata": {},
     "output_type": "execute_result"
    }
   ],
   "source": [
    "features.columns"
   ]
  },
  {
   "cell_type": "code",
   "execution_count": 13,
   "metadata": {
    "collapsed": true
   },
   "outputs": [],
   "source": [
    "X_features = ['bedrooms', 'bathrooms', 'sqft_living', 'sqft_lot',\n",
    "       'waterfront', 'sqft_above', 'sqft_basement', 'yr_built', 'yr_renovated',\n",
    "       'lat', 'long', 'sqft_living15', 'sqft_lot15', 'basement_present',\n",
    "       'renovated', 'floors#1.0', 'floors#1.5', 'floors#2.0', 'floors#2.5',\n",
    "       'floors#3.0', 'floors#3.5', 'view#0', 'view#1', 'view#2', 'view#3',\n",
    "       'view#4', 'condition#1', 'condition#2', 'condition#3', 'condition#4',\n",
    "       'condition#5', 'grade#1', 'grade#3', 'grade#4', 'grade#5', 'grade#6',\n",
    "       'grade#7', 'grade#8', 'grade#9', 'grade#10', 'grade#11', 'grade#12',\n",
    "       'grade#13', 'zipcode#98004', 'zipcode#98102', 'zipcode#98109',\n",
    "       'zipcode#98112', 'zipcode#98039', 'zipcode#98040']\n",
    "\n",
    "X=features[['bedrooms', 'bathrooms', 'sqft_living', 'sqft_lot',\n",
    "       'waterfront', 'sqft_above', 'sqft_basement', 'yr_built', 'yr_renovated',\n",
    "       'lat', 'long', 'sqft_living15', 'sqft_lot15', 'basement_present',\n",
    "       'renovated', 'floors#1.0', 'floors#1.5', 'floors#2.0', 'floors#2.5',\n",
    "       'floors#3.0', 'floors#3.5', 'view#0', 'view#1', 'view#2', 'view#3',\n",
    "       'view#4', 'condition#1', 'condition#2', 'condition#3', 'condition#4',\n",
    "       'condition#5', 'grade#1', 'grade#3', 'grade#4', 'grade#5', 'grade#6',\n",
    "       'grade#7', 'grade#8', 'grade#9', 'grade#10', 'grade#11', 'grade#12',\n",
    "       'grade#13', 'zipcode#98004', 'zipcode#98102', 'zipcode#98109',\n",
    "       'zipcode#98112', 'zipcode#98039', 'zipcode#98040']]  # Features\n",
    "\n",
    "y=features['price_cat']  # Labels\n",
    "       \n",
    "# Split dataset into training set and test set\n",
    "X_train, X_test, y_train, y_test = train_test_split(X, y, test_size=0.3) # 70% training and 30% test"
   ]
  },
  {
   "cell_type": "code",
   "execution_count": 14,
   "metadata": {
    "collapsed": true
   },
   "outputs": [],
   "source": [
    "#Import Random Forest Model\n",
    "from sklearn.ensemble import RandomForestClassifier\n",
    "\n",
    "#Create a Gaussian Classifier\n",
    "clf=RandomForestClassifier(n_estimators=100)\n",
    "\n",
    "#Train the model using the training sets y_pred=clf.predict(X_test)\n",
    "clf.fit(X_train,y_train)\n",
    "\n",
    "y_pred=clf.predict(X_test)\n"
   ]
  },
  {
   "cell_type": "code",
   "execution_count": 15,
   "metadata": {
    "collapsed": true
   },
   "outputs": [],
   "source": [
    "#Import scikit-learn metrics module for accuracy calculation\n",
    "from sklearn import metrics\n",
    "# Model Accuracy, how often is the classifier correct?\n",
    "#print(\"Accuracy:\",metrics.accuracy_score(y_test, y_pred))\n"
   ]
  },
  {
   "cell_type": "code",
   "execution_count": 17,
   "metadata": {},
   "outputs": [
    {
     "data": {
      "text/plain": [
       "RandomForestClassifier(bootstrap=True, class_weight=None, criterion='gini',\n",
       "            max_depth=None, max_features='auto', max_leaf_nodes=None,\n",
       "            min_impurity_split=None, min_samples_leaf=1,\n",
       "            min_samples_split=2, min_weight_fraction_leaf=0.0,\n",
       "            n_estimators=100, n_jobs=1, oob_score=False, random_state=None,\n",
       "            verbose=0, warm_start=False)"
      ]
     },
     "execution_count": 17,
     "metadata": {},
     "output_type": "execute_result"
    }
   ],
   "source": [
    "RandomForestClassifier(bootstrap=True, class_weight=None, criterion='gini',\n",
    "            max_depth=None, max_features='auto', max_leaf_nodes=None,\n",
    "            min_impurity_split=None,\n",
    "            min_samples_leaf=1, min_samples_split=2,\n",
    "            min_weight_fraction_leaf=0.0, n_estimators=100, n_jobs=1,\n",
    "            oob_score=False, random_state=None, verbose=0,\n",
    "            warm_start=False)"
   ]
  },
  {
   "cell_type": "code",
   "execution_count": 18,
   "metadata": {},
   "outputs": [
    {
     "data": {
      "text/plain": [
       "lat                 2.702793e-01\n",
       "sqft_living         1.247049e-01\n",
       "sqft_living15       1.010732e-01\n",
       "sqft_above          6.838085e-02\n",
       "long                5.759693e-02\n",
       "sqft_lot15          5.094856e-02\n",
       "yr_built            5.004348e-02\n",
       "sqft_lot            4.982521e-02\n",
       "bathrooms           3.644727e-02\n",
       "grade#7             2.664516e-02\n",
       "sqft_basement       2.568483e-02\n",
       "grade#6             1.721653e-02\n",
       "grade#9             1.673844e-02\n",
       "bedrooms            1.567485e-02\n",
       "grade#8             1.190362e-02\n",
       "floors#1.0          9.298716e-03\n",
       "basement_present    8.365742e-03\n",
       "view#0              8.028255e-03\n",
       "grade#10            6.704100e-03\n",
       "condition#3         6.191921e-03\n",
       "floors#2.0          5.345627e-03\n",
       "condition#4         4.396050e-03\n",
       "floors#1.5          3.885096e-03\n",
       "condition#5         3.153582e-03\n",
       "yr_renovated        3.036133e-03\n",
       "view#2              1.969029e-03\n",
       "renovated           1.828300e-03\n",
       "view#3              1.455478e-03\n",
       "zipcode#98004       1.444163e-03\n",
       "waterfront          1.403198e-03\n",
       "grade#11            1.265071e-03\n",
       "view#4              1.218085e-03\n",
       "floors#3.0          1.154118e-03\n",
       "zipcode#98040       1.065606e-03\n",
       "grade#5             9.263138e-04\n",
       "zipcode#98112       8.771819e-04\n",
       "view#1              7.922259e-04\n",
       "floors#2.5          6.296642e-04\n",
       "zipcode#98102       6.048236e-04\n",
       "condition#2         5.911946e-04\n",
       "zipcode#98109       5.189003e-04\n",
       "condition#1         3.476313e-04\n",
       "zipcode#98039       2.151694e-04\n",
       "floors#3.5          6.091130e-05\n",
       "grade#4             5.839874e-05\n",
       "grade#12            3.122051e-06\n",
       "grade#1             2.826350e-06\n",
       "grade#3             2.179531e-07\n",
       "grade#13            0.000000e+00\n",
       "dtype: float64"
      ]
     },
     "execution_count": 18,
     "metadata": {},
     "output_type": "execute_result"
    }
   ],
   "source": [
    "import pandas as pd\n",
    "feature_imp = pd.Series(clf.feature_importances_,index=X_features).sort_values(ascending=False)\n",
    "feature_imp"
   ]
  },
  {
   "cell_type": "code",
   "execution_count": 19,
   "metadata": {},
   "outputs": [
    {
     "data": {
      "text/plain": [
       "lat              0.270279\n",
       "sqft_living      0.124705\n",
       "sqft_living15    0.101073\n",
       "sqft_above       0.068381\n",
       "long             0.057597\n",
       "sqft_lot15       0.050949\n",
       "yr_built         0.050043\n",
       "sqft_lot         0.049825\n",
       "bathrooms        0.036447\n",
       "grade#7          0.026645\n",
       "dtype: float64"
      ]
     },
     "execution_count": 19,
     "metadata": {},
     "output_type": "execute_result"
    }
   ],
   "source": [
    "top_features = feature_imp.head(10)\n",
    "top_features"
   ]
  },
  {
   "cell_type": "code",
   "execution_count": 20,
   "metadata": {},
   "outputs": [
    {
     "name": "stderr",
     "output_type": "stream",
     "text": [
      "No handles with labels found to put in legend.\n"
     ]
    },
    {
     "data": {
      "image/png": "[encoded data removed]",
      "text/plain": [
       "<Figure size 432x288 with 1 Axes>"
      ]
     },
     "metadata": {},
     "output_type": "display_data"
    }
   ],
   "source": [
    "import matplotlib.pyplot as plt\n",
    "import seaborn as sns\n",
    "%matplotlib inline\n",
    "# Creating a bar plot\n",
    "sns.barplot(x=top_features, y=top_features.index)\n",
    "# Add labels to your graph\n",
    "plt.xlabel('Feature Importance Score')\n",
    "plt.ylabel('Features')\n",
    "plt.title(\"Visualizing Important Features\")\n",
    "plt.legend()\n",
    "plt.show()"
   ]
  },
  {
   "cell_type": "code",
   "execution_count": 21,
   "metadata": {
    "collapsed": true
   },
   "outputs": [],
   "source": [
    "from pprint import pprint"
   ]
  },
  {
   "cell_type": "code",
   "execution_count": 22,
   "metadata": {},
   "outputs": [
    {
     "name": "stdout",
     "output_type": "stream",
     "text": [
      "Parameters currently in use:\n",
      "\n",
      "{'bootstrap': True,\n",
      " 'class_weight': None,\n",
      " 'criterion': 'gini',\n",
      " 'max_depth': None,\n",
      " 'max_features': 'auto',\n",
      " 'max_leaf_nodes': None,\n",
      " 'min_impurity_split': 1e-07,\n",
      " 'min_samples_leaf': 1,\n",
      " 'min_samples_split': 2,\n",
      " 'min_weight_fraction_leaf': 0.0,\n",
      " 'n_estimators': 100,\n",
      " 'n_jobs': 1,\n",
      " 'oob_score': False,\n",
      " 'random_state': None,\n",
      " 'verbose': 0,\n",
      " 'warm_start': False}\n"
     ]
    }
   ],
   "source": [
    "# Look at parameters used by our current forest\n",
    "print('Parameters currently in use:\\n')\n",
    "pprint(clf.get_params())"
   ]
  },
  {
   "cell_type": "code",
   "execution_count": 23,
   "metadata": {
    "collapsed": true
   },
   "outputs": [],
   "source": [
    "from sklearn.model_selection import RandomizedSearchCV"
   ]
  },
  {
   "cell_type": "code",
   "execution_count": 24,
   "metadata": {},
   "outputs": [
    {
     "name": "stdout",
     "output_type": "stream",
     "text": [
      "{'max_depth': [2, 4, 6, 8, 10, None],\n",
      " 'max_features': ['auto', 'sqrt'],\n",
      " 'min_samples_leaf': [2, 4],\n",
      " 'min_samples_split': [5, 10],\n",
      " 'n_estimators': [10, 57, 105, 152, 200]}\n"
     ]
    }
   ],
   "source": [
    "# Number of trees in random forest\n",
    "n_estimators = [int(x) for x in np.linspace(start = 10, stop = 200, num = 5)]\n",
    "# Number of features to consider at every split\n",
    "max_features = ['auto', 'sqrt']\n",
    "# Maximum number of levels in tree\n",
    "max_depth = [int(x) for x in np.linspace(2, 10, num = 5)]\n",
    "max_depth.append(None)\n",
    "# Minimum number of samples required to split a node\n",
    "min_samples_split = [5, 10]\n",
    "# Minimum number of samples required at each leaf node\n",
    "min_samples_leaf = [2, 4]\n",
    "# Method of selecting samples for training each tree\n",
    "#bootstrap = [True, False]\n",
    "# Create the random grid\n",
    "random_grid = {'n_estimators': n_estimators,\n",
    "               'max_features': max_features,\n",
    "               'max_depth': max_depth,\n",
    "               'min_samples_split': min_samples_split,\n",
    "               'min_samples_leaf': min_samples_leaf}\n",
    "pprint(random_grid)"
   ]
  },
  {
   "cell_type": "code",
   "execution_count": 25,
   "metadata": {},
   "outputs": [
    {
     "name": "stdout",
     "output_type": "stream",
     "text": [
      "Fitting 3 folds for each of 100 candidates, totalling 300 fits\n",
      "[CV] n_estimators=200, min_samples_split=5, min_samples_leaf=2, max_features=sqrt, max_depth=2 \n",
      "[CV] n_estimators=200, min_samples_split=5, min_samples_leaf=2, max_features=sqrt, max_depth=2 \n",
      "[CV] n_estimators=200, min_samples_split=5, min_samples_leaf=2, max_features=sqrt, max_depth=2 \n",
      "[CV] n_estimators=57, min_samples_split=10, min_samples_leaf=2, max_features=auto, max_depth=2 \n",
      "[CV] n_estimators=57, min_samples_split=10, min_samples_leaf=2, max_features=auto, max_depth=2 \n",
      "[CV] n_estimators=57, min_samples_split=10, min_samples_leaf=2, max_features=auto, max_depth=2 \n",
      "[CV] n_estimators=152, min_samples_split=5, min_samples_leaf=4, max_features=auto, max_depth=6 \n",
      "[CV] n_estimators=152, min_samples_split=5, min_samples_leaf=4, max_features=auto, max_depth=6 \n",
      "[CV]  n_estimators=57, min_samples_split=10, min_samples_leaf=2, max_features=auto, max_depth=2, total=   0.5s\n",
      "[CV] n_estimators=152, min_samples_split=5, min_samples_leaf=4, max_features=auto, max_depth=6 \n",
      "[CV]  n_estimators=57, min_samples_split=10, min_samples_leaf=2, max_features=auto, max_depth=2, total=   0.5s\n",
      "[CV] n_estimators=200, min_samples_split=10, min_samples_leaf=2, max_features=sqrt, max_depth=6 \n",
      "[CV]  n_estimators=57, min_samples_split=10, min_samples_leaf=2, max_features=auto, max_depth=2, total=   0.5s\n",
      "[CV] n_estimators=200, min_samples_split=10, min_samples_leaf=2, max_features=sqrt, max_depth=6 \n",
      "[CV]  n_estimators=200, min_samples_split=5, min_samples_leaf=2, max_features=sqrt, max_depth=2, total=   1.6s\n",
      "[CV] n_estimators=200, min_samples_split=10, min_samples_leaf=2, max_features=sqrt, max_depth=6 \n",
      "[CV]  n_estimators=200, min_samples_split=5, min_samples_leaf=2, max_features=sqrt, max_depth=2, total=   1.6s\n",
      "[CV] n_estimators=200, min_samples_split=5, min_samples_leaf=2, max_features=sqrt, max_depth=6 \n",
      "[CV]  n_estimators=200, min_samples_split=5, min_samples_leaf=2, max_features=sqrt, max_depth=2, total=   1.6s\n",
      "[CV] n_estimators=200, min_samples_split=5, min_samples_leaf=2, max_features=sqrt, max_depth=6 \n",
      "[CV]  n_estimators=152, min_samples_split=5, min_samples_leaf=4, max_features=auto, max_depth=6, total=   2.2s\n",
      "[CV] n_estimators=200, min_samples_split=5, min_samples_leaf=2, max_features=sqrt, max_depth=6 \n",
      "[CV]  n_estimators=152, min_samples_split=5, min_samples_leaf=4, max_features=auto, max_depth=6, total=   2.3s\n",
      "[CV] n_estimators=105, min_samples_split=5, min_samples_leaf=4, max_features=auto, max_depth=10 \n",
      "[CV]  n_estimators=152, min_samples_split=5, min_samples_leaf=4, max_features=auto, max_depth=6, total=   2.3s\n",
      "[CV] n_estimators=105, min_samples_split=5, min_samples_leaf=4, max_features=auto, max_depth=10 \n",
      "[CV]  n_estimators=200, min_samples_split=10, min_samples_leaf=2, max_features=sqrt, max_depth=6, total=   3.0s\n",
      "[CV]  n_estimators=200, min_samples_split=10, min_samples_leaf=2, max_features=sqrt, max_depth=6, total=   2.9s\n",
      "[CV] n_estimators=105, min_samples_split=5, min_samples_leaf=4, max_features=auto, max_depth=10 \n",
      "[CV] n_estimators=152, min_samples_split=5, min_samples_leaf=4, max_features=sqrt, max_depth=None \n",
      "[CV]  n_estimators=105, min_samples_split=5, min_samples_leaf=4, max_features=auto, max_depth=10, total=   2.2s\n",
      "[CV] n_estimators=152, min_samples_split=5, min_samples_leaf=4, max_features=sqrt, max_depth=None \n",
      "[CV]  n_estimators=200, min_samples_split=10, min_samples_leaf=2, max_features=sqrt, max_depth=6, total=   2.9s\n",
      "[CV]  n_estimators=200, min_samples_split=5, min_samples_leaf=2, max_features=sqrt, max_depth=6, total=   3.0s\n",
      "[CV] n_estimators=152, min_samples_split=5, min_samples_leaf=4, max_features=sqrt, max_depth=None \n",
      "[CV] n_estimators=57, min_samples_split=10, min_samples_leaf=2, max_features=auto, max_depth=6 \n",
      "[CV]  n_estimators=200, min_samples_split=5, min_samples_leaf=2, max_features=sqrt, max_depth=6, total=   3.0s\n",
      "[CV] n_estimators=57, min_samples_split=10, min_samples_leaf=2, max_features=auto, max_depth=6 \n",
      "[CV]  n_estimators=105, min_samples_split=5, min_samples_leaf=4, max_features=auto, max_depth=10, total=   2.2s\n",
      "[CV] n_estimators=57, min_samples_split=10, min_samples_leaf=2, max_features=auto, max_depth=6 \n",
      "[CV]  n_estimators=200, min_samples_split=5, min_samples_leaf=2, max_features=sqrt, max_depth=6, total=   3.1s\n",
      "[CV] n_estimators=200, min_samples_split=10, min_samples_leaf=2, max_features=auto, max_depth=2 \n",
      "[CV]  n_estimators=57, min_samples_split=10, min_samples_leaf=2, max_features=auto, max_depth=6, total=   0.9s\n",
      "[CV] n_estimators=200, min_samples_split=10, min_samples_leaf=2, max_features=auto, max_depth=2 \n",
      "[CV]  n_estimators=57, min_samples_split=10, min_samples_leaf=2, max_features=auto, max_depth=6, total=   0.9s\n",
      "[CV] n_estimators=200, min_samples_split=10, min_samples_leaf=2, max_features=auto, max_depth=2 \n",
      "[CV]  n_estimators=105, min_samples_split=5, min_samples_leaf=4, max_features=auto, max_depth=10, total=   2.3s\n",
      "[CV] n_estimators=152, min_samples_split=5, min_samples_leaf=2, max_features=sqrt, max_depth=8 \n",
      "[CV]  n_estimators=57, min_samples_split=10, min_samples_leaf=2, max_features=auto, max_depth=6, total=   0.9s\n",
      "[CV] n_estimators=152, min_samples_split=5, min_samples_leaf=2, max_features=sqrt, max_depth=8 \n",
      "[CV]  n_estimators=200, min_samples_split=10, min_samples_leaf=2, max_features=auto, max_depth=2, total=   1.7s\n",
      "[CV] n_estimators=152, min_samples_split=5, min_samples_leaf=2, max_features=sqrt, max_depth=8 \n",
      "[CV]  n_estimators=200, min_samples_split=10, min_samples_leaf=2, max_features=auto, max_depth=2, total=   1.7s\n",
      "[CV]  n_estimators=152, min_samples_split=5, min_samples_leaf=4, max_features=sqrt, max_depth=None, total=   3.9s\n",
      "[CV] n_estimators=10, min_samples_split=10, min_samples_leaf=2, max_features=auto, max_depth=4 \n",
      "[CV] n_estimators=10, min_samples_split=10, min_samples_leaf=2, max_features=auto, max_depth=4 \n",
      "[CV]  n_estimators=200, min_samples_split=10, min_samples_leaf=2, max_features=auto, max_depth=2, total=   1.7s\n",
      "[CV] n_estimators=10, min_samples_split=10, min_samples_leaf=2, max_features=auto, max_depth=4 \n",
      "[CV]  n_estimators=10, min_samples_split=10, min_samples_leaf=2, max_features=auto, max_depth=4, total=   0.2s\n",
      "[CV]  n_estimators=10, min_samples_split=10, min_samples_leaf=2, max_features=auto, max_depth=4, total=   0.1s\n",
      "[CV]  n_estimators=10, min_samples_split=10, min_samples_leaf=2, max_features=auto, max_depth=4, total=   0.2s\n",
      "[CV] n_estimators=57, min_samples_split=10, min_samples_leaf=2, max_features=auto, max_depth=None \n"
     ]
    },
    {
     "name": "stderr",
     "output_type": "stream",
     "text": [
      "[Parallel(n_jobs=-1)]: Done  25 tasks      | elapsed:    8.6s\n"
     ]
    },
    {
     "name": "stdout",
     "output_type": "stream",
     "text": [
      "[CV] n_estimators=57, min_samples_split=10, min_samples_leaf=2, max_features=auto, max_depth=None \n",
      "[CV] n_estimators=57, min_samples_split=10, min_samples_leaf=2, max_features=auto, max_depth=None \n",
      "[CV]  n_estimators=152, min_samples_split=5, min_samples_leaf=4, max_features=sqrt, max_depth=None, total=   3.9s\n",
      "[CV] n_estimators=200, min_samples_split=5, min_samples_leaf=4, max_features=sqrt, max_depth=6 \n",
      "[CV]  n_estimators=152, min_samples_split=5, min_samples_leaf=4, max_features=sqrt, max_depth=None, total=   4.0s\n",
      "[CV] n_estimators=200, min_samples_split=5, min_samples_leaf=4, max_features=sqrt, max_depth=6 \n",
      "[CV]  n_estimators=152, min_samples_split=5, min_samples_leaf=2, max_features=sqrt, max_depth=8, total=   2.9s\n",
      "[CV] n_estimators=200, min_samples_split=5, min_samples_leaf=4, max_features=sqrt, max_depth=6 \n",
      "[CV]  n_estimators=152, min_samples_split=5, min_samples_leaf=2, max_features=sqrt, max_depth=8, total=   2.8s\n",
      "[CV] n_estimators=152, min_samples_split=10, min_samples_leaf=2, max_features=auto, max_depth=10 \n",
      "[CV]  n_estimators=57, min_samples_split=10, min_samples_leaf=2, max_features=auto, max_depth=None, total=   1.5s\n",
      "[CV]  n_estimators=57, min_samples_split=10, min_samples_leaf=2, max_features=auto, max_depth=None, total=   1.5s\n",
      "[CV] n_estimators=152, min_samples_split=10, min_samples_leaf=2, max_features=auto, max_depth=10 \n",
      "[CV] n_estimators=152, min_samples_split=10, min_samples_leaf=2, max_features=auto, max_depth=10 \n",
      "[CV]  n_estimators=57, min_samples_split=10, min_samples_leaf=2, max_features=auto, max_depth=None, total=   1.5s\n",
      "[CV] n_estimators=152, min_samples_split=5, min_samples_leaf=4, max_features=sqrt, max_depth=6 \n",
      "[CV]  n_estimators=152, min_samples_split=5, min_samples_leaf=2, max_features=sqrt, max_depth=8, total=   3.0s\n",
      "[CV] n_estimators=152, min_samples_split=5, min_samples_leaf=4, max_features=sqrt, max_depth=6 \n",
      "[CV]  n_estimators=152, min_samples_split=5, min_samples_leaf=4, max_features=sqrt, max_depth=6, total=   2.5s\n",
      "[CV]  n_estimators=200, min_samples_split=5, min_samples_leaf=4, max_features=sqrt, max_depth=6, total=   3.3s\n",
      "[CV] n_estimators=152, min_samples_split=5, min_samples_leaf=4, max_features=sqrt, max_depth=6 \n",
      "[CV] n_estimators=10, min_samples_split=5, min_samples_leaf=4, max_features=sqrt, max_depth=None \n",
      "[CV]  n_estimators=200, min_samples_split=5, min_samples_leaf=4, max_features=sqrt, max_depth=6, total=   3.2s\n",
      "[CV] n_estimators=10, min_samples_split=5, min_samples_leaf=4, max_features=sqrt, max_depth=None \n",
      "[CV]  n_estimators=10, min_samples_split=5, min_samples_leaf=4, max_features=sqrt, max_depth=None, total=   0.3s\n",
      "[CV]  n_estimators=200, min_samples_split=5, min_samples_leaf=4, max_features=sqrt, max_depth=6, total=   3.2s\n",
      "[CV] n_estimators=10, min_samples_split=5, min_samples_leaf=4, max_features=sqrt, max_depth=None \n",
      "[CV] n_estimators=10, min_samples_split=10, min_samples_leaf=2, max_features=sqrt, max_depth=10 \n",
      "[CV]  n_estimators=10, min_samples_split=5, min_samples_leaf=4, max_features=sqrt, max_depth=None, total=   0.3s\n",
      "[CV] n_estimators=10, min_samples_split=10, min_samples_leaf=2, max_features=sqrt, max_depth=10 \n",
      "[CV]  n_estimators=10, min_samples_split=10, min_samples_leaf=2, max_features=sqrt, max_depth=10, total=   0.3s\n",
      "[CV]  n_estimators=10, min_samples_split=5, min_samples_leaf=4, max_features=sqrt, max_depth=None, total=   0.3s\n",
      "[CV] n_estimators=10, min_samples_split=10, min_samples_leaf=2, max_features=sqrt, max_depth=10 \n",
      "[CV]  n_estimators=152, min_samples_split=10, min_samples_leaf=2, max_features=auto, max_depth=10, total=   3.5s\n",
      "[CV] n_estimators=10, min_samples_split=10, min_samples_leaf=4, max_features=auto, max_depth=2 \n",
      "[CV] n_estimators=10, min_samples_split=10, min_samples_leaf=4, max_features=auto, max_depth=2 \n",
      "[CV]  n_estimators=10, min_samples_split=10, min_samples_leaf=2, max_features=sqrt, max_depth=10, total=   0.3s\n",
      "[CV]  n_estimators=10, min_samples_split=10, min_samples_leaf=4, max_features=auto, max_depth=2, total=   0.1s\n",
      "[CV] n_estimators=10, min_samples_split=10, min_samples_leaf=4, max_features=auto, max_depth=2 \n",
      "[CV] n_estimators=105, min_samples_split=5, min_samples_leaf=4, max_features=sqrt, max_depth=8 \n",
      "[CV]  n_estimators=10, min_samples_split=10, min_samples_leaf=4, max_features=auto, max_depth=2, total=   0.1s\n",
      "[CV] n_estimators=105, min_samples_split=5, min_samples_leaf=4, max_features=sqrt, max_depth=8 \n",
      "[CV]  n_estimators=10, min_samples_split=10, min_samples_leaf=4, max_features=auto, max_depth=2, total=   0.1s\n",
      "[CV]  n_estimators=10, min_samples_split=10, min_samples_leaf=2, max_features=sqrt, max_depth=10, total=   0.3s\n",
      "[CV] n_estimators=105, min_samples_split=5, min_samples_leaf=4, max_features=sqrt, max_depth=8 \n",
      "[CV] n_estimators=10, min_samples_split=10, min_samples_leaf=2, max_features=auto, max_depth=8 \n",
      "[CV]  n_estimators=152, min_samples_split=10, min_samples_leaf=2, max_features=auto, max_depth=10, total=   3.5s\n",
      "[CV] n_estimators=10, min_samples_split=10, min_samples_leaf=2, max_features=auto, max_depth=8 \n",
      "[CV]  n_estimators=152, min_samples_split=10, min_samples_leaf=2, max_features=auto, max_depth=10, total=   3.6s\n",
      "[CV] n_estimators=10, min_samples_split=10, min_samples_leaf=2, max_features=auto, max_depth=8 \n",
      "[CV]  n_estimators=10, min_samples_split=10, min_samples_leaf=2, max_features=auto, max_depth=8, total=   0.2s\n",
      "[CV]  n_estimators=152, min_samples_split=5, min_samples_leaf=4, max_features=sqrt, max_depth=6, total=   2.7s\n",
      "[CV] n_estimators=105, min_samples_split=10, min_samples_leaf=2, max_features=auto, max_depth=8 \n",
      "[CV]  n_estimators=10, min_samples_split=10, min_samples_leaf=2, max_features=auto, max_depth=8, total=   0.2s\n",
      "[CV] n_estimators=105, min_samples_split=10, min_samples_leaf=2, max_features=auto, max_depth=8 \n",
      "[CV] n_estimators=105, min_samples_split=10, min_samples_leaf=2, max_features=auto, max_depth=8 \n",
      "[CV]  n_estimators=10, min_samples_split=10, min_samples_leaf=2, max_features=auto, max_depth=8, total=   0.2s\n",
      "[CV] n_estimators=200, min_samples_split=10, min_samples_leaf=4, max_features=auto, max_depth=2 \n",
      "[CV]  n_estimators=152, min_samples_split=5, min_samples_leaf=4, max_features=sqrt, max_depth=6, total=   2.5s\n",
      "[CV] n_estimators=200, min_samples_split=10, min_samples_leaf=4, max_features=auto, max_depth=2 \n",
      "[CV]  n_estimators=105, min_samples_split=5, min_samples_leaf=4, max_features=sqrt, max_depth=8, total=   2.0s\n",
      "[CV]  n_estimators=105, min_samples_split=5, min_samples_leaf=4, max_features=sqrt, max_depth=8, total=   2.0s\n",
      "[CV] n_estimators=200, min_samples_split=10, min_samples_leaf=4, max_features=auto, max_depth=2 \n",
      "[CV]  n_estimators=105, min_samples_split=5, min_samples_leaf=4, max_features=sqrt, max_depth=8, total=   1.9s\n",
      "[CV] n_estimators=10, min_samples_split=10, min_samples_leaf=4, max_features=sqrt, max_depth=None \n",
      "[CV] n_estimators=10, min_samples_split=10, min_samples_leaf=4, max_features=sqrt, max_depth=None \n",
      "[CV]  n_estimators=200, min_samples_split=10, min_samples_leaf=4, max_features=auto, max_depth=2, total=   1.6s\n",
      "[CV] n_estimators=10, min_samples_split=10, min_samples_leaf=4, max_features=sqrt, max_depth=None \n",
      "[CV]  n_estimators=10, min_samples_split=10, min_samples_leaf=4, max_features=sqrt, max_depth=None, total=   0.3s\n",
      "[CV]  n_estimators=10, min_samples_split=10, min_samples_leaf=4, max_features=sqrt, max_depth=None, total=   0.3s\n",
      "[CV] n_estimators=10, min_samples_split=5, min_samples_leaf=4, max_features=sqrt, max_depth=2 \n",
      "[CV] n_estimators=10, min_samples_split=5, min_samples_leaf=4, max_features=sqrt, max_depth=2 \n",
      "[CV]  n_estimators=105, min_samples_split=10, min_samples_leaf=2, max_features=auto, max_depth=8, total=   1.9s\n",
      "[CV] n_estimators=10, min_samples_split=5, min_samples_leaf=4, max_features=sqrt, max_depth=2 \n",
      "[CV]  n_estimators=105, min_samples_split=10, min_samples_leaf=2, max_features=auto, max_depth=8, total=   2.0s\n",
      "[CV] n_estimators=57, min_samples_split=10, min_samples_leaf=4, max_features=auto, max_depth=10 \n",
      "[CV]  n_estimators=105, min_samples_split=10, min_samples_leaf=2, max_features=auto, max_depth=8, total=   2.0s\n",
      "[CV]  n_estimators=10, min_samples_split=5, min_samples_leaf=4, max_features=sqrt, max_depth=2, total=   0.1s\n",
      "[CV] n_estimators=57, min_samples_split=10, min_samples_leaf=4, max_features=auto, max_depth=10 \n"
     ]
    },
    {
     "name": "stdout",
     "output_type": "stream",
     "text": [
      "[CV]  n_estimators=10, min_samples_split=5, min_samples_leaf=4, max_features=sqrt, max_depth=2, total=   0.1s\n",
      "[CV] n_estimators=57, min_samples_split=10, min_samples_leaf=4, max_features=auto, max_depth=10 \n",
      "[CV] n_estimators=10, min_samples_split=5, min_samples_leaf=4, max_features=sqrt, max_depth=8 \n",
      "[CV]  n_estimators=10, min_samples_split=5, min_samples_leaf=4, max_features=sqrt, max_depth=2, total=   0.1s\n",
      "[CV] n_estimators=10, min_samples_split=5, min_samples_leaf=4, max_features=sqrt, max_depth=8 \n",
      "[CV]  n_estimators=10, min_samples_split=10, min_samples_leaf=4, max_features=sqrt, max_depth=None, total=   0.3s\n",
      "[CV] n_estimators=10, min_samples_split=5, min_samples_leaf=4, max_features=sqrt, max_depth=8 \n",
      "[CV]  n_estimators=10, min_samples_split=5, min_samples_leaf=4, max_features=sqrt, max_depth=8, total=   0.2s\n",
      "[CV] n_estimators=10, min_samples_split=5, min_samples_leaf=4, max_features=auto, max_depth=2 \n",
      "[CV]  n_estimators=10, min_samples_split=5, min_samples_leaf=4, max_features=sqrt, max_depth=8, total=   0.2s\n",
      "[CV]  n_estimators=10, min_samples_split=5, min_samples_leaf=4, max_features=sqrt, max_depth=8, total=   0.2s\n",
      "[CV] n_estimators=10, min_samples_split=5, min_samples_leaf=4, max_features=auto, max_depth=2 \n",
      "[CV] n_estimators=10, min_samples_split=5, min_samples_leaf=4, max_features=auto, max_depth=2 \n",
      "[CV]  n_estimators=10, min_samples_split=5, min_samples_leaf=4, max_features=auto, max_depth=2, total=   0.1s\n",
      "[CV] n_estimators=57, min_samples_split=5, min_samples_leaf=2, max_features=auto, max_depth=None \n",
      "[CV]  n_estimators=10, min_samples_split=5, min_samples_leaf=4, max_features=auto, max_depth=2, total=   0.1s\n",
      "[CV] n_estimators=57, min_samples_split=5, min_samples_leaf=2, max_features=auto, max_depth=None \n",
      "[CV]  n_estimators=10, min_samples_split=5, min_samples_leaf=4, max_features=auto, max_depth=2, total=   0.1s\n",
      "[CV] n_estimators=57, min_samples_split=5, min_samples_leaf=2, max_features=auto, max_depth=None \n",
      "[CV]  n_estimators=200, min_samples_split=10, min_samples_leaf=4, max_features=auto, max_depth=2, total=   1.9s\n",
      "[CV] n_estimators=105, min_samples_split=10, min_samples_leaf=4, max_features=sqrt, max_depth=None \n",
      "[CV]  n_estimators=57, min_samples_split=10, min_samples_leaf=4, max_features=auto, max_depth=10, total=   1.3s\n",
      "[CV] n_estimators=105, min_samples_split=10, min_samples_leaf=4, max_features=sqrt, max_depth=None \n",
      "[CV]  n_estimators=57, min_samples_split=10, min_samples_leaf=4, max_features=auto, max_depth=10, total=   1.3s\n",
      "[CV] n_estimators=105, min_samples_split=10, min_samples_leaf=4, max_features=sqrt, max_depth=None \n",
      "[CV]  n_estimators=57, min_samples_split=10, min_samples_leaf=4, max_features=auto, max_depth=10, total=   1.3s\n",
      "[CV] n_estimators=152, min_samples_split=5, min_samples_leaf=4, max_features=sqrt, max_depth=8 \n",
      "[CV]  n_estimators=200, min_samples_split=10, min_samples_leaf=4, max_features=auto, max_depth=2, total=   1.8s\n",
      "[CV] n_estimators=152, min_samples_split=5, min_samples_leaf=4, max_features=sqrt, max_depth=8 \n",
      "[CV]  n_estimators=57, min_samples_split=5, min_samples_leaf=2, max_features=auto, max_depth=None, total=   1.6s\n",
      "[CV] n_estimators=152, min_samples_split=5, min_samples_leaf=4, max_features=sqrt, max_depth=8 \n",
      "[CV]  n_estimators=57, min_samples_split=5, min_samples_leaf=2, max_features=auto, max_depth=None, total=   1.6s\n",
      "[CV]  n_estimators=57, min_samples_split=5, min_samples_leaf=2, max_features=auto, max_depth=None, total=   1.6s\n",
      "[CV] n_estimators=57, min_samples_split=10, min_samples_leaf=4, max_features=auto, max_depth=6 \n",
      "[CV] n_estimators=57, min_samples_split=10, min_samples_leaf=4, max_features=auto, max_depth=6 \n",
      "[CV]  n_estimators=57, min_samples_split=10, min_samples_leaf=4, max_features=auto, max_depth=6, total=   0.8s\n",
      "[CV]  n_estimators=57, min_samples_split=10, min_samples_leaf=4, max_features=auto, max_depth=6, total=   0.8s\n",
      "[CV] n_estimators=57, min_samples_split=10, min_samples_leaf=4, max_features=auto, max_depth=6 \n",
      "[CV] n_estimators=152, min_samples_split=10, min_samples_leaf=2, max_features=sqrt, max_depth=None \n",
      "[CV]  n_estimators=105, min_samples_split=10, min_samples_leaf=4, max_features=sqrt, max_depth=None, total=   2.7s\n",
      "[CV] n_estimators=152, min_samples_split=10, min_samples_leaf=2, max_features=sqrt, max_depth=None \n",
      "[CV]  n_estimators=57, min_samples_split=10, min_samples_leaf=4, max_features=auto, max_depth=6, total=   0.9s\n",
      "[CV] n_estimators=152, min_samples_split=10, min_samples_leaf=2, max_features=sqrt, max_depth=None \n",
      "[CV]  n_estimators=105, min_samples_split=10, min_samples_leaf=4, max_features=sqrt, max_depth=None, total=   2.7s\n",
      "[CV]  n_estimators=105, min_samples_split=10, min_samples_leaf=4, max_features=sqrt, max_depth=None, total=   2.7s\n",
      "[CV] n_estimators=10, min_samples_split=10, min_samples_leaf=2, max_features=sqrt, max_depth=2 \n",
      "[CV] n_estimators=10, min_samples_split=10, min_samples_leaf=2, max_features=sqrt, max_depth=2 \n",
      "[CV]  n_estimators=10, min_samples_split=10, min_samples_leaf=2, max_features=sqrt, max_depth=2, total=   0.1s\n",
      "[CV]  n_estimators=10, min_samples_split=10, min_samples_leaf=2, max_features=sqrt, max_depth=2, total=   0.1s\n",
      "[CV] n_estimators=10, min_samples_split=10, min_samples_leaf=2, max_features=sqrt, max_depth=2 \n",
      "[CV] n_estimators=105, min_samples_split=5, min_samples_leaf=2, max_features=sqrt, max_depth=10 \n",
      "[CV]  n_estimators=10, min_samples_split=10, min_samples_leaf=2, max_features=sqrt, max_depth=2, total=   0.1s\n",
      "[CV] n_estimators=105, min_samples_split=5, min_samples_leaf=2, max_features=sqrt, max_depth=10 \n",
      "[CV]  n_estimators=152, min_samples_split=5, min_samples_leaf=4, max_features=sqrt, max_depth=8, total=   2.9s\n",
      "[CV] n_estimators=105, min_samples_split=5, min_samples_leaf=2, max_features=sqrt, max_depth=10 \n",
      "[CV]  n_estimators=152, min_samples_split=5, min_samples_leaf=4, max_features=sqrt, max_depth=8, total=   2.9s\n",
      "[CV] n_estimators=152, min_samples_split=10, min_samples_leaf=4, max_features=auto, max_depth=2 \n",
      "[CV]  n_estimators=152, min_samples_split=5, min_samples_leaf=4, max_features=sqrt, max_depth=8, total=   2.9s\n",
      "[CV] n_estimators=152, min_samples_split=10, min_samples_leaf=4, max_features=auto, max_depth=2 \n",
      "[CV]  n_estimators=152, min_samples_split=10, min_samples_leaf=4, max_features=auto, max_depth=2, total=   1.3s\n",
      "[CV] n_estimators=152, min_samples_split=10, min_samples_leaf=4, max_features=auto, max_depth=2 \n",
      "[CV]  n_estimators=152, min_samples_split=10, min_samples_leaf=4, max_features=auto, max_depth=2, total=   1.2s\n",
      "[CV] n_estimators=200, min_samples_split=10, min_samples_leaf=2, max_features=sqrt, max_depth=4 \n",
      "[CV]  n_estimators=105, min_samples_split=5, min_samples_leaf=2, max_features=sqrt, max_depth=10, total=   2.3s\n",
      "[CV] n_estimators=200, min_samples_split=10, min_samples_leaf=2, max_features=sqrt, max_depth=4 \n",
      "[CV]  n_estimators=105, min_samples_split=5, min_samples_leaf=2, max_features=sqrt, max_depth=10, total=   2.3s\n",
      "[CV]  n_estimators=105, min_samples_split=5, min_samples_leaf=2, max_features=sqrt, max_depth=10, total=   2.2s\n",
      "[CV] n_estimators=200, min_samples_split=10, min_samples_leaf=2, max_features=sqrt, max_depth=4 \n",
      "[CV] n_estimators=105, min_samples_split=5, min_samples_leaf=4, max_features=sqrt, max_depth=10 \n",
      "[CV]  n_estimators=152, min_samples_split=10, min_samples_leaf=2, max_features=sqrt, max_depth=None, total=   4.1s\n",
      "[CV] n_estimators=105, min_samples_split=5, min_samples_leaf=4, max_features=sqrt, max_depth=10 \n",
      "[CV]  n_estimators=152, min_samples_split=10, min_samples_leaf=4, max_features=auto, max_depth=2, total=   1.2s\n",
      "[CV] n_estimators=105, min_samples_split=5, min_samples_leaf=4, max_features=sqrt, max_depth=10 \n",
      "[CV]  n_estimators=152, min_samples_split=10, min_samples_leaf=2, max_features=sqrt, max_depth=None, total=   3.9s\n",
      "[CV] n_estimators=10, min_samples_split=10, min_samples_leaf=4, max_features=auto, max_depth=4 \n",
      "[CV]  n_estimators=152, min_samples_split=10, min_samples_leaf=2, max_features=sqrt, max_depth=None, total=   3.9s\n",
      "[CV] n_estimators=10, min_samples_split=10, min_samples_leaf=4, max_features=auto, max_depth=4 \n",
      "[CV]  n_estimators=10, min_samples_split=10, min_samples_leaf=4, max_features=auto, max_depth=4, total=   0.1s\n",
      "[CV] n_estimators=10, min_samples_split=10, min_samples_leaf=4, max_features=auto, max_depth=4 \n"
     ]
    },
    {
     "name": "stdout",
     "output_type": "stream",
     "text": [
      "[CV]  n_estimators=10, min_samples_split=10, min_samples_leaf=4, max_features=auto, max_depth=4, total=   0.1s\n",
      "[CV] n_estimators=200, min_samples_split=10, min_samples_leaf=4, max_features=sqrt, max_depth=4 \n",
      "[CV]  n_estimators=10, min_samples_split=10, min_samples_leaf=4, max_features=auto, max_depth=4, total=   0.1s\n",
      "[CV] n_estimators=200, min_samples_split=10, min_samples_leaf=4, max_features=sqrt, max_depth=4 \n",
      "[CV]  n_estimators=200, min_samples_split=10, min_samples_leaf=2, max_features=sqrt, max_depth=4, total=   2.2s\n",
      "[CV] n_estimators=200, min_samples_split=10, min_samples_leaf=4, max_features=sqrt, max_depth=4 \n",
      "[CV]  n_estimators=200, min_samples_split=10, min_samples_leaf=2, max_features=sqrt, max_depth=4, total=   2.2s\n",
      "[CV] n_estimators=10, min_samples_split=10, min_samples_leaf=4, max_features=auto, max_depth=10 \n",
      "[CV]  n_estimators=105, min_samples_split=5, min_samples_leaf=4, max_features=sqrt, max_depth=10, total=   2.1s\n",
      "[CV] n_estimators=10, min_samples_split=10, min_samples_leaf=4, max_features=auto, max_depth=10 \n",
      "[CV]  n_estimators=200, min_samples_split=10, min_samples_leaf=2, max_features=sqrt, max_depth=4, total=   2.2s\n",
      "[CV]  n_estimators=10, min_samples_split=10, min_samples_leaf=4, max_features=auto, max_depth=10, total=   0.2s\n",
      "[CV] n_estimators=10, min_samples_split=10, min_samples_leaf=4, max_features=auto, max_depth=10 \n",
      "[CV]  n_estimators=10, min_samples_split=10, min_samples_leaf=4, max_features=auto, max_depth=10, total=   0.2s\n",
      "[CV] n_estimators=105, min_samples_split=10, min_samples_leaf=2, max_features=sqrt, max_depth=None \n",
      "[CV] n_estimators=105, min_samples_split=10, min_samples_leaf=2, max_features=sqrt, max_depth=None \n",
      "[CV]  n_estimators=10, min_samples_split=10, min_samples_leaf=4, max_features=auto, max_depth=10, total=   0.2s\n",
      "[CV] n_estimators=105, min_samples_split=10, min_samples_leaf=2, max_features=sqrt, max_depth=None \n",
      "[CV]  n_estimators=105, min_samples_split=5, min_samples_leaf=4, max_features=sqrt, max_depth=10, total=   2.1s\n",
      "[CV]  n_estimators=105, min_samples_split=5, min_samples_leaf=4, max_features=sqrt, max_depth=10, total=   2.1s\n",
      "[CV] n_estimators=105, min_samples_split=5, min_samples_leaf=4, max_features=sqrt, max_depth=6 \n",
      "[CV] n_estimators=105, min_samples_split=5, min_samples_leaf=4, max_features=sqrt, max_depth=6 \n",
      "[CV]  n_estimators=200, min_samples_split=10, min_samples_leaf=4, max_features=sqrt, max_depth=4, total=   2.2s\n",
      "[CV] n_estimators=105, min_samples_split=5, min_samples_leaf=4, max_features=sqrt, max_depth=6 \n",
      "[CV]  n_estimators=200, min_samples_split=10, min_samples_leaf=4, max_features=sqrt, max_depth=4, total=   2.4s\n",
      "[CV] n_estimators=57, min_samples_split=5, min_samples_leaf=2, max_features=sqrt, max_depth=None \n",
      "[CV]  n_estimators=105, min_samples_split=5, min_samples_leaf=4, max_features=sqrt, max_depth=6, total=   1.7s\n",
      "[CV] n_estimators=57, min_samples_split=5, min_samples_leaf=2, max_features=sqrt, max_depth=None \n",
      "[CV]  n_estimators=105, min_samples_split=5, min_samples_leaf=4, max_features=sqrt, max_depth=6, total=   1.8s\n",
      "[CV] n_estimators=57, min_samples_split=5, min_samples_leaf=2, max_features=sqrt, max_depth=None \n",
      "[CV]  n_estimators=200, min_samples_split=10, min_samples_leaf=4, max_features=sqrt, max_depth=4, total=   2.4s\n",
      "[CV] n_estimators=57, min_samples_split=10, min_samples_leaf=4, max_features=auto, max_depth=2 \n",
      "[CV]  n_estimators=57, min_samples_split=10, min_samples_leaf=4, max_features=auto, max_depth=2, total=   0.5s\n",
      "[CV] n_estimators=57, min_samples_split=10, min_samples_leaf=4, max_features=auto, max_depth=2 \n",
      "[CV]  n_estimators=105, min_samples_split=10, min_samples_leaf=2, max_features=sqrt, max_depth=None, total=   3.0s\n",
      "[CV] n_estimators=57, min_samples_split=10, min_samples_leaf=4, max_features=auto, max_depth=2 \n",
      "[CV]  n_estimators=105, min_samples_split=10, min_samples_leaf=2, max_features=sqrt, max_depth=None, total=   3.0s\n",
      "[CV] n_estimators=57, min_samples_split=10, min_samples_leaf=4, max_features=sqrt, max_depth=8 \n",
      "[CV]  n_estimators=105, min_samples_split=10, min_samples_leaf=2, max_features=sqrt, max_depth=None, total=   3.1s\n",
      "[CV]  n_estimators=105, min_samples_split=5, min_samples_leaf=4, max_features=sqrt, max_depth=6, total=   1.9s\n",
      "[CV] n_estimators=57, min_samples_split=10, min_samples_leaf=4, max_features=sqrt, max_depth=8 \n",
      "[CV] n_estimators=57, min_samples_split=10, min_samples_leaf=4, max_features=sqrt, max_depth=8 \n",
      "[CV]  n_estimators=57, min_samples_split=5, min_samples_leaf=2, max_features=sqrt, max_depth=None, total=   1.8s\n",
      "[CV] n_estimators=57, min_samples_split=10, min_samples_leaf=2, max_features=sqrt, max_depth=4 \n",
      "[CV]  n_estimators=57, min_samples_split=10, min_samples_leaf=4, max_features=auto, max_depth=2, total=   0.6s\n",
      "[CV] n_estimators=57, min_samples_split=10, min_samples_leaf=2, max_features=sqrt, max_depth=4 \n",
      "[CV]  n_estimators=57, min_samples_split=10, min_samples_leaf=4, max_features=auto, max_depth=2, total=   0.6s\n",
      "[CV] n_estimators=57, min_samples_split=10, min_samples_leaf=2, max_features=sqrt, max_depth=4 \n",
      "[CV]  n_estimators=57, min_samples_split=5, min_samples_leaf=2, max_features=sqrt, max_depth=None, total=   1.9s\n",
      "[CV] n_estimators=10, min_samples_split=10, min_samples_leaf=2, max_features=auto, max_depth=10 \n",
      "[CV]  n_estimators=57, min_samples_split=5, min_samples_leaf=2, max_features=sqrt, max_depth=None, total=   1.8s\n",
      "[CV] n_estimators=10, min_samples_split=10, min_samples_leaf=2, max_features=auto, max_depth=10 \n",
      "[CV]  n_estimators=10, min_samples_split=10, min_samples_leaf=2, max_features=auto, max_depth=10, total=   0.3s\n",
      "[CV] n_estimators=10, min_samples_split=10, min_samples_leaf=2, max_features=auto, max_depth=10 \n",
      "[CV]  n_estimators=10, min_samples_split=10, min_samples_leaf=2, max_features=auto, max_depth=10, total=   0.3s\n",
      "[CV]  n_estimators=57, min_samples_split=10, min_samples_leaf=2, max_features=sqrt, max_depth=4, total=   0.8s\n",
      "[CV] n_estimators=152, min_samples_split=10, min_samples_leaf=4, max_features=sqrt, max_depth=2 \n",
      "[CV]  n_estimators=57, min_samples_split=10, min_samples_leaf=2, max_features=sqrt, max_depth=4, total=   0.8s\n",
      "[CV] n_estimators=152, min_samples_split=10, min_samples_leaf=4, max_features=sqrt, max_depth=2 \n",
      "[CV] n_estimators=152, min_samples_split=10, min_samples_leaf=4, max_features=sqrt, max_depth=2 \n",
      "[CV]  n_estimators=57, min_samples_split=10, min_samples_leaf=4, max_features=sqrt, max_depth=8, total=   1.3s\n",
      "[CV] n_estimators=200, min_samples_split=10, min_samples_leaf=4, max_features=auto, max_depth=8 \n",
      "[CV]  n_estimators=57, min_samples_split=10, min_samples_leaf=2, max_features=sqrt, max_depth=4, total=   0.8s\n",
      "[CV] n_estimators=200, min_samples_split=10, min_samples_leaf=4, max_features=auto, max_depth=8 \n",
      "[CV]  n_estimators=10, min_samples_split=10, min_samples_leaf=2, max_features=auto, max_depth=10, total=   0.3s\n",
      "[CV] n_estimators=200, min_samples_split=10, min_samples_leaf=4, max_features=auto, max_depth=8 \n",
      "[CV]  n_estimators=57, min_samples_split=10, min_samples_leaf=4, max_features=sqrt, max_depth=8, total=   1.3s\n",
      "[CV] n_estimators=10, min_samples_split=5, min_samples_leaf=2, max_features=sqrt, max_depth=4 \n",
      "[CV]  n_estimators=57, min_samples_split=10, min_samples_leaf=4, max_features=sqrt, max_depth=8, total=   1.3s\n",
      "[CV] n_estimators=10, min_samples_split=5, min_samples_leaf=2, max_features=sqrt, max_depth=4 \n",
      "[CV]  n_estimators=10, min_samples_split=5, min_samples_leaf=2, max_features=sqrt, max_depth=4, total=   0.2s\n",
      "[CV]  n_estimators=10, min_samples_split=5, min_samples_leaf=2, max_features=sqrt, max_depth=4, total=   0.1s\n",
      "[CV] n_estimators=10, min_samples_split=5, min_samples_leaf=2, max_features=sqrt, max_depth=4 \n",
      "[CV] n_estimators=200, min_samples_split=5, min_samples_leaf=2, max_features=auto, max_depth=None \n",
      "[CV]  n_estimators=10, min_samples_split=5, min_samples_leaf=2, max_features=sqrt, max_depth=4, total=   0.1s\n",
      "[CV] n_estimators=200, min_samples_split=5, min_samples_leaf=2, max_features=auto, max_depth=None \n",
      "[CV]  n_estimators=152, min_samples_split=10, min_samples_leaf=4, max_features=sqrt, max_depth=2, total=   1.3s\n",
      "[CV]  n_estimators=152, min_samples_split=10, min_samples_leaf=4, max_features=sqrt, max_depth=2, total=   1.4s\n",
      "[CV] n_estimators=200, min_samples_split=5, min_samples_leaf=2, max_features=auto, max_depth=None \n"
     ]
    },
    {
     "name": "stdout",
     "output_type": "stream",
     "text": [
      "[CV] n_estimators=57, min_samples_split=10, min_samples_leaf=2, max_features=sqrt, max_depth=10 \n",
      "[CV]  n_estimators=152, min_samples_split=10, min_samples_leaf=4, max_features=sqrt, max_depth=2, total=   1.4s\n",
      "[CV] n_estimators=57, min_samples_split=10, min_samples_leaf=2, max_features=sqrt, max_depth=10 \n"
     ]
    },
    {
     "name": "stderr",
     "output_type": "stream",
     "text": [
      "[Parallel(n_jobs=-1)]: Done 146 tasks      | elapsed:   33.8s\n"
     ]
    },
    {
     "name": "stdout",
     "output_type": "stream",
     "text": [
      "[CV]  n_estimators=57, min_samples_split=10, min_samples_leaf=2, max_features=sqrt, max_depth=10, total=   1.4s\n",
      "[CV] n_estimators=57, min_samples_split=10, min_samples_leaf=2, max_features=sqrt, max_depth=10 \n",
      "[CV]  n_estimators=57, min_samples_split=10, min_samples_leaf=2, max_features=sqrt, max_depth=10, total=   1.4s\n",
      "[CV] n_estimators=105, min_samples_split=10, min_samples_leaf=2, max_features=auto, max_depth=None \n",
      "[CV]  n_estimators=200, min_samples_split=10, min_samples_leaf=4, max_features=auto, max_depth=8, total=   4.0s\n",
      "[CV]  n_estimators=57, min_samples_split=10, min_samples_leaf=2, max_features=sqrt, max_depth=10, total=   1.4s\n",
      "[CV] n_estimators=105, min_samples_split=10, min_samples_leaf=2, max_features=auto, max_depth=None \n",
      "[CV] n_estimators=105, min_samples_split=10, min_samples_leaf=2, max_features=auto, max_depth=None \n",
      "[CV]  n_estimators=200, min_samples_split=10, min_samples_leaf=4, max_features=auto, max_depth=8, total=   4.0s\n",
      "[CV]  n_estimators=200, min_samples_split=10, min_samples_leaf=4, max_features=auto, max_depth=8, total=   4.0s\n",
      "[CV] n_estimators=152, min_samples_split=5, min_samples_leaf=4, max_features=sqrt, max_depth=10 \n",
      "[CV] n_estimators=152, min_samples_split=5, min_samples_leaf=4, max_features=sqrt, max_depth=10 \n",
      "[CV]  n_estimators=105, min_samples_split=10, min_samples_leaf=2, max_features=auto, max_depth=None, total=   2.8s\n",
      "[CV] n_estimators=152, min_samples_split=5, min_samples_leaf=4, max_features=sqrt, max_depth=10 \n",
      "[CV]  n_estimators=200, min_samples_split=5, min_samples_leaf=2, max_features=auto, max_depth=None, total=   5.5s\n",
      "[CV] n_estimators=200, min_samples_split=5, min_samples_leaf=2, max_features=sqrt, max_depth=None \n",
      "[CV]  n_estimators=200, min_samples_split=5, min_samples_leaf=2, max_features=auto, max_depth=None, total=   5.6s\n",
      "[CV] n_estimators=200, min_samples_split=5, min_samples_leaf=2, max_features=sqrt, max_depth=None \n",
      "[CV]  n_estimators=105, min_samples_split=10, min_samples_leaf=2, max_features=auto, max_depth=None, total=   2.7s\n",
      "[CV] n_estimators=200, min_samples_split=5, min_samples_leaf=2, max_features=sqrt, max_depth=None \n",
      "[CV]  n_estimators=105, min_samples_split=10, min_samples_leaf=2, max_features=auto, max_depth=None, total=   2.7s\n",
      "[CV] n_estimators=200, min_samples_split=10, min_samples_leaf=2, max_features=auto, max_depth=None \n",
      "[CV]  n_estimators=200, min_samples_split=5, min_samples_leaf=2, max_features=auto, max_depth=None, total=   5.5s\n",
      "[CV] n_estimators=200, min_samples_split=10, min_samples_leaf=2, max_features=auto, max_depth=None \n",
      "[CV]  n_estimators=152, min_samples_split=5, min_samples_leaf=4, max_features=sqrt, max_depth=10, total=   3.3s\n",
      "[CV]  n_estimators=152, min_samples_split=5, min_samples_leaf=4, max_features=sqrt, max_depth=10, total=   3.3s\n",
      "[CV] n_estimators=200, min_samples_split=10, min_samples_leaf=2, max_features=auto, max_depth=None \n",
      "[CV] n_estimators=10, min_samples_split=10, min_samples_leaf=4, max_features=sqrt, max_depth=6 \n",
      "[CV]  n_estimators=10, min_samples_split=10, min_samples_leaf=4, max_features=sqrt, max_depth=6, total=   0.2s\n",
      "[CV] n_estimators=10, min_samples_split=10, min_samples_leaf=4, max_features=sqrt, max_depth=6 \n",
      "[CV]  n_estimators=10, min_samples_split=10, min_samples_leaf=4, max_features=sqrt, max_depth=6, total=   0.2s\n",
      "[CV] n_estimators=10, min_samples_split=10, min_samples_leaf=4, max_features=sqrt, max_depth=6 \n",
      "[CV]  n_estimators=10, min_samples_split=10, min_samples_leaf=4, max_features=sqrt, max_depth=6, total=   0.2s\n",
      "[CV] n_estimators=200, min_samples_split=10, min_samples_leaf=4, max_features=auto, max_depth=None \n",
      "[CV]  n_estimators=152, min_samples_split=5, min_samples_leaf=4, max_features=sqrt, max_depth=10, total=   3.6s\n",
      "[CV] n_estimators=200, min_samples_split=10, min_samples_leaf=4, max_features=auto, max_depth=None \n",
      "[CV]  n_estimators=200, min_samples_split=5, min_samples_leaf=2, max_features=sqrt, max_depth=None, total=   5.6s\n",
      "[CV] n_estimators=200, min_samples_split=10, min_samples_leaf=4, max_features=auto, max_depth=None \n",
      "[CV]  n_estimators=200, min_samples_split=5, min_samples_leaf=2, max_features=sqrt, max_depth=None, total=   5.7s\n",
      "[CV] n_estimators=152, min_samples_split=5, min_samples_leaf=4, max_features=sqrt, max_depth=4 \n",
      "[CV]  n_estimators=200, min_samples_split=10, min_samples_leaf=2, max_features=auto, max_depth=None, total=   5.3s\n",
      "[CV] n_estimators=152, min_samples_split=5, min_samples_leaf=4, max_features=sqrt, max_depth=4 \n",
      "[CV]  n_estimators=200, min_samples_split=10, min_samples_leaf=2, max_features=auto, max_depth=None, total=   5.3s\n",
      "[CV] n_estimators=152, min_samples_split=5, min_samples_leaf=4, max_features=sqrt, max_depth=4 \n",
      "[CV]  n_estimators=200, min_samples_split=5, min_samples_leaf=2, max_features=sqrt, max_depth=None, total=   5.5s\n",
      "[CV] n_estimators=57, min_samples_split=10, min_samples_leaf=4, max_features=auto, max_depth=8 \n",
      "[CV]  n_estimators=200, min_samples_split=10, min_samples_leaf=2, max_features=auto, max_depth=None, total=   5.3s\n",
      "[CV] n_estimators=57, min_samples_split=10, min_samples_leaf=4, max_features=auto, max_depth=8 \n",
      "[CV]  n_estimators=200, min_samples_split=10, min_samples_leaf=4, max_features=auto, max_depth=None, total=   5.1s\n",
      "[CV] n_estimators=57, min_samples_split=10, min_samples_leaf=4, max_features=auto, max_depth=8 \n",
      "[CV]  n_estimators=57, min_samples_split=10, min_samples_leaf=4, max_features=auto, max_depth=8, total=   1.2s\n",
      "[CV] n_estimators=10, min_samples_split=10, min_samples_leaf=4, max_features=auto, max_depth=6 \n",
      "[CV]  n_estimators=10, min_samples_split=10, min_samples_leaf=4, max_features=auto, max_depth=6, total=   0.2s\n",
      "[CV] n_estimators=10, min_samples_split=10, min_samples_leaf=4, max_features=auto, max_depth=6 \n",
      "[CV]  n_estimators=152, min_samples_split=5, min_samples_leaf=4, max_features=sqrt, max_depth=4, total=   2.0s\n",
      "[CV] n_estimators=10, min_samples_split=10, min_samples_leaf=4, max_features=auto, max_depth=6 \n",
      "[CV]  n_estimators=57, min_samples_split=10, min_samples_leaf=4, max_features=auto, max_depth=8, total=   1.1s\n",
      "[CV]  n_estimators=10, min_samples_split=10, min_samples_leaf=4, max_features=auto, max_depth=6, total=   0.2s\n",
      "[CV] n_estimators=57, min_samples_split=10, min_samples_leaf=2, max_features=auto, max_depth=8 \n",
      "[CV] n_estimators=57, min_samples_split=10, min_samples_leaf=2, max_features=auto, max_depth=8 \n",
      "[CV]  n_estimators=10, min_samples_split=10, min_samples_leaf=4, max_features=auto, max_depth=6, total=   0.2s\n",
      "[CV] n_estimators=57, min_samples_split=10, min_samples_leaf=2, max_features=auto, max_depth=8 \n",
      "[CV]  n_estimators=152, min_samples_split=5, min_samples_leaf=4, max_features=sqrt, max_depth=4, total=   2.0s\n",
      "[CV]  n_estimators=200, min_samples_split=10, min_samples_leaf=4, max_features=auto, max_depth=None, total=   5.1s\n",
      "[CV] n_estimators=10, min_samples_split=5, min_samples_leaf=2, max_features=auto, max_depth=8 \n",
      "[CV]  n_estimators=57, min_samples_split=10, min_samples_leaf=4, max_features=auto, max_depth=8, total=   1.0s\n",
      "[CV] n_estimators=10, min_samples_split=5, min_samples_leaf=2, max_features=auto, max_depth=8 \n",
      "[CV] n_estimators=10, min_samples_split=5, min_samples_leaf=2, max_features=auto, max_depth=8 \n",
      "[CV]  n_estimators=152, min_samples_split=5, min_samples_leaf=4, max_features=sqrt, max_depth=4, total=   2.0s\n",
      "[CV] n_estimators=105, min_samples_split=10, min_samples_leaf=2, max_features=sqrt, max_depth=4 \n",
      "[CV]  n_estimators=10, min_samples_split=5, min_samples_leaf=2, max_features=auto, max_depth=8, total=   0.2s\n",
      "[CV]  n_estimators=10, min_samples_split=5, min_samples_leaf=2, max_features=auto, max_depth=8, total=   0.2s\n",
      "[CV] n_estimators=105, min_samples_split=10, min_samples_leaf=2, max_features=sqrt, max_depth=4 \n",
      "[CV] n_estimators=105, min_samples_split=10, min_samples_leaf=2, max_features=sqrt, max_depth=4 \n",
      "[CV]  n_estimators=10, min_samples_split=5, min_samples_leaf=2, max_features=auto, max_depth=8, total=   0.2s\n",
      "[CV] n_estimators=57, min_samples_split=5, min_samples_leaf=2, max_features=sqrt, max_depth=6 \n",
      "[CV]  n_estimators=57, min_samples_split=10, min_samples_leaf=2, max_features=auto, max_depth=8, total=   1.1s\n",
      "[CV] n_estimators=57, min_samples_split=5, min_samples_leaf=2, max_features=sqrt, max_depth=6 \n",
      "[CV]  n_estimators=57, min_samples_split=10, min_samples_leaf=2, max_features=auto, max_depth=8, total=   1.1s\n"
     ]
    },
    {
     "name": "stdout",
     "output_type": "stream",
     "text": [
      "[CV] n_estimators=57, min_samples_split=5, min_samples_leaf=2, max_features=sqrt, max_depth=6 \n",
      "[CV]  n_estimators=57, min_samples_split=10, min_samples_leaf=2, max_features=auto, max_depth=8, total=   1.1s\n",
      "[CV] n_estimators=152, min_samples_split=10, min_samples_leaf=2, max_features=sqrt, max_depth=4 \n",
      "[CV]  n_estimators=57, min_samples_split=5, min_samples_leaf=2, max_features=sqrt, max_depth=6, total=   1.0s\n",
      "[CV] n_estimators=152, min_samples_split=10, min_samples_leaf=2, max_features=sqrt, max_depth=4 \n",
      "[CV]  n_estimators=105, min_samples_split=10, min_samples_leaf=2, max_features=sqrt, max_depth=4, total=   1.4s\n",
      "[CV] n_estimators=152, min_samples_split=10, min_samples_leaf=2, max_features=sqrt, max_depth=4 \n",
      "[CV]  n_estimators=105, min_samples_split=10, min_samples_leaf=2, max_features=sqrt, max_depth=4, total=   1.3s\n",
      "[CV]  n_estimators=105, min_samples_split=10, min_samples_leaf=2, max_features=sqrt, max_depth=4, total=   1.4s\n",
      "[CV] n_estimators=152, min_samples_split=10, min_samples_leaf=2, max_features=sqrt, max_depth=6 \n",
      "[CV] n_estimators=152, min_samples_split=10, min_samples_leaf=2, max_features=sqrt, max_depth=6 \n",
      "[CV]  n_estimators=57, min_samples_split=5, min_samples_leaf=2, max_features=sqrt, max_depth=6, total=   1.0s\n",
      "[CV]  n_estimators=57, min_samples_split=5, min_samples_leaf=2, max_features=sqrt, max_depth=6, total=   1.0s\n",
      "[CV] n_estimators=152, min_samples_split=10, min_samples_leaf=2, max_features=sqrt, max_depth=6 \n",
      "[CV] n_estimators=200, min_samples_split=5, min_samples_leaf=2, max_features=auto, max_depth=6 \n",
      "[CV]  n_estimators=200, min_samples_split=10, min_samples_leaf=4, max_features=auto, max_depth=None, total=   5.3s\n",
      "[CV] n_estimators=200, min_samples_split=5, min_samples_leaf=2, max_features=auto, max_depth=6 \n",
      "[CV]  n_estimators=152, min_samples_split=10, min_samples_leaf=2, max_features=sqrt, max_depth=4, total=   1.9s\n",
      "[CV] n_estimators=200, min_samples_split=5, min_samples_leaf=2, max_features=auto, max_depth=6 \n",
      "[CV]  n_estimators=152, min_samples_split=10, min_samples_leaf=2, max_features=sqrt, max_depth=4, total=   1.8s\n",
      "[CV] n_estimators=105, min_samples_split=10, min_samples_leaf=4, max_features=sqrt, max_depth=6 \n",
      "[CV]  n_estimators=152, min_samples_split=10, min_samples_leaf=2, max_features=sqrt, max_depth=4, total=   1.7s\n",
      "[CV] n_estimators=105, min_samples_split=10, min_samples_leaf=4, max_features=sqrt, max_depth=6 \n",
      "[CV]  n_estimators=152, min_samples_split=10, min_samples_leaf=2, max_features=sqrt, max_depth=6, total=   2.2s\n",
      "[CV]  n_estimators=152, min_samples_split=10, min_samples_leaf=2, max_features=sqrt, max_depth=6, total=   2.2s\n",
      "[CV] n_estimators=105, min_samples_split=10, min_samples_leaf=4, max_features=sqrt, max_depth=6 \n",
      "[CV] n_estimators=200, min_samples_split=5, min_samples_leaf=4, max_features=sqrt, max_depth=10 \n",
      "[CV]  n_estimators=152, min_samples_split=10, min_samples_leaf=2, max_features=sqrt, max_depth=6, total=   2.2s\n",
      "[CV] n_estimators=200, min_samples_split=5, min_samples_leaf=4, max_features=sqrt, max_depth=10 \n",
      "[CV]  n_estimators=105, min_samples_split=10, min_samples_leaf=4, max_features=sqrt, max_depth=6, total=   1.5s\n",
      "[CV] n_estimators=200, min_samples_split=5, min_samples_leaf=4, max_features=sqrt, max_depth=10 \n",
      "[CV]  n_estimators=200, min_samples_split=5, min_samples_leaf=2, max_features=auto, max_depth=6, total=   2.8s\n",
      "[CV] n_estimators=105, min_samples_split=10, min_samples_leaf=4, max_features=auto, max_depth=10 \n",
      "[CV]  n_estimators=105, min_samples_split=10, min_samples_leaf=4, max_features=sqrt, max_depth=6, total=   1.5s\n",
      "[CV] n_estimators=105, min_samples_split=10, min_samples_leaf=4, max_features=auto, max_depth=10 \n",
      "[CV]  n_estimators=200, min_samples_split=5, min_samples_leaf=2, max_features=auto, max_depth=6, total=   2.8s\n",
      "[CV] n_estimators=105, min_samples_split=10, min_samples_leaf=4, max_features=auto, max_depth=10 \n",
      "[CV]  n_estimators=105, min_samples_split=10, min_samples_leaf=4, max_features=sqrt, max_depth=6, total=   1.6s\n",
      "[CV] n_estimators=57, min_samples_split=5, min_samples_leaf=4, max_features=sqrt, max_depth=6 \n",
      "[CV]  n_estimators=200, min_samples_split=5, min_samples_leaf=2, max_features=auto, max_depth=6, total=   2.9s\n",
      "[CV] n_estimators=57, min_samples_split=5, min_samples_leaf=4, max_features=sqrt, max_depth=6 \n",
      "[CV]  n_estimators=57, min_samples_split=5, min_samples_leaf=4, max_features=sqrt, max_depth=6, total=   0.9s\n",
      "[CV] n_estimators=57, min_samples_split=5, min_samples_leaf=4, max_features=sqrt, max_depth=6 \n",
      "[CV]  n_estimators=57, min_samples_split=5, min_samples_leaf=4, max_features=sqrt, max_depth=6, total=   0.9s\n",
      "[CV] n_estimators=200, min_samples_split=10, min_samples_leaf=2, max_features=sqrt, max_depth=2 \n",
      "[CV]  n_estimators=105, min_samples_split=10, min_samples_leaf=4, max_features=auto, max_depth=10, total=   2.3s\n",
      "[CV] n_estimators=200, min_samples_split=10, min_samples_leaf=2, max_features=sqrt, max_depth=2 \n",
      "[CV]  n_estimators=105, min_samples_split=10, min_samples_leaf=4, max_features=auto, max_depth=10, total=   2.3s\n",
      "[CV] n_estimators=200, min_samples_split=10, min_samples_leaf=2, max_features=sqrt, max_depth=2 \n",
      "[CV]  n_estimators=57, min_samples_split=5, min_samples_leaf=4, max_features=sqrt, max_depth=6, total=   0.9s\n",
      "[CV] n_estimators=200, min_samples_split=5, min_samples_leaf=2, max_features=auto, max_depth=8 \n",
      "[CV]  n_estimators=105, min_samples_split=10, min_samples_leaf=4, max_features=auto, max_depth=10, total=   2.3s\n",
      "[CV] n_estimators=200, min_samples_split=5, min_samples_leaf=2, max_features=auto, max_depth=8 \n",
      "[CV]  n_estimators=200, min_samples_split=5, min_samples_leaf=4, max_features=sqrt, max_depth=10, total=   4.2s\n",
      "[CV] n_estimators=200, min_samples_split=5, min_samples_leaf=2, max_features=auto, max_depth=8 \n",
      "[CV]  n_estimators=200, min_samples_split=5, min_samples_leaf=4, max_features=sqrt, max_depth=10, total=   4.2s\n",
      "[CV] n_estimators=10, min_samples_split=10, min_samples_leaf=4, max_features=sqrt, max_depth=4 \n",
      "[CV]  n_estimators=10, min_samples_split=10, min_samples_leaf=4, max_features=sqrt, max_depth=4, total=   0.1s\n",
      "[CV] n_estimators=10, min_samples_split=10, min_samples_leaf=4, max_features=sqrt, max_depth=4 \n",
      "[CV]  n_estimators=200, min_samples_split=10, min_samples_leaf=2, max_features=sqrt, max_depth=2, total=   1.5s\n",
      "[CV]  n_estimators=10, min_samples_split=10, min_samples_leaf=4, max_features=sqrt, max_depth=4, total=   0.1s\n",
      "[CV] n_estimators=10, min_samples_split=10, min_samples_leaf=4, max_features=sqrt, max_depth=4 \n",
      "[CV] n_estimators=105, min_samples_split=5, min_samples_leaf=2, max_features=auto, max_depth=6 \n",
      "[CV]  n_estimators=10, min_samples_split=10, min_samples_leaf=4, max_features=sqrt, max_depth=4, total=   0.1s\n",
      "[CV] n_estimators=105, min_samples_split=5, min_samples_leaf=2, max_features=auto, max_depth=6 \n",
      "[CV]  n_estimators=200, min_samples_split=10, min_samples_leaf=2, max_features=sqrt, max_depth=2, total=   1.5s\n",
      "[CV] n_estimators=105, min_samples_split=5, min_samples_leaf=2, max_features=auto, max_depth=6 \n",
      "[CV]  n_estimators=200, min_samples_split=10, min_samples_leaf=2, max_features=sqrt, max_depth=2, total=   1.5s\n",
      "[CV]  n_estimators=200, min_samples_split=5, min_samples_leaf=4, max_features=sqrt, max_depth=10, total=   4.1s\n",
      "[CV] n_estimators=10, min_samples_split=10, min_samples_leaf=2, max_features=auto, max_depth=2 \n",
      "[CV] n_estimators=10, min_samples_split=10, min_samples_leaf=2, max_features=auto, max_depth=2 \n",
      "[CV]  n_estimators=10, min_samples_split=10, min_samples_leaf=2, max_features=auto, max_depth=2, total=   0.1s\n",
      "[CV]  n_estimators=10, min_samples_split=10, min_samples_leaf=2, max_features=auto, max_depth=2, total=   0.1s\n",
      "[CV] n_estimators=10, min_samples_split=10, min_samples_leaf=2, max_features=auto, max_depth=2 \n",
      "[CV] n_estimators=57, min_samples_split=10, min_samples_leaf=4, max_features=auto, max_depth=4 \n",
      "[CV]  n_estimators=10, min_samples_split=10, min_samples_leaf=2, max_features=auto, max_depth=2, total=   0.1s\n",
      "[CV] n_estimators=57, min_samples_split=10, min_samples_leaf=4, max_features=auto, max_depth=4 \n",
      "[CV]  n_estimators=57, min_samples_split=10, min_samples_leaf=4, max_features=auto, max_depth=4, total=   0.7s\n",
      "[CV] n_estimators=57, min_samples_split=10, min_samples_leaf=4, max_features=auto, max_depth=4 \n"
     ]
    },
    {
     "name": "stdout",
     "output_type": "stream",
     "text": [
      "[CV]  n_estimators=57, min_samples_split=10, min_samples_leaf=4, max_features=auto, max_depth=4, total=   0.7s\n",
      "[CV] n_estimators=200, min_samples_split=5, min_samples_leaf=2, max_features=auto, max_depth=10 \n",
      "[CV]  n_estimators=105, min_samples_split=5, min_samples_leaf=2, max_features=auto, max_depth=6, total=   1.6s\n",
      "[CV] n_estimators=200, min_samples_split=5, min_samples_leaf=2, max_features=auto, max_depth=10 \n",
      "[CV]  n_estimators=105, min_samples_split=5, min_samples_leaf=2, max_features=auto, max_depth=6, total=   1.6s\n",
      "[CV] n_estimators=200, min_samples_split=5, min_samples_leaf=2, max_features=auto, max_depth=10 \n",
      "[CV]  n_estimators=57, min_samples_split=10, min_samples_leaf=4, max_features=auto, max_depth=4, total=   0.7s\n",
      "[CV] n_estimators=200, min_samples_split=10, min_samples_leaf=4, max_features=sqrt, max_depth=8 \n",
      "[CV]  n_estimators=105, min_samples_split=5, min_samples_leaf=2, max_features=auto, max_depth=6, total=   1.6s\n",
      "[CV] n_estimators=200, min_samples_split=10, min_samples_leaf=4, max_features=sqrt, max_depth=8 \n",
      "[CV]  n_estimators=200, min_samples_split=5, min_samples_leaf=2, max_features=auto, max_depth=8, total=   3.6s\n",
      "[CV] n_estimators=200, min_samples_split=10, min_samples_leaf=4, max_features=sqrt, max_depth=8 \n",
      "[CV]  n_estimators=200, min_samples_split=5, min_samples_leaf=2, max_features=auto, max_depth=8, total=   3.7s\n",
      "[CV] n_estimators=105, min_samples_split=10, min_samples_leaf=4, max_features=auto, max_depth=6 \n",
      "[CV]  n_estimators=200, min_samples_split=5, min_samples_leaf=2, max_features=auto, max_depth=8, total=   3.6s\n",
      "[CV] n_estimators=105, min_samples_split=10, min_samples_leaf=4, max_features=auto, max_depth=6 \n",
      "[CV]  n_estimators=105, min_samples_split=10, min_samples_leaf=4, max_features=auto, max_depth=6, total=   1.7s\n",
      "[CV] n_estimators=105, min_samples_split=10, min_samples_leaf=4, max_features=auto, max_depth=6 \n",
      "[CV]  n_estimators=105, min_samples_split=10, min_samples_leaf=4, max_features=auto, max_depth=6, total=   1.7s\n",
      "[CV] n_estimators=10, min_samples_split=10, min_samples_leaf=2, max_features=sqrt, max_depth=4 \n",
      "[CV]  n_estimators=10, min_samples_split=10, min_samples_leaf=2, max_features=sqrt, max_depth=4, total=   0.1s\n",
      "[CV] n_estimators=10, min_samples_split=10, min_samples_leaf=2, max_features=sqrt, max_depth=4 \n",
      "[CV]  n_estimators=10, min_samples_split=10, min_samples_leaf=2, max_features=sqrt, max_depth=4, total=   0.1s\n",
      "[CV] n_estimators=10, min_samples_split=10, min_samples_leaf=2, max_features=sqrt, max_depth=4 \n",
      "[CV]  n_estimators=10, min_samples_split=10, min_samples_leaf=2, max_features=sqrt, max_depth=4, total=   0.2s\n",
      "[CV] n_estimators=105, min_samples_split=5, min_samples_leaf=4, max_features=auto, max_depth=None \n",
      "[CV]  n_estimators=200, min_samples_split=5, min_samples_leaf=2, max_features=auto, max_depth=10, total=   4.3s\n",
      "[CV] n_estimators=105, min_samples_split=5, min_samples_leaf=4, max_features=auto, max_depth=None \n",
      "[CV]  n_estimators=200, min_samples_split=10, min_samples_leaf=4, max_features=sqrt, max_depth=8, total=   3.7s\n",
      "[CV]  n_estimators=200, min_samples_split=10, min_samples_leaf=4, max_features=sqrt, max_depth=8, total=   3.8s\n",
      "[CV] n_estimators=105, min_samples_split=5, min_samples_leaf=4, max_features=auto, max_depth=None \n",
      "[CV] n_estimators=152, min_samples_split=10, min_samples_leaf=2, max_features=auto, max_depth=None \n",
      "[CV]  n_estimators=200, min_samples_split=5, min_samples_leaf=2, max_features=auto, max_depth=10, total=   4.4s\n",
      "[CV] n_estimators=152, min_samples_split=10, min_samples_leaf=2, max_features=auto, max_depth=None \n",
      "[CV]  n_estimators=105, min_samples_split=10, min_samples_leaf=4, max_features=auto, max_depth=6, total=   1.8s\n",
      "[CV] n_estimators=152, min_samples_split=10, min_samples_leaf=2, max_features=auto, max_depth=None \n",
      "[CV]  n_estimators=200, min_samples_split=5, min_samples_leaf=2, max_features=auto, max_depth=10, total=   4.5s\n",
      "[CV] n_estimators=105, min_samples_split=5, min_samples_leaf=2, max_features=sqrt, max_depth=8 \n",
      "[CV]  n_estimators=200, min_samples_split=10, min_samples_leaf=4, max_features=sqrt, max_depth=8, total=   3.9s\n",
      "[CV] n_estimators=105, min_samples_split=5, min_samples_leaf=2, max_features=sqrt, max_depth=8 \n",
      "[CV]  n_estimators=105, min_samples_split=5, min_samples_leaf=4, max_features=auto, max_depth=None, total=   2.8s\n",
      "[CV] n_estimators=105, min_samples_split=5, min_samples_leaf=2, max_features=sqrt, max_depth=8 \n",
      "[CV]  n_estimators=105, min_samples_split=5, min_samples_leaf=4, max_features=auto, max_depth=None, total=   2.7s\n",
      "[CV]  n_estimators=105, min_samples_split=5, min_samples_leaf=2, max_features=sqrt, max_depth=8, total=   1.9s\n",
      "[CV] n_estimators=57, min_samples_split=5, min_samples_leaf=4, max_features=sqrt, max_depth=2 \n",
      "[CV] n_estimators=57, min_samples_split=5, min_samples_leaf=4, max_features=sqrt, max_depth=2 \n",
      "[CV]  n_estimators=105, min_samples_split=5, min_samples_leaf=4, max_features=auto, max_depth=None, total=   2.7s\n",
      "[CV] n_estimators=57, min_samples_split=5, min_samples_leaf=4, max_features=sqrt, max_depth=2 \n",
      "[CV]  n_estimators=105, min_samples_split=5, min_samples_leaf=2, max_features=sqrt, max_depth=8, total=   1.9s\n",
      "[CV] n_estimators=105, min_samples_split=5, min_samples_leaf=4, max_features=auto, max_depth=2 \n",
      "[CV]  n_estimators=57, min_samples_split=5, min_samples_leaf=4, max_features=sqrt, max_depth=2, total=   0.5s\n",
      "[CV]  n_estimators=57, min_samples_split=5, min_samples_leaf=4, max_features=sqrt, max_depth=2, total=   0.5s\n",
      "[CV] n_estimators=105, min_samples_split=5, min_samples_leaf=4, max_features=auto, max_depth=2 \n",
      "[CV] n_estimators=105, min_samples_split=5, min_samples_leaf=4, max_features=auto, max_depth=2 \n",
      "[CV]  n_estimators=57, min_samples_split=5, min_samples_leaf=4, max_features=sqrt, max_depth=2, total=   0.5s\n",
      "[CV] n_estimators=10, min_samples_split=10, min_samples_leaf=4, max_features=sqrt, max_depth=2 \n",
      "[CV]  n_estimators=10, min_samples_split=10, min_samples_leaf=4, max_features=sqrt, max_depth=2, total=   0.1s\n",
      "[CV] n_estimators=10, min_samples_split=10, min_samples_leaf=4, max_features=sqrt, max_depth=2 \n",
      "[CV]  n_estimators=10, min_samples_split=10, min_samples_leaf=4, max_features=sqrt, max_depth=2, total=   0.1s\n",
      "[CV] n_estimators=10, min_samples_split=10, min_samples_leaf=4, max_features=sqrt, max_depth=2 \n",
      "[CV]  n_estimators=10, min_samples_split=10, min_samples_leaf=4, max_features=sqrt, max_depth=2, total=   0.1s\n",
      "[CV] n_estimators=152, min_samples_split=10, min_samples_leaf=2, max_features=sqrt, max_depth=2 \n",
      "[CV]  n_estimators=105, min_samples_split=5, min_samples_leaf=4, max_features=auto, max_depth=2, total=   0.9s\n",
      "[CV] n_estimators=152, min_samples_split=10, min_samples_leaf=2, max_features=sqrt, max_depth=2 \n",
      "[CV]  n_estimators=152, min_samples_split=10, min_samples_leaf=2, max_features=auto, max_depth=None, total=   4.0s\n",
      "[CV] n_estimators=152, min_samples_split=10, min_samples_leaf=2, max_features=sqrt, max_depth=2 \n",
      "[CV]  n_estimators=105, min_samples_split=5, min_samples_leaf=4, max_features=auto, max_depth=2, total=   0.9s\n",
      "[CV] n_estimators=105, min_samples_split=5, min_samples_leaf=2, max_features=auto, max_depth=4 \n",
      "[CV]  n_estimators=105, min_samples_split=5, min_samples_leaf=4, max_features=auto, max_depth=2, total=   0.9s\n",
      "[CV] n_estimators=105, min_samples_split=5, min_samples_leaf=2, max_features=auto, max_depth=4 \n",
      "[CV]  n_estimators=152, min_samples_split=10, min_samples_leaf=2, max_features=auto, max_depth=None, total=   4.0s\n",
      "[CV]  n_estimators=152, min_samples_split=10, min_samples_leaf=2, max_features=auto, max_depth=None, total=   3.9s\n",
      "[CV] n_estimators=105, min_samples_split=5, min_samples_leaf=2, max_features=auto, max_depth=4 \n",
      "[CV] n_estimators=152, min_samples_split=5, min_samples_leaf=2, max_features=sqrt, max_depth=None \n",
      "[CV]  n_estimators=105, min_samples_split=5, min_samples_leaf=2, max_features=sqrt, max_depth=8, total=   1.9s\n",
      "[CV] n_estimators=152, min_samples_split=5, min_samples_leaf=2, max_features=sqrt, max_depth=None \n",
      "[CV]  n_estimators=152, min_samples_split=10, min_samples_leaf=2, max_features=sqrt, max_depth=2, total=   1.2s\n",
      "[CV] n_estimators=152, min_samples_split=5, min_samples_leaf=2, max_features=sqrt, max_depth=None \n",
      "[CV]  n_estimators=152, min_samples_split=10, min_samples_leaf=2, max_features=sqrt, max_depth=2, total=   1.2s\n"
     ]
    },
    {
     "name": "stdout",
     "output_type": "stream",
     "text": [
      "[CV] n_estimators=152, min_samples_split=10, min_samples_leaf=2, max_features=sqrt, max_depth=8 \n",
      "[CV]  n_estimators=152, min_samples_split=10, min_samples_leaf=2, max_features=sqrt, max_depth=2, total=   1.2s\n",
      "[CV] n_estimators=152, min_samples_split=10, min_samples_leaf=2, max_features=sqrt, max_depth=8 \n",
      "[CV]  n_estimators=105, min_samples_split=5, min_samples_leaf=2, max_features=auto, max_depth=4, total=   1.2s\n",
      "[CV] n_estimators=152, min_samples_split=10, min_samples_leaf=2, max_features=sqrt, max_depth=8 \n",
      "[CV]  n_estimators=105, min_samples_split=5, min_samples_leaf=2, max_features=auto, max_depth=4, total=   1.2s\n",
      "[CV] n_estimators=57, min_samples_split=5, min_samples_leaf=2, max_features=auto, max_depth=10 \n",
      "[CV]  n_estimators=105, min_samples_split=5, min_samples_leaf=2, max_features=auto, max_depth=4, total=   1.2s\n",
      "[CV] n_estimators=57, min_samples_split=5, min_samples_leaf=2, max_features=auto, max_depth=10 \n",
      "[CV]  n_estimators=57, min_samples_split=5, min_samples_leaf=2, max_features=auto, max_depth=10, total=   1.1s\n",
      "[CV] n_estimators=57, min_samples_split=5, min_samples_leaf=2, max_features=auto, max_depth=10 \n",
      "[CV]  n_estimators=57, min_samples_split=5, min_samples_leaf=2, max_features=auto, max_depth=10, total=   1.1s\n",
      "[CV] n_estimators=57, min_samples_split=5, min_samples_leaf=4, max_features=auto, max_depth=4 \n",
      "[CV]  n_estimators=57, min_samples_split=5, min_samples_leaf=4, max_features=auto, max_depth=4, total=   0.6s\n",
      "[CV] n_estimators=57, min_samples_split=5, min_samples_leaf=4, max_features=auto, max_depth=4 \n",
      "[CV]  n_estimators=152, min_samples_split=10, min_samples_leaf=2, max_features=sqrt, max_depth=8, total=   2.5s\n",
      "[CV] n_estimators=57, min_samples_split=5, min_samples_leaf=4, max_features=auto, max_depth=4 \n",
      "[CV]  n_estimators=57, min_samples_split=5, min_samples_leaf=2, max_features=auto, max_depth=10, total=   1.1s\n",
      "[CV] n_estimators=105, min_samples_split=10, min_samples_leaf=4, max_features=auto, max_depth=8 \n",
      "[CV]  n_estimators=152, min_samples_split=10, min_samples_leaf=2, max_features=sqrt, max_depth=8, total=   2.5s\n",
      "[CV] n_estimators=105, min_samples_split=10, min_samples_leaf=4, max_features=auto, max_depth=8 \n",
      "[CV]  n_estimators=152, min_samples_split=10, min_samples_leaf=2, max_features=sqrt, max_depth=8, total=   2.5s\n",
      "[CV] n_estimators=105, min_samples_split=10, min_samples_leaf=4, max_features=auto, max_depth=8 \n",
      "[CV]  n_estimators=57, min_samples_split=5, min_samples_leaf=4, max_features=auto, max_depth=4, total=   0.6s\n",
      "[CV] n_estimators=10, min_samples_split=5, min_samples_leaf=4, max_features=sqrt, max_depth=10 \n",
      "[CV]  n_estimators=152, min_samples_split=5, min_samples_leaf=2, max_features=sqrt, max_depth=None, total=   3.6s\n",
      "[CV] n_estimators=10, min_samples_split=5, min_samples_leaf=4, max_features=sqrt, max_depth=10 \n",
      "[CV]  n_estimators=57, min_samples_split=5, min_samples_leaf=4, max_features=auto, max_depth=4, total=   0.6s\n",
      "[CV] n_estimators=10, min_samples_split=5, min_samples_leaf=4, max_features=sqrt, max_depth=10 \n",
      "[CV]  n_estimators=152, min_samples_split=5, min_samples_leaf=2, max_features=sqrt, max_depth=None, total=   3.6s\n",
      "[CV] n_estimators=57, min_samples_split=10, min_samples_leaf=4, max_features=sqrt, max_depth=4 \n",
      "[CV]  n_estimators=10, min_samples_split=5, min_samples_leaf=4, max_features=sqrt, max_depth=10, total=   0.2s\n",
      "[CV] n_estimators=57, min_samples_split=10, min_samples_leaf=4, max_features=sqrt, max_depth=4 \n",
      "[CV]  n_estimators=10, min_samples_split=5, min_samples_leaf=4, max_features=sqrt, max_depth=10, total=   0.2s\n",
      "[CV] n_estimators=57, min_samples_split=10, min_samples_leaf=4, max_features=sqrt, max_depth=4 \n",
      "[CV]  n_estimators=10, min_samples_split=5, min_samples_leaf=4, max_features=sqrt, max_depth=10, total=   0.3s\n",
      "[CV] n_estimators=57, min_samples_split=5, min_samples_leaf=2, max_features=auto, max_depth=4 \n",
      "[CV]  n_estimators=152, min_samples_split=5, min_samples_leaf=2, max_features=sqrt, max_depth=None, total=   3.6s\n",
      "[CV] n_estimators=57, min_samples_split=5, min_samples_leaf=2, max_features=auto, max_depth=4 \n",
      "[CV]  n_estimators=57, min_samples_split=10, min_samples_leaf=4, max_features=sqrt, max_depth=4, total=   0.7s\n",
      "[CV] n_estimators=57, min_samples_split=5, min_samples_leaf=2, max_features=auto, max_depth=4 \n",
      "[CV]  n_estimators=57, min_samples_split=10, min_samples_leaf=4, max_features=sqrt, max_depth=4, total=   0.7s\n",
      "[CV]  n_estimators=57, min_samples_split=10, min_samples_leaf=4, max_features=sqrt, max_depth=4, total=   0.7s\n",
      "[CV] n_estimators=105, min_samples_split=5, min_samples_leaf=2, max_features=auto, max_depth=10 \n",
      "[CV] n_estimators=105, min_samples_split=5, min_samples_leaf=2, max_features=auto, max_depth=10 \n",
      "[CV]  n_estimators=57, min_samples_split=5, min_samples_leaf=2, max_features=auto, max_depth=4, total=   0.7s\n",
      "[CV] n_estimators=105, min_samples_split=5, min_samples_leaf=2, max_features=auto, max_depth=10 \n",
      "[CV]  n_estimators=57, min_samples_split=5, min_samples_leaf=2, max_features=auto, max_depth=4, total=   0.7s\n",
      "[CV] n_estimators=57, min_samples_split=10, min_samples_leaf=2, max_features=sqrt, max_depth=8 \n",
      "[CV]  n_estimators=105, min_samples_split=10, min_samples_leaf=4, max_features=auto, max_depth=8, total=   2.0s\n",
      "[CV]  n_estimators=57, min_samples_split=5, min_samples_leaf=2, max_features=auto, max_depth=4, total=   0.6s\n",
      "[CV] n_estimators=57, min_samples_split=10, min_samples_leaf=2, max_features=sqrt, max_depth=8 \n",
      "[CV] n_estimators=57, min_samples_split=10, min_samples_leaf=2, max_features=sqrt, max_depth=8 \n",
      "[CV]  n_estimators=105, min_samples_split=10, min_samples_leaf=4, max_features=auto, max_depth=8, total=   2.0s\n",
      "[CV]  n_estimators=105, min_samples_split=10, min_samples_leaf=4, max_features=auto, max_depth=8, total=   2.0s\n",
      "[CV]  n_estimators=57, min_samples_split=10, min_samples_leaf=2, max_features=sqrt, max_depth=8, total=   1.0s\n",
      "[CV]  n_estimators=57, min_samples_split=10, min_samples_leaf=2, max_features=sqrt, max_depth=8, total=   0.9s\n",
      "[CV]  n_estimators=57, min_samples_split=10, min_samples_leaf=2, max_features=sqrt, max_depth=8, total=   0.9s\n",
      "[CV]  n_estimators=105, min_samples_split=5, min_samples_leaf=2, max_features=auto, max_depth=10, total=   1.9s\n",
      "[CV]  n_estimators=105, min_samples_split=5, min_samples_leaf=2, max_features=auto, max_depth=10, total=   2.0s\n",
      "[CV]  n_estimators=105, min_samples_split=5, min_samples_leaf=2, max_features=auto, max_depth=10, total=   1.9s\n"
     ]
    },
    {
     "name": "stderr",
     "output_type": "stream",
     "text": [
      "[Parallel(n_jobs=-1)]: Done 300 out of 300 | elapsed:  1.3min finished\n"
     ]
    },
    {
     "data": {
      "text/plain": [
       "RandomizedSearchCV(cv=3, error_score='raise',\n",
       "          estimator=RandomForestClassifier(bootstrap=True, class_weight=None, criterion='gini',\n",
       "            max_depth=None, max_features='auto', max_leaf_nodes=None,\n",
       "            min_impurity_split=1e-07, min_samples_leaf=1,\n",
       "            min_samples_split=2, min_weight_fraction_leaf=0.0,\n",
       "            n_estimators=10, n_jobs=1, oob_score=False, random_state=None,\n",
       "            verbose=0, warm_start=False),\n",
       "          fit_params={}, iid=True, n_iter=100, n_jobs=-1,\n",
       "          param_distributions={'n_estimators': [10, 57, 105, 152, 200], 'max_features': ['auto', 'sqrt'], 'max_depth': [2, 4, 6, 8, 10, None], 'min_samples_split': [5, 10], 'min_samples_leaf': [2, 4]},\n",
       "          pre_dispatch='2*n_jobs', random_state=42, refit=True,\n",
       "          return_train_score=True, scoring=None, verbose=2)"
      ]
     },
     "execution_count": 25,
     "metadata": {},
     "output_type": "execute_result"
    }
   ],
   "source": [
    "# Use the random grid to search for best hyperparameters\n",
    "# First create the base model to tune\n",
    "clf_base = RandomForestClassifier()\n",
    "# Random search of parameters, using 3 fold cross validation, \n",
    "# search across 100 different combinations, and use all available cores\n",
    "clf_random = RandomizedSearchCV(estimator = clf_base, param_distributions = random_grid, n_iter = 100, cv = 3, verbose=2, random_state=42, n_jobs = -1)\n",
    "# Fit the random search model\n",
    "clf_random.fit(X_train,y_train)"
   ]
  },
  {
   "cell_type": "code",
   "execution_count": 26,
   "metadata": {
    "scrolled": true
   },
   "outputs": [
    {
     "data": {
      "text/plain": [
       "{'max_depth': None,\n",
       " 'max_features': 'sqrt',\n",
       " 'min_samples_leaf': 2,\n",
       " 'min_samples_split': 5,\n",
       " 'n_estimators': 200}"
      ]
     },
     "execution_count": 26,
     "metadata": {},
     "output_type": "execute_result"
    }
   ],
   "source": [
    "clf_random.best_params_"
   ]
  },
  {
   "cell_type": "markdown",
   "metadata": {},
   "source": [
    "### Evaluate Random Search"
   ]
  },
  {
   "cell_type": "code",
   "execution_count": 27,
   "metadata": {
    "collapsed": true
   },
   "outputs": [],
   "source": [
    "## Common Classification algorithm evaluator. It returns the roc_auc\n",
    "from sklearn.metrics import roc_curve, auc\n",
    "def evaluate(model, X_train,y_train, X_test, y_test):\n",
    "    model.fit(X_train,y_train)\n",
    "    predictions = model.predict(X_test)\n",
    "    false_positive_rate, true_positive_rate, thresholds = roc_curve(y_test, predictions)\n",
    "    roc_auc = auc(false_positive_rate, true_positive_rate)\n",
    "    #print(roc)\n",
    "    return roc_auc"
   ]
  },
  {
   "cell_type": "code",
   "execution_count": 28,
   "metadata": {
    "collapsed": true
   },
   "outputs": [],
   "source": [
    "base_model = RandomForestClassifier(n_estimators = 10, random_state = 42)"
   ]
  },
  {
   "cell_type": "code",
   "execution_count": 29,
   "metadata": {
    "collapsed": true
   },
   "outputs": [],
   "source": [
    "best_random = clf_random.best_estimator_"
   ]
  },
  {
   "cell_type": "code",
   "execution_count": 30,
   "metadata": {
    "scrolled": true
   },
   "outputs": [
    {
     "name": "stdout",
     "output_type": "stream",
     "text": [
      "ROC for base model : 0.898589796291\n",
      "ROC for best model : 0.9063268856\n"
     ]
    }
   ],
   "source": [
    "print('ROC for base model : ' + str(evaluate(base_model,X_train,y_train, X_test, y_test)))\n",
    "print('ROC for best model : ' + str(evaluate(best_random,X_train,y_train, X_test, y_test)))"
   ]
  },
  {
   "cell_type": "markdown",
   "metadata": {},
   "source": [
    "### Grid Search with Cross Validation"
   ]
  },
  {
   "cell_type": "code",
   "execution_count": 31,
   "metadata": {
    "collapsed": true
   },
   "outputs": [],
   "source": [
    "from sklearn.model_selection import GridSearchCV\n",
    "# Create the parameter grid based on the results of random search \n",
    "param_grid = {\n",
    "    'bootstrap': [True],\n",
    "    'max_features': ['auto'],\n",
    "    'min_samples_leaf': [1,2,3],\n",
    "    'min_samples_split': [3,5,7],\n",
    "    'n_estimators': [100, 200, 2000]\n",
    "}\n",
    "# Create a based model\n",
    "clf = RandomForestClassifier()\n",
    "# Instantiate the grid search model\n",
    "grid_search = GridSearchCV(estimator = clf, param_grid = param_grid, \n",
    "                          cv = 3, n_jobs = -1, verbose = 2)"
   ]
  },
  {
   "cell_type": "code",
   "execution_count": 32,
   "metadata": {
    "scrolled": false
   },
   "outputs": [
    {
     "name": "stdout",
     "output_type": "stream",
     "text": [
      "Fitting 3 folds for each of 27 candidates, totalling 81 fits\n",
      "[CV] bootstrap=True, max_features=auto, min_samples_leaf=1, min_samples_split=3, n_estimators=100 \n",
      "[CV] bootstrap=True, max_features=auto, min_samples_leaf=1, min_samples_split=3, n_estimators=100 \n",
      "[CV] bootstrap=True, max_features=auto, min_samples_leaf=1, min_samples_split=3, n_estimators=100 \n",
      "[CV] bootstrap=True, max_features=auto, min_samples_leaf=1, min_samples_split=3, n_estimators=200 \n",
      "[CV] bootstrap=True, max_features=auto, min_samples_leaf=1, min_samples_split=3, n_estimators=200 \n",
      "[CV] bootstrap=True, max_features=auto, min_samples_leaf=1, min_samples_split=3, n_estimators=200 \n",
      "[CV] bootstrap=True, max_features=auto, min_samples_leaf=1, min_samples_split=3, n_estimators=2000 \n",
      "[CV] bootstrap=True, max_features=auto, min_samples_leaf=1, min_samples_split=3, n_estimators=2000 \n",
      "[CV]  bootstrap=True, max_features=auto, min_samples_leaf=1, min_samples_split=3, n_estimators=100, total=   2.6s\n",
      "[CV] bootstrap=True, max_features=auto, min_samples_leaf=1, min_samples_split=3, n_estimators=2000 \n",
      "[CV]  bootstrap=True, max_features=auto, min_samples_leaf=1, min_samples_split=3, n_estimators=100, total=   2.6s\n",
      "[CV] bootstrap=True, max_features=auto, min_samples_leaf=1, min_samples_split=5, n_estimators=100 \n",
      "[CV]  bootstrap=True, max_features=auto, min_samples_leaf=1, min_samples_split=3, n_estimators=100, total=   2.6s\n",
      "[CV] bootstrap=True, max_features=auto, min_samples_leaf=1, min_samples_split=5, n_estimators=100 \n",
      "[CV]  bootstrap=True, max_features=auto, min_samples_leaf=1, min_samples_split=5, n_estimators=100, total=   2.8s\n",
      "[CV] bootstrap=True, max_features=auto, min_samples_leaf=1, min_samples_split=5, n_estimators=100 \n",
      "[CV]  bootstrap=True, max_features=auto, min_samples_leaf=1, min_samples_split=3, n_estimators=200, total=   5.4s\n",
      "[CV] bootstrap=True, max_features=auto, min_samples_leaf=1, min_samples_split=5, n_estimators=200 \n",
      "[CV]  bootstrap=True, max_features=auto, min_samples_leaf=1, min_samples_split=5, n_estimators=100, total=   2.9s\n",
      "[CV] bootstrap=True, max_features=auto, min_samples_leaf=1, min_samples_split=5, n_estimators=200 \n",
      "[CV]  bootstrap=True, max_features=auto, min_samples_leaf=1, min_samples_split=3, n_estimators=200, total=   5.5s\n",
      "[CV]  bootstrap=True, max_features=auto, min_samples_leaf=1, min_samples_split=3, n_estimators=200, total=   5.5s\n",
      "[CV] bootstrap=True, max_features=auto, min_samples_leaf=1, min_samples_split=5, n_estimators=200 \n",
      "[CV] bootstrap=True, max_features=auto, min_samples_leaf=1, min_samples_split=5, n_estimators=2000 \n",
      "[CV]  bootstrap=True, max_features=auto, min_samples_leaf=1, min_samples_split=5, n_estimators=100, total=   2.8s\n",
      "[CV] bootstrap=True, max_features=auto, min_samples_leaf=1, min_samples_split=5, n_estimators=2000 \n",
      "[CV]  bootstrap=True, max_features=auto, min_samples_leaf=1, min_samples_split=5, n_estimators=200, total=   5.5s\n",
      "[CV] bootstrap=True, max_features=auto, min_samples_leaf=1, min_samples_split=5, n_estimators=2000 \n",
      "[CV]  bootstrap=True, max_features=auto, min_samples_leaf=1, min_samples_split=5, n_estimators=200, total=   5.5s\n",
      "[CV]  bootstrap=True, max_features=auto, min_samples_leaf=1, min_samples_split=5, n_estimators=200, total=   5.6s\n",
      "[CV] bootstrap=True, max_features=auto, min_samples_leaf=1, min_samples_split=7, n_estimators=100 \n",
      "[CV] bootstrap=True, max_features=auto, min_samples_leaf=1, min_samples_split=7, n_estimators=100 \n",
      "[CV]  bootstrap=True, max_features=auto, min_samples_leaf=1, min_samples_split=7, n_estimators=100, total=   2.8s\n",
      "[CV]  bootstrap=True, max_features=auto, min_samples_leaf=1, min_samples_split=7, n_estimators=100, total=   2.8s\n",
      "[CV] bootstrap=True, max_features=auto, min_samples_leaf=1, min_samples_split=7, n_estimators=100 \n",
      "[CV] bootstrap=True, max_features=auto, min_samples_leaf=1, min_samples_split=7, n_estimators=200 \n",
      "[CV]  bootstrap=True, max_features=auto, min_samples_leaf=1, min_samples_split=7, n_estimators=100, total=   2.6s\n",
      "[CV] bootstrap=True, max_features=auto, min_samples_leaf=1, min_samples_split=7, n_estimators=200 \n",
      "[CV]  bootstrap=True, max_features=auto, min_samples_leaf=1, min_samples_split=7, n_estimators=200, total=   5.4s\n",
      "[CV] bootstrap=True, max_features=auto, min_samples_leaf=1, min_samples_split=7, n_estimators=200 \n",
      "[CV]  bootstrap=True, max_features=auto, min_samples_leaf=1, min_samples_split=7, n_estimators=200, total=   5.5s\n",
      "[CV] bootstrap=True, max_features=auto, min_samples_leaf=1, min_samples_split=7, n_estimators=2000 \n",
      "[CV]  bootstrap=True, max_features=auto, min_samples_leaf=1, min_samples_split=7, n_estimators=200, total=   5.5s\n",
      "[CV] bootstrap=True, max_features=auto, min_samples_leaf=1, min_samples_split=7, n_estimators=2000 \n",
      "[CV]  bootstrap=True, max_features=auto, min_samples_leaf=1, min_samples_split=3, n_estimators=2000, total=  55.1s\n",
      "[CV] bootstrap=True, max_features=auto, min_samples_leaf=1, min_samples_split=7, n_estimators=2000 \n",
      "[CV]  bootstrap=True, max_features=auto, min_samples_leaf=1, min_samples_split=3, n_estimators=2000, total=  55.5s\n",
      "[CV] bootstrap=True, max_features=auto, min_samples_leaf=2, min_samples_split=3, n_estimators=100 \n",
      "[CV]  bootstrap=True, max_features=auto, min_samples_leaf=1, min_samples_split=3, n_estimators=2000, total=  55.2s\n",
      "[CV] bootstrap=True, max_features=auto, min_samples_leaf=2, min_samples_split=3, n_estimators=100 \n",
      "[CV]  bootstrap=True, max_features=auto, min_samples_leaf=2, min_samples_split=3, n_estimators=100, total=   2.8s\n",
      "[CV] bootstrap=True, max_features=auto, min_samples_leaf=2, min_samples_split=3, n_estimators=100 \n",
      "[CV]  bootstrap=True, max_features=auto, min_samples_leaf=1, min_samples_split=5, n_estimators=2000, total=  54.2s\n",
      "[CV] bootstrap=True, max_features=auto, min_samples_leaf=2, min_samples_split=3, n_estimators=200 \n",
      "[CV]  bootstrap=True, max_features=auto, min_samples_leaf=2, min_samples_split=3, n_estimators=100, total=   2.7s\n",
      "[CV] bootstrap=True, max_features=auto, min_samples_leaf=2, min_samples_split=3, n_estimators=200 \n",
      "[CV]  bootstrap=True, max_features=auto, min_samples_leaf=2, min_samples_split=3, n_estimators=100, total=   2.6s\n",
      "[CV] bootstrap=True, max_features=auto, min_samples_leaf=2, min_samples_split=3, n_estimators=200 \n"
     ]
    },
    {
     "name": "stderr",
     "output_type": "stream",
     "text": [
      "[Parallel(n_jobs=-1)]: Done  25 tasks      | elapsed:  1.2min\n"
     ]
    },
    {
     "name": "stdout",
     "output_type": "stream",
     "text": [
      "[CV]  bootstrap=True, max_features=auto, min_samples_leaf=1, min_samples_split=5, n_estimators=2000, total=  55.1s\n",
      "[CV] bootstrap=True, max_features=auto, min_samples_leaf=2, min_samples_split=3, n_estimators=2000 \n",
      "[CV]  bootstrap=True, max_features=auto, min_samples_leaf=1, min_samples_split=5, n_estimators=2000, total=  54.5s\n",
      "[CV] bootstrap=True, max_features=auto, min_samples_leaf=2, min_samples_split=3, n_estimators=2000 \n",
      "[CV]  bootstrap=True, max_features=auto, min_samples_leaf=2, min_samples_split=3, n_estimators=200, total=   5.0s\n",
      "[CV] bootstrap=True, max_features=auto, min_samples_leaf=2, min_samples_split=3, n_estimators=2000 \n",
      "[CV]  bootstrap=True, max_features=auto, min_samples_leaf=2, min_samples_split=3, n_estimators=200, total=   5.0s\n",
      "[CV] bootstrap=True, max_features=auto, min_samples_leaf=2, min_samples_split=5, n_estimators=100 \n",
      "[CV]  bootstrap=True, max_features=auto, min_samples_leaf=2, min_samples_split=3, n_estimators=200, total=   4.8s\n",
      "[CV] bootstrap=True, max_features=auto, min_samples_leaf=2, min_samples_split=5, n_estimators=100 \n",
      "[CV]  bootstrap=True, max_features=auto, min_samples_leaf=2, min_samples_split=5, n_estimators=100, total=   2.7s\n",
      "[CV] bootstrap=True, max_features=auto, min_samples_leaf=2, min_samples_split=5, n_estimators=100 \n",
      "[CV]  bootstrap=True, max_features=auto, min_samples_leaf=2, min_samples_split=5, n_estimators=100, total=   2.8s\n",
      "[CV] bootstrap=True, max_features=auto, min_samples_leaf=2, min_samples_split=5, n_estimators=200 \n",
      "[CV]  bootstrap=True, max_features=auto, min_samples_leaf=2, min_samples_split=5, n_estimators=100, total=   2.7s\n",
      "[CV] bootstrap=True, max_features=auto, min_samples_leaf=2, min_samples_split=5, n_estimators=200 \n",
      "[CV]  bootstrap=True, max_features=auto, min_samples_leaf=2, min_samples_split=5, n_estimators=200, total=   5.2s\n",
      "[CV] bootstrap=True, max_features=auto, min_samples_leaf=2, min_samples_split=5, n_estimators=200 \n",
      "[CV]  bootstrap=True, max_features=auto, min_samples_leaf=1, min_samples_split=7, n_estimators=2000, total=  53.1s\n",
      "[CV] bootstrap=True, max_features=auto, min_samples_leaf=2, min_samples_split=5, n_estimators=2000 \n",
      "[CV]  bootstrap=True, max_features=auto, min_samples_leaf=2, min_samples_split=5, n_estimators=200, total=   5.2s\n",
      "[CV] bootstrap=True, max_features=auto, min_samples_leaf=2, min_samples_split=5, n_estimators=2000 \n",
      "[CV]  bootstrap=True, max_features=auto, min_samples_leaf=1, min_samples_split=7, n_estimators=2000, total=  53.4s\n",
      "[CV] bootstrap=True, max_features=auto, min_samples_leaf=2, min_samples_split=5, n_estimators=2000 \n",
      "[CV]  bootstrap=True, max_features=auto, min_samples_leaf=2, min_samples_split=5, n_estimators=200, total=   5.4s\n",
      "[CV] bootstrap=True, max_features=auto, min_samples_leaf=2, min_samples_split=7, n_estimators=100 \n",
      "[CV]  bootstrap=True, max_features=auto, min_samples_leaf=2, min_samples_split=7, n_estimators=100, total=   2.8s\n",
      "[CV] bootstrap=True, max_features=auto, min_samples_leaf=2, min_samples_split=7, n_estimators=100 \n",
      "[CV]  bootstrap=True, max_features=auto, min_samples_leaf=2, min_samples_split=7, n_estimators=100, total=   2.4s\n",
      "[CV] bootstrap=True, max_features=auto, min_samples_leaf=2, min_samples_split=7, n_estimators=100 \n",
      "[CV]  bootstrap=True, max_features=auto, min_samples_leaf=2, min_samples_split=7, n_estimators=100, total=   2.1s\n",
      "[CV] bootstrap=True, max_features=auto, min_samples_leaf=2, min_samples_split=7, n_estimators=200 \n",
      "[CV]  bootstrap=True, max_features=auto, min_samples_leaf=2, min_samples_split=7, n_estimators=200, total=   4.1s\n",
      "[CV] bootstrap=True, max_features=auto, min_samples_leaf=2, min_samples_split=7, n_estimators=200 \n",
      "[CV]  bootstrap=True, max_features=auto, min_samples_leaf=2, min_samples_split=7, n_estimators=200, total=   4.9s\n",
      "[CV] bootstrap=True, max_features=auto, min_samples_leaf=2, min_samples_split=7, n_estimators=200 \n",
      "[CV]  bootstrap=True, max_features=auto, min_samples_leaf=2, min_samples_split=7, n_estimators=200, total=   4.9s\n",
      "[CV] bootstrap=True, max_features=auto, min_samples_leaf=2, min_samples_split=7, n_estimators=2000 \n",
      "[CV]  bootstrap=True, max_features=auto, min_samples_leaf=1, min_samples_split=7, n_estimators=2000, total=  51.9s\n",
      "[CV] bootstrap=True, max_features=auto, min_samples_leaf=2, min_samples_split=7, n_estimators=2000 \n",
      "[CV]  bootstrap=True, max_features=auto, min_samples_leaf=2, min_samples_split=3, n_estimators=2000, total=  50.9s\n",
      "[CV] bootstrap=True, max_features=auto, min_samples_leaf=2, min_samples_split=7, n_estimators=2000 \n",
      "[CV]  bootstrap=True, max_features=auto, min_samples_leaf=2, min_samples_split=3, n_estimators=2000, total=  51.3s\n",
      "[CV]  bootstrap=True, max_features=auto, min_samples_leaf=2, min_samples_split=3, n_estimators=2000, total=  51.4s\n",
      "[CV] bootstrap=True, max_features=auto, min_samples_leaf=3, min_samples_split=3, n_estimators=100 \n",
      "[CV] bootstrap=True, max_features=auto, min_samples_leaf=3, min_samples_split=3, n_estimators=100 \n",
      "[CV]  bootstrap=True, max_features=auto, min_samples_leaf=3, min_samples_split=3, n_estimators=100, total=   2.9s\n",
      "[CV] bootstrap=True, max_features=auto, min_samples_leaf=3, min_samples_split=3, n_estimators=100 \n",
      "[CV]  bootstrap=True, max_features=auto, min_samples_leaf=3, min_samples_split=3, n_estimators=100, total=   2.9s\n",
      "[CV] bootstrap=True, max_features=auto, min_samples_leaf=3, min_samples_split=3, n_estimators=200 \n",
      "[CV]  bootstrap=True, max_features=auto, min_samples_leaf=3, min_samples_split=3, n_estimators=100, total=   2.9s\n",
      "[CV] bootstrap=True, max_features=auto, min_samples_leaf=3, min_samples_split=3, n_estimators=200 \n",
      "[CV]  bootstrap=True, max_features=auto, min_samples_leaf=3, min_samples_split=3, n_estimators=200, total=   5.7s\n",
      "[CV] bootstrap=True, max_features=auto, min_samples_leaf=3, min_samples_split=3, n_estimators=200 \n",
      "[CV]  bootstrap=True, max_features=auto, min_samples_leaf=2, min_samples_split=5, n_estimators=2000, total=  51.8s\n",
      "[CV] bootstrap=True, max_features=auto, min_samples_leaf=3, min_samples_split=3, n_estimators=2000 \n",
      "[CV]  bootstrap=True, max_features=auto, min_samples_leaf=3, min_samples_split=3, n_estimators=200, total=   5.6s\n",
      "[CV] bootstrap=True, max_features=auto, min_samples_leaf=3, min_samples_split=3, n_estimators=2000 \n",
      "[CV]  bootstrap=True, max_features=auto, min_samples_leaf=2, min_samples_split=5, n_estimators=2000, total=  52.4s\n",
      "[CV] bootstrap=True, max_features=auto, min_samples_leaf=3, min_samples_split=3, n_estimators=2000 \n",
      "[CV]  bootstrap=True, max_features=auto, min_samples_leaf=3, min_samples_split=3, n_estimators=200, total=   5.2s\n",
      "[CV] bootstrap=True, max_features=auto, min_samples_leaf=3, min_samples_split=5, n_estimators=100 \n",
      "[CV]  bootstrap=True, max_features=auto, min_samples_leaf=2, min_samples_split=5, n_estimators=2000, total=  52.2s\n",
      "[CV] bootstrap=True, max_features=auto, min_samples_leaf=3, min_samples_split=5, n_estimators=100 \n",
      "[CV]  bootstrap=True, max_features=auto, min_samples_leaf=3, min_samples_split=5, n_estimators=100, total=   2.6s\n",
      "[CV] bootstrap=True, max_features=auto, min_samples_leaf=3, min_samples_split=5, n_estimators=100 \n",
      "[CV]  bootstrap=True, max_features=auto, min_samples_leaf=3, min_samples_split=5, n_estimators=100, total=   2.7s\n",
      "[CV] bootstrap=True, max_features=auto, min_samples_leaf=3, min_samples_split=5, n_estimators=200 \n",
      "[CV]  bootstrap=True, max_features=auto, min_samples_leaf=3, min_samples_split=5, n_estimators=100, total=   2.4s\n",
      "[CV] bootstrap=True, max_features=auto, min_samples_leaf=3, min_samples_split=5, n_estimators=200 \n",
      "[CV]  bootstrap=True, max_features=auto, min_samples_leaf=3, min_samples_split=5, n_estimators=200, total=   4.6s\n",
      "[CV] bootstrap=True, max_features=auto, min_samples_leaf=3, min_samples_split=5, n_estimators=200 \n",
      "[CV]  bootstrap=True, max_features=auto, min_samples_leaf=3, min_samples_split=5, n_estimators=200, total=   4.5s\n",
      "[CV] bootstrap=True, max_features=auto, min_samples_leaf=3, min_samples_split=5, n_estimators=2000 \n",
      "[CV]  bootstrap=True, max_features=auto, min_samples_leaf=3, min_samples_split=5, n_estimators=200, total=   4.4s\n",
      "[CV] bootstrap=True, max_features=auto, min_samples_leaf=3, min_samples_split=5, n_estimators=2000 \n",
      "[CV]  bootstrap=True, max_features=auto, min_samples_leaf=2, min_samples_split=7, n_estimators=2000, total=  52.3s\n"
     ]
    },
    {
     "name": "stdout",
     "output_type": "stream",
     "text": [
      "[CV] bootstrap=True, max_features=auto, min_samples_leaf=3, min_samples_split=5, n_estimators=2000 \n",
      "[CV]  bootstrap=True, max_features=auto, min_samples_leaf=2, min_samples_split=7, n_estimators=2000, total=  52.0s\n",
      "[CV] bootstrap=True, max_features=auto, min_samples_leaf=3, min_samples_split=7, n_estimators=100 \n",
      "[CV]  bootstrap=True, max_features=auto, min_samples_leaf=3, min_samples_split=7, n_estimators=100, total=   2.5s\n",
      "[CV] bootstrap=True, max_features=auto, min_samples_leaf=3, min_samples_split=7, n_estimators=100 \n",
      "[CV]  bootstrap=True, max_features=auto, min_samples_leaf=3, min_samples_split=7, n_estimators=100, total=   2.4s\n",
      "[CV] bootstrap=True, max_features=auto, min_samples_leaf=3, min_samples_split=7, n_estimators=100 \n",
      "[CV]  bootstrap=True, max_features=auto, min_samples_leaf=2, min_samples_split=7, n_estimators=2000, total=  50.9s\n",
      "[CV] bootstrap=True, max_features=auto, min_samples_leaf=3, min_samples_split=7, n_estimators=200 \n",
      "[CV]  bootstrap=True, max_features=auto, min_samples_leaf=3, min_samples_split=7, n_estimators=100, total=   2.3s\n",
      "[CV] bootstrap=True, max_features=auto, min_samples_leaf=3, min_samples_split=7, n_estimators=200 \n",
      "[CV]  bootstrap=True, max_features=auto, min_samples_leaf=3, min_samples_split=7, n_estimators=200, total=   4.5s\n",
      "[CV] bootstrap=True, max_features=auto, min_samples_leaf=3, min_samples_split=7, n_estimators=200 \n",
      "[CV]  bootstrap=True, max_features=auto, min_samples_leaf=3, min_samples_split=7, n_estimators=200, total=   4.6s\n",
      "[CV] bootstrap=True, max_features=auto, min_samples_leaf=3, min_samples_split=7, n_estimators=2000 \n",
      "[CV]  bootstrap=True, max_features=auto, min_samples_leaf=3, min_samples_split=7, n_estimators=200, total=   4.7s\n",
      "[CV] bootstrap=True, max_features=auto, min_samples_leaf=3, min_samples_split=7, n_estimators=2000 \n",
      "[CV]  bootstrap=True, max_features=auto, min_samples_leaf=3, min_samples_split=3, n_estimators=2000, total=  47.1s\n",
      "[CV] bootstrap=True, max_features=auto, min_samples_leaf=3, min_samples_split=7, n_estimators=2000 \n",
      "[CV]  bootstrap=True, max_features=auto, min_samples_leaf=3, min_samples_split=3, n_estimators=2000, total=  47.4s\n",
      "[CV]  bootstrap=True, max_features=auto, min_samples_leaf=3, min_samples_split=3, n_estimators=2000, total=  47.0s\n",
      "[CV]  bootstrap=True, max_features=auto, min_samples_leaf=3, min_samples_split=5, n_estimators=2000, total=  47.1s\n",
      "[CV]  bootstrap=True, max_features=auto, min_samples_leaf=3, min_samples_split=5, n_estimators=2000, total=  47.5s\n",
      "[CV]  bootstrap=True, max_features=auto, min_samples_leaf=3, min_samples_split=5, n_estimators=2000, total=  46.6s\n",
      "[CV]  bootstrap=True, max_features=auto, min_samples_leaf=3, min_samples_split=7, n_estimators=2000, total=  39.1s\n",
      "[CV]  bootstrap=True, max_features=auto, min_samples_leaf=3, min_samples_split=7, n_estimators=2000, total=  37.1s\n",
      "[CV]  bootstrap=True, max_features=auto, min_samples_leaf=3, min_samples_split=7, n_estimators=2000, total=  37.6s\n"
     ]
    },
    {
     "name": "stderr",
     "output_type": "stream",
     "text": [
      "[Parallel(n_jobs=-1)]: Done  81 out of  81 | elapsed:  4.0min finished\n"
     ]
    },
    {
     "data": {
      "text/plain": [
       "GridSearchCV(cv=3, error_score='raise',\n",
       "       estimator=RandomForestClassifier(bootstrap=True, class_weight=None, criterion='gini',\n",
       "            max_depth=None, max_features='auto', max_leaf_nodes=None,\n",
       "            min_impurity_split=1e-07, min_samples_leaf=1,\n",
       "            min_samples_split=2, min_weight_fraction_leaf=0.0,\n",
       "            n_estimators=10, n_jobs=1, oob_score=False, random_state=None,\n",
       "            verbose=0, warm_start=False),\n",
       "       fit_params={}, iid=True, n_jobs=-1,\n",
       "       param_grid={'bootstrap': [True], 'max_features': ['auto'], 'min_samples_leaf': [1, 2, 3], 'min_samples_split': [3, 5, 7], 'n_estimators': [100, 200, 2000]},\n",
       "       pre_dispatch='2*n_jobs', refit=True, return_train_score=True,\n",
       "       scoring=None, verbose=2)"
      ]
     },
     "execution_count": 32,
     "metadata": {},
     "output_type": "execute_result"
    }
   ],
   "source": [
    "grid_search.fit(X_train, y_train)"
   ]
  },
  {
   "cell_type": "code",
   "execution_count": 33,
   "metadata": {},
   "outputs": [
    {
     "data": {
      "text/plain": [
       "{'bootstrap': True,\n",
       " 'max_features': 'auto',\n",
       " 'min_samples_leaf': 1,\n",
       " 'min_samples_split': 5,\n",
       " 'n_estimators': 200}"
      ]
     },
     "execution_count": 33,
     "metadata": {},
     "output_type": "execute_result"
    }
   ],
   "source": [
    "grid_search.best_params_"
   ]
  },
  {
   "cell_type": "code",
   "execution_count": 34,
   "metadata": {
    "collapsed": true
   },
   "outputs": [],
   "source": [
    "best_grid = grid_search.best_estimator_"
   ]
  },
  {
   "cell_type": "code",
   "execution_count": 35,
   "metadata": {},
   "outputs": [
    {
     "name": "stdout",
     "output_type": "stream",
     "text": [
      "ROC for best grid search model : 0.906188910204\n"
     ]
    }
   ],
   "source": [
    "print('ROC for best grid search model : ' + str(evaluate(best_grid,X_train,y_train, X_test, y_test)))"
   ]
  },
  {
   "cell_type": "markdown",
   "metadata": {},
   "source": [
    "### Now lets implement XGBoost (eXtreme Gradient Boosting) "
   ]
  },
  {
   "cell_type": "code",
   "execution_count": 36,
   "metadata": {},
   "outputs": [
    {
     "name": "stderr",
     "output_type": "stream",
     "text": [
      "/Users/bear/anaconda/lib/python3.6/site-packages/sklearn/cross_validation.py:44: DeprecationWarning: This module was deprecated in version 0.18 in favor of the model_selection module into which all the refactored classes and functions are moved. Also note that the interface of the new CV iterators are different from that of this module. This module will be removed in 0.20.\n",
      "  \"This module will be removed in 0.20.\", DeprecationWarning)\n"
     ]
    }
   ],
   "source": [
    "from xgboost import XGBClassifier\n",
    "from sklearn.metrics import accuracy_score"
   ]
  },
  {
   "cell_type": "code",
   "execution_count": 37,
   "metadata": {
    "scrolled": false
   },
   "outputs": [
    {
     "data": {
      "text/plain": [
       "XGBClassifier(base_score=0.5, colsample_bylevel=1, colsample_bytree=1,\n",
       "       gamma=0, learning_rate=0.1, max_delta_step=0, max_depth=3,\n",
       "       min_child_weight=1, missing=None, n_estimators=100, nthread=-1,\n",
       "       objective='binary:logistic', reg_alpha=0, reg_lambda=1,\n",
       "       scale_pos_weight=1, seed=0, silent=True, subsample=1)"
      ]
     },
     "execution_count": 37,
     "metadata": {},
     "output_type": "execute_result"
    }
   ],
   "source": [
    "# fit model on training data\n",
    "xgBoostClassifierModel = XGBClassifier()\n",
    "xgBoostClassifierModel.fit(X_train, y_train)"
   ]
  },
  {
   "cell_type": "code",
   "execution_count": 38,
   "metadata": {},
   "outputs": [],
   "source": [
    "# make predictions for test data\n",
    "y_pred = xgBoostClassifierModel.predict(X_test)\n",
    "predictions = [round(value) for value in y_pred]"
   ]
  },
  {
   "cell_type": "code",
   "execution_count": 39,
   "metadata": {},
   "outputs": [
    {
     "name": "stdout",
     "output_type": "stream",
     "text": [
      "Accuracy: 90.64%\n"
     ]
    }
   ],
   "source": [
    "# evaluate predictions\n",
    "accuracy = accuracy_score(y_test, predictions)\n",
    "print(\"Accuracy: %.2f%%\" % (accuracy * 100.0))"
   ]
  },
  {
   "cell_type": "code",
   "execution_count": 40,
   "metadata": {
    "collapsed": true
   },
   "outputs": [],
   "source": [
    "from sklearn.model_selection import GridSearchCV\n",
    "from sklearn.model_selection import StratifiedKFold"
   ]
  },
  {
   "cell_type": "code",
   "execution_count": 41,
   "metadata": {
    "scrolled": true
   },
   "outputs": [
    {
     "name": "stdout",
     "output_type": "stream",
     "text": [
      "Best: -0.215438 using {'n_estimators': 350}\n",
      "-0.258892 (0.011073) with: {'n_estimators': 50}\n",
      "-0.233500 (0.012006) with: {'n_estimators': 100}\n",
      "-0.224075 (0.012995) with: {'n_estimators': 150}\n",
      "-0.219852 (0.012951) with: {'n_estimators': 200}\n",
      "-0.217450 (0.013438) with: {'n_estimators': 250}\n",
      "-0.216153 (0.013626) with: {'n_estimators': 300}\n",
      "-0.215438 (0.013285) with: {'n_estimators': 350}\n"
     ]
    },
    {
     "data": {
      "image/png": "[encoded data removed]",
      "text/plain": [
       "<Figure size 432x288 with 1 Axes>"
      ]
     },
     "metadata": {},
     "output_type": "display_data"
    }
   ],
   "source": [
    "model = XGBClassifier()\n",
    "n_estimators = range(50, 400, 50)\n",
    "param_grid = dict(n_estimators=n_estimators)\n",
    "kfold = StratifiedKFold(n_splits=10, shuffle=True, random_state=7)\n",
    "grid_search = GridSearchCV(model, param_grid, scoring=\"neg_log_loss\", n_jobs=-1, cv=kfold)\n",
    "grid_result = grid_search.fit(X_train, y_train)\n",
    "# summarize results\n",
    "print(\"Best: %f using %s\" % (grid_result.best_score_, grid_result.best_params_))\n",
    "means = grid_result.cv_results_['mean_test_score']\n",
    "stds = grid_result.cv_results_['std_test_score']\n",
    "params = grid_result.cv_results_['params']\n",
    "for mean, stdev, param in zip(means, stds, params):\n",
    "\tprint(\"%f (%f) with: %r\" % (mean, stdev, param))\n",
    "# plot\n",
    "plt.errorbar(n_estimators, means, yerr=stds)\n",
    "plt.title(\"XGBoost n_estimators vs Log Loss\")\n",
    "plt.xlabel('n_estimators')\n",
    "plt.ylabel('Log Loss')\n",
    "plt.savefig('n_estimators.png')"
   ]
  },
  {
   "cell_type": "code",
   "execution_count": 42,
   "metadata": {},
   "outputs": [
    {
     "ename": "ValueError",
     "evalue": "shape mismatch: objects cannot be broadcast to a single shape",
     "output_type": "error",
     "traceback": [
      "\u001b[0;31m---------------------------------------------------------------------------\u001b[0m",
      "\u001b[0;31mValueError\u001b[0m                                Traceback (most recent call last)",
      "\u001b[0;32m<ipython-input-42-2f4a0a52dbae>\u001b[0m in \u001b[0;36m<module>\u001b[0;34m()\u001b[0m\n\u001b[1;32m      1\u001b[0m \u001b[0;31m# plot\u001b[0m\u001b[0;34m\u001b[0m\u001b[0;34m\u001b[0m\u001b[0m\n\u001b[0;32m----> 2\u001b[0;31m \u001b[0mplt\u001b[0m\u001b[0;34m.\u001b[0m\u001b[0merrorbar\u001b[0m\u001b[0;34m(\u001b[0m\u001b[0mmax_depth\u001b[0m\u001b[0;34m,\u001b[0m \u001b[0mmeans\u001b[0m\u001b[0;34m,\u001b[0m \u001b[0myerr\u001b[0m\u001b[0;34m=\u001b[0m\u001b[0mstds\u001b[0m\u001b[0;34m)\u001b[0m\u001b[0;34m\u001b[0m\u001b[0m\n\u001b[0m\u001b[1;32m      3\u001b[0m \u001b[0mplt\u001b[0m\u001b[0;34m.\u001b[0m\u001b[0mtitle\u001b[0m\u001b[0;34m(\u001b[0m\u001b[0;34m\"XGBoost max_depth vs Log Loss\"\u001b[0m\u001b[0;34m)\u001b[0m\u001b[0;34m\u001b[0m\u001b[0m\n\u001b[1;32m      4\u001b[0m \u001b[0mplt\u001b[0m\u001b[0;34m.\u001b[0m\u001b[0mxlabel\u001b[0m\u001b[0;34m(\u001b[0m\u001b[0;34m'max_depth'\u001b[0m\u001b[0;34m)\u001b[0m\u001b[0;34m\u001b[0m\u001b[0m\n\u001b[1;32m      5\u001b[0m \u001b[0mplt\u001b[0m\u001b[0;34m.\u001b[0m\u001b[0mylabel\u001b[0m\u001b[0;34m(\u001b[0m\u001b[0;34m'Log Loss'\u001b[0m\u001b[0;34m)\u001b[0m\u001b[0;34m\u001b[0m\u001b[0m\n",
      "\u001b[0;32m/Users/bear/anaconda/lib/python3.6/site-packages/matplotlib/pyplot.py\u001b[0m in \u001b[0;36merrorbar\u001b[0;34m(x, y, yerr, xerr, fmt, ecolor, elinewidth, capsize, barsabove, lolims, uplims, xlolims, xuplims, errorevery, capthick, hold, data, **kwargs)\u001b[0m\n\u001b[1;32m   2984\u001b[0m                           \u001b[0mxlolims\u001b[0m\u001b[0;34m=\u001b[0m\u001b[0mxlolims\u001b[0m\u001b[0;34m,\u001b[0m \u001b[0mxuplims\u001b[0m\u001b[0;34m=\u001b[0m\u001b[0mxuplims\u001b[0m\u001b[0;34m,\u001b[0m\u001b[0;34m\u001b[0m\u001b[0m\n\u001b[1;32m   2985\u001b[0m                           \u001b[0merrorevery\u001b[0m\u001b[0;34m=\u001b[0m\u001b[0merrorevery\u001b[0m\u001b[0;34m,\u001b[0m \u001b[0mcapthick\u001b[0m\u001b[0;34m=\u001b[0m\u001b[0mcapthick\u001b[0m\u001b[0;34m,\u001b[0m \u001b[0mdata\u001b[0m\u001b[0;34m=\u001b[0m\u001b[0mdata\u001b[0m\u001b[0;34m,\u001b[0m\u001b[0;34m\u001b[0m\u001b[0m\n\u001b[0;32m-> 2986\u001b[0;31m                           **kwargs)\n\u001b[0m\u001b[1;32m   2987\u001b[0m     \u001b[0;32mfinally\u001b[0m\u001b[0;34m:\u001b[0m\u001b[0;34m\u001b[0m\u001b[0m\n\u001b[1;32m   2988\u001b[0m         \u001b[0max\u001b[0m\u001b[0;34m.\u001b[0m\u001b[0m_hold\u001b[0m \u001b[0;34m=\u001b[0m \u001b[0mwashold\u001b[0m\u001b[0;34m\u001b[0m\u001b[0m\n",
      "\u001b[0;32m/Users/bear/anaconda/lib/python3.6/site-packages/matplotlib/__init__.py\u001b[0m in \u001b[0;36minner\u001b[0;34m(ax, *args, **kwargs)\u001b[0m\n\u001b[1;32m   1853\u001b[0m                         \u001b[0;34m\"the Matplotlib list!)\"\u001b[0m \u001b[0;34m%\u001b[0m \u001b[0;34m(\u001b[0m\u001b[0mlabel_namer\u001b[0m\u001b[0;34m,\u001b[0m \u001b[0mfunc\u001b[0m\u001b[0;34m.\u001b[0m\u001b[0m__name__\u001b[0m\u001b[0;34m)\u001b[0m\u001b[0;34m,\u001b[0m\u001b[0;34m\u001b[0m\u001b[0m\n\u001b[1;32m   1854\u001b[0m                         RuntimeWarning, stacklevel=2)\n\u001b[0;32m-> 1855\u001b[0;31m             \u001b[0;32mreturn\u001b[0m \u001b[0mfunc\u001b[0m\u001b[0;34m(\u001b[0m\u001b[0max\u001b[0m\u001b[0;34m,\u001b[0m \u001b[0;34m*\u001b[0m\u001b[0margs\u001b[0m\u001b[0;34m,\u001b[0m \u001b[0;34m**\u001b[0m\u001b[0mkwargs\u001b[0m\u001b[0;34m)\u001b[0m\u001b[0;34m\u001b[0m\u001b[0m\n\u001b[0m\u001b[1;32m   1856\u001b[0m \u001b[0;34m\u001b[0m\u001b[0m\n\u001b[1;32m   1857\u001b[0m         inner.__doc__ = _add_data_doc(inner.__doc__,\n",
      "\u001b[0;32m/Users/bear/anaconda/lib/python3.6/site-packages/matplotlib/axes/_axes.py\u001b[0m in \u001b[0;36merrorbar\u001b[0;34m(self, x, y, yerr, xerr, fmt, ecolor, elinewidth, capsize, barsabove, lolims, uplims, xlolims, xuplims, errorevery, capthick, **kwargs)\u001b[0m\n\u001b[1;32m   3185\u001b[0m         \u001b[0;32mif\u001b[0m \u001b[0mplot_line\u001b[0m\u001b[0;34m:\u001b[0m\u001b[0;34m\u001b[0m\u001b[0m\n\u001b[1;32m   3186\u001b[0m             \u001b[0mdata_line\u001b[0m \u001b[0;34m=\u001b[0m \u001b[0mmlines\u001b[0m\u001b[0;34m.\u001b[0m\u001b[0mLine2D\u001b[0m\u001b[0;34m(\u001b[0m\u001b[0mx\u001b[0m\u001b[0;34m,\u001b[0m \u001b[0my\u001b[0m\u001b[0;34m,\u001b[0m \u001b[0;34m**\u001b[0m\u001b[0mplot_line_style\u001b[0m\u001b[0;34m)\u001b[0m\u001b[0;34m\u001b[0m\u001b[0m\n\u001b[0;32m-> 3187\u001b[0;31m             \u001b[0mself\u001b[0m\u001b[0;34m.\u001b[0m\u001b[0madd_line\u001b[0m\u001b[0;34m(\u001b[0m\u001b[0mdata_line\u001b[0m\u001b[0;34m)\u001b[0m\u001b[0;34m\u001b[0m\u001b[0m\n\u001b[0m\u001b[1;32m   3188\u001b[0m \u001b[0;34m\u001b[0m\u001b[0m\n\u001b[1;32m   3189\u001b[0m         \u001b[0mbarcols\u001b[0m \u001b[0;34m=\u001b[0m \u001b[0;34m[\u001b[0m\u001b[0;34m]\u001b[0m\u001b[0;34m\u001b[0m\u001b[0m\n",
      "\u001b[0;32m/Users/bear/anaconda/lib/python3.6/site-packages/matplotlib/axes/_base.py\u001b[0m in \u001b[0;36madd_line\u001b[0;34m(self, line)\u001b[0m\n\u001b[1;32m   1930\u001b[0m             \u001b[0mline\u001b[0m\u001b[0;34m.\u001b[0m\u001b[0mset_clip_path\u001b[0m\u001b[0;34m(\u001b[0m\u001b[0mself\u001b[0m\u001b[0;34m.\u001b[0m\u001b[0mpatch\u001b[0m\u001b[0;34m)\u001b[0m\u001b[0;34m\u001b[0m\u001b[0m\n\u001b[1;32m   1931\u001b[0m \u001b[0;34m\u001b[0m\u001b[0m\n\u001b[0;32m-> 1932\u001b[0;31m         \u001b[0mself\u001b[0m\u001b[0;34m.\u001b[0m\u001b[0m_update_line_limits\u001b[0m\u001b[0;34m(\u001b[0m\u001b[0mline\u001b[0m\u001b[0;34m)\u001b[0m\u001b[0;34m\u001b[0m\u001b[0m\n\u001b[0m\u001b[1;32m   1933\u001b[0m         \u001b[0;32mif\u001b[0m \u001b[0;32mnot\u001b[0m \u001b[0mline\u001b[0m\u001b[0;34m.\u001b[0m\u001b[0mget_label\u001b[0m\u001b[0;34m(\u001b[0m\u001b[0;34m)\u001b[0m\u001b[0;34m:\u001b[0m\u001b[0;34m\u001b[0m\u001b[0m\n\u001b[1;32m   1934\u001b[0m             \u001b[0mline\u001b[0m\u001b[0;34m.\u001b[0m\u001b[0mset_label\u001b[0m\u001b[0;34m(\u001b[0m\u001b[0;34m'_line%d'\u001b[0m \u001b[0;34m%\u001b[0m \u001b[0mlen\u001b[0m\u001b[0;34m(\u001b[0m\u001b[0mself\u001b[0m\u001b[0;34m.\u001b[0m\u001b[0mlines\u001b[0m\u001b[0;34m)\u001b[0m\u001b[0;34m)\u001b[0m\u001b[0;34m\u001b[0m\u001b[0m\n",
      "\u001b[0;32m/Users/bear/anaconda/lib/python3.6/site-packages/matplotlib/axes/_base.py\u001b[0m in \u001b[0;36m_update_line_limits\u001b[0;34m(self, line)\u001b[0m\n\u001b[1;32m   1952\u001b[0m         \u001b[0mFigures\u001b[0m \u001b[0mout\u001b[0m \u001b[0mthe\u001b[0m \u001b[0mdata\u001b[0m \u001b[0mlimit\u001b[0m \u001b[0mof\u001b[0m \u001b[0mthe\u001b[0m \u001b[0mgiven\u001b[0m \u001b[0mline\u001b[0m\u001b[0;34m,\u001b[0m \u001b[0mupdating\u001b[0m \u001b[0mself\u001b[0m\u001b[0;34m.\u001b[0m\u001b[0mdataLim\u001b[0m\u001b[0;34m.\u001b[0m\u001b[0;34m\u001b[0m\u001b[0m\n\u001b[1;32m   1953\u001b[0m         \"\"\"\n\u001b[0;32m-> 1954\u001b[0;31m         \u001b[0mpath\u001b[0m \u001b[0;34m=\u001b[0m \u001b[0mline\u001b[0m\u001b[0;34m.\u001b[0m\u001b[0mget_path\u001b[0m\u001b[0;34m(\u001b[0m\u001b[0;34m)\u001b[0m\u001b[0;34m\u001b[0m\u001b[0m\n\u001b[0m\u001b[1;32m   1955\u001b[0m         \u001b[0;32mif\u001b[0m \u001b[0mpath\u001b[0m\u001b[0;34m.\u001b[0m\u001b[0mvertices\u001b[0m\u001b[0;34m.\u001b[0m\u001b[0msize\u001b[0m \u001b[0;34m==\u001b[0m \u001b[0;36m0\u001b[0m\u001b[0;34m:\u001b[0m\u001b[0;34m\u001b[0m\u001b[0m\n\u001b[1;32m   1956\u001b[0m             \u001b[0;32mreturn\u001b[0m\u001b[0;34m\u001b[0m\u001b[0m\n",
      "\u001b[0;32m/Users/bear/anaconda/lib/python3.6/site-packages/matplotlib/lines.py\u001b[0m in \u001b[0;36mget_path\u001b[0;34m(self)\u001b[0m\n\u001b[1;32m    949\u001b[0m         \"\"\"\n\u001b[1;32m    950\u001b[0m         \u001b[0;32mif\u001b[0m \u001b[0mself\u001b[0m\u001b[0;34m.\u001b[0m\u001b[0m_invalidy\u001b[0m \u001b[0;32mor\u001b[0m \u001b[0mself\u001b[0m\u001b[0;34m.\u001b[0m\u001b[0m_invalidx\u001b[0m\u001b[0;34m:\u001b[0m\u001b[0;34m\u001b[0m\u001b[0m\n\u001b[0;32m--> 951\u001b[0;31m             \u001b[0mself\u001b[0m\u001b[0;34m.\u001b[0m\u001b[0mrecache\u001b[0m\u001b[0;34m(\u001b[0m\u001b[0;34m)\u001b[0m\u001b[0;34m\u001b[0m\u001b[0m\n\u001b[0m\u001b[1;32m    952\u001b[0m         \u001b[0;32mreturn\u001b[0m \u001b[0mself\u001b[0m\u001b[0;34m.\u001b[0m\u001b[0m_path\u001b[0m\u001b[0;34m\u001b[0m\u001b[0m\n\u001b[1;32m    953\u001b[0m \u001b[0;34m\u001b[0m\u001b[0m\n",
      "\u001b[0;32m/Users/bear/anaconda/lib/python3.6/site-packages/matplotlib/lines.py\u001b[0m in \u001b[0;36mrecache\u001b[0;34m(self, always)\u001b[0m\n\u001b[1;32m    659\u001b[0m             \u001b[0my\u001b[0m \u001b[0;34m=\u001b[0m \u001b[0mself\u001b[0m\u001b[0;34m.\u001b[0m\u001b[0m_y\u001b[0m\u001b[0;34m\u001b[0m\u001b[0m\n\u001b[1;32m    660\u001b[0m \u001b[0;34m\u001b[0m\u001b[0m\n\u001b[0;32m--> 661\u001b[0;31m         \u001b[0mself\u001b[0m\u001b[0;34m.\u001b[0m\u001b[0m_xy\u001b[0m \u001b[0;34m=\u001b[0m \u001b[0mnp\u001b[0m\u001b[0;34m.\u001b[0m\u001b[0mcolumn_stack\u001b[0m\u001b[0;34m(\u001b[0m\u001b[0mnp\u001b[0m\u001b[0;34m.\u001b[0m\u001b[0mbroadcast_arrays\u001b[0m\u001b[0;34m(\u001b[0m\u001b[0mx\u001b[0m\u001b[0;34m,\u001b[0m \u001b[0my\u001b[0m\u001b[0;34m)\u001b[0m\u001b[0;34m)\u001b[0m\u001b[0;34m.\u001b[0m\u001b[0mastype\u001b[0m\u001b[0;34m(\u001b[0m\u001b[0mfloat\u001b[0m\u001b[0;34m)\u001b[0m\u001b[0;34m\u001b[0m\u001b[0m\n\u001b[0m\u001b[1;32m    662\u001b[0m         \u001b[0mself\u001b[0m\u001b[0;34m.\u001b[0m\u001b[0m_x\u001b[0m\u001b[0;34m,\u001b[0m \u001b[0mself\u001b[0m\u001b[0;34m.\u001b[0m\u001b[0m_y\u001b[0m \u001b[0;34m=\u001b[0m \u001b[0mself\u001b[0m\u001b[0;34m.\u001b[0m\u001b[0m_xy\u001b[0m\u001b[0;34m.\u001b[0m\u001b[0mT\u001b[0m  \u001b[0;31m# views\u001b[0m\u001b[0;34m\u001b[0m\u001b[0m\n\u001b[1;32m    663\u001b[0m \u001b[0;34m\u001b[0m\u001b[0m\n",
      "\u001b[0;32m/Users/bear/anaconda/lib/python3.6/site-packages/numpy/lib/stride_tricks.py\u001b[0m in \u001b[0;36mbroadcast_arrays\u001b[0;34m(*args, **kwargs)\u001b[0m\n\u001b[1;32m    247\u001b[0m     \u001b[0margs\u001b[0m \u001b[0;34m=\u001b[0m \u001b[0;34m[\u001b[0m\u001b[0mnp\u001b[0m\u001b[0;34m.\u001b[0m\u001b[0marray\u001b[0m\u001b[0;34m(\u001b[0m\u001b[0m_m\u001b[0m\u001b[0;34m,\u001b[0m \u001b[0mcopy\u001b[0m\u001b[0;34m=\u001b[0m\u001b[0;32mFalse\u001b[0m\u001b[0;34m,\u001b[0m \u001b[0msubok\u001b[0m\u001b[0;34m=\u001b[0m\u001b[0msubok\u001b[0m\u001b[0;34m)\u001b[0m \u001b[0;32mfor\u001b[0m \u001b[0m_m\u001b[0m \u001b[0;32min\u001b[0m \u001b[0margs\u001b[0m\u001b[0;34m]\u001b[0m\u001b[0;34m\u001b[0m\u001b[0m\n\u001b[1;32m    248\u001b[0m \u001b[0;34m\u001b[0m\u001b[0m\n\u001b[0;32m--> 249\u001b[0;31m     \u001b[0mshape\u001b[0m \u001b[0;34m=\u001b[0m \u001b[0m_broadcast_shape\u001b[0m\u001b[0;34m(\u001b[0m\u001b[0;34m*\u001b[0m\u001b[0margs\u001b[0m\u001b[0;34m)\u001b[0m\u001b[0;34m\u001b[0m\u001b[0m\n\u001b[0m\u001b[1;32m    250\u001b[0m \u001b[0;34m\u001b[0m\u001b[0m\n\u001b[1;32m    251\u001b[0m     \u001b[0;32mif\u001b[0m \u001b[0mall\u001b[0m\u001b[0;34m(\u001b[0m\u001b[0marray\u001b[0m\u001b[0;34m.\u001b[0m\u001b[0mshape\u001b[0m \u001b[0;34m==\u001b[0m \u001b[0mshape\u001b[0m \u001b[0;32mfor\u001b[0m \u001b[0marray\u001b[0m \u001b[0;32min\u001b[0m \u001b[0margs\u001b[0m\u001b[0;34m)\u001b[0m\u001b[0;34m:\u001b[0m\u001b[0;34m\u001b[0m\u001b[0m\n",
      "\u001b[0;32m/Users/bear/anaconda/lib/python3.6/site-packages/numpy/lib/stride_tricks.py\u001b[0m in \u001b[0;36m_broadcast_shape\u001b[0;34m(*args)\u001b[0m\n\u001b[1;32m    182\u001b[0m     \u001b[0;31m# use the old-iterator because np.nditer does not handle size 0 arrays\u001b[0m\u001b[0;34m\u001b[0m\u001b[0;34m\u001b[0m\u001b[0m\n\u001b[1;32m    183\u001b[0m     \u001b[0;31m# consistently\u001b[0m\u001b[0;34m\u001b[0m\u001b[0;34m\u001b[0m\u001b[0m\n\u001b[0;32m--> 184\u001b[0;31m     \u001b[0mb\u001b[0m \u001b[0;34m=\u001b[0m \u001b[0mnp\u001b[0m\u001b[0;34m.\u001b[0m\u001b[0mbroadcast\u001b[0m\u001b[0;34m(\u001b[0m\u001b[0;34m*\u001b[0m\u001b[0margs\u001b[0m\u001b[0;34m[\u001b[0m\u001b[0;34m:\u001b[0m\u001b[0;36m32\u001b[0m\u001b[0;34m]\u001b[0m\u001b[0;34m)\u001b[0m\u001b[0;34m\u001b[0m\u001b[0m\n\u001b[0m\u001b[1;32m    185\u001b[0m     \u001b[0;31m# unfortunately, it cannot handle 32 or more arguments directly\u001b[0m\u001b[0;34m\u001b[0m\u001b[0;34m\u001b[0m\u001b[0m\n\u001b[1;32m    186\u001b[0m     \u001b[0;32mfor\u001b[0m \u001b[0mpos\u001b[0m \u001b[0;32min\u001b[0m \u001b[0mrange\u001b[0m\u001b[0;34m(\u001b[0m\u001b[0;36m32\u001b[0m\u001b[0;34m,\u001b[0m \u001b[0mlen\u001b[0m\u001b[0;34m(\u001b[0m\u001b[0margs\u001b[0m\u001b[0;34m)\u001b[0m\u001b[0;34m,\u001b[0m \u001b[0;36m31\u001b[0m\u001b[0;34m)\u001b[0m\u001b[0;34m:\u001b[0m\u001b[0;34m\u001b[0m\u001b[0m\n",
      "\u001b[0;31mValueError\u001b[0m: shape mismatch: objects cannot be broadcast to a single shape"
     ]
    },
    {
     "data": {
      "image/png": "[encoded data removed]",
      "text/plain": [
       "<Figure size 432x288 with 1 Axes>"
      ]
     },
     "metadata": {},
     "output_type": "display_data"
    }
   ],
   "source": [
    "# plot\n",
    "plt.errorbar(max_depth, means, yerr=stds)\n",
    "plt.title(\"XGBoost max_depth vs Log Loss\")\n",
    "plt.xlabel('max_depth')\n",
    "plt.ylabel('Log Loss')\n",
    "plt.savefig('max_depth.png')"
   ]
  },
  {
   "cell_type": "code",
   "execution_count": null,
   "metadata": {},
   "outputs": [],
   "source": [
    "# grid search\n",
    "model = XGBClassifier()\n",
    "n_estimators = [350, 300, 250, 400]\n",
    "max_depth = [6, 7, 8, 9]\n",
    "print(max_depth)\n",
    "param_grid = dict(max_depth=max_depth, n_estimators=n_estimators)\n",
    "kfold = StratifiedKFold(n_splits=10, shuffle=True, random_state=7)\n",
    "grid_search = GridSearchCV(model, param_grid, scoring=\"neg_log_loss\", n_jobs=-1, cv=kfold, verbose=1)\n",
    "grid_result = grid_search.fit(X_train, y_train)\n",
    "# summarize results\n",
    "print(\"Best: %f using %s\" % (grid_result.best_score_, grid_result.best_params_))\n",
    "means = grid_result.cv_results_['mean_test_score']\n",
    "stds = grid_result.cv_results_['std_test_score']\n",
    "params = grid_result.cv_results_['params']\n",
    "for mean, stdev, param in zip(means, stds, params):\n",
    "\tprint(\"%f (%f) with: %r\" % (mean, stdev, param))\n"
   ]
  },
  {
   "cell_type": "code",
   "execution_count": null,
   "metadata": {
    "scrolled": true
   },
   "outputs": [],
   "source": [
    "# plot results\n",
    "scores = np.array(means).reshape(len(max_depth), len(n_estimators))\n",
    "for i, value in enumerate(max_depth):\n",
    "    plt.plot(n_estimators, scores[i], label='depth: ' + str(value))\n",
    "plt.legend()\n",
    "plt.xlabel('n_estimators')\n",
    "plt.ylabel('Log Loss')\n",
    "plt.savefig('n_estimators_vs_max_depth.png')"
   ]
  },
  {
   "cell_type": "markdown",
   "metadata": {},
   "source": [
    "## Creating the model with the best values for Hyper parameters\n"
   ]
  },
  {
   "cell_type": "code",
   "execution_count": null,
   "metadata": {
    "collapsed": true
   },
   "outputs": [],
   "source": [
    "model = XGBClassifier(max_depth=6, n_estimators=250)"
   ]
  },
  {
   "cell_type": "code",
   "execution_count": null,
   "metadata": {},
   "outputs": [],
   "source": [
    "print(model)"
   ]
  },
  {
   "cell_type": "code",
   "execution_count": null,
   "metadata": {
    "scrolled": true
   },
   "outputs": [],
   "source": [
    "model.fit(X_train, y_train)\n",
    "y_pred = model.predict(X_test)\n",
    "predictions = [round(value) for value in y_pred]"
   ]
  },
  {
   "cell_type": "code",
   "execution_count": null,
   "metadata": {
    "scrolled": false
   },
   "outputs": [],
   "source": [
    "print('ROC for the XGBoost model is: ' + str(evaluate(model, X_train,y_train, X_test, y_test)))"
   ]
  },
  {
   "cell_type": "code",
   "execution_count": null,
   "metadata": {
    "collapsed": true
   },
   "outputs": [],
   "source": [
    "import statsmodels.api as sm\n",
    "import statsmodels.formula.api as smf\n",
    "import pandas as pd\n",
    "from sklearn.linear_model import LogisticRegression"
   ]
  },
  {
   "cell_type": "code",
   "execution_count": null,
   "metadata": {
    "collapsed": true
   },
   "outputs": [],
   "source": [
    "features['price_cat_log'] = features['price'].apply(lambda x: 1 if x > median_price else 0)"
   ]
  },
  {
   "cell_type": "code",
   "execution_count": null,
   "metadata": {
    "scrolled": true
   },
   "outputs": [],
   "source": [
    "features.columns"
   ]
  },
  {
   "cell_type": "code",
   "execution_count": null,
   "metadata": {
    "collapsed": true
   },
   "outputs": [],
   "source": [
    "price_cat_log=features['price_cat_log']\n",
    "y_log=price_cat_log\n",
    "x_log=np.column_stack((sqft_living, bedrooms))\n",
    "x_log=sm.add_constant(x_log,prepend=True)"
   ]
  },
  {
   "cell_type": "code",
   "execution_count": null,
   "metadata": {
    "collapsed": true
   },
   "outputs": [],
   "source": [
    "X_train_log,X_test_log,y_train_log,y_test_log=train_test_split(features[['bedrooms', 'sqft_living', 'waterfront', 'sqft_basement', 'yr_built', 'bathrooms']]\n",
    "                                                               ,y_log,test_size=0.3,random_state=0)"
   ]
  },
  {
   "cell_type": "code",
   "execution_count": null,
   "metadata": {},
   "outputs": [],
   "source": [
    "logreg=LogisticRegression().fit(X_train_log,y_train_log)\n",
    "logreg\n",
    "print(\"Training set score: {:.3f}\".format(logreg.score(X_train_log,y_train_log)))\n",
    "print(\"Test set score: {:.3f}\".format(logreg.score(X_test_log,y_test_log)))"
   ]
  },
  {
   "cell_type": "code",
   "execution_count": null,
   "metadata": {},
   "outputs": [],
   "source": [
    "logit_model=sm.Logit(y_train_log,X_train_log)\n",
    "result=logit_model.fit()\n",
    "print(result.summary())"
   ]
  },
  {
   "cell_type": "markdown",
   "metadata": {},
   "source": [
    "### Looking at the z scores, we know that, sqft_living is the most significant followed by yr_built and then the rest."
   ]
  },
  {
   "cell_type": "code",
   "execution_count": null,
   "metadata": {
    "scrolled": true
   },
   "outputs": [],
   "source": [
    "from sklearn.metrics import roc_curve\n",
    "falsepos,truepos,thresholds=roc_curve(y_test_log,logreg.decision_function(X_test_log))\n",
    "\n",
    "plt.plot(falsepos,truepos,label=\"ROC\")\n",
    "plt.xlabel(\"False Positive Rate\")\n",
    "plt.ylabel(\"True Positive Rate\")\n",
    "\n",
    "cutoff=np.argmin(np.abs(thresholds))\n",
    "plt.plot(falsepos[cutoff],truepos[cutoff],'o',markersize=10,label=\"cutoff\",fillstyle=\"none\")\n",
    "plt.show()"
   ]
  },
  {
   "cell_type": "code",
   "execution_count": null,
   "metadata": {},
   "outputs": [],
   "source": [
    "from sklearn import metrics\n",
    "metrics.auc(falsepos, truepos)"
   ]
  },
  {
   "cell_type": "code",
   "execution_count": null,
   "metadata": {},
   "outputs": [],
   "source": [
    "from sklearn.ensemble import RandomForestRegressor\n",
    "rf = RandomForestRegressor(random_state = 42)\n",
    "from pprint import pprint\n",
    "# Look at parameters used by our current forest\n",
    "print('Parameters currently in use:\\n')\n",
    "pprint(rf.get_params())"
   ]
  },
  {
   "cell_type": "markdown",
   "metadata": {},
   "source": [
    "* estimators = number of trees in the foreset\n",
    "* max_features = max number of features considered for splitting a node\n",
    "* max_depth = max number of levels in each decision tree\n",
    "* min_samples_split = min number of data points placed in a node before the node is split\n",
    "* min_samples_leaf = min number of data points allowed in a leaf node\n",
    "* bootstrap = method for sampling data points (with or without replacement)"
   ]
  },
  {
   "cell_type": "code",
   "execution_count": null,
   "metadata": {
    "collapsed": true
   },
   "outputs": [],
   "source": [
    "X_features_reg = ['bedrooms', 'bathrooms', 'sqft_living', 'sqft_lot',\n",
    "       'waterfront', 'sqft_above', 'sqft_basement', 'yr_built', 'yr_renovated',\n",
    "       'lat', 'long', 'sqft_living15', 'sqft_lot15', 'basement_present',\n",
    "       'renovated', 'floors#1.0', 'floors#1.5', 'floors#2.0', 'floors#2.5',\n",
    "       'floors#3.0', 'floors#3.5', 'view#0', 'view#1', 'view#2', 'view#3',\n",
    "       'view#4', 'condition#1', 'condition#2', 'condition#3', 'condition#4',\n",
    "       'condition#5', 'grade#1', 'grade#3', 'grade#4', 'grade#5', 'grade#6',\n",
    "       'grade#7', 'grade#8', 'grade#9', 'grade#10', 'grade#11', 'grade#12',\n",
    "       'grade#13', 'zipcode#98004', 'zipcode#98102', 'zipcode#98109',\n",
    "       'zipcode#98112', 'zipcode#98039', 'zipcode#98040']\n",
    "\n",
    "X_reg=features[['bedrooms', 'bathrooms', 'sqft_living', 'sqft_lot',\n",
    "       'waterfront', 'sqft_above', 'sqft_basement', 'yr_built', 'yr_renovated',\n",
    "       'lat', 'long', 'sqft_living15', 'sqft_lot15', 'basement_present',\n",
    "       'renovated', 'floors#1.0', 'floors#1.5', 'floors#2.0', 'floors#2.5',\n",
    "       'floors#3.0', 'floors#3.5', 'view#0', 'view#1', 'view#2', 'view#3',\n",
    "       'view#4', 'condition#1', 'condition#2', 'condition#3', 'condition#4',\n",
    "       'condition#5', 'grade#1', 'grade#3', 'grade#4', 'grade#5', 'grade#6',\n",
    "       'grade#7', 'grade#8', 'grade#9', 'grade#10', 'grade#11', 'grade#12',\n",
    "       'grade#13', 'zipcode#98004', 'zipcode#98102', 'zipcode#98109',\n",
    "       'zipcode#98112', 'zipcode#98039', 'zipcode#98040']]  # Features\n",
    "\n",
    "y_reg=features['price']  # Labels\n",
    "       \n",
    "# Split dataset into training set and test set\n",
    "X_train_reg, X_test_reg, y_train_reg, y_test_reg = train_test_split(X_reg, y_reg, test_size=0.3) # 70% training and 30% test"
   ]
  },
  {
   "cell_type": "markdown",
   "metadata": {},
   "source": [
    "### Random Search Cross Validation in Scikit-Learn"
   ]
  },
  {
   "cell_type": "code",
   "execution_count": null,
   "metadata": {},
   "outputs": [],
   "source": [
    "from sklearn.model_selection import RandomizedSearchCV\n",
    "# Number of trees in random forest\n",
    "n_estimators = [int(x) for x in np.linspace(start = 10, stop = 200, num = 5)]\n",
    "# Number of features to consider at every split\n",
    "max_features = ['auto', 'sqrt']\n",
    "# Maximum number of levels in tree\n",
    "max_depth = [int(x) for x in np.linspace(2, 10, num = 5)]\n",
    "max_depth.append(None)\n",
    "# Minimum number of samples required to split a node\n",
    "min_samples_split = [5, 10]\n",
    "# Minimum number of samples required at each leaf node\n",
    "min_samples_leaf = [2, 4]\n",
    "# Method of selecting samples for training each tree\n",
    "#bootstrap = [True, False]\n",
    "# Create the random grid\n",
    "random_grid = {'n_estimators': n_estimators,\n",
    "               'max_features': max_features,\n",
    "               'max_depth': max_depth,\n",
    "               'min_samples_split': min_samples_split,\n",
    "               'min_samples_leaf': min_samples_leaf}\n",
    "pprint(random_grid)"
   ]
  },
  {
   "cell_type": "code",
   "execution_count": null,
   "metadata": {},
   "outputs": [],
   "source": [
    "# Use the random grid to search for best hyperparameters\n",
    "# First create the base model to tune\n",
    "rf = RandomForestRegressor()\n",
    "# Random search of parameters, using 3 fold cross validation, \n",
    "# search across 100 different combinations, and use all available cores\n",
    "rf_random = RandomizedSearchCV(estimator = rf, param_distributions = random_grid, n_iter = 100, cv = 3, verbose=2, random_state=42, n_jobs = -1)\n",
    "# Fit the random search model\n",
    "rf_random.fit(X_train_reg, y_train_reg)"
   ]
  },
  {
   "cell_type": "code",
   "execution_count": null,
   "metadata": {},
   "outputs": [],
   "source": [
    "def evaluate_reg(model, test_features, test_labels):\n",
    "    predictions = model.predict(test_features)\n",
    "    errors = abs(predictions - test_labels)\n",
    "    mape = 100 * np.mean(errors / test_labels)\n",
    "    accuracy = 100 - mape\n",
    "    print('Model Performance')\n",
    "    print('Average Error: {:0.4f} degrees.'.format(np.mean(errors)))\n",
    "    print('Accuracy = {:0.2f}%.'.format(accuracy))\n",
    "    \n",
    "    return accuracy\n",
    "base_model = RandomForestRegressor(n_estimators = 10, random_state = 42)\n",
    "base_model.fit(X_train_reg, y_train_reg)\n",
    "base_accuracy = evaluate_reg(base_model, X_test_reg, y_test_reg)"
   ]
  },
  {
   "cell_type": "code",
   "execution_count": null,
   "metadata": {},
   "outputs": [],
   "source": [
    "rf_random.best_estimator_"
   ]
  },
  {
   "cell_type": "code",
   "execution_count": null,
   "metadata": {
    "scrolled": true
   },
   "outputs": [],
   "source": [
    "best_random = rf_random.best_estimator_\n",
    "random_accuracy = evaluate_reg(best_random, X_test_reg, y_test_reg)"
   ]
  },
  {
   "cell_type": "markdown",
   "metadata": {},
   "source": [
    "### Grid Search with Cross Validation"
   ]
  },
  {
   "cell_type": "code",
   "execution_count": null,
   "metadata": {
    "collapsed": true
   },
   "outputs": [],
   "source": [
    "from sklearn.model_selection import GridSearchCV\n",
    "# Create the parameter grid based on the results of random search \n",
    "param_grid = {\n",
    "    'bootstrap': [True, False],\n",
    "    'max_depth': [None],\n",
    "    'max_features': [2, 3],\n",
    "    'min_samples_leaf': [2,3,4],\n",
    "    'min_samples_split': [3,5,7],\n",
    "    'n_estimators': [100, 200, 300, 1000]\n",
    "}\n",
    "# Create a based model\n",
    "rf = RandomForestRegressor()\n",
    "\n",
    "# Instantiate the grid search model\n",
    "grid_search = GridSearchCV(estimator = rf, param_grid = param_grid, \n",
    "                          cv = 3, n_jobs = -1, verbose = 2)"
   ]
  },
  {
   "cell_type": "code",
   "execution_count": null,
   "metadata": {},
   "outputs": [],
   "source": [
    "# Fit the grid search to the data\n",
    "grid_search.fit(X_train_reg, y_train_reg)\n",
    "grid_search.best_params_"
   ]
  },
  {
   "cell_type": "code",
   "execution_count": null,
   "metadata": {
    "scrolled": true
   },
   "outputs": [],
   "source": [
    "grid_search.best_params_"
   ]
  },
  {
   "cell_type": "code",
   "execution_count": null,
   "metadata": {},
   "outputs": [],
   "source": [
    "best_grid = grid_search.best_estimator_\n",
    "grid_accuracy = evaluate_reg(best_grid, X_test_reg, y_test_reg)"
   ]
  },
  {
   "cell_type": "code",
   "execution_count": null,
   "metadata": {
    "collapsed": true,
    "scrolled": true
   },
   "outputs": [],
   "source": [
    "#print('Improvement of {:0.2f}%.'.format( 100 * (grid_accuracy - base_accuracy) / base_accuracy))"
   ]
  },
  {
   "cell_type": "markdown",
   "metadata": {},
   "source": [
    "## Now lets implement XGBoost (eXtreme Gradient Boosting)"
   ]
  },
  {
   "cell_type": "code",
   "execution_count": null,
   "metadata": {
    "collapsed": true
   },
   "outputs": [],
   "source": [
    "from xgboost import XGBRegressor"
   ]
  },
  {
   "cell_type": "code",
   "execution_count": null,
   "metadata": {
    "scrolled": true
   },
   "outputs": [],
   "source": [
    "base_model = XGBRegressor()\n",
    "base_model.fit(X_train_reg, y_train_reg)\n",
    "base_accuracy = evaluate_reg(base_model, X_test_reg, y_test_reg)"
   ]
  },
  {
   "cell_type": "code",
   "execution_count": null,
   "metadata": {},
   "outputs": [],
   "source": [
    "base_model"
   ]
  },
  {
   "cell_type": "code",
   "execution_count": null,
   "metadata": {},
   "outputs": [],
   "source": [
    "model = XGBRegressor()\n",
    "n_estimators = range(50, 400, 50)\n",
    "param_grid = dict(n_estimators=n_estimators)\n",
    "kfold = StratifiedKFold(n_splits=10, shuffle=True, random_state=7)\n",
    "grid_search = GridSearchCV(model, param_grid, n_jobs=-1, cv=kfold)\n",
    "grid_result = grid_search.fit(X_train, y_train)\n",
    "# summarize results\n",
    "print(\"Best: %f using %s\" % (grid_result.best_score_, grid_result.best_params_))\n",
    "means = grid_result.cv_results_['mean_test_score']\n",
    "stds = grid_result.cv_results_['std_test_score']\n",
    "params = grid_result.cv_results_['params']\n",
    "for mean, stdev, param in zip(means, stds, params):\n",
    "\tprint(\"%f (%f) with: %r\" % (mean, stdev, param))\n"
   ]
  },
  {
   "cell_type": "code",
   "execution_count": null,
   "metadata": {
    "scrolled": true
   },
   "outputs": [],
   "source": [
    "model = XGBRegressor()\n",
    "max_depth = range(1, 11, 2)\n",
    "print(max_depth)\n",
    "param_grid = dict(max_depth=max_depth)\n",
    "kfold = StratifiedKFold(n_splits=10, shuffle=True, random_state=7)\n",
    "grid_search = GridSearchCV(model, param_grid, n_jobs=-1, cv=kfold, verbose=1)\n",
    "grid_result = grid_search.fit(X_train_reg, y_train_reg)\n",
    "# summarize results\n",
    "print(\"Best: %f using %s\" % (grid_result.best_score_, grid_result.best_params_))\n",
    "means = grid_result.cv_results_['mean_test_score']\n",
    "stds = grid_result.cv_results_['std_test_score']\n",
    "params = grid_result.cv_results_['params']\n",
    "for mean, stdev, param in zip(means, stds, params):\n",
    "\tprint(\"%f (%f) with: %r\" % (mean, stdev, param))\n"
   ]
  },
  {
   "cell_type": "code",
   "execution_count": null,
   "metadata": {},
   "outputs": [],
   "source": [
    "# grid search\n",
    "model = XGBRegressor()\n",
    "n_estimators = [300,350,400]\n",
    "max_depth = [4,5,6,7]\n",
    "print(max_depth)\n",
    "param_grid = dict(max_depth=max_depth, n_estimators=n_estimators)\n",
    "kfold = StratifiedKFold(n_splits=10, shuffle=True, random_state=7)\n",
    "grid_search = GridSearchCV(model, param_grid, n_jobs=-1, cv=kfold, verbose=1)\n",
    "grid_result = grid_search.fit(X_train, y_train)\n",
    "# summarize results\n",
    "print(\"Best: %f using %s\" % (grid_result.best_score_, grid_result.best_params_))\n",
    "means = grid_result.cv_results_['mean_test_score']\n",
    "stds = grid_result.cv_results_['std_test_score']\n",
    "params = grid_result.cv_results_['params']\n",
    "for mean, stdev, param in zip(means, stds, params):\n",
    "\tprint(\"%f (%f) with: %r\" % (mean, stdev, param))"
   ]
  },
  {
   "cell_type": "code",
   "execution_count": null,
   "metadata": {},
   "outputs": [],
   "source": [
    "best_XGBoost = grid_result.best_estimator_\n",
    "best_XGBoost"
   ]
  },
  {
   "cell_type": "code",
   "execution_count": null,
   "metadata": {
    "scrolled": false
   },
   "outputs": [],
   "source": [
    "best_XGBoost.fit(X_train_reg, y_train_reg)\n",
    "best_accuracy = evaluate_reg(best_XGBoost, X_test_reg, y_test_reg)"
   ]
  },
  {
   "cell_type": "markdown",
   "metadata": {},
   "source": [
    "### XGBoost Algo provides better predictions than Random Forest for the regression problem. And both of them provide a lower RMSE than Linear Regression"
   ]
  },
  {
   "cell_type": "markdown",
   "metadata": {},
   "source": [
    "#### Evaluating the regression models\n"
   ]
  },
  {
   "cell_type": "code",
   "execution_count": null,
   "metadata": {
    "collapsed": true
   },
   "outputs": [],
   "source": [
    "from sklearn.metrics import mean_squared_error\n",
    "from math import sqrt"
   ]
  },
  {
   "cell_type": "code",
   "execution_count": null,
   "metadata": {},
   "outputs": [],
   "source": [
    "#Random Forest best model\n",
    "print('Random forest best model RMSE is : ' + str(round(sqrt(mean_squared_error(best_random.predict(X_test_reg), y_test_reg)),2)))"
   ]
  },
  {
   "cell_type": "code",
   "execution_count": null,
   "metadata": {},
   "outputs": [],
   "source": [
    "#XGBoost Best model\n",
    "print('XGBoost best model RMSE is : ' + str(round(sqrt(mean_squared_error(best_XGBoost.predict(X_test_reg), y_test_reg)),2)))"
   ]
  },
  {
   "cell_type": "code",
   "execution_count": null,
   "metadata": {},
   "outputs": [],
   "source": [
    "#Linear regression - multiple linear regression model from previous assignment\n",
    "print('Linear regression best model from Assignment 3: ' + str(205986.42))"
   ]
  }
 ],
 "metadata": {
  "kernelspec": {
   "display_name": "Python 3",
   "language": "python",
   "name": "python3"
  },
  "language_info": {
   "codemirror_mode": {
    "name": "ipython",
    "version": 3
   },
   "file_extension": ".py",
   "mimetype": "text/x-python",
   "name": "python",
   "nbconvert_exporter": "python",
   "pygments_lexer": "ipython3",
   "version": "3.6.5"
  }
 },
 "nbformat": 4,
 "nbformat_minor": 2
}
