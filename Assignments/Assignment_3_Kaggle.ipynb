{
 "cells": [
  {
   "cell_type": "markdown",
   "metadata": {},
   "source": [
    "## Assignment 3 Kaggle\n",
    "\n",
    "Due March 29, 2019.\n",
    "\n",
    "**Kaggle Competitions**\n",
    "\n",
    "Find a Kaggle competition or other data science competition. The TAs will create a sign up for approval, first come, first serve.\n",
    "\n",
    "This must be done individually.\n",
    "\n",
    "**Competition Score 50 points**\n",
    "\n",
    "Your score will be based on how you would place in the competition as of the date when you turn in the assignment.  It need not be an active competition.  \n",
    "\n",
    "One percentage point will be deducted for every 3 percentage points from the top. For example, if you score 88% (i.e. top 12%) that is a 4% deduction or 0.98x50 points or 49 points for this section.  \n",
    "\n",
    "This analysis MUST be in a jupyter notebook.\n",
    "\n",
    "**25 Points Summary**\n",
    "\n",
    "For Kaggle competitions you must create a notebook that runs and summarizes the best of what has been done in the kernels. Then you must tweak or extend that somehow.  You MUST explain what you did that was different than the public kernels.  \n",
    "\n",
    "This analysis MUST be in a jupyter notebook.\n",
    "\n",
    "**25 Points Format**\n",
    "\n",
    " An assignment must have:\n",
    " \n",
    " * an abstract   \n",
    " * explanations of the analysis and interpretations of figures and graphs      \n",
    " * a conclusion      \n",
    " * contributions statement  \n",
    " * citations  \n",
    " * a license \n",
    " \n",
    " \n",
    "**Group Size** \n",
    "\n",
    "This must be done individually."
   ]
  },
  {
   "cell_type": "markdown",
   "metadata": {},
   "source": [
    "Last update March 1, 2019"
   ]
  }
 ],
 "metadata": {
  "kernelspec": {
   "display_name": "Python 3",
   "language": "python",
   "name": "python3"
  },
  "language_info": {
   "codemirror_mode": {
    "name": "ipython",
    "version": 3
   },
   "file_extension": ".py",
   "mimetype": "text/x-python",
   "name": "python",
   "nbconvert_exporter": "python",
   "pygments_lexer": "ipython3",
   "version": "3.6.5"
  }
 },
 "nbformat": 4,
 "nbformat_minor": 2
}
