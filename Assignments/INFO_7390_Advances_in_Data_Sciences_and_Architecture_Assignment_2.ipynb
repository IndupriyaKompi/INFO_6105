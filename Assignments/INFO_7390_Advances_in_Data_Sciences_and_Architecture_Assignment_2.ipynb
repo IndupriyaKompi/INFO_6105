{
 "cells": [
  {
   "cell_type": "markdown",
   "metadata": {},
   "source": [
    "# INFO 7390 Assignment 2 - EDA and Clustering"
   ]
  },
  {
   "cell_type": "markdown",
   "metadata": {
    "collapsed": true
   },
   "source": [
    "**Due Wednesday, October 3 2018**\n",
    "\n",
    "_Submission: Put the data and Jupyter notebook files in a folder. Make sure all links to data are relative to the folder so the TAs can run the notebooks._\n",
    "\n",
    "Find a public dataset with a least 9 columns and 3000 rows. You must post your dataset on the class piazza and get an OK before using it as every student needs to use a different dataset.\n",
    "\n",
    "## Shared Code\n",
    "\n",
    "Any code that is shared between students MUST be noted.  Any code that is used from the Internet (e.g. gitbubm stack exchange, etc.) MUST be noted.\n",
    "\n",
    "## Individual Assignments\n",
    "\n",
    "These are individual assignments.  They cannot be done in groups.\n",
    "\n",
    "\n",
    "## Part A -EDA (35 points)\n",
    "\n",
    "* Data cleaning\n",
    "    * Are there missing values? (10 %) \n",
    "    * Are there inappropraite values? (10 %) \n",
    "    * Remove or impute any bad data. (10 %) \n",
    "\n",
    "* Answer the following questions for the data in each column:\n",
    "    * How is the data distributed? (10 %) \n",
    "    * What are the summary statistics? (10 %) \n",
    "    * Are there anomalies/outliers? (10 %) \n",
    "\n",
    "* Plot each colmun as appropriate for the data type:\n",
    "    * Write a summary of what the plot tells you. (10 %) \n",
    "    \n",
    "* Are any of the columns correlated? (10 %) \n",
    "\n",
    "* Write a clear summary of what the EDA tells you (20 %) \n",
    "\n",
    "## Part B - Cluster Some Data (35 points)\n",
    "\n",
    "Cluster your data:\n",
    "\n",
    "Use at least two methods to cluster your data. (70 %)\n",
    "Answer the following questions for the clustering:\n",
    "\n",
    "* Do the clustering methods generate the same clusters? (10 %)\n",
    "* Does scaling effect the clustering?  (10 %)\n",
    "* Does the clustering produce interesting groupings?  (10 %)\n",
    "\n",
    "\n",
    "## Part C - Write a Report (15 points)\n",
    "\n",
    "Tables and or graphs summarizing each analysis done.  (70 %) \n",
    "\n",
    "A clear conclusion.  (30 %) \n",
    "\n",
    "\n",
    "## Part D - Professional code (15 points)\n",
    "\n",
    "* Style guide   \n",
    "* Consistent Naming Scheme   \n",
    "* Commenting & Documentation   \n",
    "* Consistent Indentation   \n",
    "* DRY Principle/Cookie Cutter (DRY stands for Don't Repeat Yourself)   \n",
    "* File and Folder Organization   \n",
    "* Separation of Code and Data   \n",
    "* Use Efficient Data Structures and Algorithms   \n",
    "* Keep Your Code Portable    "
   ]
  },
  {
   "cell_type": "markdown",
   "metadata": {
    "collapsed": true
   },
   "source": [
    "## List of datasets for machine learning research\n",
    "\n",
    "* [List of datasets for machine learning research](https://en.wikipedia.org/wiki/List_of_datasets_for_machine_learning_research)   \n",
    "* [UC Irvine Machine Learning Repository](https://archive.ics.uci.edu/ml/)  \n",
    "* [Public Data Sets : Amazon Web Services](https://aws.amazon.com/datasets/) \n",
    "* [freebase](https://developers.google.com/freebase/)  \n",
    "* [Google Public Data Explorer](https://www.google.com/publicdata/directory)  \n",
    "* [datahub](http://datahub.io/)  \n",
    "* [data.gov](https://www.data.gov/) "
   ]
  },
  {
   "cell_type": "markdown",
   "metadata": {},
   "source": [
    "Last update Sept 5, 2018"
   ]
  }
 ],
 "metadata": {
  "kernelspec": {
   "display_name": "Python 3",
   "language": "python",
   "name": "python3"
  },
  "language_info": {
   "codemirror_mode": {
    "name": "ipython",
    "version": 3
   },
   "file_extension": ".py",
   "mimetype": "text/x-python",
   "name": "python",
   "nbconvert_exporter": "python",
   "pygments_lexer": "ipython3",
   "version": "3.6.5"
  }
 },
 "nbformat": 4,
 "nbformat_minor": 2
}
