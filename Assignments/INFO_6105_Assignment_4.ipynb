{
 "cells": [
  {
   "cell_type": "markdown",
   "metadata": {
    "collapsed": true
   },
   "source": [
    "## Assignment 4 - Classification and Regression\n",
    "\n",
    "**Due Friday, December 7, 2018**  \n",
    "\n",
    "_Submission: Put the data and Jupyter notebook files in a folder. Make sure all links to data are relative to the folder so the TAs can run the notebooks._   Points will be deducted if the TAs can't run the notebooks.\n",
    "\n",
    "Use the public dataset that you used for a previous assignment OR you can use the datset that you are using for your project. You _MUST_ get approval if you wish to use a _different_ dataset.\n",
    "\n",
    "In this assingment you will compare various forms of supervised learning. Supervised learning infers a function from labeled training data consisting of a set of training examples. Specifically, you will compare tree based models, logistic regression and linear regression.\n",
    "\n",
    "You can use R, python, H2O AI, TensorFlow or Apache Spark.  \n",
    "\n",
    "## Part A  - Classification with Trees (30 points)\n",
    "\n",
    "*    Compare at least one bagging based tree algorithm (e.g. Random Forest) with a boosting based tree algorithm on a classification problem. \n",
    "    \n",
    "Answer the following questions for each supervised learner:    \n",
    "    * Which hyper-parameters are important?   \n",
    "    * What hyper-parameter values work best?   \n",
    "    * Which supervised learner works best on the test data?   \n",
    "    \n",
    "## Part B  - Classification with Logistic Regression (15 points)\n",
    "\n",
    "*    Compare logistic regression with the based tree algorithms in Part A on the same data. \n",
    "    \n",
    "Answer the following questions for logistic regression:    \n",
    "    * Which independent variables are important?    \n",
    "    * Is there multi-colinearity?    \n",
    "    * How does it compare to the the models in Part A?      \n",
    "   \n",
    "    \n",
    "## Part C  - Regression with Trees (30 points)\n",
    "\n",
    "*    Compare at least one bagging based tree algorithm (e.g. Random Forest) with a boosting based tree algorithm on a regression problem. \n",
    "    \n",
    "Answer the following questions for each supervised learner:    \n",
    "    * Which hyper-parameters are important?    \n",
    "    * What hyper-parameter values work best?   \n",
    "    * Which supervised learner works best on the test data?  \n",
    "    \n",
    "## Part D  - Regression with Linear Regression (15 points)\n",
    "\n",
    "*    Compare linear regression with the based tree algorithms in Part C on the same data. \n",
    "    \n",
    "Answer the following questions for linear regression:  \n",
    "    * Which independent variables are important?\n",
    "    * Is there multi-colinearity? \n",
    "    * How does it compare to the the models in Part C?           \n",
    "\n",
    "    \n",
    "## Part E - Professional code (10 points)\n",
    "\n",
    "* Style guide   \n",
    "* Consistent Naming Scheme   \n",
    "* Commenting & Documentation   \n",
    "* Consistent Indentation   \n",
    "* DRY Principle/Cookie Cutter (DRY stands for Don't Repeat Yourself)   \n",
    "* File and Folder Organization   \n",
    "* Separation of Code and Data   \n",
    "* Use Efficient Data Structures and Algorithms   \n",
    "* Keep Your Code Portable  \n",
    "    "
   ]
  },
  {
   "cell_type": "markdown",
   "metadata": {},
   "source": [
    "Last update October 3, 2017"
   ]
  }
 ],
 "metadata": {
  "kernelspec": {
   "display_name": "Python 3",
   "language": "python",
   "name": "python3"
  },
  "language_info": {
   "codemirror_mode": {
    "name": "ipython",
    "version": 3
   },
   "file_extension": ".py",
   "mimetype": "text/x-python",
   "name": "python",
   "nbconvert_exporter": "python",
   "pygments_lexer": "ipython3",
   "version": "3.6.5"
  }
 },
 "nbformat": 4,
 "nbformat_minor": 2
}
