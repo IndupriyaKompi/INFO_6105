{
 "cells": [
  {
   "cell_type": "markdown",
   "metadata": {
    "collapsed": true
   },
   "source": [
    "## Assignment 3 - Linear Models\n",
    "\n",
    "**Due Tuesday, October 23, 2018**   \n",
    "\n",
    "_Submission: Put the data and Jupyter notebook files in a folder. Make sure all links to data are relative to the folder so the TAs can run the notebooks._   Points will be deducted if the TAs can't run the notebooks.\n",
    "   \n",
    "Use the public dataset that you used for cleaning in the EDA assignment. You _MUST_ get approval if you wish to use a _different_ dataset.\n",
    "\n",
    "In this assingment you will cluster your data and create predictive linear and logistic models and regularized linear models.   \n",
    "\n",
    "  \n",
    "## Part A  - Linear model (60 points)\n",
    "\n",
    "* Generate a linear model for your data:\n",
    "    * Find a significant linear relation of your choosing in your data. Create a multivariate (multiple independent variable) linear model. \n",
    "  \n",
    " \n",
    "Answer the following questions for the multivariate (multiple) linear model:  \n",
    "    * Is the relationship significant?   \n",
    "    * Are any model assumptions violated?   \n",
    "    * Is there any multi-colinearity in the model?   \n",
    "    * In the multiple regression models are predictor variables independent of all the other predictor variables?   \n",
    "    * In multiple regression models rank the most significant predictor variables and exclude insignificant ones from the model.   \n",
    "    * Does the model make sense?  \n",
    "    * Cross-validate the model. How well did it do?      \n",
    "\n",
    "## Part B - Logistic model or regularization (30 points)\n",
    "    \n",
    "Your choice of either a logistic model or regularization.      \n",
    "    \n",
    "* Generate a logistic model for your data:  \n",
    "\n",
    "    * Find a significant logistic linear model of your choosing in your data. Create a logistic linear model. (25 points)  \n",
    "    \n",
    "Answer the following questions for the logistic linear model:  \n",
    "    * Is the relationship significant?  \n",
    "    * Are any model assumptions violated?   \n",
    "    * Cross-validate the model. How well did it do?   \n",
    "    \n",
    "    \n",
    " OR\n",
    " \n",
    " \n",
    " * Regularization of your model for your data:  \n",
    "\n",
    "    * Apply either L1 of L2 regularization to your multiple regression model. Compare the best regularized model with the unregularized model. (25 points)  \n",
    "    \n",
    "Answer the following questions for the regularized linear model:  \n",
    "    * Does regularization help with creating models that validate better on out of sample data?   \n",
    "\n",
    "## Part C - Professional code (10 points)\n",
    "\n",
    "* Style guide   \n",
    "* Consistent Naming Scheme   \n",
    "* Commenting & Documentation   \n",
    "* Consistent Indentation   \n",
    "* DRY Principle/Cookie Cutter (DRY stands for Don't Repeat Yourself)   \n",
    "* File and Folder Organization   \n",
    "* Separation of Code and Data   \n",
    "* Use Efficient Data Structures and Algorithms   \n",
    "* Keep Your Code Portable  \n"
   ]
  },
  {
   "cell_type": "markdown",
   "metadata": {},
   "source": [
    "Last update October 3, 2017"
   ]
  }
 ],
 "metadata": {
  "kernelspec": {
   "display_name": "Python 3",
   "language": "python",
   "name": "python3"
  },
  "language_info": {
   "codemirror_mode": {
    "name": "ipython",
    "version": 3
   },
   "file_extension": ".py",
   "mimetype": "text/x-python",
   "name": "python",
   "nbconvert_exporter": "python",
   "pygments_lexer": "ipython3",
   "version": "3.6.5"
  }
 },
 "nbformat": 4,
 "nbformat_minor": 2
}
