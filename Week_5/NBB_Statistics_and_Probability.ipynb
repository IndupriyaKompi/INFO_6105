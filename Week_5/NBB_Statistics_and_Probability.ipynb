{
 "cells": [
  {
   "cell_type": "markdown",
   "metadata": {},
   "source": [
    "# Statistics and Probability"
   ]
  },
  {
   "cell_type": "markdown",
   "metadata": {},
   "source": [
    "### Probability\n",
    "\n",
    "**Probability** is the measure of the likelihood that an event will\n",
    "occur.^1 See glossary of probability and statistics. Probability is\n",
    "quantified as a number between 0 and 1, where, loosely speaking,^2 0\n",
    "indicates impossibility and 1 indicates certainty.^3^4 The higher\n",
    "the probability of an event, the more likely it is that the event will\n",
    "occur. A simple example is the tossing of a fair (unbiased) coin. Since\n",
    "the coin is fair, the two outcomes (\\\"heads\\\" and \\\"tails\\\") are both\n",
    "equally probable; the probability of \\\"heads\\\" equals the probability of\n",
    "\\\"tails\\\"; and since no other outcomes are possible, the probability of\n",
    "either \\\"heads\\\" or \\\"tails\\\" is 1/2 (which could also be written as 0.5\n",
    "or 50%).\n",
    "\n",
    "\n",
    "### Statistics\n",
    "\n",
    "**Statistics** is a branch of mathematics dealing with the collection,\n",
    "classification, analysis, interpretation of numerical facts, for drawing\n",
    "inferences on the basis of their quantifiable likelihood (probability)\n",
    "of data.\n",
    "\n",
    "**Let's repeat, _statistics draws inferences_ based upon probability.**\n",
    "\n",
    "Two main statistical methods are used in data analysis: descriptive\n",
    "statistics, which summarize data from a sample using indexes such as\n",
    "the mean or standard deviation, and inferential statistics, which\n",
    "draw conclusions from data that are subject to random variation (e.g.,\n",
    "observational errors, sampling variation).\n",
    "\n",
    "Descriptive statistics are most often concerned with two sets of properties of a *distribution* (sample or population): *central tendency* (or *location*) seeks to characterize the distribution\\'s central or typical value, while *dispersion* (or *variability*) characterizes the extent to which members of the distribution depart from its center and each other.\n",
    "\n",
    "Inferences on mathematical statistics are made under the framework of\n",
    "probability theory, which deals with the analysis of random phenomena.\n",
    "\n",
    "A standard statistical procedure involves the test of the relationship\n",
    "between two statistical data sets, or a data set and synthetic data\n",
    "drawn from idealized model. A hypothesis is proposed for the statistical\n",
    "relationship between the two data sets, and this is compared as an\n",
    "alternative to an idealized null hypothesis of no relationship\n",
    "between two data sets. Rejecting or disproving the null hypothesis is\n",
    "done using statistical tests that quantify the sense in which the null\n",
    "can be proven false, given the data that are used in the test. \n",
    "\n",
    "Working from a null hypothesis, two basic forms of error are recognized: Type I errors (null hypothesis is falsely rejected giving a \\\"false\n",
    "positive\\\") and Type II errors (null hypothesis fails to be rejected\n",
    "and an actual difference between populations is missed giving a \\\"false\n",
    "negative\\\"). Multiple problems have come to be associated with this\n",
    "framework: ranging from obtaining a sufficient sample size to specifying\n",
    "an adequate null hypothesis.\n",
    "\n",
    "Measurement processes that generate statistical data are also subject to\n",
    "error. Many of these errors are classified as random (noise) or\n",
    "systematic ([bias]), but other types of errors (e.g., blunder, such as\n",
    "when an analyst reports incorrect units) can also be important. The\n",
    "presence of [missing data] or [censoring] may result in biased estimates\n",
    "and specific techniques have been developed to address these problems.\n",
    "\n",
    "### Frequentist vs. Bayesian Interpretations  \n",
    "\n",
    "There are two prominent and sometimes conflicting schools of statistics: Bayesian and frequentist. Their approaches are rooted in differing interpretations of the meaning of probability.  \n",
    "\n",
    "One way to determine this is to do repeated trails and count the success rate over the total tries. Suppose there is a situation with n equally likely possible outcomes and that m of those n outcomes correspond to a particular event; then the probability of that event is defined as:\n",
    "\n",
    "$$\n",
    "P(m) = \\frac{m}{n}\n",
    "$$\n",
    "\n",
    "Frequentists say that probability measures the frequency of various outcomes of an experiment. For example, saying a fair coin has a 50% probability of heads means that if we toss it many times then we expect about half the tosses to land heads.  \n",
    "\n",
    "Bayesians say that probability is an abstract concept that measures a state of knowledge or a degree of belief in a given proposition. In practice Bayesians do not assign a single value for the probability of a coin coming up heads. Rather they consider a range of values each with its own probability of being true.\n",
    "\n",
    "Another view would be subjective in nature, in other words an educated guess.  If someone asked you the probability that the Boston Celtics would win their next basketball game, it would be impossible to conduct an experiment where the same two teams played each other repeatedly, each time with the same players playing the same way for the same minutes, under the precisely the same conditions.  Since there are so many variables to take into account, someone familiar with basketball and with the two teams involved might make an educated guess that there is a 67% chance they will win the game; that is, if the same two teams were to play each other repeatedly under identical conditions, the Celtics would win about two out of every three games.  \n",
    "\n",
    "The Bayesian approach has enjoyed a resurgence in the era of powerful computers and big data. It is especially useful when incorporating new data into an existing statistical model, for example, when training a speech or face recognition system. Today, statisticians are creating powerful tools by using both approaches in complementary ways.\n",
    "\n",
    "### Toy Models, and Simulation   \n",
    "\n",
    "Sometimes a problem is so complicated that the best way to understand it is through computer simulation. One makes assumptions, a model (or a toy model) about how the system works and virtual experiments are run many times in order to estimate probabilities. \n",
    "\n"
   ]
  },
  {
   "cell_type": "code",
   "execution_count": 1,
   "metadata": {
    "collapsed": true
   },
   "outputs": [],
   "source": [
    "%matplotlib inline \n",
    "import matplotlib.pyplot as plt\n",
    "import numpy as np\n",
    "import pandas as pd\n",
    "from scipy import stats\n",
    "import seaborn as sns\n",
    "import time\n",
    "np.random.seed(seed=int(time.time()))\n",
    "\n",
    "# Make plots larger\n",
    "plt.rcParams['figure.figsize'] = (15, 9)"
   ]
  },
  {
   "cell_type": "markdown",
   "metadata": {
    "collapsed": true
   },
   "source": [
    "## Probability\n",
    "\n",
    "The [probability](https://en.wikipedia.org/wiki/Probability) of a specified event is measure of the chance or likelihood that it will occur. Probability is quantified as a number between $0$ and $1$, where, loosely speaking, $0$ indicates impossibility and $1$ indicates certainty. The higher the probability of an event, the more likely it is that the event will occur. A simple example is the tossing of a fair (unbiased) coin. Since the coin is fair, the two outcomes (\"heads\" and \"tails\") are both equally probable; the probability of \"heads\" equals the probability of \"tails\"; and since no other outcomes are possible, the probability of either \"heads\" or \"tails\" is 1/2 (which could also be written as 0.5 or 50%).\n",
    "\n",
    "One way to determine this is to do repeated trails and count the success rate over the total tries. \n",
    "\n",
    "Another view would be subjective in nature, in other words an educated guess. An example of subjective probability is asking Boston Red Sox fans,  about the chances of the Red Sox winning the World Series. While there is no counting of trails, fans might still reply in actual percentage terms, based on their opinion of the strength of the team relative to its compeitiion.\n",
    "\n",
    "One also may have a subjective assessment of something that can be tested via trails. Say somebody believes she is a 90% free throw shooter. Then as she shoots, that subjective assessment can become more objective by decreasing the assessment with each miss and increasing the assessment with each make until it becomes a objective estimate of her true free throw percentage.\n",
    "\n",
    "* Probability is expressed in numbers between 0 and 1.  \n",
    "* Probability = 0 means the event never happens.   \n",
    "* Probability = 1 means it always happens.    \n",
    "* The total probability of all possible event always sums to 1.     \n",
    "\n"
   ]
  },
  {
   "cell_type": "markdown",
   "metadata": {},
   "source": [
    "## Events and Outcomes\n",
    "\n",
    "In [probability theory](https://en.wikipedia.org/wiki/Probability_theory), an outcome is a possible result of an experiment.Each possible outcome of a particular experiment is unique, and different outcomes are mutually exclusive (only one outcome will occur on each trial of the experiment). All of the possible outcomes of an experiment form the elements of a sample space.\n",
    "\n",
    "* The result of an experiment is called an [outcome](https://en.wikipedia.org/wiki/Outcome_(probability)).  \n",
    "* An event is any particular outcome or group of outcomes.  \n",
    "* A simple event is an event that cannot be broken down further.   \n",
    "* The sample space is the set of all possible simple events.  \n",
    "\n",
    "For the experiment where we flip a coin twice, the four possible outcomes that make up our sample space are (H, T), (T, H), (T, T) and (H, H), where \"H\" represents a \"heads\", and \"T\" represents a \"tails\". Outcomes should not be confused with events, which are sets (or informally, \"groups\") of outcomes. For comparison, we could define an event to occur when \"at least one 'heads'\" is flipped in the experiment - that is, when the outcome contains at least one 'heads'. This event would contains all outcomes in the sample space except the element (T, T).\n",
    "\n",
    "** Sample Space **  \n",
    "\n",
    "* Coin Toss ={head,tail} \n",
    "* Two coins S = {HH, HT, TH, TT}\n",
    "* Inspecting a part ={good,bad}\n",
    "* Rolling a die S ={1,2,3,4,5,6}\n",
    "\n",
    "### Example 1 6-sided die  \n",
    "\n",
    "If we roll a standard 6-sided die, describe the sample space and some simple events.  \n",
    "\n",
    "The sample space is the set of all possible simple events: {1,2,3,4,5,6}  \n",
    "\n",
    "Some examples of simple events:  \n",
    "\n",
    "We roll a 1\n",
    "We roll a 5\n",
    "\n",
    "Some compound events:  \n",
    "\n",
    "We roll a number bigger than 4\n",
    "We roll an even number\n",
    "\n",
    "### Quiz   \n",
    "\n",
    "\n",
    "If we roll a 6-sided die, calculate\n",
    "\n",
    "a) P(rolling a 1)  \n",
    "b) P(rolling a number bigger than 4)\n",
    "\n",
    "Recall that the sample space is {1,2,3,4,5,6}  \n",
    "\n",
    "a) There is one outcome corresponding to “rolling a 1”, so the probability is  1/6.  \n",
    "b) There are two outcomes bigger than a 4, so the probability is  2/6 or 1/3.  \n"
   ]
  },
  {
   "cell_type": "markdown",
   "metadata": {},
   "source": [
    "## Probability\n",
    "\n",
    "The classical definition or interpretation of [probability](https://en.wikipedia.org/wiki/Probability_theory) is identified with the works of Jacob Bernoulli and Pierre-Simon Laplace. As stated in Laplace's Théorie analytique des probabilités,\n",
    "\n",
    "_The probability of an event is the ratio of the number of cases favorable to it, to the number of all cases possible when nothing leads us to expect that any one of these cases should occur more than any other, which renders them, for us, equally possible._  \n",
    "\n",
    "For example, if the event is \"occurrence of an even number when a die is rolled\", the probability is given by $\\tfrac{3}{6}=\\tfrac{1}{2}$, since 3 faces out of the 6 have even numbers and each face has the same probability of appearing.\n",
    "\n",
    "**Modern definition**\n",
    "\n",
    "The modern definition starts with a [countable set](https://en.wikipedia.org/wiki/Countable_set) called the [sample space](https://en.wikipedia.org/wiki/Sample_space) , which relates to the set of all _possible outcomes_ in classical sense, denoted by$\\Omega$. It is then assumed that for each element $x \\in \\Omega\\,$, an intrinsic \"probability\" value $f(x)\\,$ is attached, which satisfies the following properties:\n",
    "\n",
    "$$f(x)\\in[0,1]\\mbox{ for all }x\\in \\Omega\\,;$$\n",
    "\n",
    "$$\\sum_{x\\in \\Omega} f(x) = 1\\,.$$\n",
    "\n",
    "That is, the probability function $f(x$) lies between zero and one for every value of $x$ in the sample space $\\Omega$, and the sum of $f(x$) over all values $x$ in the sample space $\\Omega$ is equal to 1. An [event (probability theory](https://en.wikipedia.org/wiki/Event_(probability_theory)) is defined as any [subset](https://en.wikipedia.org/wiki/Subset) $E\\,$ of the sample space$\\Omega\\,$. The _probability_ of the event$E\\,$ is defined as\n",
    "\n",
    "$$P(E)=\\sum_{x\\in E} f(x)\\,.$$\n",
    "\n",
    "So, the probability of the entire sample space is 1, and the probability of the null event is 0.\n",
    "\n",
    "The function$f(x)\\,$ mapping a point in the sample space to the \"probability\" value is called a [probability mass function](https://en.wikipedia.org/wiki/Probability_mass_function) abbreviated as _pmf_. The modern definition does not try to answer how probability mass functions are obtained; instead it builds a theory that assumes their existence.\n",
    "\n",
    "**Probability:** the number of ways that an event can occur divided by the total number of possible outcomes. "
   ]
  },
  {
   "cell_type": "markdown",
   "metadata": {},
   "source": [
    "#### What's the probability of getting heads in a fair coin flip? "
   ]
  },
  {
   "cell_type": "code",
   "execution_count": 2,
   "metadata": {},
   "outputs": [
    {
     "data": {
      "text/plain": [
       "0.5"
      ]
     },
     "execution_count": 2,
     "metadata": {},
     "output_type": "execute_result"
    }
   ],
   "source": [
    "1/2.0"
   ]
  },
  {
   "cell_type": "markdown",
   "metadata": {},
   "source": [
    "#### What's the probability of getting an even number on a standard six-sided die? "
   ]
  },
  {
   "cell_type": "code",
   "execution_count": 3,
   "metadata": {},
   "outputs": [
    {
     "data": {
      "text/plain": [
       "0.5"
      ]
     },
     "execution_count": 3,
     "metadata": {},
     "output_type": "execute_result"
    }
   ],
   "source": [
    "3/6.0"
   ]
  },
  {
   "cell_type": "markdown",
   "metadata": {},
   "source": [
    "#### What's the probability an 'ace' from a standard deck of cards?\n",
    "\n",
    "A standard deck of 52 playing cards consists of four suits (hearts, spades, diamonds and clubs). Spades and clubs are black while hearts and diamonds are red. Each suit contains 13 cards, each of a different rank: an Ace (which in many games functions as both a low card and a high card),\n",
    "cards numbered 2 through 10, a Jack, a Queen and a King."
   ]
  },
  {
   "cell_type": "code",
   "execution_count": 4,
   "metadata": {},
   "outputs": [
    {
     "data": {
      "text/plain": [
       "0.07692307692307693"
      ]
     },
     "execution_count": 4,
     "metadata": {},
     "output_type": "execute_result"
    }
   ],
   "source": [
    "4/52.0"
   ]
  },
  {
   "cell_type": "markdown",
   "metadata": {},
   "source": [
    "## Odds\n",
    "\n",
    "The odds for an event is the ratio of the number of ways the event can occur compared to the number of ways it does not occur.\n",
    "\n",
    "For example, using the same events as above, the odds for:\n",
    "drawing a red card from a standard deck of cards is 1:1; and\n",
    "drawing a club from that deck is 1:3."
   ]
  },
  {
   "cell_type": "markdown",
   "metadata": {},
   "source": [
    "#### What's the odds of a fair coin flip?  "
   ]
  },
  {
   "cell_type": "code",
   "execution_count": 5,
   "metadata": {},
   "outputs": [
    {
     "data": {
      "text/plain": [
       "1.0"
      ]
     },
     "execution_count": 5,
     "metadata": {},
     "output_type": "execute_result"
    }
   ],
   "source": [
    "1/1.0"
   ]
  },
  {
   "cell_type": "markdown",
   "metadata": {},
   "source": [
    "#### What's the odds of getting an even number on a standard six-sided die? "
   ]
  },
  {
   "cell_type": "code",
   "execution_count": 6,
   "metadata": {},
   "outputs": [
    {
     "data": {
      "text/plain": [
       "1.0"
      ]
     },
     "execution_count": 6,
     "metadata": {},
     "output_type": "execute_result"
    }
   ],
   "source": [
    "3/3.0"
   ]
  },
  {
   "cell_type": "markdown",
   "metadata": {},
   "source": [
    "#### What's the odds of an 'ace' from a standard deck of cards"
   ]
  },
  {
   "cell_type": "code",
   "execution_count": 7,
   "metadata": {},
   "outputs": [
    {
     "data": {
      "text/plain": [
       "0.08333333333333333"
      ]
     },
     "execution_count": 7,
     "metadata": {},
     "output_type": "execute_result"
    }
   ],
   "source": [
    "4/48.0"
   ]
  },
  {
   "cell_type": "markdown",
   "metadata": {},
   "source": [
    "\n",
    "## The Axioms of Probability\n",
    "\n",
    "\n",
    "### First axiom - The probability of an event is a non-negative real number:\n",
    "$$\n",
    "P(E)\\in\\mathbb{R}, P(E)\\geq 0 \\qquad \\forall E\\in F\n",
    "$$\n",
    "where $F$ is the event space\n",
    "\n",
    "### Second axiom -  unit measure:\n",
    "\n",
    "The probability that some elementary event in the entire sample space will occur is 1.\n",
    "\n",
    "$$\n",
    "P(\\Omega) = 1.\n",
    "$$  \n",
    "\n",
    "### Third axiom - the assumption of $\\sigma$-additivity:\n",
    "\n",
    "Any countable sequence of disjoint (synonymous with mutually exclusive) events $E_1, E_2, ...$ satisfies\n",
    "\n",
    "$$\n",
    "P\\left(\\bigcup_{i = 1}^\\infty E_i\\right) = \\sum_{i=1}^\\infty P(E_i).\n",
    "$$\n",
    "\n",
    "The total probability of all possible event always sums to 1. \n",
    "\n",
    "### Consequences of these axioms\n",
    "\n",
    "The probability of the empty set:\n",
    "$$\n",
    "P(\\varnothing)=0.\n",
    "$$\n",
    "\n",
    "Monotonicity   \n",
    "$$\n",
    "\\quad\\text{if}\\quad A\\subseteq B\\quad\\text{then}\\quad P(A)\\leq P(B).\n",
    "$$\n",
    "\n",
    "The numeric bound between 0 and 1:  \n",
    "\n",
    "$$\n",
    "0\\leq P(E)\\leq 1\\qquad \\forall E\\in F.\n",
    "$$\n",
    "\n",
    "\n",
    "![Probability is expressed in numbers between 0 and 1](http://nikbearbrown.com/YouTube/MachineLearning/M10/Probability_0_1.png)    \n",
    "*Probability is expressed in numbers between 0 and 1.*   \n",
    "\n",
    "\n",
    "Probabilty of a certain event is 1:\n",
    "\n",
    "$$\n",
    "P(True) = 1\n",
    "$$\n",
    "\n",
    "Probability = 1 means it always happens.\n",
    "\n",
    "\n",
    "Probabilty of an impossible event is 0:\n",
    "\n",
    "$$\n",
    "P(False) = 0\n",
    "$$\n",
    "\n",
    "Probability = 0 means the event never happens.  \n",
    "\n",
    "Probabilty of A or B:\n",
    "\n",
    "$$\n",
    "P(A \\quad or \\quad B) = P(A) + P(B) - P(A \\quad and \\quad B) \n",
    "$$\n",
    "\n",
    "or\n",
    "\n",
    "$$\n",
    "P(A \\cup B) = P(A) + P(A) - P(A \\cap B) \n",
    "$$\n",
    "\n",
    "\n",
    "Probabilty of not A:\n",
    "\n",
    "$$\n",
    "P(not  \\quad A) = 1- P(A) \n",
    "$$\n",
    "\n"
   ]
  },
  {
   "cell_type": "markdown",
   "metadata": {},
   "source": [
    "#### If you pull a random card from a deck of playing cards, what is the probability it is a heart?"
   ]
  },
  {
   "cell_type": "code",
   "execution_count": 8,
   "metadata": {},
   "outputs": [
    {
     "data": {
      "text/plain": [
       "0.25"
      ]
     },
     "execution_count": 8,
     "metadata": {},
     "output_type": "execute_result"
    }
   ],
   "source": [
    "13/52.0"
   ]
  },
  {
   "cell_type": "markdown",
   "metadata": {},
   "source": [
    "#### If you pull a random card from a deck of playing cards, what is the probability it is not a heart?"
   ]
  },
  {
   "cell_type": "code",
   "execution_count": 9,
   "metadata": {},
   "outputs": [
    {
     "data": {
      "text/plain": [
       "0.75"
      ]
     },
     "execution_count": 9,
     "metadata": {},
     "output_type": "execute_result"
    }
   ],
   "source": [
    "1-(13/52.0)"
   ]
  },
  {
   "cell_type": "markdown",
   "metadata": {},
   "source": [
    "## Test your Knowledge  \n",
    "\n",
    "\n",
    "\n"
   ]
  },
  {
   "cell_type": "markdown",
   "metadata": {},
   "source": [
    "## Independent Events\n",
    "\n",
    "Events A and B are independent events if the probability of Event B occurring is the same whether or not Event A occurs.\n",
    "\n",
    "Are the following independent events?\n",
    "\n",
    "* A fair coin is tossed two times. The two events are (1) first toss is a head and (2) second toss is a head.\n",
    "* You draw a card from a deck two times without replacement. The two events are (1) first draw is a heart and (2) second toss is a draw is a heart.\n"
   ]
  },
  {
   "cell_type": "markdown",
   "metadata": {},
   "source": [
    "## Probabilty of A or B \n",
    "\n",
    "The probability of either A or B occurring (or both) is\n",
    "\n",
    "$$\n",
    "P(A \\quad or \\quad B) = P(A) + P(B) - P(A \\quad and \\quad B) \n",
    "$$\n"
   ]
  },
  {
   "cell_type": "markdown",
   "metadata": {},
   "source": [
    "#### Suppose we draw one card from a standard deck. What is the probability that we get a Queen or a King?\n",
    "\n",
    "$$\n",
    "P(King \\quad or \\quad Queen) = P(King) + P(Queen) - P(King \\quad and \\quad Queen) \n",
    "$$"
   ]
  },
  {
   "cell_type": "code",
   "execution_count": 10,
   "metadata": {},
   "outputs": [
    {
     "data": {
      "text/plain": [
       "0.15384615384615385"
      ]
     },
     "execution_count": 10,
     "metadata": {},
     "output_type": "execute_result"
    }
   ],
   "source": [
    "4/52.0+4/52.0-0"
   ]
  },
  {
   "cell_type": "markdown",
   "metadata": {},
   "source": [
    "## Conditional Probability\n",
    "\n",
    "In probability theory, a [conditional probability](https://en.wikipedia.org/wiki/Conditional_probability) measures the probability of an event given that another event has occurred. That is,  \"the conditional probability of A given B.\"   \n",
    "\n",
    " the conditional probability of A given B is defined as the quotient of the probability of the joint of events A and B, and the probability of B:\n",
    " \n",
    "$$ \n",
    "P(A|B) = \\frac{P(A \\cap B)}{P(B)}\n",
    "$$\n",
    "\n",
    "This may be visualized using a Venn diagram. \n",
    "\n",
    "![P(A and B) Venn](http://nikbearbrown.com/YouTube/MachineLearning/M10/Conditional_Probability_Venn_Diagram.png)     \n",
    "*$P(A \\cap B)$*\n",
    "\n",
    "### Corollary of Conditional Probability is The Chain Rule\n",
    "\n",
    "If we multiply both sides by $P(B)$ then\n",
    "\n",
    "$$ \n",
    "P(A|B) = \\frac{P(A \\cap B)}{P(B)}\n",
    "$$\n",
    "\n",
    "becomes\n",
    "\n",
    "$$ \n",
    "P(A|B) P(B) = P(A \\cap B) \n",
    "$$\n",
    "\n",
    "\n",
    "If Events A and B are not independent, then\n",
    "\n",
    "$$\n",
    "P(A \\quad and \\quad B) = P(A) · P(B | A)\n",
    "$$\n",
    "\n",
    "## Statistical independence\n",
    "\n",
    "Events A and B are defined to be statistically independent if:\n",
    "\n",
    "$$\n",
    "\\begin{align}\n",
    "             P(A \\cap B) &= P(A) P(B) \\\\\n",
    "  \\Leftrightarrow P(A|B) &= P(A) \\\\\n",
    "  \\Leftrightarrow P(B|A) &= P(B)\n",
    "\\end{align}\n",
    "$$\n",
    "\n",
    "That is, the occurrence of A does not affect the probability of B, and vice versa\n",
    "\n",
    "\n",
    "Probabilty of A or B for independent events $P(A and B) is 0$:\n",
    "\n",
    "$$\n",
    "P(A \\quad or \\quad B) = P(A) + P(A) \n",
    "$$\n",
    "\n"
   ]
  },
  {
   "cell_type": "markdown",
   "metadata": {},
   "source": [
    "#### What is the probability that two cards drawn at random from a deck of playing cards will both be aces?"
   ]
  },
  {
   "cell_type": "code",
   "execution_count": 11,
   "metadata": {},
   "outputs": [
    {
     "data": {
      "text/plain": [
       "0.004524886877828055"
      ]
     },
     "execution_count": 11,
     "metadata": {},
     "output_type": "execute_result"
    }
   ],
   "source": [
    "(4/52.0)*(3/51.0) "
   ]
  },
  {
   "cell_type": "markdown",
   "metadata": {},
   "source": [
    "#### If you pull 2 cards out of a deck, what is the probability that both are hearts?\n",
    "\n",
    "If Events A and B are not independent, then\n",
    "\n",
    "$$\n",
    "P(A \\quad and \\quad B) = P(A) · P(B | A)\n",
    "$$\n",
    "\n",
    "$$\n",
    "P(Heart \\quad and \\quad Heart) = P(Heart) · P(Heart | Heart)\n",
    "$$"
   ]
  },
  {
   "cell_type": "code",
   "execution_count": 12,
   "metadata": {},
   "outputs": [
    {
     "data": {
      "text/plain": [
       "0.058823529411764705"
      ]
     },
     "execution_count": 12,
     "metadata": {},
     "output_type": "execute_result"
    }
   ],
   "source": [
    "(13/52.0)*(12/51.0)"
   ]
  },
  {
   "cell_type": "markdown",
   "metadata": {},
   "source": [
    "## Bayes Rule\n",
    "\n",
    "[Bayes' theorem](https://en.wikipedia.org/wiki/Bayes%27_theorem) (alternatively Bayes' law or Bayes' rule) describes the probability of an event, given prior events. That is, a conditional probability.\n",
    "\n",
    "$$\n",
    "P(A|B) = \\frac{P(A)\\, P(B | A)}{P(B)},\n",
    "$$\n",
    "\n",
    "where A and B are events.\n",
    "\n",
    "* P(A) and P(B) are the independent probabilities of A and B.  \n",
    "* P(A | B), a conditional probability, is the probability of observing event A given that B is true.  \n",
    "* P(B | A), is the probability of observing event B given that A is true.  \n",
    "\n",
    "\n",
    "## Bayesian inference\n",
    "\n",
    "[Bayesian inference](https://en.wikipedia.org/wiki/Bayesian_inference) is a method of statistical inference in which Bayes' theorem is used to update the probability for a hypothesis as evidence. Bayesian inference derives the posterior probability as a consequence of two antecedents, a prior probability and a \"likelihood function\" derived from a statistical model for the observed data. \n",
    "\n",
    "Bayesian inference computes the posterior probability according to Bayes' theorem:\n",
    "\n",
    "$$\n",
    "P(H\\mid E) = \\frac{P(E\\mid H) \\cdot P(H)}{P(E)}\n",
    "$$\n",
    "\n",
    "where,    \n",
    "\n",
    "$P(H\\mid E)$ the posterior probability, denotes a conditional probability of $\\textstyle H$ (the hypothesis) whose probability may be affected by the evidence $\\textstyle E$.   \n",
    "\n",
    "$\\textstyle P(H)$, the prior probability, is an estimate of the probability that a hypothesis is true, before observing the current evidence.   \n",
    "\n",
    "$\\textstyle P(E\\mid H)$ is the probability of observing $\\textstyle E$ given $\\textstyle H$. It indicates the compatibility of the evidence with the given hypothesis.   \n",
    "\n",
    "$\\textstyle P(E)$ is sometimes termed the marginal likelihood or \"model evidence\". This factor is the same for all possible hypotheses being considered. \n",
    "\n",
    "Note that Bayes' rule can also be written as follows:\n",
    "\n",
    "$$\n",
    "P(H\\mid E) = \\frac{P(E\\mid H)}{P(E)} \\cdot P(H)\n",
    "$$\n",
    "\n",
    "where the factor $\\textstyle \\frac{P(E\\mid H)}{P(E)}$ represents the impact of $E$ on the probability of $H$.   \n"
   ]
  },
  {
   "cell_type": "markdown",
   "metadata": {},
   "source": [
    "# Bayesian probability example\n",
    "\n",
    "Suppose a certain disease has an incidence rate of 0.01% (that is, it afflicts 0.01% of the population).  A test has been devised to detect this disease.  The test does not produce false negatives (that is, anyone who has the disease will test positive for it), but the false positive rate is 1% (that is, about 1% of people who take the test will test positive, even though they do not have the disease).  Suppose a randomly selected person takes the test and tests positive.  What is the probability that this person actually has the disease?\n",
    "\n",
    "Bayes theorem would ask the question, what is the probability of disease given a postive result, or $P(disease\\mid positive))$. \n",
    "\n",
    "What do we know?  \n",
    "\n",
    "$P(positive\\mid disease)=1$ (i.e. The test does not produce false negatives.)     \n",
    "$P(disease)=0.0001$ (i.e.  1/10,000 have the disease)      \n",
    "$P(positive\\mid no disease)=0.01$ (i.e. he false positive rate is 1%. This means 1% of people who take the test will test positive, even though they do not have the disease)      \n",
    "\n",
    "Bayes’ Theorem\n",
    "\n",
    "$$\n",
    "P(A|B) = \\frac{P(A)\\, P(B | A)}{P(B)},\n",
    "$$\n",
    "\n",
    "which can be rewritten as  \n",
    "\n",
    "$$\n",
    "P(A|B) = \\frac{P(A)\\, P(B | A)}{P(A)P(B|A)+P(\\bar{A})P(B|\\bar{A})},\n",
    "$$\n",
    "\n",
    "which in our example is\n",
    "$$\n",
    "P(disease|positive) = \\frac{P(disease)\\, P(positive | disease)}{P(disease)P(positive|disease)+P(no \\quad  disease)P(positive|no \\quad disease)},\n",
    "$$\n",
    "\n",
    "plugging in the numbers gives\n",
    "\n",
    "$$\n",
    "P(disease|positive)= \\frac{(0.0001)\\, (1)}{(0.0001)(1)+(0.9999)(0.01)}, \\approx 0.01\n",
    "$$\n",
    "\n",
    "So even though the test is 99% accurate, of all people who test positive, over 99% do not have the disease.  \n"
   ]
  },
  {
   "cell_type": "code",
   "execution_count": 13,
   "metadata": {},
   "outputs": [
    {
     "data": {
      "text/plain": [
       "0.009901970492127933"
      ]
     },
     "execution_count": 13,
     "metadata": {},
     "output_type": "execute_result"
    }
   ],
   "source": [
    "(0.0001*1)/((0.0001*1)+(0.9999*0.01))"
   ]
  },
  {
   "cell_type": "markdown",
   "metadata": {},
   "source": [
    "## Bayesians versus Frequentists\n",
    "\n",
    " \n",
    "[Frequentist inference](https://en.wikipedia.org/wiki/Frequentist_inference) or frequentist statistics is a scheme for making statistical inference based on the frequency or proportion of the data. This effectively requires that conclusions should only be drawn with a set of repetitions.    \n",
    "\n",
    "Frequentists will only generate statistical inference given a large enough set of repetitions. In contrast, a Bayesian approach to inference does allow probabilities to be associated with unknown parameters.   \n",
    "\n",
    "![Count Von Count](http://nikbearbrown.com/YouTube/MachineLearning/M10/Count_von_Count_kneeling.png)   \n",
    "*Count Von Count*   \n",
    "- from https://en.wikipedia.org/wiki/File:Count_von_Count_kneeling.png  \n",
    "\n",
    "While \"probabilities\" are involved in both approaches to inference, frequentist probability is essentially equivelent to counting. The Bayesian approach allows these estimates of probabilities to be based upon counting but also allows for subjective estimates (i.e. guesses) of prior probabilities.\n",
    "\n",
    "Bayesian probability, also called evidential probability, or subjectivist probability, can be assigned to any statement whatsoever, even when no random process is involved. Evidential probabilities are considered to be degrees of belief, and a Bayesian can even use an un-informative prior (also called a non-informative or Jeffreys prior).\n",
    "\n",
    "In Bayesian probability, the [Jeffreys prior](https://en.wikipedia.org/wiki/Jeffreys_prior), named after Sir Harold Jeffreys, is a non-informative (objective) prior distribution for a parameter space.  The crucial idea behind the Jeffreys prior is the Jeffreys posterior. This posterior aims to reflect as best as possible the information about the parameters brought by the data, in effect  \"representing ignorance\" about the prior. This is sometimes called the \"principle of indifference.\" Jeffreys prior is proportional to the square root of the determinant of the Fisher information:\n",
    "\n",
    "$$\n",
    "p\\left(\\vec\\theta\\right) \\propto \\sqrt{\\det \\mathcal{I}\\left(\\vec\\theta\\right)}.\\,\n",
    "$$\n",
    "\n",
    "It has the key feature that it is invariant under reparameterization of the parameter vector $\\vec\\theta.$  \n",
    "\n",
    "At its essence the Bayesian can be vague or subjective about an inital guess at a prior probability. and the the posterior probability be updated data point by data point. A Bayesian defines a \"probability\" in the same way that many non-statisticians do - namely an indication of the plausibility or belief of a proposition.\n",
    "\n",
    "A Frequentist is someone that believes probabilities represent long run frequencies with which events occur; he or she will have a model (e.g. Guassian, uniform, etc.) of how the sample popluation was generated. The observed counts are considered a random sample the estimate the true parameters of the model.   \n",
    "\n",
    "It is important to note that most Frequentist methods have a Bayesian equivalent (that is, they give the same results) when there are enough repeated trails. They converge the the same result given enough data.  \n",
    "\n"
   ]
  },
  {
   "cell_type": "markdown",
   "metadata": {},
   "source": [
    "## Probability distributions\n",
    "\n",
    "* We use probability distributions because they model data in real world.\n",
    "* They allow us to calculate what to expect and therefore understand what is unusual.\n",
    "* They also provide insight in to the process in which real world data may have been generated.\n",
    "* Many machine learning algorithms have assumptions based on certain probability distributions.\n",
    "\n",
    "_Cumulative distribution function_\n",
    "\n",
    "A probability distribution Pr on the real line is determined by the probability of a scalar random variable X being in a half-open interval (-$\\infty$, x], the probability distribution is completely characterized by its cumulative distribution function:\n",
    "\n",
    "$$\n",
    " F(x) = \\Pr[X \\leq x] \\quad \\forall \\quad x \\in R .\n",
    "$$\n",
    "\n",
    "\n",
    "## Uniform Distribution\n",
    "\n",
    "$$\n",
    "X \\equiv U[a,b]\n",
    "$$\n",
    "\n",
    "$$\n",
    " f(x) = \\frac{1}{b-a} \\quad for \\quad a \\lt x \\lt b\n",
    "$$\n",
    "\n",
    "$$\n",
    " f(x) = 0 \\quad for \\quad a \\leq x  \\quad or  \\quad \\geq b\n",
    "$$\n",
    "\n",
    "$$\n",
    " F(x) = \\frac{x-a}{b-a} \\quad for \\quad a \\leq x \\lt b\n",
    "$$\n",
    "\n",
    "$$\n",
    "F(x) = 0 \\quad for \\quad x  \\lt a  \\quad \n",
    " F(x) = 1 \\quad for \\quad x  \\geq b\n",
    "$$\n",
    "\n",
    "![image Uniform Distribution\"](http://54.198.163.24/YouTube/MachineLearning/M01/Uniform_Distribution_A.png)\n",
    "\n",
    "_Continuous Uniform Distribution_\n",
    "\n",
    "In probability theory and statistics, the continuous uniform distribution or rectangular distribution is a family of symmetric probability distributions such that for each member of the family, all intervals of the same length on the distribution's support are equally probable.\n",
    "\n",
    "- from [Uniform distribution (continuous  Wikipedia)](https://en.wikipedia.org/wiki/Uniform_distribution_(continuous))\n",
    "    \n",
    "\n",
    "![image continuous  Uniform Distribution\"](https://upload.wikimedia.org/wikipedia/commons/thumb/9/96/Uniform_Distribution_PDF_SVG.svg/375px-Uniform_Distribution_PDF_SVG.svg.png)\n",
    "![image continuous  Uniform Distribution\"](https://upload.wikimedia.org/wikipedia/commons/thumb/6/63/Uniform_cdf.svg/375px-Uniform_cdf.svg.png)\n",
    "\n",
    "_Discrete Uniform Distribution_\n",
    "\n",
    "In probability theory and statistics, the discrete uniform distribution is a symmetric probability distribution whereby a finite number of values are equally likely to be observed; every one of n values has equal probability 1/n. Another way of saying \"discrete uniform distribution\" would be \"a known, finite number of outcomes equally likely to happen\".\n",
    "\n",
    "- from [Uniform distribution (discrete)  Wikipedia)](https://en.wikipedia.org/wiki/Uniform_distribution_(discrete))\n",
    "    \n",
    "\n",
    "![image Uniform distribution (discrete) \"](https://upload.wikimedia.org/wikipedia/commons/thumb/1/1f/Uniform_discrete_pmf_svg.svg/488px-Uniform_discrete_pmf_svg.svg.png)\n",
    "![imageUniform distribution (discrete) \"](https://upload.wikimedia.org/wikipedia/commons/thumb/7/77/Dis_Uniform_distribution_CDF.svg/488px-Dis_Uniform_distribution_CDF.svg.png)\n"
   ]
  },
  {
   "cell_type": "code",
   "execution_count": 14,
   "metadata": {},
   "outputs": [
    {
     "data": {
      "image/png": "[encoded data removed]",
      "text/plain": [
       "<Figure size 720x360 with 1 Axes>"
      ]
     },
     "metadata": {},
     "output_type": "display_data"
    }
   ],
   "source": [
    "#------------------------------------------------------------\n",
    "# Define the distribution parameters to be plotted\n",
    "W_values = [1.0, 3.0, 5.0]\n",
    "linestyles = ['-', '--', ':']\n",
    "mu = 0\n",
    "x = np.linspace(-4, 4, 1000)\n",
    "\n",
    "#------------------------------------------------------------\n",
    "# plot the distributions\n",
    "fig, ax = plt.subplots(figsize=(10, 5))\n",
    "\n",
    "for W, ls in zip(W_values, linestyles):\n",
    "    left = mu - 0.5 * W\n",
    "    dist = stats.uniform(left, W)\n",
    "\n",
    "    plt.plot(x, dist.pdf(x), ls=ls, c='black',\n",
    "             label=r'$\\mu=%i,\\ W=%i$' % (mu, W))\n",
    "\n",
    "plt.xlim(-4, 4)\n",
    "plt.ylim(0, 1.2)\n",
    "\n",
    "plt.xlabel('$x$')\n",
    "plt.ylabel(r'$p(x|\\mu, W)$')\n",
    "plt.title('Uniform Distribution')\n",
    "\n",
    "plt.legend()\n",
    "plt.show()\n",
    "\n",
    "# Adapted from http://www.astroml.org/book_figures/chapter3/fig_uniform_distribution.html\n"
   ]
  },
  {
   "cell_type": "markdown",
   "metadata": {},
   "source": [
    "## Normal Distribution\n",
    "\n",
    "In probability theory, the normal (or Gaussian) distribution is a very common continuous probability distribution. The normal distribution is remarkably useful because of the central limit theorem. In its most general form, under mild conditions, it states that averages of random variables independently drawn from independent distributions are normally distributed. Physical quantities that are expected to be the sum of many independent processes (such as measurement errors) often have distributions that are nearly normal. \n",
    "\n",
    "- from [Normal Distribution - Wikipedia)](https://en.wikipedia.org/wiki/Normal_distribution)\n",
    "   \n",
    "\n",
    "$$\n",
    "X \\sim \\quad N(\\mu, \\sigma^2)\n",
    "$$\n",
    "\n",
    "\n",
    "$$\n",
    " f(x) = \\frac{1}{\\sigma \\sqrt {2\\pi }} e^{-\\frac{( x - \\mu)^2}{2\\sigma^2}} \\quad \n",
    "$$\n",
    "\n",
    "\n",
    "![image Normal Distribution\"](http://54.198.163.24/YouTube/MachineLearning/M01/Normal_Distribution_A.png)\n",
    "\n",
    "\n",
    "![image Normal Distribution  \"](https://upload.wikimedia.org/wikipedia/commons/thumb/7/74/Normal_Distribution_PDF.svg/525px-Normal_Distribution_PDF.svg.png)\n",
    "\n",
    "Normal cumulative distribution function\n",
    "![image Normal cumulative distribution function \"](https://upload.wikimedia.org/wikipedia/commons/thumb/c/ca/Normal_Distribution_CDF.svg/525px-Normal_Distribution_CDF.svg.png)\n",
    "\n",
    "\n",
    "_Properties of normal distribution_\n",
    "\n",
    "- symmetrical, unimodal, and bell-shaped\n",
    "- on average, the error component will equal zero, the error above and below the mean will cancel out\n",
    "- Z-Score is a statistical measurement is (above/below) the mean of the data\n",
    "- important characteristics about z scores:\n",
    "  1. mean of z scores is 0\n",
    "  2. standard deviation of a standardized variable is always 1\n",
    "  3. the linear transformation does not change the _form_ of the distribution\n",
    "\n",
    "\n",
    "The normal (or Gaussian) distribution was discovered in 1733 by Abraham de Moivre as an approximation to the binomial distribution when the number of trails is large.    \n",
    "\n",
    "![image Abraham de Moivre \"](https://upload.wikimedia.org/wikipedia/commons/thumb/1/1b/Abraham_de_moivre.jpg/300px-Abraham_de_moivre.jpg)\n",
    "\n",
    "- from [Abraham de Moivre - Wikipedia)](https://en.wikipedia.org/wiki/Abraham_de_Moivre)\n",
    "\n",
    "The Gaussian distribution was derived in 1809 by Carl Friedrich Gauss.    \n",
    "\n",
    "![image Carl Friedrich Gauss \"](https://upload.wikimedia.org/wikipedia/commons/thumb/9/9b/Carl_Friedrich_Gauss.jpg/330px-Carl_Friedrich_Gauss.jpg)\n",
    "\n",
    "- from [Carl Friedrich Gauss - Wikipedia)](https://en.wikipedia.org/wiki/Carl_Friedrich_Gauss)\n",
    "\n",
    "Importance lies in the Central Limit Theorem, which states that the sum of a large number of independent random variables (binomial, Poisson, etc.) will approximate a normal distribution\n",
    "\n",
    "\n",
    "## Central Limit Theorem\n",
    "\n",
    "In probability theory, the central limit theorem (CLT) states that, given certain conditions, the arithmetic mean of a sufficiently large number of iterates of independent random variables, each with a well-defined expected value and well-defined variance, will be approximately normally distributed, regardless of the underlying distribution. The central limit theorem has a number of variants. In its common form, the random variables must be identically distributed. \n",
    "\n",
    "- from [Central Limit Theorem - Wikipedia)](https://en.wikipedia.org/wiki/Central_limit_theorem)\n",
    "   \n",
    "\n",
    "The Central Limit Theorem tells us that when the sample size is large the average $\\bar{Y}$ of a random sample follows a normal distribution centered at the population average $\\mu_Y$ and with standard deviation equal to the population standard deviation $\\sigma_Y$, divided by the square root of the sample size $N$. \n",
    "\n",
    "This means that if we subtract a constant from a random variable, the mean of the new random variable shifts by that constant. If $X$ is a random variable with mean $\\mu$ and $a$ is a constant, the mean of $X - a$ is $\\mu-a$. \n",
    "\n",
    "This property also holds for the spread, if $X$ is a random variable with mean $\\mu$ and SD $\\sigma$, and $a$ is a constant, then the mean and SD of $aX$ are $a \\mu$ and $\\|a\\| \\sigma$ respectively.\n",
    "This implies that if we take many samples of size $N$ then the quantity \n",
    "\n",
    "$$\n",
    "\\frac{\\bar{Y} - \\mu}{\\sigma_Y/\\sqrt{N}}\n",
    "$$\n",
    "\n",
    "is approximated with a normal distribution centered at 0 and with standard deviation 1."
   ]
  },
  {
   "cell_type": "markdown",
   "metadata": {},
   "source": [
    "### Central Limit Theorem in python"
   ]
  },
  {
   "cell_type": "code",
   "execution_count": 15,
   "metadata": {},
   "outputs": [
    {
     "data": {
      "text/plain": [
       "[<matplotlib.lines.Line2D at 0x11bee7630>]"
      ]
     },
     "execution_count": 15,
     "metadata": {},
     "output_type": "execute_result"
    },
    {
     "data": {
      "image/png": "[encoded data removed]",
      "text/plain": [
       "<Figure size 1080x648 with 1 Axes>"
      ]
     },
     "metadata": {},
     "output_type": "display_data"
    }
   ],
   "source": [
    "x = np.arange(0, 7, 0.1)\n",
    "dist = stats.uniform(1,5)\n",
    "plt.plot(x, dist.pdf(x), lw=2)"
   ]
  },
  {
   "cell_type": "code",
   "execution_count": 16,
   "metadata": {},
   "outputs": [
    {
     "name": "stdout",
     "output_type": "stream",
     "text": [
      "Mean: 3.5\n",
      "Std Dev: 1.44337567297\n"
     ]
    }
   ],
   "source": [
    "print (\"Mean:\", dist.mean())\n",
    "print (\"Std Dev:\", dist.std())"
   ]
  },
  {
   "cell_type": "markdown",
   "metadata": {},
   "source": []
  },
  {
   "cell_type": "code",
   "execution_count": 17,
   "metadata": {
    "scrolled": true
   },
   "outputs": [
    {
     "name": "stdout",
     "output_type": "stream",
     "text": [
      "Sample Mean: 3.78490333076\n",
      "Sample Std Dev: 1.31085135473\n"
     ]
    },
    {
     "data": {
      "image/png": "[encoded data removed]",
      "text/plain": [
       "<Figure size 1080x648 with 1 Axes>"
      ]
     },
     "metadata": {},
     "output_type": "display_data"
    }
   ],
   "source": [
    "# Take a random sample of size 33\n",
    "sample = dist.rvs(33)\n",
    "print (\"Sample Mean:\", np.mean(sample))\n",
    "print (\"Sample Std Dev:\", np.std(sample))\n",
    "plt.hist(sample, bins=10)\n",
    "plt.show()"
   ]
  },
  {
   "cell_type": "code",
   "execution_count": 18,
   "metadata": {},
   "outputs": [
    {
     "name": "stdout",
     "output_type": "stream",
     "text": [
      "Sample Mean: 3.51359027245\n",
      "Sample Std Dev: 1.43031782259\n"
     ]
    },
    {
     "data": {
      "image/png": "[encoded data removed]",
      "text/plain": [
       "<Figure size 1080x648 with 1 Axes>"
      ]
     },
     "metadata": {},
     "output_type": "display_data"
    }
   ],
   "source": [
    "# Take a random sample of size 3333\n",
    "sample = dist.rvs(3333)\n",
    "print (\"Sample Mean:\", np.mean(sample))\n",
    "print (\"Sample Std Dev:\", np.std(sample))\n",
    "plt.hist(sample, bins=10)\n",
    "plt.show()"
   ]
  },
  {
   "cell_type": "code",
   "execution_count": 19,
   "metadata": {},
   "outputs": [
    {
     "data": {
      "image/png": "[encoded data removed]",
      "text/plain": [
       "<Figure size 1080x648 with 1 Axes>"
      ]
     },
     "metadata": {},
     "output_type": "display_data"
    },
    {
     "name": "stdout",
     "output_type": "stream",
     "text": [
      "Mean of Means: 3.55955124256\n",
      "SD of Means: 0.2869021231\n"
     ]
    }
   ],
   "source": [
    "means = []\n",
    "devs = []\n",
    "samples = 10\n",
    "for i in range(samples):\n",
    "    sample = dist.rvs(33)\n",
    "    means.append(np.mean(sample))\n",
    "    devs.append(np.std(sample))\n",
    "plt.hist(means, bins=20)\n",
    "plt.title(\"Sample Means\")\n",
    "plt.show()\n",
    "\n",
    "print (\"Mean of Means:\", np.mean(means))\n",
    "print (\"SD of Means:\", np.std(means))"
   ]
  },
  {
   "cell_type": "code",
   "execution_count": 20,
   "metadata": {},
   "outputs": [
    {
     "data": {
      "image/png": "[encoded data removed]",
      "text/plain": [
       "<Figure size 1080x648 with 1 Axes>"
      ]
     },
     "metadata": {},
     "output_type": "display_data"
    },
    {
     "name": "stdout",
     "output_type": "stream",
     "text": [
      "Mean of Means: 3.47916044381\n",
      "SD of Means: 0.255441986546\n"
     ]
    }
   ],
   "source": [
    "means = []\n",
    "devs = []\n",
    "samples = 100\n",
    "for i in range(samples):\n",
    "    sample = dist.rvs(33)\n",
    "    means.append(np.mean(sample))\n",
    "    devs.append(np.std(sample))\n",
    "plt.hist(means, bins=20)\n",
    "plt.title(\"Sample Means\")\n",
    "plt.show()\n",
    "\n",
    "print (\"Mean of Means:\", np.mean(means))\n",
    "print (\"SD of Means:\", np.std(means))"
   ]
  },
  {
   "cell_type": "code",
   "execution_count": 21,
   "metadata": {},
   "outputs": [
    {
     "data": {
      "image/png": "[encoded data removed]",
      "text/plain": [
       "<Figure size 1080x648 with 1 Axes>"
      ]
     },
     "metadata": {},
     "output_type": "display_data"
    },
    {
     "name": "stdout",
     "output_type": "stream",
     "text": [
      "Mean of Means: 3.49091572007\n",
      "SD of Means: 0.254641482767\n"
     ]
    }
   ],
   "source": [
    "means = []\n",
    "devs = []\n",
    "samples = 1000\n",
    "for i in range(samples):\n",
    "    sample = dist.rvs(33)\n",
    "    means.append(np.mean(sample))\n",
    "    devs.append(np.std(sample))\n",
    "plt.hist(means, bins=20)\n",
    "plt.title(\"Sample Means\")\n",
    "plt.show()\n",
    "\n",
    "print (\"Mean of Means:\", np.mean(means))\n",
    "print (\"SD of Means:\", np.std(means))"
   ]
  },
  {
   "cell_type": "code",
   "execution_count": 22,
   "metadata": {},
   "outputs": [
    {
     "data": {
      "image/png": "[encoded data removed]",
      "text/plain": [
       "<Figure size 1080x648 with 1 Axes>"
      ]
     },
     "metadata": {},
     "output_type": "display_data"
    },
    {
     "name": "stdout",
     "output_type": "stream",
     "text": [
      "Mean of Means: 3.49425992592\n",
      "SD of Means: 0.253100083972\n"
     ]
    }
   ],
   "source": [
    "means = []\n",
    "devs = []\n",
    "samples = 10000\n",
    "for i in range(samples):\n",
    "    sample = dist.rvs(33)\n",
    "    means.append(np.mean(sample))\n",
    "    devs.append(np.std(sample))\n",
    "plt.hist(means, bins=20)\n",
    "plt.title(\"Sample Means\")\n",
    "plt.show()\n",
    "\n",
    "print (\"Mean of Means:\", np.mean(means))\n",
    "print (\"SD of Means:\", np.std(means))"
   ]
  },
  {
   "cell_type": "code",
   "execution_count": 23,
   "metadata": {},
   "outputs": [
    {
     "name": "stderr",
     "output_type": "stream",
     "text": [
      "/Users/bear/anaconda/lib/python3.6/site-packages/matplotlib/axes/_axes.py:6462: UserWarning: The 'normed' kwarg is deprecated, and has been replaced by the 'density' kwarg.\n",
      "  warnings.warn(\"The 'normed' kwarg is deprecated, and has been \"\n"
     ]
    },
    {
     "data": {
      "image/png": "[encoded data removed]",
      "text/plain": [
       "<Figure size 1080x648 with 1 Axes>"
      ]
     },
     "metadata": {},
     "output_type": "display_data"
    }
   ],
   "source": [
    "sns.distplot(dist.rvs(1000))\n",
    "sns.plt.show()\n"
   ]
  },
  {
   "cell_type": "code",
   "execution_count": 24,
   "metadata": {},
   "outputs": [
    {
     "name": "stderr",
     "output_type": "stream",
     "text": [
      "/Users/bear/anaconda/lib/python3.6/site-packages/matplotlib/axes/_axes.py:6462: UserWarning: The 'normed' kwarg is deprecated, and has been replaced by the 'density' kwarg.\n",
      "  warnings.warn(\"The 'normed' kwarg is deprecated, and has been \"\n"
     ]
    },
    {
     "data": {
      "image/png": "[encoded data removed]",
      "text/plain": [
       "<Figure size 1080x648 with 1 Axes>"
      ]
     },
     "metadata": {},
     "output_type": "display_data"
    }
   ],
   "source": [
    "sns.distplot(means)\n",
    "sns.plt.show()"
   ]
  },
  {
   "cell_type": "markdown",
   "metadata": {},
   "source": []
  },
  {
   "cell_type": "markdown",
   "metadata": {},
   "source": []
  },
  {
   "cell_type": "markdown",
   "metadata": {},
   "source": [
    "## Empirical distribution functions (ECDF)\n",
    "\n",
    "In statistics, an [empirical distribution function](https://en.wikipedia.org/wiki/Empirical_distribution_function) is the distribution function associated with the empirical measure of a sample. This cumulative distribution function is a step function that jumps up by 1/n at each of the n data points. Its value at any specified value of the measured variable is the fraction of observations of the measured variable that are less than or equal to the specified value.\n",
    "The empirical distribution function is an estimate of the cumulative distribution function that generated the points in the sample. It converges with probability 1 to that underlying distribution, according to the Glivenko–Cantelli theorem. A number of results exist to quantify the rate of convergence of the empirical distribution function to the underlying cumulative distribution function.\n",
    "\n",
    "![ECDF](http://nikbearbrown.com/YouTube/MachineLearning/IMG/Empirical_CDF.png)"
   ]
  },
  {
   "cell_type": "markdown",
   "metadata": {},
   "source": []
  },
  {
   "cell_type": "code",
   "execution_count": 25,
   "metadata": {},
   "outputs": [
    {
     "data": {
      "text/plain": [
       "[<matplotlib.lines.Line2D at 0x11cb8da20>]"
      ]
     },
     "execution_count": 25,
     "metadata": {},
     "output_type": "execute_result"
    },
    {
     "data": {
      "image/png": "[encoded data removed]",
      "text/plain": [
       "<Figure size 1080x648 with 1 Axes>"
      ]
     },
     "metadata": {},
     "output_type": "display_data"
    }
   ],
   "source": [
    "from statsmodels.distributions.empirical_distribution import ECDF\n",
    "\n",
    "sample = np.random.uniform(0, 1, 10000)\n",
    "ecdf = ECDF(sample)\n",
    "\n",
    "x = np.linspace(min(sample), max(sample))\n",
    "y = ecdf(x)\n",
    "plt.step(x, y)"
   ]
  },
  {
   "cell_type": "code",
   "execution_count": 26,
   "metadata": {},
   "outputs": [
    {
     "data": {
      "text/plain": [
       "[<matplotlib.lines.Line2D at 0x11c6e4908>]"
      ]
     },
     "execution_count": 26,
     "metadata": {},
     "output_type": "execute_result"
    },
    {
     "data": {
      "image/png": "[encoded data removed]",
      "text/plain": [
       "<Figure size 1080x648 with 1 Axes>"
      ]
     },
     "metadata": {},
     "output_type": "display_data"
    }
   ],
   "source": [
    "mu, sigma = 5, 3 # mean and standard deviation\n",
    "sample = np.random.normal(mu, sigma, 10000)\n",
    "ecdf = ECDF(sample)\n",
    "\n",
    "x = np.linspace(min(sample), max(sample))\n",
    "y = ecdf(x)\n",
    "plt.step(x, y)"
   ]
  },
  {
   "cell_type": "markdown",
   "metadata": {},
   "source": [
    "## Covariance\n",
    "\n",
    "[Covariance](https://en.wikipedia.org/wiki/Covariance) (How two variables depend on each other)  is a measure of the joint variability of two random variables. If the greater values of one variable mainly correspond with the greater values of the other variable, and the same holds for the lesser values, i.e., the variables tend to show similar behavior, the covariance is positive. In the opposite case, when the greater values of one variable mainly correspond to the lesser values of the other, i.e., the variables tend to show opposite behavior, the covariance is negative. The sign of the covariance therefore shows the tendency in the linear relationship between the variables. The magnitude of the covariance is not easy to interpret. The normalized version of the covariance, the [correlation coefficient](https://en.wikipedia.org/wiki/Pearson_correlation_coefficient), however, shows by its magnitude the strength of the linear relation.\n",
    "\n",
    "The covariance between two jointly distributed real-valued random variable's $X$ and $Y$ with finite second moment's is defined as  the expected product of their deviations from their individual expected values:\n",
    "\n",
    "$$\n",
    "\\operatorname{cov}(X,Y) = \\operatorname{E}{\\big[(X - \\operatorname{E}[X])(Y - \\operatorname{E}[Y])\\big]}\n",
    "$$"
   ]
  },
  {
   "cell_type": "markdown",
   "metadata": {},
   "source": [
    "## Hypothesis testing\n",
    "\n",
    "A hypothesis is proposed for the statistical relationship between the two data sets, and this is compared as an alternative to an idealized null hypothesis that proposes no relationship between two data sets. The comparison is deemed statistically significant if the relationship between the data sets would be an unlikely realization of the null hypothesis according to a threshold probability—the significance level. Hypothesis tests are used in determining what outcomes of a study would lead to a rejection of the null hypothesis for a pre-specified level of significance. \n",
    "\n",
    "[Hypothesis tests](https://en.wikipedia.org/wiki/Statistical_hypothesis_testing) assume the thing you want to disprove, and then to look for evidence that the assumption is wrong. In this case, we assume that there is no difference between $\\bar{x_1}$ and $\\bar{x_2}$ (i.e. the mean of one distribution versus another) This is called the *null hypothesis* and is stated as\n",
    "\n",
    "$$H_0: \\bar{x_1} = \\bar{x_2}$$\n",
    "\n",
    "If $\\bar{x_1}$ is very different from $\\bar{x_2}$ we conclude that the null hypothesis is incorrect and that the evidence suggests there really is a difference between $\\bar{x_1}$ and $\\bar{x_2}$.\n",
    "\n",
    "There are many hypothesis tests that can be used to test whether there is a difference between $\\bar{x_1}$ and $\\bar{x_2}$:\n",
    "\n",
    "* Student’s T-Tests\n",
    "* One-Sample T-Test\n",
    "* Two-Sample T-Test\n",
    "* Paired T-Test\n",
    "* Wilcoxon Rank-Sum Test\n",
    "* Analysis of Variance (ANOVA)\n",
    "* Kruskal-Wallis Test\n",
    "\n",
    "We will discuss these more in the module on hypothesis testing.\n",
    "\n",
    "## P-value\n",
    "\n",
    "To determine how big the difference between  $\\bar{x_1}$ and  $\\bar{x_2}$ must be before we would reject the null hypothesis, we calculate the probability of obtaining a value of $\\bar{x_2}$ as large as we have calculated if the null hypothesis were true. This probability is known as the *P-value*.\n",
    "\n",
    "In statistics, the p-value is a function of the observed sample results (a statistic) that is used for testing a statistical hypothesis. Before the test is performed, a threshold value is chosen, called the significance level of the test, traditionally 5% or 1% and denoted as $\\alpha$.  \n",
    "\n",
    "If the p-value is equal to or smaller than the significance level ($\\alpha$), it suggests that the observed data are inconsistent with the assumption that the null hypothesis is true and thus that hypothesis must be rejected (but this does not automatically mean the alternative hypothesis can be accepted as true). When the p-value is calculated correctly, such a test is guaranteed to control the Type I error rate to be no greater than $\\alpha$.\n",
    "\n",
    "from [P-value](https://en.wikipedia.org/wiki/P-value)\n",
    "\n",
    "A is **p-value** is the probability of observing a test statistic equally or more extreme than the one you observed, assuming the hypothesis you are testing is true.\n",
    "    \n",
    "\n",
    "## Confidence intervals\n",
    "\n",
    "In statistics, a confidence interval (CI) is a type of interval estimate of a population parameter. It provides an interval estimate for lower or upper confidence bounds. For $\\beta_1$, usually referred to as a *confidence interval* and is typically +/-0.5% (a 99% confidence interval),+/-1% (a 98% confidence interval),+/-2.5% (a 95% confidence interval) or +/-5% (a 90% confidence interval). The lower and upper confidence bounds need not be equal, and they can be any number such that the confidence interval not exceed 100%.\n"
   ]
  },
  {
   "cell_type": "markdown",
   "metadata": {},
   "source": [
    "## The t-distribution\n",
    "\n",
    "In probability and statistics, Student's t-distribution (or simply the t-distribution) is any member of a family of continuous probability distributions that arises when estimating the mean of a normally distributed population in situations where the sample size is small and population standard deviation is unknown. Whereas a normal distribution describes a full population, t-distributions describe samples drawn from a full population; accordingly, the t-distribution for each sample size is different, and the larger the sample, the more the distribution resembles a normal distribution.\n",
    "The t-distribution plays a role in a number of widely used statistical analyses, including the Student's t-test for assessing the statistical significance of the difference between two sample means, the construction of confidence intervals for the difference between two population means, and in linear regression analysis. The Student's t-distribution also arises in the Bayesian analysis of data from a normal family.\n",
    "\n",
    "- from [The t-distribution - Wikipedia)](https://en.wikipedia.org/wiki/Student%27s_t-distribution)\n",
    "\n",
    "When the CLT does not apply (i.e. as the number of samples is large), there is another option that does not rely on large samples When a the original population from which a random variable, say $Y$, is sampled is normally distributed with mean 0 then we can calculate the distribution of \n",
    "\n",
    "\n",
    "number of variants. In its common form, the random variables must be identically distributed. \n",
    "\n",
    "\n",
    "\n",
    "$$\n",
    "\\sqrt{N} \\frac{\\bar{Y}}{s_Y}\n",
    "$$\n",
    "\n",
    "\n",
    "![image Student's t-distribution \"](https://upload.wikimedia.org/wikipedia/commons/thumb/4/41/Student_t_pdf.svg/488px-Student_t_pdf.svg.png)\n",
    "\n",
    "Normal cumulative distribution function\n",
    "![image Normal cumulative Student's t-distribution \"](https://upload.wikimedia.org/wikipedia/commons/thumb/e/e7/Student_t_cdf.svg/488px-Student_t_cdf.svg.png)\n"
   ]
  },
  {
   "cell_type": "markdown",
   "metadata": {},
   "source": [
    "## Which of distributions below are significantly different?"
   ]
  },
  {
   "cell_type": "code",
   "execution_count": 27,
   "metadata": {},
   "outputs": [
    {
     "data": {
      "image/png": "[encoded data removed]",
      "text/plain": [
       "<Figure size 1080x648 with 1 Axes>"
      ]
     },
     "metadata": {},
     "output_type": "display_data"
    }
   ],
   "source": [
    "# Plot two normal distributions\n",
    "domain = np.arange(-22, 33, 0.1)\n",
    "values = stats.norm(3.3, 5.5).pdf(domain)\n",
    "plt.plot(domain, values, color='r', linewidth=2)\n",
    "plt.fill_between(domain, 0, values, color='#ffb6c1', alpha=0.3)\n",
    "values = stats.norm(4.4, 6.6).pdf(domain)\n",
    "plt.plot(domain, values, color='b', linewidth=2)\n",
    "plt.fill_between(domain, 0, values, color='#89cff0', alpha=0.3)\n",
    "plt.ylabel(\"Probability\")\n",
    "plt.title(\"Normal Distributions\")\n",
    "plt.show()"
   ]
  },
  {
   "cell_type": "code",
   "execution_count": 28,
   "metadata": {},
   "outputs": [
    {
     "data": {
      "image/png": "[encoded data removed]",
      "text/plain": [
       "<Figure size 1080x648 with 1 Axes>"
      ]
     },
     "metadata": {},
     "output_type": "display_data"
    }
   ],
   "source": [
    "# Plot two normal distributions\n",
    "domain = np.arange(1, 15, 0.1)\n",
    "values = stats.norm(5.5, 1.1).pdf(domain)\n",
    "plt.plot(domain, values, color='r', linewidth=2)\n",
    "plt.fill_between(domain, 0, values, color='#ffb6c1', alpha=0.3)\n",
    "values = stats.norm(9.9, 1.1).pdf(domain)\n",
    "plt.plot(domain, values, color='b', linewidth=2)\n",
    "plt.fill_between(domain, 0, values, color='#89cff0', alpha=0.3)\n",
    "plt.ylabel(\"Probability\")\n",
    "plt.title(\"Normal Distributions\")\n",
    "plt.show()"
   ]
  },
  {
   "cell_type": "markdown",
   "metadata": {},
   "source": [
    "## Statistical hypothesis tests\n",
    "\n",
    "There are a few good statistical tests for hypothesis testing:\n",
    "* [ANOVA](https://en.wikipedia.org/wiki/Analysis_of_variance)\n",
    "* [Welch's t-test](https://en.wikipedia.org/wiki/Welch's_t-test)\n",
    "* [Mann-Whitney test](https://en.wikipedia.org/wiki/Mann%E2%80%93Whitney_U_test)\n",
    "\n",
    "Each test makes various assumptions:\n",
    "\n",
    "* ANOVA assumes normal distributions and equal variances in the two data sets\n",
    "* The Welch t-test assumes normal distributions but not necessarily equal variances, and accounts for small sample sizes better\n",
    "* The Mann-Whitney test assumes nothing about the distributions but requires at least 20 data points in each set, and produces a weaker p-value\n",
    "\n",
    "Typically you need to choose the most appropriate test. Tests that make more assumptions are more discriminating (stronger p-values) but can be misleading on data sets that don't satisfy the assumptions.\n",
    "\n",
    "\n",
    "All of these tests are available in the `scipy` library, a stats library for python:\n",
    "* [ANOVA](http://docs.scipy.org/doc/scipy-0.17.0/reference/generated/scipy.stats.f_oneway.html)\n",
    "* [Welch's t-test](http://docs.scipy.org/doc/scipy/reference/generated/scipy.stats.ttest_ind.html)\n",
    "* [Mann-Whitney](http://docs.scipy.org/doc/scipy-0.17.0/reference/generated/scipy.stats.mannwhitneyu.html)"
   ]
  },
  {
   "cell_type": "code",
   "execution_count": 29,
   "metadata": {},
   "outputs": [
    {
     "data": {
      "text/html": [
       "<div>\n",
       "<style>\n",
       "    .dataframe thead tr:only-child th {\n",
       "        text-align: right;\n",
       "    }\n",
       "\n",
       "    .dataframe thead th {\n",
       "        text-align: left;\n",
       "    }\n",
       "\n",
       "    .dataframe tbody tr th {\n",
       "        vertical-align: top;\n",
       "    }\n",
       "</style>\n",
       "<table border=\"1\" class=\"dataframe\">\n",
       "  <thead>\n",
       "    <tr style=\"text-align: right;\">\n",
       "      <th></th>\n",
       "      <th>A</th>\n",
       "      <th>B</th>\n",
       "      <th>C</th>\n",
       "      <th>D</th>\n",
       "      <th>E</th>\n",
       "    </tr>\n",
       "  </thead>\n",
       "  <tbody>\n",
       "    <tr>\n",
       "      <th>0</th>\n",
       "      <td>3.973439</td>\n",
       "      <td>-4.879164</td>\n",
       "      <td>5.977209</td>\n",
       "      <td>11.397922</td>\n",
       "      <td>9.911039</td>\n",
       "    </tr>\n",
       "    <tr>\n",
       "      <th>1</th>\n",
       "      <td>6.641642</td>\n",
       "      <td>3.853393</td>\n",
       "      <td>6.585544</td>\n",
       "      <td>9.090831</td>\n",
       "      <td>9.477328</td>\n",
       "    </tr>\n",
       "    <tr>\n",
       "      <th>2</th>\n",
       "      <td>8.634287</td>\n",
       "      <td>9.879087</td>\n",
       "      <td>6.747495</td>\n",
       "      <td>10.253049</td>\n",
       "      <td>9.347124</td>\n",
       "    </tr>\n",
       "    <tr>\n",
       "      <th>3</th>\n",
       "      <td>0.402413</td>\n",
       "      <td>6.646925</td>\n",
       "      <td>5.935905</td>\n",
       "      <td>9.962069</td>\n",
       "      <td>9.579811</td>\n",
       "    </tr>\n",
       "    <tr>\n",
       "      <th>4</th>\n",
       "      <td>11.521781</td>\n",
       "      <td>-1.908158</td>\n",
       "      <td>5.889565</td>\n",
       "      <td>8.726355</td>\n",
       "      <td>10.343261</td>\n",
       "    </tr>\n",
       "  </tbody>\n",
       "</table>\n",
       "</div>"
      ],
      "text/plain": [
       "           A         B         C          D          E\n",
       "0   3.973439 -4.879164  5.977209  11.397922   9.911039\n",
       "1   6.641642  3.853393  6.585544   9.090831   9.477328\n",
       "2   8.634287  9.879087  6.747495  10.253049   9.347124\n",
       "3   0.402413  6.646925  5.935905   9.962069   9.579811\n",
       "4  11.521781 -1.908158  5.889565   8.726355  10.343261"
      ]
     },
     "execution_count": 29,
     "metadata": {},
     "output_type": "execute_result"
    }
   ],
   "source": [
    "# Generate some rnd_data_ and randomize\n",
    "\n",
    "rnd_data_1 = []\n",
    "rnd_data_1.extend(stats.norm(3.3, 5.5).rvs(3333))\n",
    "np.random.shuffle(rnd_data_1)\n",
    "\n",
    "rnd_data_2 = []\n",
    "rnd_data_2.extend(stats.norm(4.4, 6.6).rvs(3333))\n",
    "np.random.shuffle(rnd_data_2)\n",
    "\n",
    "rnd_data_3 = []\n",
    "rnd_data_3.extend(stats.norm(5.5, 1.1).rvs(3333))\n",
    "np.random.shuffle(rnd_data_3)\n",
    "\n",
    "rnd_data_4 = []\n",
    "rnd_data_4.extend(stats.norm(9.9, 1.1).rvs(3333))\n",
    "np.random.shuffle(rnd_data_4)\n",
    "\n",
    "rnd_data_5 = []\n",
    "rnd_data_5.extend(stats.norm(9.9, 1.1).rvs(3333))\n",
    "np.random.shuffle(rnd_data_5)\n",
    "\n",
    "# Make a rnd_data_ frame\n",
    "rnd_data = pd.DataFrame()\n",
    "rnd_data[\"A\"] = rnd_data_1\n",
    "rnd_data[\"B\"] = rnd_data_2\n",
    "rnd_data[\"C\"] = rnd_data_3\n",
    "rnd_data[\"D\"] = rnd_data_4\n",
    "rnd_data[\"E\"] = rnd_data_5\n",
    "rnd_data.head()"
   ]
  },
  {
   "cell_type": "code",
   "execution_count": 30,
   "metadata": {},
   "outputs": [
    {
     "data": {
      "text/plain": [
       "array([[<matplotlib.axes._subplots.AxesSubplot object at 0x11c6f8eb8>,\n",
       "        <matplotlib.axes._subplots.AxesSubplot object at 0x11d92a518>],\n",
       "       [<matplotlib.axes._subplots.AxesSubplot object at 0x11d94fd30>,\n",
       "        <matplotlib.axes._subplots.AxesSubplot object at 0x11d97f7f0>],\n",
       "       [<matplotlib.axes._subplots.AxesSubplot object at 0x11d9ad2b0>,\n",
       "        <matplotlib.axes._subplots.AxesSubplot object at 0x11d9ad2e8>]], dtype=object)"
      ]
     },
     "execution_count": 30,
     "metadata": {},
     "output_type": "execute_result"
    },
    {
     "data": {
      "image/png": "[encoded data removed]",
      "text/plain": [
       "<Figure size 1080x648 with 6 Axes>"
      ]
     },
     "metadata": {},
     "output_type": "display_data"
    }
   ],
   "source": [
    "rnd_data.hist()"
   ]
  },
  {
   "cell_type": "code",
   "execution_count": 31,
   "metadata": {},
   "outputs": [
    {
     "name": "stdout",
     "output_type": "stream",
     "text": [
      "1.75920408052e-13\n",
      "54.4824530458\n"
     ]
    }
   ],
   "source": [
    "# To use ANOVA\n",
    "statistic, pvalue = stats.f_oneway(rnd_data[\"A\"], rnd_data[\"B\"])\n",
    "print (pvalue)\n",
    "print (statistic)"
   ]
  },
  {
   "cell_type": "code",
   "execution_count": 32,
   "metadata": {},
   "outputs": [
    {
     "name": "stdout",
     "output_type": "stream",
     "text": [
      "0.0\n",
      "27021.0590799\n"
     ]
    }
   ],
   "source": [
    "# To use ANOVA\n",
    "statistic, pvalue = stats.f_oneway(rnd_data[\"C\"], rnd_data[\"D\"])\n",
    "print (pvalue)\n",
    "print (statistic)"
   ]
  },
  {
   "cell_type": "code",
   "execution_count": 33,
   "metadata": {},
   "outputs": [
    {
     "name": "stdout",
     "output_type": "stream",
     "text": [
      "1.0\n",
      "0.0\n"
     ]
    }
   ],
   "source": [
    "# To use ANOVA\n",
    "statistic, pvalue = stats.f_oneway(rnd_data[\"A\"], rnd_data[\"A\"])\n",
    "print (pvalue)\n",
    "print (statistic)"
   ]
  },
  {
   "cell_type": "code",
   "execution_count": 34,
   "metadata": {},
   "outputs": [
    {
     "name": "stdout",
     "output_type": "stream",
     "text": [
      "0.564149062222\n",
      "0.332604313904\n"
     ]
    }
   ],
   "source": [
    "# To use ANOVA\n",
    "statistic, pvalue = stats.f_oneway(rnd_data[\"D\"], rnd_data[\"E\"])\n",
    "print (pvalue)\n",
    "print (statistic)"
   ]
  },
  {
   "cell_type": "code",
   "execution_count": 35,
   "metadata": {},
   "outputs": [
    {
     "name": "stdout",
     "output_type": "stream",
     "text": [
      "1.75920408052e-13\n",
      "-7.38122300475\n"
     ]
    }
   ],
   "source": [
    "# to use Welch\n",
    "statistic, pvalue = stats.ttest_ind(rnd_data[\"A\"], rnd_data[\"B\"])\n",
    "print (pvalue)\n",
    "print (statistic)"
   ]
  },
  {
   "cell_type": "code",
   "execution_count": 36,
   "metadata": {},
   "outputs": [
    {
     "name": "stdout",
     "output_type": "stream",
     "text": [
      "0.0\n",
      "-164.380835501\n"
     ]
    }
   ],
   "source": [
    "# to use Welch\n",
    "statistic, pvalue = stats.ttest_ind(rnd_data[\"C\"], rnd_data[\"D\"])\n",
    "print (pvalue)\n",
    "print (statistic)"
   ]
  },
  {
   "cell_type": "code",
   "execution_count": 37,
   "metadata": {},
   "outputs": [
    {
     "name": "stdout",
     "output_type": "stream",
     "text": [
      "1.0\n",
      "0.0\n"
     ]
    }
   ],
   "source": [
    "# to use Welch\n",
    "statistic, pvalue = stats.ttest_ind(rnd_data[\"B\"], rnd_data[\"B\"])\n",
    "print (pvalue)\n",
    "print (statistic)"
   ]
  },
  {
   "cell_type": "code",
   "execution_count": 38,
   "metadata": {},
   "outputs": [
    {
     "name": "stdout",
     "output_type": "stream",
     "text": [
      "0.564149062221\n",
      "0.576718574267\n"
     ]
    }
   ],
   "source": [
    "# to use Welch\n",
    "statistic, pvalue = stats.ttest_ind(rnd_data[\"D\"], rnd_data[\"E\"])\n",
    "print (pvalue)\n",
    "print (statistic)"
   ]
  },
  {
   "cell_type": "code",
   "execution_count": 39,
   "metadata": {},
   "outputs": [
    {
     "name": "stdout",
     "output_type": "stream",
     "text": [
      "1.20579941072e-12\n",
      "5003858.0\n"
     ]
    }
   ],
   "source": [
    "# Use the Mann-Whitney test on our data\n",
    "# look up the function in scipy from the link above\n",
    "# stats.mannwhitneyu\n",
    "statistic, pvalue = stats.mannwhitneyu(rnd_data[\"A\"], rnd_data[\"B\"])\n",
    "print (pvalue)\n",
    "print (statistic)"
   ]
  },
  {
   "cell_type": "code",
   "execution_count": 40,
   "metadata": {},
   "outputs": [
    {
     "name": "stdout",
     "output_type": "stream",
     "text": [
      "0.0\n",
      "23050.0\n"
     ]
    }
   ],
   "source": [
    "# Use the Mann-Whitney test on our data\n",
    "# look up the function in scipy from the link above\n",
    "# stats.mannwhitneyu\n",
    "statistic, pvalue = stats.mannwhitneyu(rnd_data[\"C\"], rnd_data[\"D\"])\n",
    "print (pvalue)\n",
    "print (statistic)"
   ]
  },
  {
   "cell_type": "code",
   "execution_count": 41,
   "metadata": {},
   "outputs": [
    {
     "name": "stdout",
     "output_type": "stream",
     "text": [
      "0.499997460956\n",
      "5554444.5\n"
     ]
    }
   ],
   "source": [
    "# Use the Mann-Whitney test on our data\n",
    "# look up the function in scipy from the link above\n",
    "# stats.mannwhitneyu\n",
    "statistic, pvalue = stats.mannwhitneyu(rnd_data[\"C\"], rnd_data[\"C\"])\n",
    "print (pvalue)\n",
    "print (statistic)"
   ]
  },
  {
   "cell_type": "code",
   "execution_count": 42,
   "metadata": {},
   "outputs": [
    {
     "name": "stdout",
     "output_type": "stream",
     "text": [
      "0.291137162494\n",
      "5511230.0\n"
     ]
    }
   ],
   "source": [
    "# Use the Mann-Whitney test on our data\n",
    "# look up the function in scipy from the link above\n",
    "# stats.mannwhitneyu\n",
    "statistic, pvalue = stats.mannwhitneyu(rnd_data[\"D\"], rnd_data[\"E\"])\n",
    "print (pvalue)\n",
    "print (statistic)"
   ]
  },
  {
   "cell_type": "code",
   "execution_count": 43,
   "metadata": {},
   "outputs": [
    {
     "name": "stdout",
     "output_type": "stream",
     "text": [
      "MannwhitneyuResult(statistic=5003858.0, pvalue=1.2057994107232244e-12)\n",
      "5003858.0\n"
     ]
    }
   ],
   "source": [
    "mw = stats.mannwhitneyu(rnd_data[\"A\"], rnd_data[\"B\"])\n",
    "print (mw)\n",
    "print (mw.statistic)"
   ]
  },
  {
   "cell_type": "markdown",
   "metadata": {},
   "source": []
  },
  {
   "cell_type": "markdown",
   "metadata": {},
   "source": [
    "## Inferential Statistical Tests\n",
    "\n",
    "* Chi Square • compares observed frequencies to expected frequencies.   \n",
    "* t-Test • looks at differences between two groups on some variable of interest.  \n",
    "* Welch-Test • looks at differences between two groups on some variable of interest. \n",
    "* Mann-Whitney test • looks at differences between two groups on some variable of interest. \n",
    "* ANOVA • tests the significance of group differences between two or more groups. (Only determines that there is a difference between groups, but doesn’t tell which is different.)\n"
   ]
  },
  {
   "cell_type": "markdown",
   "metadata": {},
   "source": [
    "##  One Way ANOVA Vs Two Way ANOVA\n",
    "\n",
    "One way ANOVA takes only one factor (i.e. independent variable). Two way ANOVA assesses two factors concurrently. \n",
    "\n",
    "|   | ONE WAY ANOVA    | TWO WAY ANOVA    |\n",
    "|---|------------------|------------------|\n",
    "|   | One way ANOVA is a hypothesis test.  | Two way ANOVA is a statistical technique assessing the interaction between factors. |\n",
    "| Independent Variables  | One  | Two  |\n",
    "|Number of Observations   | Need not to be same in each group. |  Need to be equal in each group.  |\n"
   ]
  },
  {
   "cell_type": "markdown",
   "metadata": {},
   "source": [
    "## Resampling \n",
    "\n",
    "* Sampling with and without replacement  \n",
    "* Bootstrap (using sampling with replacement)   \n",
    "* Jackknife (using subsets)  \n",
    "* Permutation resampling (switching labels)  \n",
    "\n",
    "In statistics, [resampling](https://en.wikipedia.org/wiki/Resampling_(statistics)) is any of a variety of methods for doing one of the following:\n",
    "\n",
    "* Estimating the precision of sample statistics (medians, variances, percentiles) by using subsets of available data (jackknifing) or drawing randomly with replacement from a set of data points (bootstrapping)    \n",
    "* Exchanging labels on data points when performing significance tests (permutation tests, also called exact tests, randomization tests, or re-randomization tests)   \n",
    "* Validating models by using random subsets (bootstrapping, cross validation)   \n",
    "\n",
    "\n",
    "**Bootstrap**\n",
    "\n",
    "Bootstrapping is a statistical method for estimating the sampling distribution of an estimator by sampling with replacement from the original sample, most often with the purpose of deriving robust estimates of standard errors and confidence intervals of a population parameter like a mean, median, proportion, odds ratio, correlation coefficient or regression coefficient.\n",
    "\n",
    "**Jackknife**\n",
    "\n",
    "Jackknifing, which is similar to bootstrapping, is used in statistical inference to estimate the bias and standard error (variance) of a statistic, when a random sample of observations is used to calculate it. \n",
    "\n",
    "The basic idea behind the jackknife variance estimator lies in systematically recomputing the statistic estimate, leaving out one or more observations at a time from the sample set. From this new set of replicates of the statistic, an estimate for the bias and an estimate for the variance of the statistic can be calculated.\n"
   ]
  },
  {
   "cell_type": "markdown",
   "metadata": {},
   "source": [
    "**Bootstrap**\n",
    "\t\n",
    "~~~~\n",
    "statistics = []\n",
    "for i in bootstraps:\n",
    "\tsample = select_sample_with_replacement(data)\n",
    "\tstat = calculate_statistic(sample)\n",
    "\tstatistics.append(stat)\n",
    "\t\n",
    "~~~~    \n",
    "    \n",
    "**Jackknife**\n",
    "\n",
    "\t\n",
    "~~~~\n",
    "statistics = []\n",
    "for i in jackknifes:\n",
    "\tsample = select_sample_without_replacement(data)\n",
    "\tstat = calculate_statistic(sample)\n",
    "\tstatistics.append(stat)  \n",
    "\t\n",
    "~~~~    \n",
    "    "
   ]
  },
  {
   "cell_type": "markdown",
   "metadata": {},
   "source": [
    "Last update May 4, 2018"
   ]
  }
 ],
 "metadata": {
  "kernelspec": {
   "display_name": "Python 3",
   "language": "python",
   "name": "python3"
  },
  "language_info": {
   "codemirror_mode": {
    "name": "ipython",
    "version": 3
   },
   "file_extension": ".py",
   "mimetype": "text/x-python",
   "name": "python",
   "nbconvert_exporter": "python",
   "pygments_lexer": "ipython3",
   "version": "3.6.5"
  }
 },
 "nbformat": 4,
 "nbformat_minor": 2
}
