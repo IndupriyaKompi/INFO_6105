{
 "cells": [
  {
   "cell_type": "markdown",
   "metadata": {},
   "source": [
    "#  King County House Price Prediction"
   ]
  },
  {
   "cell_type": "markdown",
   "metadata": {},
   "source": [
    "# Example Assignment 1\n",
    "\n",
    "\n",
    "You are assuming that the assignment is predict house sale prices for King County, which includes Seattle from  King County House Price prediction [https://www.kaggle.com/harlfoxem/housesalesprediction/home](https://www.kaggle.com/harlfoxem/housesalesprediction/home)\n",
    "\n",
    "In this assignment you are going to clean up a poorly formatted assignment.  An assignment must have an abstract. There needs to be explanations in the code of what is going on. This code has very sparse explanations. Expect to explain the code more clearly.\n",
    "\n",
    " An assignment must have:\n",
    " \n",
    " * an abstract   \n",
    " * explainations of the analysis and interpretaions of figures and graphs    \n",
    " * a conclusion      \n",
    " * contributions statement  \n",
    " * citations  \n",
    " * a license \n",
    " \n",
    " \n",
    "**Abstract**  \n",
    "In abstracts, you must get the essence of what your report is about, usually in about 200 words.  \n",
    " * Aim or purpose of research  \n",
    " * Method used  \n",
    " * Findings/results   \n",
    " * Conclusion \n",
    " \n",
    "**Conclusions** \n",
    "\n",
    "Summarize your results in a few sentences and use this summary to support your conclusion. State whether your results support or contradict your hypothesis. \n",
    "\n",
    "\n",
    "If you are comparing many models create a table that orders the models and their evaluation and hyperparameters.\n",
    "\n",
    "\n",
    "**Contributions statement**\n",
    "Must explain what was done by you and estimate a percentage of the code written by you.  Assume everything given to you was not written by you and focus on the additional code that you add for your contributions statement. \n",
    "\n",
    "\n",
    "**Citations**\n",
    "You must cite any code used.\n",
    "\n",
    "Add your additional citations to:\n",
    "* Random forest Classifer : https://www.datacamp.com/community/tutorials/random-forests-classifier-python\n",
    "* Random Forest Regression : https://towardsdatascience.com/hyperparameter-tuning-the-random-forest-in-python-using-scikit-learn-28d2aa77dd74\n",
    "* XGBoost Classifier & XGBoost Regression : \n",
    "    * https://machinelearningmastery.com/develop-first-xgboost-model-python-scikit-learn/\n",
    "    * https://machinelearningmastery.com/tune-number-size-decision-trees-xgboost-python/\n",
    "* Logistic Regression : http://www.michaeljgrogan.com/statsmodels-sklearn-linear-regression/ \n",
    "\n",
    "**License **\n",
    "\n",
    "Must have a license such as the MIT License. [https://opensource.org/licenses/MIT](https://opensource.org/licenses/MIT)\n",
    "\n",
    "**Clean Up Logical Errors**\n",
    "\n",
    "You must clean up logical errors in the code.  \n",
    "\n",
    "For example, if a line like the below is suppossed to represent the best hyper-parameters\n",
    "\n",
    "__best_model = XGBClassifier(max_depth=3, n_estimators=150)__\n",
    "\n",
    "should actually be\n",
    "\n",
    "__best_model = XGBClassifier(max_depth=6, n_estimators=250)__\n",
    "\n",
    "\n",
    "you should rewrite the code so that it is not possible to pass non-optimal parameters.  "
   ]
  },
  {
   "cell_type": "markdown",
   "metadata": {},
   "source": [
    "# Abstract\n",
    "\n",
    "In abstracts, you must get the essence of what your report is about, usually in about 200 words.  \n",
    " * Aim or purpose of research  \n",
    " * Method used  \n",
    " * Findings/results   \n",
    " * Conclusion   \n",
    "\n"
   ]
  },
  {
   "cell_type": "markdown",
   "metadata": {},
   "source": [
    "## Approach\n",
    "\n",
    "Algorithms used.\n",
    "\n",
    "* For Part A:\n",
    "    * Bagging Algo : Random Forest Classifier\n",
    "    * Boosting Algo : XGBoost Classifier\n",
    "* For Part B:\n",
    "    * Logistic Regression\n",
    "* For Part C:\n",
    "    * Bagging Algo : Random Forest Regressor\n",
    "    * Boosting Algo : XGBoost Regressor\n",
    " \n",
    "    \n",
    "You need at add another supervised algorithm and tune at least one hyperparameter for that algorithm.       \n"
   ]
  },
  {
   "cell_type": "markdown",
   "metadata": {},
   "source": [
    "## Dataset\n",
    "* King County House Price prediction [https://www.kaggle.com/harlfoxem/housesalesprediction/home](https://www.kaggle.com/harlfoxem/housesalesprediction/home)  This dataset contains house sale prices for King County, which includes Seattle. It includes homes sold between May 2014 and May 2015.  \n",
    "* In order to perform classification tasks, I have converted the price quantitative variable to a binary classification variable with HIGH price as 1 and LOW price as -1(For logistic regression I am taking LOW as 0)"
   ]
  },
  {
   "cell_type": "code",
   "execution_count": 1,
   "metadata": {
    "collapsed": true
   },
   "outputs": [],
   "source": [
    "import pandas as pd\n",
    "import seaborn as sns\n",
    "import matplotlib.pyplot as plt\n",
    "import numpy as np\n",
    "from pandas import Series\n",
    "%matplotlib inline"
   ]
  },
  {
   "cell_type": "code",
   "execution_count": 2,
   "metadata": {
    "collapsed": true
   },
   "outputs": [],
   "source": [
    "features = pd.read_csv('king_county_cleansed.csv')"
   ]
  },
  {
   "cell_type": "code",
   "execution_count": 3,
   "metadata": {
    "scrolled": true
   },
   "outputs": [
    {
     "data": {
      "text/html": [
       "<div>\n",
       "<style>\n",
       "    .dataframe thead tr:only-child th {\n",
       "        text-align: right;\n",
       "    }\n",
       "\n",
       "    .dataframe thead th {\n",
       "        text-align: left;\n",
       "    }\n",
       "\n",
       "    .dataframe tbody tr th {\n",
       "        vertical-align: top;\n",
       "    }\n",
       "</style>\n",
       "<table border=\"1\" class=\"dataframe\">\n",
       "  <thead>\n",
       "    <tr style=\"text-align: right;\">\n",
       "      <th></th>\n",
       "      <th>index</th>\n",
       "      <th>price</th>\n",
       "      <th>bedrooms</th>\n",
       "      <th>bathrooms</th>\n",
       "      <th>sqft_living</th>\n",
       "      <th>sqft_lot</th>\n",
       "      <th>waterfront</th>\n",
       "      <th>sqft_above</th>\n",
       "      <th>sqft_basement</th>\n",
       "      <th>yr_built</th>\n",
       "      <th>...</th>\n",
       "      <th>grade#10</th>\n",
       "      <th>grade#11</th>\n",
       "      <th>grade#12</th>\n",
       "      <th>grade#13</th>\n",
       "      <th>zipcode#98004</th>\n",
       "      <th>zipcode#98102</th>\n",
       "      <th>zipcode#98109</th>\n",
       "      <th>zipcode#98112</th>\n",
       "      <th>zipcode#98039</th>\n",
       "      <th>zipcode#98040</th>\n",
       "    </tr>\n",
       "  </thead>\n",
       "  <tbody>\n",
       "    <tr>\n",
       "      <th>0</th>\n",
       "      <td>16768</td>\n",
       "      <td>437500</td>\n",
       "      <td>3</td>\n",
       "      <td>2.25</td>\n",
       "      <td>1970</td>\n",
       "      <td>35100</td>\n",
       "      <td>0</td>\n",
       "      <td>1970</td>\n",
       "      <td>0</td>\n",
       "      <td>1977</td>\n",
       "      <td>...</td>\n",
       "      <td>0</td>\n",
       "      <td>0</td>\n",
       "      <td>0</td>\n",
       "      <td>0</td>\n",
       "      <td>0</td>\n",
       "      <td>0</td>\n",
       "      <td>0</td>\n",
       "      <td>0</td>\n",
       "      <td>0</td>\n",
       "      <td>0</td>\n",
       "    </tr>\n",
       "    <tr>\n",
       "      <th>1</th>\n",
       "      <td>9596</td>\n",
       "      <td>790000</td>\n",
       "      <td>3</td>\n",
       "      <td>2.50</td>\n",
       "      <td>2600</td>\n",
       "      <td>4750</td>\n",
       "      <td>0</td>\n",
       "      <td>1700</td>\n",
       "      <td>900</td>\n",
       "      <td>1951</td>\n",
       "      <td>...</td>\n",
       "      <td>0</td>\n",
       "      <td>0</td>\n",
       "      <td>0</td>\n",
       "      <td>0</td>\n",
       "      <td>0</td>\n",
       "      <td>0</td>\n",
       "      <td>0</td>\n",
       "      <td>0</td>\n",
       "      <td>0</td>\n",
       "      <td>0</td>\n",
       "    </tr>\n",
       "    <tr>\n",
       "      <th>2</th>\n",
       "      <td>9587</td>\n",
       "      <td>675000</td>\n",
       "      <td>5</td>\n",
       "      <td>2.50</td>\n",
       "      <td>2820</td>\n",
       "      <td>67518</td>\n",
       "      <td>0</td>\n",
       "      <td>2820</td>\n",
       "      <td>0</td>\n",
       "      <td>1979</td>\n",
       "      <td>...</td>\n",
       "      <td>0</td>\n",
       "      <td>0</td>\n",
       "      <td>0</td>\n",
       "      <td>0</td>\n",
       "      <td>0</td>\n",
       "      <td>0</td>\n",
       "      <td>0</td>\n",
       "      <td>0</td>\n",
       "      <td>0</td>\n",
       "      <td>0</td>\n",
       "    </tr>\n",
       "    <tr>\n",
       "      <th>3</th>\n",
       "      <td>20602</td>\n",
       "      <td>555000</td>\n",
       "      <td>4</td>\n",
       "      <td>2.50</td>\n",
       "      <td>3310</td>\n",
       "      <td>6500</td>\n",
       "      <td>0</td>\n",
       "      <td>3310</td>\n",
       "      <td>0</td>\n",
       "      <td>2012</td>\n",
       "      <td>...</td>\n",
       "      <td>0</td>\n",
       "      <td>0</td>\n",
       "      <td>0</td>\n",
       "      <td>0</td>\n",
       "      <td>0</td>\n",
       "      <td>0</td>\n",
       "      <td>0</td>\n",
       "      <td>0</td>\n",
       "      <td>0</td>\n",
       "      <td>0</td>\n",
       "    </tr>\n",
       "    <tr>\n",
       "      <th>4</th>\n",
       "      <td>11577</td>\n",
       "      <td>440000</td>\n",
       "      <td>4</td>\n",
       "      <td>2.25</td>\n",
       "      <td>2160</td>\n",
       "      <td>8119</td>\n",
       "      <td>0</td>\n",
       "      <td>1080</td>\n",
       "      <td>1080</td>\n",
       "      <td>1966</td>\n",
       "      <td>...</td>\n",
       "      <td>0</td>\n",
       "      <td>0</td>\n",
       "      <td>0</td>\n",
       "      <td>0</td>\n",
       "      <td>0</td>\n",
       "      <td>0</td>\n",
       "      <td>0</td>\n",
       "      <td>0</td>\n",
       "      <td>0</td>\n",
       "      <td>0</td>\n",
       "    </tr>\n",
       "  </tbody>\n",
       "</table>\n",
       "<p>5 rows × 51 columns</p>\n",
       "</div>"
      ],
      "text/plain": [
       "   index   price  bedrooms  bathrooms  sqft_living  sqft_lot  waterfront  \\\n",
       "0  16768  437500         3       2.25         1970     35100           0   \n",
       "1   9596  790000         3       2.50         2600      4750           0   \n",
       "2   9587  675000         5       2.50         2820     67518           0   \n",
       "3  20602  555000         4       2.50         3310      6500           0   \n",
       "4  11577  440000         4       2.25         2160      8119           0   \n",
       "\n",
       "   sqft_above  sqft_basement  yr_built      ...        grade#10  grade#11  \\\n",
       "0        1970              0      1977      ...               0         0   \n",
       "1        1700            900      1951      ...               0         0   \n",
       "2        2820              0      1979      ...               0         0   \n",
       "3        3310              0      2012      ...               0         0   \n",
       "4        1080           1080      1966      ...               0         0   \n",
       "\n",
       "   grade#12  grade#13  zipcode#98004  zipcode#98102  zipcode#98109  \\\n",
       "0         0         0              0              0              0   \n",
       "1         0         0              0              0              0   \n",
       "2         0         0              0              0              0   \n",
       "3         0         0              0              0              0   \n",
       "4         0         0              0              0              0   \n",
       "\n",
       "   zipcode#98112  zipcode#98039  zipcode#98040  \n",
       "0              0              0              0  \n",
       "1              0              0              0  \n",
       "2              0              0              0  \n",
       "3              0              0              0  \n",
       "4              0              0              0  \n",
       "\n",
       "[5 rows x 51 columns]"
      ]
     },
     "execution_count": 3,
     "metadata": {},
     "output_type": "execute_result"
    }
   ],
   "source": [
    "features.head(5)"
   ]
  },
  {
   "cell_type": "code",
   "execution_count": 4,
   "metadata": {
    "scrolled": true
   },
   "outputs": [
    {
     "data": {
      "text/html": [
       "<div>\n",
       "<style>\n",
       "    .dataframe thead tr:only-child th {\n",
       "        text-align: right;\n",
       "    }\n",
       "\n",
       "    .dataframe thead th {\n",
       "        text-align: left;\n",
       "    }\n",
       "\n",
       "    .dataframe tbody tr th {\n",
       "        vertical-align: top;\n",
       "    }\n",
       "</style>\n",
       "<table border=\"1\" class=\"dataframe\">\n",
       "  <thead>\n",
       "    <tr style=\"text-align: right;\">\n",
       "      <th></th>\n",
       "      <th>index</th>\n",
       "      <th>price</th>\n",
       "      <th>bedrooms</th>\n",
       "      <th>bathrooms</th>\n",
       "      <th>sqft_living</th>\n",
       "      <th>sqft_lot</th>\n",
       "      <th>waterfront</th>\n",
       "      <th>sqft_above</th>\n",
       "      <th>sqft_basement</th>\n",
       "      <th>yr_built</th>\n",
       "      <th>...</th>\n",
       "      <th>grade#10</th>\n",
       "      <th>grade#11</th>\n",
       "      <th>grade#12</th>\n",
       "      <th>grade#13</th>\n",
       "      <th>zipcode#98004</th>\n",
       "      <th>zipcode#98102</th>\n",
       "      <th>zipcode#98109</th>\n",
       "      <th>zipcode#98112</th>\n",
       "      <th>zipcode#98039</th>\n",
       "      <th>zipcode#98040</th>\n",
       "    </tr>\n",
       "  </thead>\n",
       "  <tbody>\n",
       "    <tr>\n",
       "      <th>count</th>\n",
       "      <td>21613.00000</td>\n",
       "      <td>2.161300e+04</td>\n",
       "      <td>21613.000000</td>\n",
       "      <td>21613.000000</td>\n",
       "      <td>21613.000000</td>\n",
       "      <td>2.161300e+04</td>\n",
       "      <td>21613.000000</td>\n",
       "      <td>21613.000000</td>\n",
       "      <td>21613.000000</td>\n",
       "      <td>21613.000000</td>\n",
       "      <td>...</td>\n",
       "      <td>21613.000000</td>\n",
       "      <td>21613.000000</td>\n",
       "      <td>21613.000000</td>\n",
       "      <td>21613.000000</td>\n",
       "      <td>21613.000000</td>\n",
       "      <td>21613.000000</td>\n",
       "      <td>21613.000000</td>\n",
       "      <td>21613.000000</td>\n",
       "      <td>21613.000000</td>\n",
       "      <td>21613.000000</td>\n",
       "    </tr>\n",
       "    <tr>\n",
       "      <th>mean</th>\n",
       "      <td>10806.00000</td>\n",
       "      <td>5.400881e+05</td>\n",
       "      <td>3.370842</td>\n",
       "      <td>2.114757</td>\n",
       "      <td>2079.899736</td>\n",
       "      <td>1.510697e+04</td>\n",
       "      <td>0.007542</td>\n",
       "      <td>1788.390691</td>\n",
       "      <td>291.509045</td>\n",
       "      <td>1971.005136</td>\n",
       "      <td>...</td>\n",
       "      <td>0.052468</td>\n",
       "      <td>0.018461</td>\n",
       "      <td>0.004164</td>\n",
       "      <td>0.000601</td>\n",
       "      <td>0.014667</td>\n",
       "      <td>0.004858</td>\n",
       "      <td>0.005043</td>\n",
       "      <td>0.012446</td>\n",
       "      <td>0.002313</td>\n",
       "      <td>0.013048</td>\n",
       "    </tr>\n",
       "    <tr>\n",
       "      <th>std</th>\n",
       "      <td>6239.28002</td>\n",
       "      <td>3.671272e+05</td>\n",
       "      <td>0.930062</td>\n",
       "      <td>0.770163</td>\n",
       "      <td>918.440897</td>\n",
       "      <td>4.142051e+04</td>\n",
       "      <td>0.086517</td>\n",
       "      <td>828.090978</td>\n",
       "      <td>442.575043</td>\n",
       "      <td>29.373411</td>\n",
       "      <td>...</td>\n",
       "      <td>0.222975</td>\n",
       "      <td>0.134615</td>\n",
       "      <td>0.064397</td>\n",
       "      <td>0.024518</td>\n",
       "      <td>0.120219</td>\n",
       "      <td>0.069533</td>\n",
       "      <td>0.070838</td>\n",
       "      <td>0.110869</td>\n",
       "      <td>0.048043</td>\n",
       "      <td>0.113482</td>\n",
       "    </tr>\n",
       "    <tr>\n",
       "      <th>min</th>\n",
       "      <td>0.00000</td>\n",
       "      <td>7.500000e+04</td>\n",
       "      <td>0.000000</td>\n",
       "      <td>0.000000</td>\n",
       "      <td>290.000000</td>\n",
       "      <td>5.200000e+02</td>\n",
       "      <td>0.000000</td>\n",
       "      <td>290.000000</td>\n",
       "      <td>0.000000</td>\n",
       "      <td>1900.000000</td>\n",
       "      <td>...</td>\n",
       "      <td>0.000000</td>\n",
       "      <td>0.000000</td>\n",
       "      <td>0.000000</td>\n",
       "      <td>0.000000</td>\n",
       "      <td>0.000000</td>\n",
       "      <td>0.000000</td>\n",
       "      <td>0.000000</td>\n",
       "      <td>0.000000</td>\n",
       "      <td>0.000000</td>\n",
       "      <td>0.000000</td>\n",
       "    </tr>\n",
       "    <tr>\n",
       "      <th>25%</th>\n",
       "      <td>5403.00000</td>\n",
       "      <td>3.219500e+05</td>\n",
       "      <td>3.000000</td>\n",
       "      <td>1.750000</td>\n",
       "      <td>1427.000000</td>\n",
       "      <td>5.040000e+03</td>\n",
       "      <td>0.000000</td>\n",
       "      <td>1190.000000</td>\n",
       "      <td>0.000000</td>\n",
       "      <td>1951.000000</td>\n",
       "      <td>...</td>\n",
       "      <td>0.000000</td>\n",
       "      <td>0.000000</td>\n",
       "      <td>0.000000</td>\n",
       "      <td>0.000000</td>\n",
       "      <td>0.000000</td>\n",
       "      <td>0.000000</td>\n",
       "      <td>0.000000</td>\n",
       "      <td>0.000000</td>\n",
       "      <td>0.000000</td>\n",
       "      <td>0.000000</td>\n",
       "    </tr>\n",
       "    <tr>\n",
       "      <th>50%</th>\n",
       "      <td>10806.00000</td>\n",
       "      <td>4.500000e+05</td>\n",
       "      <td>3.000000</td>\n",
       "      <td>2.250000</td>\n",
       "      <td>1910.000000</td>\n",
       "      <td>7.618000e+03</td>\n",
       "      <td>0.000000</td>\n",
       "      <td>1560.000000</td>\n",
       "      <td>0.000000</td>\n",
       "      <td>1975.000000</td>\n",
       "      <td>...</td>\n",
       "      <td>0.000000</td>\n",
       "      <td>0.000000</td>\n",
       "      <td>0.000000</td>\n",
       "      <td>0.000000</td>\n",
       "      <td>0.000000</td>\n",
       "      <td>0.000000</td>\n",
       "      <td>0.000000</td>\n",
       "      <td>0.000000</td>\n",
       "      <td>0.000000</td>\n",
       "      <td>0.000000</td>\n",
       "    </tr>\n",
       "    <tr>\n",
       "      <th>75%</th>\n",
       "      <td>16209.00000</td>\n",
       "      <td>6.450000e+05</td>\n",
       "      <td>4.000000</td>\n",
       "      <td>2.500000</td>\n",
       "      <td>2550.000000</td>\n",
       "      <td>1.068800e+04</td>\n",
       "      <td>0.000000</td>\n",
       "      <td>2210.000000</td>\n",
       "      <td>560.000000</td>\n",
       "      <td>1997.000000</td>\n",
       "      <td>...</td>\n",
       "      <td>0.000000</td>\n",
       "      <td>0.000000</td>\n",
       "      <td>0.000000</td>\n",
       "      <td>0.000000</td>\n",
       "      <td>0.000000</td>\n",
       "      <td>0.000000</td>\n",
       "      <td>0.000000</td>\n",
       "      <td>0.000000</td>\n",
       "      <td>0.000000</td>\n",
       "      <td>0.000000</td>\n",
       "    </tr>\n",
       "    <tr>\n",
       "      <th>max</th>\n",
       "      <td>21612.00000</td>\n",
       "      <td>7.700000e+06</td>\n",
       "      <td>33.000000</td>\n",
       "      <td>8.000000</td>\n",
       "      <td>13540.000000</td>\n",
       "      <td>1.651359e+06</td>\n",
       "      <td>1.000000</td>\n",
       "      <td>9410.000000</td>\n",
       "      <td>4820.000000</td>\n",
       "      <td>2015.000000</td>\n",
       "      <td>...</td>\n",
       "      <td>1.000000</td>\n",
       "      <td>1.000000</td>\n",
       "      <td>1.000000</td>\n",
       "      <td>1.000000</td>\n",
       "      <td>1.000000</td>\n",
       "      <td>1.000000</td>\n",
       "      <td>1.000000</td>\n",
       "      <td>1.000000</td>\n",
       "      <td>1.000000</td>\n",
       "      <td>1.000000</td>\n",
       "    </tr>\n",
       "  </tbody>\n",
       "</table>\n",
       "<p>8 rows × 51 columns</p>\n",
       "</div>"
      ],
      "text/plain": [
       "             index         price      bedrooms     bathrooms   sqft_living  \\\n",
       "count  21613.00000  2.161300e+04  21613.000000  21613.000000  21613.000000   \n",
       "mean   10806.00000  5.400881e+05      3.370842      2.114757   2079.899736   \n",
       "std     6239.28002  3.671272e+05      0.930062      0.770163    918.440897   \n",
       "min        0.00000  7.500000e+04      0.000000      0.000000    290.000000   \n",
       "25%     5403.00000  3.219500e+05      3.000000      1.750000   1427.000000   \n",
       "50%    10806.00000  4.500000e+05      3.000000      2.250000   1910.000000   \n",
       "75%    16209.00000  6.450000e+05      4.000000      2.500000   2550.000000   \n",
       "max    21612.00000  7.700000e+06     33.000000      8.000000  13540.000000   \n",
       "\n",
       "           sqft_lot    waterfront    sqft_above  sqft_basement      yr_built  \\\n",
       "count  2.161300e+04  21613.000000  21613.000000   21613.000000  21613.000000   \n",
       "mean   1.510697e+04      0.007542   1788.390691     291.509045   1971.005136   \n",
       "std    4.142051e+04      0.086517    828.090978     442.575043     29.373411   \n",
       "min    5.200000e+02      0.000000    290.000000       0.000000   1900.000000   \n",
       "25%    5.040000e+03      0.000000   1190.000000       0.000000   1951.000000   \n",
       "50%    7.618000e+03      0.000000   1560.000000       0.000000   1975.000000   \n",
       "75%    1.068800e+04      0.000000   2210.000000     560.000000   1997.000000   \n",
       "max    1.651359e+06      1.000000   9410.000000    4820.000000   2015.000000   \n",
       "\n",
       "           ...            grade#10      grade#11      grade#12      grade#13  \\\n",
       "count      ...        21613.000000  21613.000000  21613.000000  21613.000000   \n",
       "mean       ...            0.052468      0.018461      0.004164      0.000601   \n",
       "std        ...            0.222975      0.134615      0.064397      0.024518   \n",
       "min        ...            0.000000      0.000000      0.000000      0.000000   \n",
       "25%        ...            0.000000      0.000000      0.000000      0.000000   \n",
       "50%        ...            0.000000      0.000000      0.000000      0.000000   \n",
       "75%        ...            0.000000      0.000000      0.000000      0.000000   \n",
       "max        ...            1.000000      1.000000      1.000000      1.000000   \n",
       "\n",
       "       zipcode#98004  zipcode#98102  zipcode#98109  zipcode#98112  \\\n",
       "count   21613.000000   21613.000000   21613.000000   21613.000000   \n",
       "mean        0.014667       0.004858       0.005043       0.012446   \n",
       "std         0.120219       0.069533       0.070838       0.110869   \n",
       "min         0.000000       0.000000       0.000000       0.000000   \n",
       "25%         0.000000       0.000000       0.000000       0.000000   \n",
       "50%         0.000000       0.000000       0.000000       0.000000   \n",
       "75%         0.000000       0.000000       0.000000       0.000000   \n",
       "max         1.000000       1.000000       1.000000       1.000000   \n",
       "\n",
       "       zipcode#98039  zipcode#98040  \n",
       "count   21613.000000   21613.000000  \n",
       "mean        0.002313       0.013048  \n",
       "std         0.048043       0.113482  \n",
       "min         0.000000       0.000000  \n",
       "25%         0.000000       0.000000  \n",
       "50%         0.000000       0.000000  \n",
       "75%         0.000000       0.000000  \n",
       "max         1.000000       1.000000  \n",
       "\n",
       "[8 rows x 51 columns]"
      ]
     },
     "execution_count": 4,
     "metadata": {},
     "output_type": "execute_result"
    }
   ],
   "source": [
    "features.describe()"
   ]
  },
  {
   "cell_type": "code",
   "execution_count": 5,
   "metadata": {},
   "outputs": [
    {
     "data": {
      "text/plain": [
       "<matplotlib.axes._subplots.AxesSubplot at 0x11686cf28>"
      ]
     },
     "execution_count": 5,
     "metadata": {},
     "output_type": "execute_result"
    },
    {
     "data": {
      "image/png": "[encoded data removed]",
      "text/plain": [
       "<Figure size 1440x1440 with 2 Axes>"
      ]
     },
     "metadata": {},
     "output_type": "display_data"
    }
   ],
   "source": [
    "corr = features.corr()\n",
    "\n",
    "mask = np.zeros_like(corr, dtype=np.bool)\n",
    "mask[np.triu_indices_from(mask)] = True\n",
    "\n",
    "# Set up the matplotlib figure\n",
    "f, ax = plt.subplots(figsize=(20, 20))\n",
    "\n",
    "# Generate a custom diverging colormap\n",
    "cmap = sns.diverging_palette(190, 10, as_cmap=True)\n",
    "\n",
    "# Draw the heatmap with the mask and correct aspect ratio\n",
    "sns.heatmap(corr, mask=mask, cmap=cmap, vmax=.3, center=0,\n",
    "            square=True, linewidths=.5, cbar_kws={\"shrink\": .5})"
   ]
  },
  {
   "cell_type": "code",
   "execution_count": 6,
   "metadata": {
    "scrolled": true
   },
   "outputs": [
    {
     "data": {
      "text/plain": [
       "<matplotlib.image.AxesImage at 0x11697dcf8>"
      ]
     },
     "execution_count": 6,
     "metadata": {},
     "output_type": "execute_result"
    },
    {
     "data": {
      "image/png": "[encoded data removed]",
      "text/plain": [
       "<Figure size 288x288 with 1 Axes>"
      ]
     },
     "metadata": {},
     "output_type": "display_data"
    }
   ],
   "source": [
    "plt.matshow(features.corr())"
   ]
  },
  {
   "cell_type": "code",
   "execution_count": 7,
   "metadata": {},
   "outputs": [
    {
     "name": "stdout",
     "output_type": "stream",
     "text": [
      "450000.0\n"
     ]
    }
   ],
   "source": [
    "median_price = features.loc[:,\"price\"].median()\n",
    "print(median_price)"
   ]
  },
  {
   "cell_type": "markdown",
   "metadata": {},
   "source": [
    "Adding column to dataframe for holding categorical price value : HIGH/LOW\n",
    "\n",
    "All values < median are LOW and Values >= median are HIGH"
   ]
  },
  {
   "cell_type": "code",
   "execution_count": 8,
   "metadata": {
    "collapsed": true
   },
   "outputs": [],
   "source": [
    "features['price_cat'] = features['price'].apply(lambda x: 1 if x > median_price else -1)"
   ]
  },
  {
   "cell_type": "code",
   "execution_count": 9,
   "metadata": {},
   "outputs": [
    {
     "data": {
      "text/html": [
       "<div>\n",
       "<style>\n",
       "    .dataframe thead tr:only-child th {\n",
       "        text-align: right;\n",
       "    }\n",
       "\n",
       "    .dataframe thead th {\n",
       "        text-align: left;\n",
       "    }\n",
       "\n",
       "    .dataframe tbody tr th {\n",
       "        vertical-align: top;\n",
       "    }\n",
       "</style>\n",
       "<table border=\"1\" class=\"dataframe\">\n",
       "  <thead>\n",
       "    <tr style=\"text-align: right;\">\n",
       "      <th></th>\n",
       "      <th>price</th>\n",
       "      <th>price_cat</th>\n",
       "    </tr>\n",
       "  </thead>\n",
       "  <tbody>\n",
       "    <tr>\n",
       "      <th>0</th>\n",
       "      <td>437500</td>\n",
       "      <td>-1</td>\n",
       "    </tr>\n",
       "    <tr>\n",
       "      <th>1</th>\n",
       "      <td>790000</td>\n",
       "      <td>1</td>\n",
       "    </tr>\n",
       "    <tr>\n",
       "      <th>2</th>\n",
       "      <td>675000</td>\n",
       "      <td>1</td>\n",
       "    </tr>\n",
       "    <tr>\n",
       "      <th>3</th>\n",
       "      <td>555000</td>\n",
       "      <td>1</td>\n",
       "    </tr>\n",
       "    <tr>\n",
       "      <th>4</th>\n",
       "      <td>440000</td>\n",
       "      <td>-1</td>\n",
       "    </tr>\n",
       "    <tr>\n",
       "      <th>5</th>\n",
       "      <td>295000</td>\n",
       "      <td>-1</td>\n",
       "    </tr>\n",
       "    <tr>\n",
       "      <th>6</th>\n",
       "      <td>470000</td>\n",
       "      <td>1</td>\n",
       "    </tr>\n",
       "    <tr>\n",
       "      <th>7</th>\n",
       "      <td>550000</td>\n",
       "      <td>1</td>\n",
       "    </tr>\n",
       "    <tr>\n",
       "      <th>8</th>\n",
       "      <td>313000</td>\n",
       "      <td>-1</td>\n",
       "    </tr>\n",
       "    <tr>\n",
       "      <th>9</th>\n",
       "      <td>626000</td>\n",
       "      <td>1</td>\n",
       "    </tr>\n",
       "  </tbody>\n",
       "</table>\n",
       "</div>"
      ],
      "text/plain": [
       "    price  price_cat\n",
       "0  437500         -1\n",
       "1  790000          1\n",
       "2  675000          1\n",
       "3  555000          1\n",
       "4  440000         -1\n",
       "5  295000         -1\n",
       "6  470000          1\n",
       "7  550000          1\n",
       "8  313000         -1\n",
       "9  626000          1"
      ]
     },
     "execution_count": 9,
     "metadata": {},
     "output_type": "execute_result"
    }
   ],
   "source": [
    "features[['price','price_cat']].head(10)"
   ]
  },
  {
   "cell_type": "code",
   "execution_count": 10,
   "metadata": {
    "scrolled": true
   },
   "outputs": [
    {
     "data": {
      "text/html": [
       "<div>\n",
       "<style>\n",
       "    .dataframe thead tr:only-child th {\n",
       "        text-align: right;\n",
       "    }\n",
       "\n",
       "    .dataframe thead th {\n",
       "        text-align: left;\n",
       "    }\n",
       "\n",
       "    .dataframe tbody tr th {\n",
       "        vertical-align: top;\n",
       "    }\n",
       "</style>\n",
       "<table border=\"1\" class=\"dataframe\">\n",
       "  <thead>\n",
       "    <tr style=\"text-align: right;\">\n",
       "      <th></th>\n",
       "      <th>index</th>\n",
       "      <th>price</th>\n",
       "      <th>bedrooms</th>\n",
       "      <th>bathrooms</th>\n",
       "      <th>sqft_living</th>\n",
       "      <th>sqft_lot</th>\n",
       "      <th>waterfront</th>\n",
       "      <th>sqft_above</th>\n",
       "      <th>sqft_basement</th>\n",
       "      <th>yr_built</th>\n",
       "      <th>...</th>\n",
       "      <th>grade#11</th>\n",
       "      <th>grade#12</th>\n",
       "      <th>grade#13</th>\n",
       "      <th>zipcode#98004</th>\n",
       "      <th>zipcode#98102</th>\n",
       "      <th>zipcode#98109</th>\n",
       "      <th>zipcode#98112</th>\n",
       "      <th>zipcode#98039</th>\n",
       "      <th>zipcode#98040</th>\n",
       "      <th>price_cat</th>\n",
       "    </tr>\n",
       "  </thead>\n",
       "  <tbody>\n",
       "    <tr>\n",
       "      <th>0</th>\n",
       "      <td>16768</td>\n",
       "      <td>437500</td>\n",
       "      <td>3</td>\n",
       "      <td>2.25</td>\n",
       "      <td>1970</td>\n",
       "      <td>35100</td>\n",
       "      <td>0</td>\n",
       "      <td>1970</td>\n",
       "      <td>0</td>\n",
       "      <td>1977</td>\n",
       "      <td>...</td>\n",
       "      <td>0</td>\n",
       "      <td>0</td>\n",
       "      <td>0</td>\n",
       "      <td>0</td>\n",
       "      <td>0</td>\n",
       "      <td>0</td>\n",
       "      <td>0</td>\n",
       "      <td>0</td>\n",
       "      <td>0</td>\n",
       "      <td>-1</td>\n",
       "    </tr>\n",
       "    <tr>\n",
       "      <th>1</th>\n",
       "      <td>9596</td>\n",
       "      <td>790000</td>\n",
       "      <td>3</td>\n",
       "      <td>2.50</td>\n",
       "      <td>2600</td>\n",
       "      <td>4750</td>\n",
       "      <td>0</td>\n",
       "      <td>1700</td>\n",
       "      <td>900</td>\n",
       "      <td>1951</td>\n",
       "      <td>...</td>\n",
       "      <td>0</td>\n",
       "      <td>0</td>\n",
       "      <td>0</td>\n",
       "      <td>0</td>\n",
       "      <td>0</td>\n",
       "      <td>0</td>\n",
       "      <td>0</td>\n",
       "      <td>0</td>\n",
       "      <td>0</td>\n",
       "      <td>1</td>\n",
       "    </tr>\n",
       "    <tr>\n",
       "      <th>2</th>\n",
       "      <td>9587</td>\n",
       "      <td>675000</td>\n",
       "      <td>5</td>\n",
       "      <td>2.50</td>\n",
       "      <td>2820</td>\n",
       "      <td>67518</td>\n",
       "      <td>0</td>\n",
       "      <td>2820</td>\n",
       "      <td>0</td>\n",
       "      <td>1979</td>\n",
       "      <td>...</td>\n",
       "      <td>0</td>\n",
       "      <td>0</td>\n",
       "      <td>0</td>\n",
       "      <td>0</td>\n",
       "      <td>0</td>\n",
       "      <td>0</td>\n",
       "      <td>0</td>\n",
       "      <td>0</td>\n",
       "      <td>0</td>\n",
       "      <td>1</td>\n",
       "    </tr>\n",
       "    <tr>\n",
       "      <th>3</th>\n",
       "      <td>20602</td>\n",
       "      <td>555000</td>\n",
       "      <td>4</td>\n",
       "      <td>2.50</td>\n",
       "      <td>3310</td>\n",
       "      <td>6500</td>\n",
       "      <td>0</td>\n",
       "      <td>3310</td>\n",
       "      <td>0</td>\n",
       "      <td>2012</td>\n",
       "      <td>...</td>\n",
       "      <td>0</td>\n",
       "      <td>0</td>\n",
       "      <td>0</td>\n",
       "      <td>0</td>\n",
       "      <td>0</td>\n",
       "      <td>0</td>\n",
       "      <td>0</td>\n",
       "      <td>0</td>\n",
       "      <td>0</td>\n",
       "      <td>1</td>\n",
       "    </tr>\n",
       "    <tr>\n",
       "      <th>4</th>\n",
       "      <td>11577</td>\n",
       "      <td>440000</td>\n",
       "      <td>4</td>\n",
       "      <td>2.25</td>\n",
       "      <td>2160</td>\n",
       "      <td>8119</td>\n",
       "      <td>0</td>\n",
       "      <td>1080</td>\n",
       "      <td>1080</td>\n",
       "      <td>1966</td>\n",
       "      <td>...</td>\n",
       "      <td>0</td>\n",
       "      <td>0</td>\n",
       "      <td>0</td>\n",
       "      <td>0</td>\n",
       "      <td>0</td>\n",
       "      <td>0</td>\n",
       "      <td>0</td>\n",
       "      <td>0</td>\n",
       "      <td>0</td>\n",
       "      <td>-1</td>\n",
       "    </tr>\n",
       "  </tbody>\n",
       "</table>\n",
       "<p>5 rows × 52 columns</p>\n",
       "</div>"
      ],
      "text/plain": [
       "   index   price  bedrooms  bathrooms  sqft_living  sqft_lot  waterfront  \\\n",
       "0  16768  437500         3       2.25         1970     35100           0   \n",
       "1   9596  790000         3       2.50         2600      4750           0   \n",
       "2   9587  675000         5       2.50         2820     67518           0   \n",
       "3  20602  555000         4       2.50         3310      6500           0   \n",
       "4  11577  440000         4       2.25         2160      8119           0   \n",
       "\n",
       "   sqft_above  sqft_basement  yr_built    ...      grade#11  grade#12  \\\n",
       "0        1970              0      1977    ...             0         0   \n",
       "1        1700            900      1951    ...             0         0   \n",
       "2        2820              0      1979    ...             0         0   \n",
       "3        3310              0      2012    ...             0         0   \n",
       "4        1080           1080      1966    ...             0         0   \n",
       "\n",
       "   grade#13  zipcode#98004  zipcode#98102  zipcode#98109  zipcode#98112  \\\n",
       "0         0              0              0              0              0   \n",
       "1         0              0              0              0              0   \n",
       "2         0              0              0              0              0   \n",
       "3         0              0              0              0              0   \n",
       "4         0              0              0              0              0   \n",
       "\n",
       "   zipcode#98039  zipcode#98040  price_cat  \n",
       "0              0              0         -1  \n",
       "1              0              0          1  \n",
       "2              0              0          1  \n",
       "3              0              0          1  \n",
       "4              0              0         -1  \n",
       "\n",
       "[5 rows x 52 columns]"
      ]
     },
     "execution_count": 10,
     "metadata": {},
     "output_type": "execute_result"
    }
   ],
   "source": [
    "features.head(5)"
   ]
  },
  {
   "cell_type": "markdown",
   "metadata": {},
   "source": [
    "## Part A\n",
    "\n",
    "    * Bagging Algo : Random Forest Classifier\n",
    "    * Boosting Algo : XGBoost Classifier\n",
    "    \n",
    "Compare at least one bagging based tree algorithm (e.g. Random Forest) with a boosting based tree algorithm on a classification problem.\n",
    "\n",
    "* Which hyper-parameters are important?\n",
    "* What hyper-parameter values work best?\n",
    "* Which supervised learner works best on the test data?"
   ]
  },
  {
   "cell_type": "markdown",
   "metadata": {},
   "source": [
    "## Random Forest Classifier\n"
   ]
  },
  {
   "cell_type": "code",
   "execution_count": 11,
   "metadata": {
    "collapsed": true
   },
   "outputs": [],
   "source": [
    "from sklearn.model_selection import train_test_split"
   ]
  },
  {
   "cell_type": "code",
   "execution_count": 12,
   "metadata": {},
   "outputs": [
    {
     "data": {
      "text/plain": [
       "Index(['index', 'price', 'bedrooms', 'bathrooms', 'sqft_living', 'sqft_lot',\n",
       "       'waterfront', 'sqft_above', 'sqft_basement', 'yr_built', 'yr_renovated',\n",
       "       'lat', 'long', 'sqft_living15', 'sqft_lot15', 'basement_present',\n",
       "       'renovated', 'floors#1.0', 'floors#1.5', 'floors#2.0', 'floors#2.5',\n",
       "       'floors#3.0', 'floors#3.5', 'view#0', 'view#1', 'view#2', 'view#3',\n",
       "       'view#4', 'condition#1', 'condition#2', 'condition#3', 'condition#4',\n",
       "       'condition#5', 'grade#1', 'grade#3', 'grade#4', 'grade#5', 'grade#6',\n",
       "       'grade#7', 'grade#8', 'grade#9', 'grade#10', 'grade#11', 'grade#12',\n",
       "       'grade#13', 'zipcode#98004', 'zipcode#98102', 'zipcode#98109',\n",
       "       'zipcode#98112', 'zipcode#98039', 'zipcode#98040', 'price_cat'],\n",
       "      dtype='object')"
      ]
     },
     "execution_count": 12,
     "metadata": {},
     "output_type": "execute_result"
    }
   ],
   "source": [
    "features.columns"
   ]
  },
  {
   "cell_type": "code",
   "execution_count": 13,
   "metadata": {
    "collapsed": true
   },
   "outputs": [],
   "source": [
    "X_features = ['bedrooms', 'bathrooms', 'sqft_living', 'sqft_lot',\n",
    "       'waterfront', 'sqft_above', 'sqft_basement', 'yr_built', 'yr_renovated',\n",
    "       'lat', 'long', 'sqft_living15', 'sqft_lot15', 'basement_present',\n",
    "       'renovated', 'floors#1.0', 'floors#1.5', 'floors#2.0', 'floors#2.5',\n",
    "       'floors#3.0', 'floors#3.5', 'view#0', 'view#1', 'view#2', 'view#3',\n",
    "       'view#4', 'condition#1', 'condition#2', 'condition#3', 'condition#4',\n",
    "       'condition#5', 'grade#1', 'grade#3', 'grade#4', 'grade#5', 'grade#6',\n",
    "       'grade#7', 'grade#8', 'grade#9', 'grade#10', 'grade#11', 'grade#12',\n",
    "       'grade#13', 'zipcode#98004', 'zipcode#98102', 'zipcode#98109',\n",
    "       'zipcode#98112', 'zipcode#98039', 'zipcode#98040']\n",
    "\n",
    "X=features[['bedrooms', 'bathrooms', 'sqft_living', 'sqft_lot',\n",
    "       'waterfront', 'sqft_above', 'sqft_basement', 'yr_built', 'yr_renovated',\n",
    "       'lat', 'long', 'sqft_living15', 'sqft_lot15', 'basement_present',\n",
    "       'renovated', 'floors#1.0', 'floors#1.5', 'floors#2.0', 'floors#2.5',\n",
    "       'floors#3.0', 'floors#3.5', 'view#0', 'view#1', 'view#2', 'view#3',\n",
    "       'view#4', 'condition#1', 'condition#2', 'condition#3', 'condition#4',\n",
    "       'condition#5', 'grade#1', 'grade#3', 'grade#4', 'grade#5', 'grade#6',\n",
    "       'grade#7', 'grade#8', 'grade#9', 'grade#10', 'grade#11', 'grade#12',\n",
    "       'grade#13', 'zipcode#98004', 'zipcode#98102', 'zipcode#98109',\n",
    "       'zipcode#98112', 'zipcode#98039', 'zipcode#98040']]  # Features\n",
    "\n",
    "y=features['price_cat']  # Labels\n",
    "       \n",
    "# Split dataset into training set and test set\n",
    "X_train, X_test, y_train, y_test = train_test_split(X, y, test_size=0.3) # 70% training and 30% test"
   ]
  },
  {
   "cell_type": "code",
   "execution_count": 14,
   "metadata": {
    "collapsed": true
   },
   "outputs": [],
   "source": [
    "#Import Random Forest Model\n",
    "from sklearn.ensemble import RandomForestClassifier\n",
    "\n",
    "#Create a Gaussian Classifier\n",
    "clf=RandomForestClassifier(n_estimators=100)\n",
    "\n",
    "#Train the model using the training sets y_pred=clf.predict(X_test)\n",
    "clf.fit(X_train,y_train)\n",
    "\n",
    "y_pred=clf.predict(X_test)\n"
   ]
  },
  {
   "cell_type": "code",
   "execution_count": 15,
   "metadata": {
    "collapsed": true
   },
   "outputs": [],
   "source": [
    "#Import scikit-learn metrics module for accuracy calculation\n",
    "from sklearn import metrics\n",
    "# Model Accuracy, how often is the classifier correct?\n",
    "#print(\"Accuracy:\",metrics.accuracy_score(y_test, y_pred))\n"
   ]
  },
  {
   "cell_type": "code",
   "execution_count": 16,
   "metadata": {},
   "outputs": [
    {
     "data": {
      "text/plain": [
       "RandomForestClassifier(bootstrap=True, class_weight=None, criterion='gini',\n",
       "            max_depth=None, max_features='auto', max_leaf_nodes=None,\n",
       "            min_impurity_split=None, min_samples_leaf=1,\n",
       "            min_samples_split=2, min_weight_fraction_leaf=0.0,\n",
       "            n_estimators=100, n_jobs=1, oob_score=False, random_state=None,\n",
       "            verbose=0, warm_start=False)"
      ]
     },
     "execution_count": 16,
     "metadata": {},
     "output_type": "execute_result"
    }
   ],
   "source": [
    "RandomForestClassifier(bootstrap=True, class_weight=None, criterion='gini',\n",
    "            max_depth=None, max_features='auto', max_leaf_nodes=None,\n",
    "            min_impurity_split=None,\n",
    "            min_samples_leaf=1, min_samples_split=2,\n",
    "            min_weight_fraction_leaf=0.0, n_estimators=100, n_jobs=1,\n",
    "            oob_score=False, random_state=None, verbose=0,\n",
    "            warm_start=False)"
   ]
  },
  {
   "cell_type": "code",
   "execution_count": 17,
   "metadata": {},
   "outputs": [
    {
     "data": {
      "text/plain": [
       "lat                 2.788292e-01\n",
       "sqft_living         1.344183e-01\n",
       "sqft_living15       8.714934e-02\n",
       "sqft_above          7.490917e-02\n",
       "long                5.573858e-02\n",
       "sqft_lot15          5.328125e-02\n",
       "sqft_lot            4.880355e-02\n",
       "yr_built            4.764638e-02\n",
       "bathrooms           3.606762e-02\n",
       "sqft_basement       2.366234e-02\n",
       "grade#7             2.279572e-02\n",
       "bedrooms            1.668648e-02\n",
       "grade#9             1.611226e-02\n",
       "grade#8             1.432017e-02\n",
       "grade#6             1.178011e-02\n",
       "view#0              1.128215e-02\n",
       "floors#1.0          1.044881e-02\n",
       "basement_present    8.730148e-03\n",
       "floors#2.0          6.231788e-03\n",
       "condition#3         5.562632e-03\n",
       "grade#10            5.227652e-03\n",
       "condition#4         4.232433e-03\n",
       "floors#1.5          3.843423e-03\n",
       "yr_renovated        2.998096e-03\n",
       "condition#5         2.785064e-03\n",
       "view#2              2.208156e-03\n",
       "renovated           1.716123e-03\n",
       "zipcode#98004       1.545165e-03\n",
       "floors#3.0          1.188307e-03\n",
       "view#3              1.154706e-03\n",
       "zipcode#98040       1.105716e-03\n",
       "view#4              1.025462e-03\n",
       "waterfront          1.004444e-03\n",
       "view#1              8.259905e-04\n",
       "grade#11            8.158118e-04\n",
       "zipcode#98112       8.010646e-04\n",
       "condition#2         6.368025e-04\n",
       "zipcode#98102       4.803462e-04\n",
       "grade#5             4.722731e-04\n",
       "floors#2.5          4.452434e-04\n",
       "zipcode#98109       4.257848e-04\n",
       "condition#1         2.692382e-04\n",
       "zipcode#98039       2.313810e-04\n",
       "floors#3.5          5.133612e-05\n",
       "grade#4             4.479217e-05\n",
       "grade#12            9.014358e-06\n",
       "grade#3             8.828600e-08\n",
       "grade#1             4.073147e-09\n",
       "grade#13            0.000000e+00\n",
       "dtype: float64"
      ]
     },
     "execution_count": 17,
     "metadata": {},
     "output_type": "execute_result"
    }
   ],
   "source": [
    "feature_imp = pd.Series(clf.feature_importances_,index=X_features).sort_values(ascending=False)\n",
    "feature_imp"
   ]
  },
  {
   "cell_type": "code",
   "execution_count": 18,
   "metadata": {},
   "outputs": [
    {
     "data": {
      "text/plain": [
       "lat              0.278829\n",
       "sqft_living      0.134418\n",
       "sqft_living15    0.087149\n",
       "sqft_above       0.074909\n",
       "long             0.055739\n",
       "sqft_lot15       0.053281\n",
       "sqft_lot         0.048804\n",
       "yr_built         0.047646\n",
       "bathrooms        0.036068\n",
       "sqft_basement    0.023662\n",
       "dtype: float64"
      ]
     },
     "execution_count": 18,
     "metadata": {},
     "output_type": "execute_result"
    }
   ],
   "source": [
    "top_features = feature_imp.head(10)\n",
    "top_features"
   ]
  },
  {
   "cell_type": "code",
   "execution_count": 19,
   "metadata": {},
   "outputs": [
    {
     "name": "stderr",
     "output_type": "stream",
     "text": [
      "No handles with labels found to put in legend.\n"
     ]
    },
    {
     "data": {
      "image/png": "[encoded data removed]",
      "text/plain": [
       "<Figure size 432x288 with 1 Axes>"
      ]
     },
     "metadata": {},
     "output_type": "display_data"
    }
   ],
   "source": [
    "# Creating a bar plot\n",
    "sns.barplot(x=top_features, y=top_features.index)\n",
    "# Add labels to your graph\n",
    "plt.xlabel('Feature Importance Score')\n",
    "plt.ylabel('Features')\n",
    "plt.title(\"Visualizing Important Features\")\n",
    "plt.legend()\n",
    "plt.show()"
   ]
  },
  {
   "cell_type": "code",
   "execution_count": 20,
   "metadata": {
    "collapsed": true
   },
   "outputs": [],
   "source": [
    "from pprint import pprint"
   ]
  },
  {
   "cell_type": "code",
   "execution_count": 21,
   "metadata": {},
   "outputs": [
    {
     "name": "stdout",
     "output_type": "stream",
     "text": [
      "Parameters currently in use:\n",
      "\n",
      "{'bootstrap': True,\n",
      " 'class_weight': None,\n",
      " 'criterion': 'gini',\n",
      " 'max_depth': None,\n",
      " 'max_features': 'auto',\n",
      " 'max_leaf_nodes': None,\n",
      " 'min_impurity_split': 1e-07,\n",
      " 'min_samples_leaf': 1,\n",
      " 'min_samples_split': 2,\n",
      " 'min_weight_fraction_leaf': 0.0,\n",
      " 'n_estimators': 100,\n",
      " 'n_jobs': 1,\n",
      " 'oob_score': False,\n",
      " 'random_state': None,\n",
      " 'verbose': 0,\n",
      " 'warm_start': False}\n"
     ]
    }
   ],
   "source": [
    "# Look at parameters used by our current forest\n",
    "print('Parameters currently in use:\\n')\n",
    "pprint(clf.get_params())"
   ]
  },
  {
   "cell_type": "markdown",
   "metadata": {},
   "source": [
    "According to the documentation, the most important settings are the number of trees in the forest (n_estimators) and the number of features considered for splitting at each leaf node (max_features)"
   ]
  },
  {
   "cell_type": "markdown",
   "metadata": {},
   "source": [
    "We will try adjusting the following set of hyperparameters:\n",
    "\n"
   ]
  },
  {
   "cell_type": "markdown",
   "metadata": {},
   "source": [
    "### Finding important hyper-parameters\n",
    "\n",
    "The important parameters for a Random Forest Classfier are as follows:\n",
    "\n",
    "\n",
    "\n",
    "### We will use RandomSearchCV and GridSearchCV to find the best values for the same"
   ]
  },
  {
   "cell_type": "code",
   "execution_count": 22,
   "metadata": {
    "collapsed": true
   },
   "outputs": [],
   "source": [
    "from sklearn.model_selection import RandomizedSearchCV"
   ]
  },
  {
   "cell_type": "code",
   "execution_count": 23,
   "metadata": {},
   "outputs": [
    {
     "name": "stdout",
     "output_type": "stream",
     "text": [
      "{'max_depth': [2, 4, 6, 8, 10, None],\n",
      " 'max_features': ['auto', 'sqrt'],\n",
      " 'min_samples_leaf': [2, 4],\n",
      " 'min_samples_split': [5, 10],\n",
      " 'n_estimators': [10, 57, 105, 152, 200]}\n"
     ]
    }
   ],
   "source": [
    "# Number of trees in random forest\n",
    "n_estimators = [int(x) for x in np.linspace(start = 10, stop = 200, num = 5)]\n",
    "# Number of features to consider at every split\n",
    "max_features = ['auto', 'sqrt']\n",
    "# Maximum number of levels in tree\n",
    "max_depth = [int(x) for x in np.linspace(2, 10, num = 5)]\n",
    "max_depth.append(None)\n",
    "# Minimum number of samples required to split a node\n",
    "min_samples_split = [5, 10]\n",
    "# Minimum number of samples required at each leaf node\n",
    "min_samples_leaf = [2, 4]\n",
    "# Method of selecting samples for training each tree\n",
    "#bootstrap = [True, False]\n",
    "# Create the random grid\n",
    "random_grid = {'n_estimators': n_estimators,\n",
    "               'max_features': max_features,\n",
    "               'max_depth': max_depth,\n",
    "               'min_samples_split': min_samples_split,\n",
    "               'min_samples_leaf': min_samples_leaf}\n",
    "pprint(random_grid)"
   ]
  },
  {
   "cell_type": "code",
   "execution_count": 24,
   "metadata": {},
   "outputs": [
    {
     "name": "stdout",
     "output_type": "stream",
     "text": [
      "Fitting 3 folds for each of 100 candidates, totalling 300 fits\n",
      "[CV] n_estimators=200, min_samples_split=5, min_samples_leaf=2, max_features=sqrt, max_depth=2 \n",
      "[CV] n_estimators=200, min_samples_split=5, min_samples_leaf=2, max_features=sqrt, max_depth=2 \n",
      "[CV] n_estimators=200, min_samples_split=5, min_samples_leaf=2, max_features=sqrt, max_depth=2 \n",
      "[CV] n_estimators=57, min_samples_split=10, min_samples_leaf=2, max_features=auto, max_depth=2 \n",
      "[CV] n_estimators=57, min_samples_split=10, min_samples_leaf=2, max_features=auto, max_depth=2 \n",
      "[CV] n_estimators=57, min_samples_split=10, min_samples_leaf=2, max_features=auto, max_depth=2 \n",
      "[CV] n_estimators=152, min_samples_split=5, min_samples_leaf=4, max_features=auto, max_depth=6 \n",
      "[CV] n_estimators=152, min_samples_split=5, min_samples_leaf=4, max_features=auto, max_depth=6 \n",
      "[CV]  n_estimators=57, min_samples_split=10, min_samples_leaf=2, max_features=auto, max_depth=2, total=   0.5s\n",
      "[CV] n_estimators=152, min_samples_split=5, min_samples_leaf=4, max_features=auto, max_depth=6 \n",
      "[CV]  n_estimators=57, min_samples_split=10, min_samples_leaf=2, max_features=auto, max_depth=2, total=   0.5s\n",
      "[CV] n_estimators=200, min_samples_split=10, min_samples_leaf=2, max_features=sqrt, max_depth=6 \n",
      "[CV]  n_estimators=57, min_samples_split=10, min_samples_leaf=2, max_features=auto, max_depth=2, total=   0.5s\n",
      "[CV] n_estimators=200, min_samples_split=10, min_samples_leaf=2, max_features=sqrt, max_depth=6 \n",
      "[CV]  n_estimators=200, min_samples_split=5, min_samples_leaf=2, max_features=sqrt, max_depth=2, total=   1.5s\n",
      "[CV] n_estimators=200, min_samples_split=10, min_samples_leaf=2, max_features=sqrt, max_depth=6 \n",
      "[CV]  n_estimators=200, min_samples_split=5, min_samples_leaf=2, max_features=sqrt, max_depth=2, total=   1.5s\n",
      "[CV] n_estimators=200, min_samples_split=5, min_samples_leaf=2, max_features=sqrt, max_depth=6 \n",
      "[CV]  n_estimators=200, min_samples_split=5, min_samples_leaf=2, max_features=sqrt, max_depth=2, total=   1.5s\n",
      "[CV] n_estimators=200, min_samples_split=5, min_samples_leaf=2, max_features=sqrt, max_depth=6 \n",
      "[CV]  n_estimators=152, min_samples_split=5, min_samples_leaf=4, max_features=auto, max_depth=6, total=   2.2s\n",
      "[CV] n_estimators=200, min_samples_split=5, min_samples_leaf=2, max_features=sqrt, max_depth=6 \n",
      "[CV]  n_estimators=152, min_samples_split=5, min_samples_leaf=4, max_features=auto, max_depth=6, total=   2.2s\n",
      "[CV] n_estimators=105, min_samples_split=5, min_samples_leaf=4, max_features=auto, max_depth=10 \n",
      "[CV]  n_estimators=152, min_samples_split=5, min_samples_leaf=4, max_features=auto, max_depth=6, total=   2.1s\n",
      "[CV] n_estimators=105, min_samples_split=5, min_samples_leaf=4, max_features=auto, max_depth=10 \n",
      "[CV]  n_estimators=200, min_samples_split=10, min_samples_leaf=2, max_features=sqrt, max_depth=6, total=   2.9s\n",
      "[CV] n_estimators=105, min_samples_split=5, min_samples_leaf=4, max_features=auto, max_depth=10 \n",
      "[CV]  n_estimators=200, min_samples_split=10, min_samples_leaf=2, max_features=sqrt, max_depth=6, total=   2.9s\n",
      "[CV] n_estimators=152, min_samples_split=5, min_samples_leaf=4, max_features=sqrt, max_depth=None \n",
      "[CV]  n_estimators=200, min_samples_split=10, min_samples_leaf=2, max_features=sqrt, max_depth=6, total=   2.7s\n",
      "[CV] n_estimators=152, min_samples_split=5, min_samples_leaf=4, max_features=sqrt, max_depth=None \n",
      "[CV]  n_estimators=200, min_samples_split=5, min_samples_leaf=2, max_features=sqrt, max_depth=6, total=   2.7s\n",
      "[CV] n_estimators=152, min_samples_split=5, min_samples_leaf=4, max_features=sqrt, max_depth=None \n",
      "[CV]  n_estimators=105, min_samples_split=5, min_samples_leaf=4, max_features=auto, max_depth=10, total=   2.0s\n",
      "[CV]  n_estimators=200, min_samples_split=5, min_samples_leaf=2, max_features=sqrt, max_depth=6, total=   2.7s\n",
      "[CV] n_estimators=57, min_samples_split=10, min_samples_leaf=2, max_features=auto, max_depth=6 \n",
      "[CV] n_estimators=57, min_samples_split=10, min_samples_leaf=2, max_features=auto, max_depth=6 \n",
      "[CV]  n_estimators=105, min_samples_split=5, min_samples_leaf=4, max_features=auto, max_depth=10, total=   2.0s\n",
      "[CV] n_estimators=57, min_samples_split=10, min_samples_leaf=2, max_features=auto, max_depth=6 \n",
      "[CV]  n_estimators=200, min_samples_split=5, min_samples_leaf=2, max_features=sqrt, max_depth=6, total=   2.6s\n",
      "[CV] n_estimators=200, min_samples_split=10, min_samples_leaf=2, max_features=auto, max_depth=2 \n",
      "[CV]  n_estimators=57, min_samples_split=10, min_samples_leaf=2, max_features=auto, max_depth=6, total=   0.8s\n",
      "[CV] n_estimators=200, min_samples_split=10, min_samples_leaf=2, max_features=auto, max_depth=2 \n",
      "[CV]  n_estimators=57, min_samples_split=10, min_samples_leaf=2, max_features=auto, max_depth=6, total=   0.8s\n",
      "[CV] n_estimators=200, min_samples_split=10, min_samples_leaf=2, max_features=auto, max_depth=2 \n",
      "[CV]  n_estimators=105, min_samples_split=5, min_samples_leaf=4, max_features=auto, max_depth=10, total=   1.9s\n",
      "[CV] n_estimators=152, min_samples_split=5, min_samples_leaf=2, max_features=sqrt, max_depth=8 \n",
      "[CV]  n_estimators=57, min_samples_split=10, min_samples_leaf=2, max_features=auto, max_depth=6, total=   0.8s\n",
      "[CV] n_estimators=152, min_samples_split=5, min_samples_leaf=2, max_features=sqrt, max_depth=8 \n",
      "[CV]  n_estimators=200, min_samples_split=10, min_samples_leaf=2, max_features=auto, max_depth=2, total=   1.3s\n",
      "[CV] n_estimators=152, min_samples_split=5, min_samples_leaf=2, max_features=sqrt, max_depth=8 \n",
      "[CV]  n_estimators=152, min_samples_split=5, min_samples_leaf=4, max_features=sqrt, max_depth=None, total=   3.2s\n",
      "[CV]  n_estimators=200, min_samples_split=10, min_samples_leaf=2, max_features=auto, max_depth=2, total=   1.4s\n",
      "[CV] n_estimators=10, min_samples_split=10, min_samples_leaf=2, max_features=auto, max_depth=4 \n",
      "[CV]  n_estimators=200, min_samples_split=10, min_samples_leaf=2, max_features=auto, max_depth=2, total=   1.4s\n",
      "[CV] n_estimators=10, min_samples_split=10, min_samples_leaf=2, max_features=auto, max_depth=4 \n",
      "[CV] n_estimators=10, min_samples_split=10, min_samples_leaf=2, max_features=auto, max_depth=4 \n",
      "[CV]  n_estimators=10, min_samples_split=10, min_samples_leaf=2, max_features=auto, max_depth=4, total=   0.1s\n",
      "[CV]  n_estimators=10, min_samples_split=10, min_samples_leaf=2, max_features=auto, max_depth=4, total=   0.1s\n",
      "[CV] n_estimators=57, min_samples_split=10, min_samples_leaf=2, max_features=auto, max_depth=None \n",
      "[CV] n_estimators=57, min_samples_split=10, min_samples_leaf=2, max_features=auto, max_depth=None \n",
      "[CV]  n_estimators=10, min_samples_split=10, min_samples_leaf=2, max_features=auto, max_depth=4, total=   0.1s\n",
      "[CV] n_estimators=57, min_samples_split=10, min_samples_leaf=2, max_features=auto, max_depth=None \n"
     ]
    },
    {
     "name": "stderr",
     "output_type": "stream",
     "text": [
      "[Parallel(n_jobs=-1)]: Done  25 tasks      | elapsed:    7.6s\n"
     ]
    },
    {
     "name": "stdout",
     "output_type": "stream",
     "text": [
      "[CV]  n_estimators=152, min_samples_split=5, min_samples_leaf=4, max_features=sqrt, max_depth=None, total=   3.0s\n",
      "[CV] n_estimators=200, min_samples_split=5, min_samples_leaf=4, max_features=sqrt, max_depth=6 \n",
      "[CV]  n_estimators=152, min_samples_split=5, min_samples_leaf=4, max_features=sqrt, max_depth=None, total=   3.1s\n",
      "[CV] n_estimators=200, min_samples_split=5, min_samples_leaf=4, max_features=sqrt, max_depth=6 \n",
      "[CV]  n_estimators=152, min_samples_split=5, min_samples_leaf=2, max_features=sqrt, max_depth=8, total=   2.3s\n",
      "[CV] n_estimators=200, min_samples_split=5, min_samples_leaf=4, max_features=sqrt, max_depth=6 \n",
      "[CV]  n_estimators=152, min_samples_split=5, min_samples_leaf=2, max_features=sqrt, max_depth=8, total=   2.3s\n",
      "[CV] n_estimators=152, min_samples_split=10, min_samples_leaf=2, max_features=auto, max_depth=10 \n",
      "[CV]  n_estimators=57, min_samples_split=10, min_samples_leaf=2, max_features=auto, max_depth=None, total=   1.1s\n",
      "[CV]  n_estimators=57, min_samples_split=10, min_samples_leaf=2, max_features=auto, max_depth=None, total=   1.1s\n",
      "[CV] n_estimators=152, min_samples_split=10, min_samples_leaf=2, max_features=auto, max_depth=10 \n",
      "[CV]  n_estimators=57, min_samples_split=10, min_samples_leaf=2, max_features=auto, max_depth=None, total=   1.2s\n",
      "[CV] n_estimators=152, min_samples_split=10, min_samples_leaf=2, max_features=auto, max_depth=10 \n",
      "[CV] n_estimators=152, min_samples_split=5, min_samples_leaf=4, max_features=sqrt, max_depth=6 \n",
      "[CV]  n_estimators=152, min_samples_split=5, min_samples_leaf=2, max_features=sqrt, max_depth=8, total=   2.2s\n",
      "[CV] n_estimators=152, min_samples_split=5, min_samples_leaf=4, max_features=sqrt, max_depth=6 \n",
      "[CV]  n_estimators=200, min_samples_split=5, min_samples_leaf=4, max_features=sqrt, max_depth=6, total=   2.4s\n",
      "[CV] n_estimators=152, min_samples_split=5, min_samples_leaf=4, max_features=sqrt, max_depth=6 \n",
      "[CV]  n_estimators=152, min_samples_split=5, min_samples_leaf=4, max_features=sqrt, max_depth=6, total=   1.8s\n",
      "[CV] n_estimators=10, min_samples_split=5, min_samples_leaf=4, max_features=sqrt, max_depth=None \n",
      "[CV]  n_estimators=200, min_samples_split=5, min_samples_leaf=4, max_features=sqrt, max_depth=6, total=   2.4s\n",
      "[CV] n_estimators=10, min_samples_split=5, min_samples_leaf=4, max_features=sqrt, max_depth=None \n",
      "[CV]  n_estimators=10, min_samples_split=5, min_samples_leaf=4, max_features=sqrt, max_depth=None, total=   0.2s\n",
      "[CV]  n_estimators=10, min_samples_split=5, min_samples_leaf=4, max_features=sqrt, max_depth=None, total=   0.2s\n",
      "[CV] n_estimators=10, min_samples_split=5, min_samples_leaf=4, max_features=sqrt, max_depth=None \n",
      "[CV]  n_estimators=200, min_samples_split=5, min_samples_leaf=4, max_features=sqrt, max_depth=6, total=   2.4s\n",
      "[CV] n_estimators=10, min_samples_split=10, min_samples_leaf=2, max_features=sqrt, max_depth=10 \n",
      "[CV] n_estimators=10, min_samples_split=10, min_samples_leaf=2, max_features=sqrt, max_depth=10 \n",
      "[CV]  n_estimators=10, min_samples_split=10, min_samples_leaf=2, max_features=sqrt, max_depth=10, total=   0.2s\n",
      "[CV]  n_estimators=10, min_samples_split=5, min_samples_leaf=4, max_features=sqrt, max_depth=None, total=   0.2s\n",
      "[CV] n_estimators=10, min_samples_split=10, min_samples_leaf=2, max_features=sqrt, max_depth=10 \n",
      "[CV]  n_estimators=10, min_samples_split=10, min_samples_leaf=2, max_features=sqrt, max_depth=10, total=   0.2s\n",
      "[CV] n_estimators=10, min_samples_split=10, min_samples_leaf=4, max_features=auto, max_depth=2 \n",
      "[CV] n_estimators=10, min_samples_split=10, min_samples_leaf=4, max_features=auto, max_depth=2 \n",
      "[CV]  n_estimators=10, min_samples_split=10, min_samples_leaf=4, max_features=auto, max_depth=2, total=   0.1s\n",
      "[CV]  n_estimators=10, min_samples_split=10, min_samples_leaf=4, max_features=auto, max_depth=2, total=   0.1s\n",
      "[CV]  n_estimators=152, min_samples_split=10, min_samples_leaf=2, max_features=auto, max_depth=10, total=   2.6s\n",
      "[CV] n_estimators=10, min_samples_split=10, min_samples_leaf=4, max_features=auto, max_depth=2 \n",
      "[CV] n_estimators=105, min_samples_split=5, min_samples_leaf=4, max_features=sqrt, max_depth=8 \n",
      "[CV]  n_estimators=10, min_samples_split=10, min_samples_leaf=2, max_features=sqrt, max_depth=10, total=   0.2s\n",
      "[CV]  n_estimators=10, min_samples_split=10, min_samples_leaf=4, max_features=auto, max_depth=2, total=   0.1s\n",
      "[CV] n_estimators=105, min_samples_split=5, min_samples_leaf=4, max_features=sqrt, max_depth=8 \n",
      "[CV] n_estimators=105, min_samples_split=5, min_samples_leaf=4, max_features=sqrt, max_depth=8 \n",
      "[CV] n_estimators=10, min_samples_split=10, min_samples_leaf=2, max_features=auto, max_depth=8 \n",
      "[CV]  n_estimators=152, min_samples_split=10, min_samples_leaf=2, max_features=auto, max_depth=10, total=   2.6s\n",
      "[CV]  n_estimators=152, min_samples_split=10, min_samples_leaf=2, max_features=auto, max_depth=10, total=   2.5s\n",
      "[CV] n_estimators=10, min_samples_split=10, min_samples_leaf=2, max_features=auto, max_depth=8 \n",
      "[CV] n_estimators=10, min_samples_split=10, min_samples_leaf=2, max_features=auto, max_depth=8 \n",
      "[CV]  n_estimators=152, min_samples_split=5, min_samples_leaf=4, max_features=sqrt, max_depth=6, total=   1.8s\n",
      "[CV] n_estimators=105, min_samples_split=10, min_samples_leaf=2, max_features=auto, max_depth=8 \n",
      "[CV]  n_estimators=10, min_samples_split=10, min_samples_leaf=2, max_features=auto, max_depth=8, total=   0.2s\n",
      "[CV] n_estimators=105, min_samples_split=10, min_samples_leaf=2, max_features=auto, max_depth=8 \n",
      "[CV]  n_estimators=10, min_samples_split=10, min_samples_leaf=2, max_features=auto, max_depth=8, total=   0.2s\n",
      "[CV]  n_estimators=10, min_samples_split=10, min_samples_leaf=2, max_features=auto, max_depth=8, total=   0.2s\n",
      "[CV] n_estimators=105, min_samples_split=10, min_samples_leaf=2, max_features=auto, max_depth=8 \n",
      "[CV] n_estimators=200, min_samples_split=10, min_samples_leaf=4, max_features=auto, max_depth=2 \n",
      "[CV]  n_estimators=152, min_samples_split=5, min_samples_leaf=4, max_features=sqrt, max_depth=6, total=   1.8s\n",
      "[CV] n_estimators=200, min_samples_split=10, min_samples_leaf=4, max_features=auto, max_depth=2 \n",
      "[CV]  n_estimators=105, min_samples_split=5, min_samples_leaf=4, max_features=sqrt, max_depth=8, total=   1.5s\n",
      "[CV] n_estimators=200, min_samples_split=10, min_samples_leaf=4, max_features=auto, max_depth=2 \n",
      "[CV]  n_estimators=105, min_samples_split=5, min_samples_leaf=4, max_features=sqrt, max_depth=8, total=   1.5s\n",
      "[CV] n_estimators=10, min_samples_split=10, min_samples_leaf=4, max_features=sqrt, max_depth=None \n",
      "[CV]  n_estimators=105, min_samples_split=5, min_samples_leaf=4, max_features=sqrt, max_depth=8, total=   1.6s\n",
      "[CV] n_estimators=10, min_samples_split=10, min_samples_leaf=4, max_features=sqrt, max_depth=None \n",
      "[CV]  n_estimators=200, min_samples_split=10, min_samples_leaf=4, max_features=auto, max_depth=2, total=   1.3s\n",
      "[CV] n_estimators=10, min_samples_split=10, min_samples_leaf=4, max_features=sqrt, max_depth=None \n",
      "[CV]  n_estimators=105, min_samples_split=10, min_samples_leaf=2, max_features=auto, max_depth=8, total=   1.6s\n",
      "[CV]  n_estimators=10, min_samples_split=10, min_samples_leaf=4, max_features=sqrt, max_depth=None, total=   0.2s\n",
      "[CV] n_estimators=10, min_samples_split=5, min_samples_leaf=4, max_features=sqrt, max_depth=2 \n",
      "[CV]  n_estimators=10, min_samples_split=10, min_samples_leaf=4, max_features=sqrt, max_depth=None, total=   0.2s\n",
      "[CV]  n_estimators=105, min_samples_split=10, min_samples_leaf=2, max_features=auto, max_depth=8, total=   1.6s\n",
      "[CV] n_estimators=10, min_samples_split=5, min_samples_leaf=4, max_features=sqrt, max_depth=2 \n",
      "[CV]  n_estimators=105, min_samples_split=10, min_samples_leaf=2, max_features=auto, max_depth=8, total=   1.6s\n",
      "[CV] n_estimators=10, min_samples_split=5, min_samples_leaf=4, max_features=sqrt, max_depth=2 \n",
      "[CV] n_estimators=57, min_samples_split=10, min_samples_leaf=4, max_features=auto, max_depth=10 \n",
      "[CV] n_estimators=57, min_samples_split=10, min_samples_leaf=4, max_features=auto, max_depth=10 \n",
      "[CV]  n_estimators=10, min_samples_split=5, min_samples_leaf=4, max_features=sqrt, max_depth=2, total=   0.1s\n",
      "[CV]  n_estimators=10, min_samples_split=5, min_samples_leaf=4, max_features=sqrt, max_depth=2, total=   0.1s\n",
      "[CV]  n_estimators=10, min_samples_split=5, min_samples_leaf=4, max_features=sqrt, max_depth=2, total=   0.1s\n"
     ]
    },
    {
     "name": "stdout",
     "output_type": "stream",
     "text": [
      "[CV]  n_estimators=10, min_samples_split=10, min_samples_leaf=4, max_features=sqrt, max_depth=None, total=   0.2s\n",
      "[CV] n_estimators=57, min_samples_split=10, min_samples_leaf=4, max_features=auto, max_depth=10 \n",
      "[CV] n_estimators=10, min_samples_split=5, min_samples_leaf=4, max_features=sqrt, max_depth=8 \n",
      "[CV] n_estimators=10, min_samples_split=5, min_samples_leaf=4, max_features=sqrt, max_depth=8 \n",
      "[CV] n_estimators=10, min_samples_split=5, min_samples_leaf=4, max_features=sqrt, max_depth=8 \n",
      "[CV]  n_estimators=10, min_samples_split=5, min_samples_leaf=4, max_features=sqrt, max_depth=8, total=   0.2s\n",
      "[CV]  n_estimators=10, min_samples_split=5, min_samples_leaf=4, max_features=sqrt, max_depth=8, total=   0.2s\n",
      "[CV]  n_estimators=10, min_samples_split=5, min_samples_leaf=4, max_features=sqrt, max_depth=8, total=   0.2s\n",
      "[CV] n_estimators=10, min_samples_split=5, min_samples_leaf=4, max_features=auto, max_depth=2 \n",
      "[CV] n_estimators=10, min_samples_split=5, min_samples_leaf=4, max_features=auto, max_depth=2 \n",
      "[CV] n_estimators=10, min_samples_split=5, min_samples_leaf=4, max_features=auto, max_depth=2 \n",
      "[CV]  n_estimators=10, min_samples_split=5, min_samples_leaf=4, max_features=auto, max_depth=2, total=   0.1s\n",
      "[CV]  n_estimators=10, min_samples_split=5, min_samples_leaf=4, max_features=auto, max_depth=2, total=   0.1s\n",
      "[CV] n_estimators=57, min_samples_split=5, min_samples_leaf=2, max_features=auto, max_depth=None \n",
      "[CV]  n_estimators=10, min_samples_split=5, min_samples_leaf=4, max_features=auto, max_depth=2, total=   0.1s\n",
      "[CV] n_estimators=57, min_samples_split=5, min_samples_leaf=2, max_features=auto, max_depth=None \n",
      "[CV] n_estimators=57, min_samples_split=5, min_samples_leaf=2, max_features=auto, max_depth=None \n",
      "[CV]  n_estimators=200, min_samples_split=10, min_samples_leaf=4, max_features=auto, max_depth=2, total=   1.6s\n",
      "[CV] n_estimators=105, min_samples_split=10, min_samples_leaf=4, max_features=sqrt, max_depth=None \n",
      "[CV]  n_estimators=57, min_samples_split=10, min_samples_leaf=4, max_features=auto, max_depth=10, total=   1.2s\n",
      "[CV]  n_estimators=57, min_samples_split=10, min_samples_leaf=4, max_features=auto, max_depth=10, total=   1.2s\n",
      "[CV] n_estimators=105, min_samples_split=10, min_samples_leaf=4, max_features=sqrt, max_depth=None \n",
      "[CV] n_estimators=105, min_samples_split=10, min_samples_leaf=4, max_features=sqrt, max_depth=None \n",
      "[CV]  n_estimators=57, min_samples_split=10, min_samples_leaf=4, max_features=auto, max_depth=10, total=   1.2s\n",
      "[CV] n_estimators=152, min_samples_split=5, min_samples_leaf=4, max_features=sqrt, max_depth=8 \n",
      "[CV]  n_estimators=200, min_samples_split=10, min_samples_leaf=4, max_features=auto, max_depth=2, total=   1.6s\n",
      "[CV] n_estimators=152, min_samples_split=5, min_samples_leaf=4, max_features=sqrt, max_depth=8 \n",
      "[CV]  n_estimators=57, min_samples_split=5, min_samples_leaf=2, max_features=auto, max_depth=None, total=   1.6s\n",
      "[CV]  n_estimators=57, min_samples_split=5, min_samples_leaf=2, max_features=auto, max_depth=None, total=   1.6s\n",
      "[CV]  n_estimators=57, min_samples_split=5, min_samples_leaf=2, max_features=auto, max_depth=None, total=   1.7s\n",
      "[CV] n_estimators=152, min_samples_split=5, min_samples_leaf=4, max_features=sqrt, max_depth=8 \n",
      "[CV] n_estimators=57, min_samples_split=10, min_samples_leaf=4, max_features=auto, max_depth=6 \n",
      "[CV] n_estimators=57, min_samples_split=10, min_samples_leaf=4, max_features=auto, max_depth=6 \n",
      "[CV]  n_estimators=57, min_samples_split=10, min_samples_leaf=4, max_features=auto, max_depth=6, total=   0.7s\n",
      "[CV] n_estimators=57, min_samples_split=10, min_samples_leaf=4, max_features=auto, max_depth=6 \n",
      "[CV]  n_estimators=57, min_samples_split=10, min_samples_leaf=4, max_features=auto, max_depth=6, total=   0.7s\n",
      "[CV] n_estimators=152, min_samples_split=10, min_samples_leaf=2, max_features=sqrt, max_depth=None \n",
      "[CV]  n_estimators=105, min_samples_split=10, min_samples_leaf=4, max_features=sqrt, max_depth=None, total=   2.4s\n",
      "[CV] n_estimators=152, min_samples_split=10, min_samples_leaf=2, max_features=sqrt, max_depth=None \n",
      "[CV]  n_estimators=105, min_samples_split=10, min_samples_leaf=4, max_features=sqrt, max_depth=None, total=   2.3s\n",
      "[CV] n_estimators=152, min_samples_split=10, min_samples_leaf=2, max_features=sqrt, max_depth=None \n",
      "[CV]  n_estimators=57, min_samples_split=10, min_samples_leaf=4, max_features=auto, max_depth=6, total=   0.9s\n",
      "[CV]  n_estimators=105, min_samples_split=10, min_samples_leaf=4, max_features=sqrt, max_depth=None, total=   2.4s\n",
      "[CV] n_estimators=10, min_samples_split=10, min_samples_leaf=2, max_features=sqrt, max_depth=2 \n",
      "[CV] n_estimators=10, min_samples_split=10, min_samples_leaf=2, max_features=sqrt, max_depth=2 \n",
      "[CV]  n_estimators=10, min_samples_split=10, min_samples_leaf=2, max_features=sqrt, max_depth=2, total=   0.1s\n",
      "[CV]  n_estimators=10, min_samples_split=10, min_samples_leaf=2, max_features=sqrt, max_depth=2, total=   0.1s\n",
      "[CV] n_estimators=10, min_samples_split=10, min_samples_leaf=2, max_features=sqrt, max_depth=2 \n",
      "[CV] n_estimators=105, min_samples_split=5, min_samples_leaf=2, max_features=sqrt, max_depth=10 \n",
      "[CV]  n_estimators=10, min_samples_split=10, min_samples_leaf=2, max_features=sqrt, max_depth=2, total=   0.1s\n",
      "[CV] n_estimators=105, min_samples_split=5, min_samples_leaf=2, max_features=sqrt, max_depth=10 \n",
      "[CV]  n_estimators=152, min_samples_split=5, min_samples_leaf=4, max_features=sqrt, max_depth=8, total=   2.5s\n",
      "[CV] n_estimators=105, min_samples_split=5, min_samples_leaf=2, max_features=sqrt, max_depth=10 \n",
      "[CV]  n_estimators=152, min_samples_split=5, min_samples_leaf=4, max_features=sqrt, max_depth=8, total=   2.5s\n",
      "[CV] n_estimators=152, min_samples_split=10, min_samples_leaf=4, max_features=auto, max_depth=2 \n",
      "[CV]  n_estimators=152, min_samples_split=5, min_samples_leaf=4, max_features=sqrt, max_depth=8, total=   2.5s\n",
      "[CV] n_estimators=152, min_samples_split=10, min_samples_leaf=4, max_features=auto, max_depth=2 \n",
      "[CV]  n_estimators=152, min_samples_split=10, min_samples_leaf=4, max_features=auto, max_depth=2, total=   1.1s\n",
      "[CV] n_estimators=152, min_samples_split=10, min_samples_leaf=4, max_features=auto, max_depth=2 \n",
      "[CV]  n_estimators=152, min_samples_split=10, min_samples_leaf=4, max_features=auto, max_depth=2, total=   1.0s\n",
      "[CV] n_estimators=200, min_samples_split=10, min_samples_leaf=2, max_features=sqrt, max_depth=4 \n",
      "[CV]  n_estimators=105, min_samples_split=5, min_samples_leaf=2, max_features=sqrt, max_depth=10, total=   1.9s\n",
      "[CV] n_estimators=200, min_samples_split=10, min_samples_leaf=2, max_features=sqrt, max_depth=4 \n",
      "[CV]  n_estimators=105, min_samples_split=5, min_samples_leaf=2, max_features=sqrt, max_depth=10, total=   1.9s\n",
      "[CV] n_estimators=200, min_samples_split=10, min_samples_leaf=2, max_features=sqrt, max_depth=4 \n",
      "[CV]  n_estimators=105, min_samples_split=5, min_samples_leaf=2, max_features=sqrt, max_depth=10, total=   1.9s\n",
      "[CV] n_estimators=105, min_samples_split=5, min_samples_leaf=4, max_features=sqrt, max_depth=10 \n",
      "[CV]  n_estimators=152, min_samples_split=10, min_samples_leaf=2, max_features=sqrt, max_depth=None, total=   3.4s\n",
      "[CV] n_estimators=105, min_samples_split=5, min_samples_leaf=4, max_features=sqrt, max_depth=10 \n",
      "[CV]  n_estimators=152, min_samples_split=10, min_samples_leaf=4, max_features=auto, max_depth=2, total=   1.1s\n",
      "[CV] n_estimators=105, min_samples_split=5, min_samples_leaf=4, max_features=sqrt, max_depth=10 \n",
      "[CV]  n_estimators=152, min_samples_split=10, min_samples_leaf=2, max_features=sqrt, max_depth=None, total=   3.3s\n",
      "[CV] n_estimators=10, min_samples_split=10, min_samples_leaf=4, max_features=auto, max_depth=4 \n",
      "[CV]  n_estimators=152, min_samples_split=10, min_samples_leaf=2, max_features=sqrt, max_depth=None, total=   3.3s\n",
      "[CV] n_estimators=10, min_samples_split=10, min_samples_leaf=4, max_features=auto, max_depth=4 \n",
      "[CV]  n_estimators=10, min_samples_split=10, min_samples_leaf=4, max_features=auto, max_depth=4, total=   0.1s\n",
      "[CV] n_estimators=10, min_samples_split=10, min_samples_leaf=4, max_features=auto, max_depth=4 \n",
      "[CV]  n_estimators=10, min_samples_split=10, min_samples_leaf=4, max_features=auto, max_depth=4, total=   0.1s\n",
      "[CV] n_estimators=200, min_samples_split=10, min_samples_leaf=4, max_features=sqrt, max_depth=4 \n"
     ]
    },
    {
     "name": "stdout",
     "output_type": "stream",
     "text": [
      "[CV]  n_estimators=10, min_samples_split=10, min_samples_leaf=4, max_features=auto, max_depth=4, total=   0.1s\n",
      "[CV] n_estimators=200, min_samples_split=10, min_samples_leaf=4, max_features=sqrt, max_depth=4 \n",
      "[CV]  n_estimators=200, min_samples_split=10, min_samples_leaf=2, max_features=sqrt, max_depth=4, total=   2.0s\n",
      "[CV]  n_estimators=200, min_samples_split=10, min_samples_leaf=2, max_features=sqrt, max_depth=4, total=   1.9s\n",
      "[CV] n_estimators=200, min_samples_split=10, min_samples_leaf=4, max_features=sqrt, max_depth=4 \n",
      "[CV] n_estimators=10, min_samples_split=10, min_samples_leaf=4, max_features=auto, max_depth=10 \n",
      "[CV]  n_estimators=200, min_samples_split=10, min_samples_leaf=2, max_features=sqrt, max_depth=4, total=   1.9s\n",
      "[CV] n_estimators=10, min_samples_split=10, min_samples_leaf=4, max_features=auto, max_depth=10 \n",
      "[CV]  n_estimators=105, min_samples_split=5, min_samples_leaf=4, max_features=sqrt, max_depth=10, total=   1.9s\n",
      "[CV] n_estimators=10, min_samples_split=10, min_samples_leaf=4, max_features=auto, max_depth=10 \n",
      "[CV]  n_estimators=10, min_samples_split=10, min_samples_leaf=4, max_features=auto, max_depth=10, total=   0.2s\n",
      "[CV] n_estimators=105, min_samples_split=10, min_samples_leaf=2, max_features=sqrt, max_depth=None \n",
      "[CV]  n_estimators=10, min_samples_split=10, min_samples_leaf=4, max_features=auto, max_depth=10, total=   0.2s\n",
      "[CV] n_estimators=105, min_samples_split=10, min_samples_leaf=2, max_features=sqrt, max_depth=None \n",
      "[CV]  n_estimators=10, min_samples_split=10, min_samples_leaf=4, max_features=auto, max_depth=10, total=   0.2s\n",
      "[CV] n_estimators=105, min_samples_split=10, min_samples_leaf=2, max_features=sqrt, max_depth=None \n",
      "[CV]  n_estimators=105, min_samples_split=5, min_samples_leaf=4, max_features=sqrt, max_depth=10, total=   2.0s\n",
      "[CV]  n_estimators=105, min_samples_split=5, min_samples_leaf=4, max_features=sqrt, max_depth=10, total=   1.9s\n",
      "[CV] n_estimators=105, min_samples_split=5, min_samples_leaf=4, max_features=sqrt, max_depth=6 \n",
      "[CV] n_estimators=105, min_samples_split=5, min_samples_leaf=4, max_features=sqrt, max_depth=6 \n",
      "[CV]  n_estimators=200, min_samples_split=10, min_samples_leaf=4, max_features=sqrt, max_depth=4, total=   2.3s\n",
      "[CV]  n_estimators=200, min_samples_split=10, min_samples_leaf=4, max_features=sqrt, max_depth=4, total=   2.2s\n",
      "[CV] n_estimators=105, min_samples_split=5, min_samples_leaf=4, max_features=sqrt, max_depth=6 \n",
      "[CV] n_estimators=57, min_samples_split=5, min_samples_leaf=2, max_features=sqrt, max_depth=None \n",
      "[CV]  n_estimators=105, min_samples_split=5, min_samples_leaf=4, max_features=sqrt, max_depth=6, total=   1.6s\n",
      "[CV] n_estimators=57, min_samples_split=5, min_samples_leaf=2, max_features=sqrt, max_depth=None \n",
      "[CV]  n_estimators=105, min_samples_split=5, min_samples_leaf=4, max_features=sqrt, max_depth=6, total=   1.6s\n",
      "[CV] n_estimators=57, min_samples_split=5, min_samples_leaf=2, max_features=sqrt, max_depth=None \n",
      "[CV]  n_estimators=200, min_samples_split=10, min_samples_leaf=4, max_features=sqrt, max_depth=4, total=   2.4s\n",
      "[CV] n_estimators=57, min_samples_split=10, min_samples_leaf=4, max_features=auto, max_depth=2 \n",
      "[CV]  n_estimators=105, min_samples_split=10, min_samples_leaf=2, max_features=sqrt, max_depth=None, total=   2.5s\n",
      "[CV]  n_estimators=105, min_samples_split=10, min_samples_leaf=2, max_features=sqrt, max_depth=None, total=   2.6s\n",
      "[CV] n_estimators=57, min_samples_split=10, min_samples_leaf=4, max_features=auto, max_depth=2 \n",
      "[CV]  n_estimators=57, min_samples_split=10, min_samples_leaf=4, max_features=auto, max_depth=2, total=   0.4s\n",
      "[CV] n_estimators=57, min_samples_split=10, min_samples_leaf=4, max_features=auto, max_depth=2 \n",
      "[CV]  n_estimators=105, min_samples_split=10, min_samples_leaf=2, max_features=sqrt, max_depth=None, total=   2.6s\n",
      "[CV] n_estimators=57, min_samples_split=10, min_samples_leaf=4, max_features=sqrt, max_depth=8 \n",
      "[CV] n_estimators=57, min_samples_split=10, min_samples_leaf=4, max_features=sqrt, max_depth=8 \n",
      "[CV]  n_estimators=57, min_samples_split=5, min_samples_leaf=2, max_features=sqrt, max_depth=None, total=   1.4s\n",
      "[CV]  n_estimators=105, min_samples_split=5, min_samples_leaf=4, max_features=sqrt, max_depth=6, total=   1.4s\n",
      "[CV] n_estimators=57, min_samples_split=10, min_samples_leaf=4, max_features=sqrt, max_depth=8 \n",
      "[CV] n_estimators=57, min_samples_split=10, min_samples_leaf=2, max_features=sqrt, max_depth=4 \n",
      "[CV]  n_estimators=57, min_samples_split=10, min_samples_leaf=4, max_features=auto, max_depth=2, total=   0.4s\n",
      "[CV]  n_estimators=57, min_samples_split=10, min_samples_leaf=4, max_features=auto, max_depth=2, total=   0.4s\n",
      "[CV] n_estimators=57, min_samples_split=10, min_samples_leaf=2, max_features=sqrt, max_depth=4 \n",
      "[CV] n_estimators=57, min_samples_split=10, min_samples_leaf=2, max_features=sqrt, max_depth=4 \n",
      "[CV]  n_estimators=57, min_samples_split=5, min_samples_leaf=2, max_features=sqrt, max_depth=None, total=   1.3s\n",
      "[CV]  n_estimators=57, min_samples_split=5, min_samples_leaf=2, max_features=sqrt, max_depth=None, total=   1.3s\n",
      "[CV] n_estimators=10, min_samples_split=10, min_samples_leaf=2, max_features=auto, max_depth=10 \n",
      "[CV] n_estimators=10, min_samples_split=10, min_samples_leaf=2, max_features=auto, max_depth=10 \n",
      "[CV]  n_estimators=10, min_samples_split=10, min_samples_leaf=2, max_features=auto, max_depth=10, total=   0.2s\n",
      "[CV]  n_estimators=10, min_samples_split=10, min_samples_leaf=2, max_features=auto, max_depth=10, total=   0.2s\n",
      "[CV] n_estimators=10, min_samples_split=10, min_samples_leaf=2, max_features=auto, max_depth=10 \n",
      "[CV] n_estimators=152, min_samples_split=10, min_samples_leaf=4, max_features=sqrt, max_depth=2 \n",
      "[CV]  n_estimators=57, min_samples_split=10, min_samples_leaf=2, max_features=sqrt, max_depth=4, total=   0.6s\n",
      "[CV] n_estimators=152, min_samples_split=10, min_samples_leaf=4, max_features=sqrt, max_depth=2 \n",
      "[CV]  n_estimators=57, min_samples_split=10, min_samples_leaf=4, max_features=sqrt, max_depth=8, total=   0.9s\n",
      "[CV]  n_estimators=57, min_samples_split=10, min_samples_leaf=4, max_features=sqrt, max_depth=8, total=   0.9s\n",
      "[CV] n_estimators=152, min_samples_split=10, min_samples_leaf=4, max_features=sqrt, max_depth=2 \n",
      "[CV] n_estimators=200, min_samples_split=10, min_samples_leaf=4, max_features=auto, max_depth=8 \n",
      "[CV]  n_estimators=10, min_samples_split=10, min_samples_leaf=2, max_features=auto, max_depth=10, total=   0.2s\n",
      "[CV]  n_estimators=57, min_samples_split=10, min_samples_leaf=2, max_features=sqrt, max_depth=4, total=   0.6s\n",
      "[CV] n_estimators=200, min_samples_split=10, min_samples_leaf=4, max_features=auto, max_depth=8 \n",
      "[CV] n_estimators=200, min_samples_split=10, min_samples_leaf=4, max_features=auto, max_depth=8 \n",
      "[CV]  n_estimators=57, min_samples_split=10, min_samples_leaf=2, max_features=sqrt, max_depth=4, total=   0.6s\n",
      "[CV] n_estimators=10, min_samples_split=5, min_samples_leaf=2, max_features=sqrt, max_depth=4 \n",
      "[CV]  n_estimators=57, min_samples_split=10, min_samples_leaf=4, max_features=sqrt, max_depth=8, total=   0.9s\n",
      "[CV] n_estimators=10, min_samples_split=5, min_samples_leaf=2, max_features=sqrt, max_depth=4 \n",
      "[CV]  n_estimators=10, min_samples_split=5, min_samples_leaf=2, max_features=sqrt, max_depth=4, total=   0.1s\n",
      "[CV] n_estimators=10, min_samples_split=5, min_samples_leaf=2, max_features=sqrt, max_depth=4 \n",
      "[CV]  n_estimators=10, min_samples_split=5, min_samples_leaf=2, max_features=sqrt, max_depth=4, total=   0.1s\n",
      "[CV] n_estimators=200, min_samples_split=5, min_samples_leaf=2, max_features=auto, max_depth=None \n",
      "[CV]  n_estimators=10, min_samples_split=5, min_samples_leaf=2, max_features=sqrt, max_depth=4, total=   0.1s\n",
      "[CV] n_estimators=200, min_samples_split=5, min_samples_leaf=2, max_features=auto, max_depth=None \n",
      "[CV]  n_estimators=152, min_samples_split=10, min_samples_leaf=4, max_features=sqrt, max_depth=2, total=   1.2s\n",
      "[CV] n_estimators=200, min_samples_split=5, min_samples_leaf=2, max_features=auto, max_depth=None \n",
      "[CV]  n_estimators=152, min_samples_split=10, min_samples_leaf=4, max_features=sqrt, max_depth=2, total=   1.1s\n",
      "[CV] n_estimators=57, min_samples_split=10, min_samples_leaf=2, max_features=sqrt, max_depth=10 \n",
      "[CV]  n_estimators=152, min_samples_split=10, min_samples_leaf=4, max_features=sqrt, max_depth=2, total=   1.2s\n"
     ]
    },
    {
     "name": "stdout",
     "output_type": "stream",
     "text": [
      "[CV] n_estimators=57, min_samples_split=10, min_samples_leaf=2, max_features=sqrt, max_depth=10 \n"
     ]
    },
    {
     "name": "stderr",
     "output_type": "stream",
     "text": [
      "[Parallel(n_jobs=-1)]: Done 146 tasks      | elapsed:   28.3s\n"
     ]
    },
    {
     "name": "stdout",
     "output_type": "stream",
     "text": [
      "[CV]  n_estimators=57, min_samples_split=10, min_samples_leaf=2, max_features=sqrt, max_depth=10, total=   1.1s\n",
      "[CV] n_estimators=57, min_samples_split=10, min_samples_leaf=2, max_features=sqrt, max_depth=10 \n",
      "[CV]  n_estimators=57, min_samples_split=10, min_samples_leaf=2, max_features=sqrt, max_depth=10, total=   1.1s\n",
      "[CV] n_estimators=105, min_samples_split=10, min_samples_leaf=2, max_features=auto, max_depth=None \n",
      "[CV]  n_estimators=57, min_samples_split=10, min_samples_leaf=2, max_features=sqrt, max_depth=10, total=   1.1s\n",
      "[CV]  n_estimators=200, min_samples_split=10, min_samples_leaf=4, max_features=auto, max_depth=8, total=   3.4s\n",
      "[CV] n_estimators=105, min_samples_split=10, min_samples_leaf=2, max_features=auto, max_depth=None \n",
      "[CV] n_estimators=105, min_samples_split=10, min_samples_leaf=2, max_features=auto, max_depth=None \n",
      "[CV]  n_estimators=200, min_samples_split=10, min_samples_leaf=4, max_features=auto, max_depth=8, total=   3.3s\n",
      "[CV] n_estimators=152, min_samples_split=5, min_samples_leaf=4, max_features=sqrt, max_depth=10 \n",
      "[CV]  n_estimators=200, min_samples_split=10, min_samples_leaf=4, max_features=auto, max_depth=8, total=   3.4s\n",
      "[CV] n_estimators=152, min_samples_split=5, min_samples_leaf=4, max_features=sqrt, max_depth=10 \n",
      "[CV]  n_estimators=105, min_samples_split=10, min_samples_leaf=2, max_features=auto, max_depth=None, total=   2.3s\n",
      "[CV] n_estimators=152, min_samples_split=5, min_samples_leaf=4, max_features=sqrt, max_depth=10 \n",
      "[CV]  n_estimators=200, min_samples_split=5, min_samples_leaf=2, max_features=auto, max_depth=None, total=   4.6s\n",
      "[CV]  n_estimators=200, min_samples_split=5, min_samples_leaf=2, max_features=auto, max_depth=None, total=   4.6s\n",
      "[CV] n_estimators=200, min_samples_split=5, min_samples_leaf=2, max_features=sqrt, max_depth=None \n",
      "[CV] n_estimators=200, min_samples_split=5, min_samples_leaf=2, max_features=sqrt, max_depth=None \n",
      "[CV]  n_estimators=105, min_samples_split=10, min_samples_leaf=2, max_features=auto, max_depth=None, total=   2.3s\n",
      "[CV]  n_estimators=105, min_samples_split=10, min_samples_leaf=2, max_features=auto, max_depth=None, total=   2.3s\n",
      "[CV] n_estimators=200, min_samples_split=5, min_samples_leaf=2, max_features=sqrt, max_depth=None \n",
      "[CV] n_estimators=200, min_samples_split=10, min_samples_leaf=2, max_features=auto, max_depth=None \n",
      "[CV]  n_estimators=200, min_samples_split=5, min_samples_leaf=2, max_features=auto, max_depth=None, total=   4.7s\n",
      "[CV] n_estimators=200, min_samples_split=10, min_samples_leaf=2, max_features=auto, max_depth=None \n",
      "[CV]  n_estimators=152, min_samples_split=5, min_samples_leaf=4, max_features=sqrt, max_depth=10, total=   2.8s\n",
      "[CV] n_estimators=200, min_samples_split=10, min_samples_leaf=2, max_features=auto, max_depth=None \n",
      "[CV]  n_estimators=152, min_samples_split=5, min_samples_leaf=4, max_features=sqrt, max_depth=10, total=   2.8s\n",
      "[CV] n_estimators=10, min_samples_split=10, min_samples_leaf=4, max_features=sqrt, max_depth=6 \n",
      "[CV]  n_estimators=10, min_samples_split=10, min_samples_leaf=4, max_features=sqrt, max_depth=6, total=   0.2s\n",
      "[CV] n_estimators=10, min_samples_split=10, min_samples_leaf=4, max_features=sqrt, max_depth=6 \n",
      "[CV]  n_estimators=10, min_samples_split=10, min_samples_leaf=4, max_features=sqrt, max_depth=6, total=   0.1s\n",
      "[CV] n_estimators=10, min_samples_split=10, min_samples_leaf=4, max_features=sqrt, max_depth=6 \n",
      "[CV]  n_estimators=10, min_samples_split=10, min_samples_leaf=4, max_features=sqrt, max_depth=6, total=   0.1s\n",
      "[CV] n_estimators=200, min_samples_split=10, min_samples_leaf=4, max_features=auto, max_depth=None \n",
      "[CV]  n_estimators=152, min_samples_split=5, min_samples_leaf=4, max_features=sqrt, max_depth=10, total=   2.9s\n",
      "[CV] n_estimators=200, min_samples_split=10, min_samples_leaf=4, max_features=auto, max_depth=None \n",
      "[CV]  n_estimators=200, min_samples_split=5, min_samples_leaf=2, max_features=sqrt, max_depth=None, total=   4.9s\n",
      "[CV]  n_estimators=200, min_samples_split=5, min_samples_leaf=2, max_features=sqrt, max_depth=None, total=   4.9s\n",
      "[CV] n_estimators=200, min_samples_split=10, min_samples_leaf=4, max_features=auto, max_depth=None \n",
      "[CV] n_estimators=152, min_samples_split=5, min_samples_leaf=4, max_features=sqrt, max_depth=4 \n",
      "[CV]  n_estimators=200, min_samples_split=10, min_samples_leaf=2, max_features=auto, max_depth=None, total=   4.7s\n",
      "[CV] n_estimators=152, min_samples_split=5, min_samples_leaf=4, max_features=sqrt, max_depth=4 \n",
      "[CV]  n_estimators=200, min_samples_split=5, min_samples_leaf=2, max_features=sqrt, max_depth=None, total=   4.8s\n",
      "[CV] n_estimators=152, min_samples_split=5, min_samples_leaf=4, max_features=sqrt, max_depth=4 \n",
      "[CV]  n_estimators=200, min_samples_split=10, min_samples_leaf=2, max_features=auto, max_depth=None, total=   4.9s\n",
      "[CV] n_estimators=57, min_samples_split=10, min_samples_leaf=4, max_features=auto, max_depth=8 \n",
      "[CV]  n_estimators=200, min_samples_split=10, min_samples_leaf=2, max_features=auto, max_depth=None, total=   4.8s\n",
      "[CV] n_estimators=57, min_samples_split=10, min_samples_leaf=4, max_features=auto, max_depth=8 \n",
      "[CV]  n_estimators=200, min_samples_split=10, min_samples_leaf=4, max_features=auto, max_depth=None, total=   4.7s\n",
      "[CV] n_estimators=57, min_samples_split=10, min_samples_leaf=4, max_features=auto, max_depth=8 \n",
      "[CV]  n_estimators=57, min_samples_split=10, min_samples_leaf=4, max_features=auto, max_depth=8, total=   1.0s\n",
      "[CV] n_estimators=10, min_samples_split=10, min_samples_leaf=4, max_features=auto, max_depth=6 \n",
      "[CV]  n_estimators=152, min_samples_split=5, min_samples_leaf=4, max_features=sqrt, max_depth=4, total=   1.7s\n",
      "[CV] n_estimators=10, min_samples_split=10, min_samples_leaf=4, max_features=auto, max_depth=6 \n",
      "[CV]  n_estimators=10, min_samples_split=10, min_samples_leaf=4, max_features=auto, max_depth=6, total=   0.1s\n",
      "[CV] n_estimators=10, min_samples_split=10, min_samples_leaf=4, max_features=auto, max_depth=6 \n",
      "[CV]  n_estimators=10, min_samples_split=10, min_samples_leaf=4, max_features=auto, max_depth=6, total=   0.1s\n",
      "[CV] n_estimators=57, min_samples_split=10, min_samples_leaf=2, max_features=auto, max_depth=8 \n",
      "[CV]  n_estimators=10, min_samples_split=10, min_samples_leaf=4, max_features=auto, max_depth=6, total=   0.1s\n",
      "[CV] n_estimators=57, min_samples_split=10, min_samples_leaf=2, max_features=auto, max_depth=8 \n",
      "[CV]  n_estimators=57, min_samples_split=10, min_samples_leaf=4, max_features=auto, max_depth=8, total=   0.9s\n",
      "[CV] n_estimators=57, min_samples_split=10, min_samples_leaf=2, max_features=auto, max_depth=8 \n",
      "[CV]  n_estimators=152, min_samples_split=5, min_samples_leaf=4, max_features=sqrt, max_depth=4, total=   1.6s\n",
      "[CV] n_estimators=10, min_samples_split=5, min_samples_leaf=2, max_features=auto, max_depth=8 \n",
      "[CV]  n_estimators=152, min_samples_split=5, min_samples_leaf=4, max_features=sqrt, max_depth=4, total=   1.6s\n",
      "[CV]  n_estimators=200, min_samples_split=10, min_samples_leaf=4, max_features=auto, max_depth=None, total=   4.6s\n",
      "[CV] n_estimators=10, min_samples_split=5, min_samples_leaf=2, max_features=auto, max_depth=8 \n",
      "[CV] n_estimators=10, min_samples_split=5, min_samples_leaf=2, max_features=auto, max_depth=8 \n",
      "[CV]  n_estimators=10, min_samples_split=5, min_samples_leaf=2, max_features=auto, max_depth=8, total=   0.2s\n",
      "[CV] n_estimators=105, min_samples_split=10, min_samples_leaf=2, max_features=sqrt, max_depth=4 \n",
      "[CV]  n_estimators=57, min_samples_split=10, min_samples_leaf=4, max_features=auto, max_depth=8, total=   0.9s\n",
      "[CV]  n_estimators=10, min_samples_split=5, min_samples_leaf=2, max_features=auto, max_depth=8, total=   0.2s\n",
      "[CV] n_estimators=105, min_samples_split=10, min_samples_leaf=2, max_features=sqrt, max_depth=4 \n",
      "[CV]  n_estimators=10, min_samples_split=5, min_samples_leaf=2, max_features=auto, max_depth=8, total=   0.2s\n",
      "[CV] n_estimators=105, min_samples_split=10, min_samples_leaf=2, max_features=sqrt, max_depth=4 \n",
      "[CV] n_estimators=57, min_samples_split=5, min_samples_leaf=2, max_features=sqrt, max_depth=6 \n",
      "[CV]  n_estimators=57, min_samples_split=10, min_samples_leaf=2, max_features=auto, max_depth=8, total=   0.9s\n",
      "[CV] n_estimators=57, min_samples_split=5, min_samples_leaf=2, max_features=sqrt, max_depth=6 \n",
      "[CV]  n_estimators=57, min_samples_split=10, min_samples_leaf=2, max_features=auto, max_depth=8, total=   0.9s\n"
     ]
    },
    {
     "name": "stdout",
     "output_type": "stream",
     "text": [
      "[CV] n_estimators=57, min_samples_split=5, min_samples_leaf=2, max_features=sqrt, max_depth=6 \n",
      "[CV]  n_estimators=57, min_samples_split=10, min_samples_leaf=2, max_features=auto, max_depth=8, total=   1.0s\n",
      "[CV] n_estimators=152, min_samples_split=10, min_samples_leaf=2, max_features=sqrt, max_depth=4 \n",
      "[CV]  n_estimators=57, min_samples_split=5, min_samples_leaf=2, max_features=sqrt, max_depth=6, total=   0.8s\n",
      "[CV] n_estimators=152, min_samples_split=10, min_samples_leaf=2, max_features=sqrt, max_depth=4 \n",
      "[CV]  n_estimators=105, min_samples_split=10, min_samples_leaf=2, max_features=sqrt, max_depth=4, total=   1.2s\n",
      "[CV] n_estimators=152, min_samples_split=10, min_samples_leaf=2, max_features=sqrt, max_depth=4 \n",
      "[CV]  n_estimators=105, min_samples_split=10, min_samples_leaf=2, max_features=sqrt, max_depth=4, total=   1.1s\n",
      "[CV] n_estimators=152, min_samples_split=10, min_samples_leaf=2, max_features=sqrt, max_depth=6 \n",
      "[CV]  n_estimators=105, min_samples_split=10, min_samples_leaf=2, max_features=sqrt, max_depth=4, total=   1.1s\n",
      "[CV] n_estimators=152, min_samples_split=10, min_samples_leaf=2, max_features=sqrt, max_depth=6 \n",
      "[CV]  n_estimators=57, min_samples_split=5, min_samples_leaf=2, max_features=sqrt, max_depth=6, total=   0.8s\n",
      "[CV] n_estimators=152, min_samples_split=10, min_samples_leaf=2, max_features=sqrt, max_depth=6 \n",
      "[CV]  n_estimators=57, min_samples_split=5, min_samples_leaf=2, max_features=sqrt, max_depth=6, total=   0.8s\n",
      "[CV] n_estimators=200, min_samples_split=5, min_samples_leaf=2, max_features=auto, max_depth=6 \n",
      "[CV]  n_estimators=200, min_samples_split=10, min_samples_leaf=4, max_features=auto, max_depth=None, total=   4.4s\n",
      "[CV] n_estimators=200, min_samples_split=5, min_samples_leaf=2, max_features=auto, max_depth=6 \n",
      "[CV]  n_estimators=152, min_samples_split=10, min_samples_leaf=2, max_features=sqrt, max_depth=4, total=   1.5s\n",
      "[CV] n_estimators=200, min_samples_split=5, min_samples_leaf=2, max_features=auto, max_depth=6 \n",
      "[CV]  n_estimators=152, min_samples_split=10, min_samples_leaf=2, max_features=sqrt, max_depth=4, total=   1.5s\n",
      "[CV] n_estimators=105, min_samples_split=10, min_samples_leaf=4, max_features=sqrt, max_depth=6 \n",
      "[CV]  n_estimators=152, min_samples_split=10, min_samples_leaf=2, max_features=sqrt, max_depth=4, total=   1.5s\n",
      "[CV] n_estimators=105, min_samples_split=10, min_samples_leaf=4, max_features=sqrt, max_depth=6 \n",
      "[CV]  n_estimators=152, min_samples_split=10, min_samples_leaf=2, max_features=sqrt, max_depth=6, total=   2.0s\n",
      "[CV] n_estimators=105, min_samples_split=10, min_samples_leaf=4, max_features=sqrt, max_depth=6 \n",
      "[CV]  n_estimators=152, min_samples_split=10, min_samples_leaf=2, max_features=sqrt, max_depth=6, total=   2.0s\n",
      "[CV] n_estimators=200, min_samples_split=5, min_samples_leaf=4, max_features=sqrt, max_depth=10 \n",
      "[CV]  n_estimators=152, min_samples_split=10, min_samples_leaf=2, max_features=sqrt, max_depth=6, total=   2.1s\n",
      "[CV] n_estimators=200, min_samples_split=5, min_samples_leaf=4, max_features=sqrt, max_depth=10 \n",
      "[CV]  n_estimators=105, min_samples_split=10, min_samples_leaf=4, max_features=sqrt, max_depth=6, total=   1.5s\n",
      "[CV] n_estimators=200, min_samples_split=5, min_samples_leaf=4, max_features=sqrt, max_depth=10 \n",
      "[CV]  n_estimators=200, min_samples_split=5, min_samples_leaf=2, max_features=auto, max_depth=6, total=   2.7s\n",
      "[CV] n_estimators=105, min_samples_split=10, min_samples_leaf=4, max_features=auto, max_depth=10 \n",
      "[CV]  n_estimators=105, min_samples_split=10, min_samples_leaf=4, max_features=sqrt, max_depth=6, total=   1.4s\n",
      "[CV] n_estimators=105, min_samples_split=10, min_samples_leaf=4, max_features=auto, max_depth=10 \n",
      "[CV]  n_estimators=105, min_samples_split=10, min_samples_leaf=4, max_features=sqrt, max_depth=6, total=   1.4s\n",
      "[CV]  n_estimators=200, min_samples_split=5, min_samples_leaf=2, max_features=auto, max_depth=6, total=   2.7s\n",
      "[CV] n_estimators=105, min_samples_split=10, min_samples_leaf=4, max_features=auto, max_depth=10 \n",
      "[CV] n_estimators=57, min_samples_split=5, min_samples_leaf=4, max_features=sqrt, max_depth=6 \n",
      "[CV]  n_estimators=200, min_samples_split=5, min_samples_leaf=2, max_features=auto, max_depth=6, total=   2.7s\n",
      "[CV] n_estimators=57, min_samples_split=5, min_samples_leaf=4, max_features=sqrt, max_depth=6 \n",
      "[CV]  n_estimators=57, min_samples_split=5, min_samples_leaf=4, max_features=sqrt, max_depth=6, total=   0.7s\n",
      "[CV] n_estimators=57, min_samples_split=5, min_samples_leaf=4, max_features=sqrt, max_depth=6 \n",
      "[CV]  n_estimators=57, min_samples_split=5, min_samples_leaf=4, max_features=sqrt, max_depth=6, total=   0.7s\n",
      "[CV] n_estimators=200, min_samples_split=10, min_samples_leaf=2, max_features=sqrt, max_depth=2 \n",
      "[CV]  n_estimators=105, min_samples_split=10, min_samples_leaf=4, max_features=auto, max_depth=10, total=   1.9s\n",
      "[CV] n_estimators=200, min_samples_split=10, min_samples_leaf=2, max_features=sqrt, max_depth=2 \n",
      "[CV]  n_estimators=105, min_samples_split=10, min_samples_leaf=4, max_features=auto, max_depth=10, total=   1.9s\n",
      "[CV] n_estimators=200, min_samples_split=10, min_samples_leaf=2, max_features=sqrt, max_depth=2 \n",
      "[CV]  n_estimators=57, min_samples_split=5, min_samples_leaf=4, max_features=sqrt, max_depth=6, total=   0.7s\n",
      "[CV] n_estimators=200, min_samples_split=5, min_samples_leaf=2, max_features=auto, max_depth=8 \n",
      "[CV]  n_estimators=105, min_samples_split=10, min_samples_leaf=4, max_features=auto, max_depth=10, total=   1.9s\n",
      "[CV] n_estimators=200, min_samples_split=5, min_samples_leaf=2, max_features=auto, max_depth=8 \n",
      "[CV]  n_estimators=200, min_samples_split=5, min_samples_leaf=4, max_features=sqrt, max_depth=10, total=   3.6s\n",
      "[CV] n_estimators=200, min_samples_split=5, min_samples_leaf=2, max_features=auto, max_depth=8 \n",
      "[CV]  n_estimators=200, min_samples_split=5, min_samples_leaf=4, max_features=sqrt, max_depth=10, total=   3.6s\n",
      "[CV] n_estimators=10, min_samples_split=10, min_samples_leaf=4, max_features=sqrt, max_depth=4 \n",
      "[CV]  n_estimators=200, min_samples_split=10, min_samples_leaf=2, max_features=sqrt, max_depth=2, total=   1.4s\n",
      "[CV]  n_estimators=10, min_samples_split=10, min_samples_leaf=4, max_features=sqrt, max_depth=4, total=   0.1s\n",
      "[CV] n_estimators=10, min_samples_split=10, min_samples_leaf=4, max_features=sqrt, max_depth=4 \n",
      "[CV] n_estimators=10, min_samples_split=10, min_samples_leaf=4, max_features=sqrt, max_depth=4 \n",
      "[CV]  n_estimators=10, min_samples_split=10, min_samples_leaf=4, max_features=sqrt, max_depth=4, total=   0.1s\n",
      "[CV]  n_estimators=10, min_samples_split=10, min_samples_leaf=4, max_features=sqrt, max_depth=4, total=   0.1s\n",
      "[CV] n_estimators=105, min_samples_split=5, min_samples_leaf=2, max_features=auto, max_depth=6 \n",
      "[CV] n_estimators=105, min_samples_split=5, min_samples_leaf=2, max_features=auto, max_depth=6 \n",
      "[CV]  n_estimators=200, min_samples_split=10, min_samples_leaf=2, max_features=sqrt, max_depth=2, total=   1.4s\n",
      "[CV] n_estimators=105, min_samples_split=5, min_samples_leaf=2, max_features=auto, max_depth=6 \n",
      "[CV]  n_estimators=200, min_samples_split=5, min_samples_leaf=4, max_features=sqrt, max_depth=10, total=   3.5s\n",
      "[CV] n_estimators=10, min_samples_split=10, min_samples_leaf=2, max_features=auto, max_depth=2 \n",
      "[CV]  n_estimators=200, min_samples_split=10, min_samples_leaf=2, max_features=sqrt, max_depth=2, total=   1.4s\n",
      "[CV] n_estimators=10, min_samples_split=10, min_samples_leaf=2, max_features=auto, max_depth=2 \n",
      "[CV]  n_estimators=10, min_samples_split=10, min_samples_leaf=2, max_features=auto, max_depth=2, total=   0.1s\n",
      "[CV] n_estimators=10, min_samples_split=10, min_samples_leaf=2, max_features=auto, max_depth=2 \n",
      "[CV]  n_estimators=10, min_samples_split=10, min_samples_leaf=2, max_features=auto, max_depth=2, total=   0.1s\n",
      "[CV] n_estimators=57, min_samples_split=10, min_samples_leaf=4, max_features=auto, max_depth=4 \n",
      "[CV]  n_estimators=10, min_samples_split=10, min_samples_leaf=2, max_features=auto, max_depth=2, total=   0.1s\n",
      "[CV] n_estimators=57, min_samples_split=10, min_samples_leaf=4, max_features=auto, max_depth=4 \n",
      "[CV]  n_estimators=57, min_samples_split=10, min_samples_leaf=4, max_features=auto, max_depth=4, total=   0.7s\n",
      "[CV] n_estimators=57, min_samples_split=10, min_samples_leaf=4, max_features=auto, max_depth=4 \n"
     ]
    },
    {
     "name": "stdout",
     "output_type": "stream",
     "text": [
      "[CV]  n_estimators=57, min_samples_split=10, min_samples_leaf=4, max_features=auto, max_depth=4, total=   0.7s\n",
      "[CV] n_estimators=200, min_samples_split=5, min_samples_leaf=2, max_features=auto, max_depth=10 \n",
      "[CV]  n_estimators=105, min_samples_split=5, min_samples_leaf=2, max_features=auto, max_depth=6, total=   1.5s\n",
      "[CV] n_estimators=200, min_samples_split=5, min_samples_leaf=2, max_features=auto, max_depth=10 \n",
      "[CV]  n_estimators=105, min_samples_split=5, min_samples_leaf=2, max_features=auto, max_depth=6, total=   1.5s\n",
      "[CV] n_estimators=200, min_samples_split=5, min_samples_leaf=2, max_features=auto, max_depth=10 \n",
      "[CV]  n_estimators=105, min_samples_split=5, min_samples_leaf=2, max_features=auto, max_depth=6, total=   1.5s\n",
      "[CV] n_estimators=200, min_samples_split=10, min_samples_leaf=4, max_features=sqrt, max_depth=8 \n",
      "[CV]  n_estimators=57, min_samples_split=10, min_samples_leaf=4, max_features=auto, max_depth=4, total=   0.6s\n",
      "[CV] n_estimators=200, min_samples_split=10, min_samples_leaf=4, max_features=sqrt, max_depth=8 \n",
      "[CV]  n_estimators=200, min_samples_split=5, min_samples_leaf=2, max_features=auto, max_depth=8, total=   3.4s\n",
      "[CV] n_estimators=200, min_samples_split=10, min_samples_leaf=4, max_features=sqrt, max_depth=8 \n",
      "[CV]  n_estimators=200, min_samples_split=5, min_samples_leaf=2, max_features=auto, max_depth=8, total=   3.4s\n",
      "[CV] n_estimators=105, min_samples_split=10, min_samples_leaf=4, max_features=auto, max_depth=6 \n",
      "[CV]  n_estimators=200, min_samples_split=5, min_samples_leaf=2, max_features=auto, max_depth=8, total=   3.4s\n",
      "[CV] n_estimators=105, min_samples_split=10, min_samples_leaf=4, max_features=auto, max_depth=6 \n",
      "[CV]  n_estimators=105, min_samples_split=10, min_samples_leaf=4, max_features=auto, max_depth=6, total=   1.4s\n",
      "[CV] n_estimators=105, min_samples_split=10, min_samples_leaf=4, max_features=auto, max_depth=6 \n",
      "[CV]  n_estimators=105, min_samples_split=10, min_samples_leaf=4, max_features=auto, max_depth=6, total=   1.4s\n",
      "[CV] n_estimators=10, min_samples_split=10, min_samples_leaf=2, max_features=sqrt, max_depth=4 \n",
      "[CV]  n_estimators=10, min_samples_split=10, min_samples_leaf=2, max_features=sqrt, max_depth=4, total=   0.1s\n",
      "[CV] n_estimators=10, min_samples_split=10, min_samples_leaf=2, max_features=sqrt, max_depth=4 \n",
      "[CV]  n_estimators=10, min_samples_split=10, min_samples_leaf=2, max_features=sqrt, max_depth=4, total=   0.1s\n",
      "[CV] n_estimators=10, min_samples_split=10, min_samples_leaf=2, max_features=sqrt, max_depth=4 \n",
      "[CV]  n_estimators=10, min_samples_split=10, min_samples_leaf=2, max_features=sqrt, max_depth=4, total=   0.1s\n",
      "[CV] n_estimators=105, min_samples_split=5, min_samples_leaf=4, max_features=auto, max_depth=None \n",
      "[CV]  n_estimators=200, min_samples_split=10, min_samples_leaf=4, max_features=sqrt, max_depth=8, total=   3.2s\n",
      "[CV]  n_estimators=200, min_samples_split=5, min_samples_leaf=2, max_features=auto, max_depth=10, total=   3.7s\n",
      "[CV] n_estimators=105, min_samples_split=5, min_samples_leaf=4, max_features=auto, max_depth=None \n",
      "[CV] n_estimators=105, min_samples_split=5, min_samples_leaf=4, max_features=auto, max_depth=None \n",
      "[CV]  n_estimators=200, min_samples_split=10, min_samples_leaf=4, max_features=sqrt, max_depth=8, total=   3.3s\n",
      "[CV] n_estimators=152, min_samples_split=10, min_samples_leaf=2, max_features=auto, max_depth=None \n",
      "[CV]  n_estimators=200, min_samples_split=5, min_samples_leaf=2, max_features=auto, max_depth=10, total=   3.8s\n",
      "[CV] n_estimators=152, min_samples_split=10, min_samples_leaf=2, max_features=auto, max_depth=None \n",
      "[CV]  n_estimators=105, min_samples_split=10, min_samples_leaf=4, max_features=auto, max_depth=6, total=   1.4s\n",
      "[CV] n_estimators=152, min_samples_split=10, min_samples_leaf=2, max_features=auto, max_depth=None \n",
      "[CV]  n_estimators=200, min_samples_split=5, min_samples_leaf=2, max_features=auto, max_depth=10, total=   3.9s\n",
      "[CV] n_estimators=105, min_samples_split=5, min_samples_leaf=2, max_features=sqrt, max_depth=8 \n",
      "[CV]  n_estimators=200, min_samples_split=10, min_samples_leaf=4, max_features=sqrt, max_depth=8, total=   3.3s\n",
      "[CV] n_estimators=105, min_samples_split=5, min_samples_leaf=2, max_features=sqrt, max_depth=8 \n",
      "[CV]  n_estimators=105, min_samples_split=5, min_samples_leaf=4, max_features=auto, max_depth=None, total=   2.3s\n",
      "[CV] n_estimators=105, min_samples_split=5, min_samples_leaf=2, max_features=sqrt, max_depth=8 \n",
      "[CV]  n_estimators=105, min_samples_split=5, min_samples_leaf=4, max_features=auto, max_depth=None, total=   2.2s\n",
      "[CV] n_estimators=57, min_samples_split=5, min_samples_leaf=4, max_features=sqrt, max_depth=2 \n",
      "[CV]  n_estimators=105, min_samples_split=5, min_samples_leaf=2, max_features=sqrt, max_depth=8, total=   1.6s\n",
      "[CV]  n_estimators=105, min_samples_split=5, min_samples_leaf=4, max_features=auto, max_depth=None, total=   2.2s\n",
      "[CV] n_estimators=57, min_samples_split=5, min_samples_leaf=4, max_features=sqrt, max_depth=2 \n",
      "[CV] n_estimators=57, min_samples_split=5, min_samples_leaf=4, max_features=sqrt, max_depth=2 \n",
      "[CV]  n_estimators=105, min_samples_split=5, min_samples_leaf=2, max_features=sqrt, max_depth=8, total=   1.7s\n",
      "[CV] n_estimators=105, min_samples_split=5, min_samples_leaf=4, max_features=auto, max_depth=2 \n",
      "[CV]  n_estimators=57, min_samples_split=5, min_samples_leaf=4, max_features=sqrt, max_depth=2, total=   0.4s\n",
      "[CV] n_estimators=105, min_samples_split=5, min_samples_leaf=4, max_features=auto, max_depth=2 \n",
      "[CV]  n_estimators=57, min_samples_split=5, min_samples_leaf=4, max_features=sqrt, max_depth=2, total=   0.4s\n",
      "[CV] n_estimators=105, min_samples_split=5, min_samples_leaf=4, max_features=auto, max_depth=2 \n",
      "[CV]  n_estimators=57, min_samples_split=5, min_samples_leaf=4, max_features=sqrt, max_depth=2, total=   0.5s\n",
      "[CV] n_estimators=10, min_samples_split=10, min_samples_leaf=4, max_features=sqrt, max_depth=2 \n",
      "[CV]  n_estimators=10, min_samples_split=10, min_samples_leaf=4, max_features=sqrt, max_depth=2, total=   0.1s\n",
      "[CV] n_estimators=10, min_samples_split=10, min_samples_leaf=4, max_features=sqrt, max_depth=2 \n",
      "[CV]  n_estimators=10, min_samples_split=10, min_samples_leaf=4, max_features=sqrt, max_depth=2, total=   0.1s\n",
      "[CV] n_estimators=10, min_samples_split=10, min_samples_leaf=4, max_features=sqrt, max_depth=2 \n",
      "[CV]  n_estimators=10, min_samples_split=10, min_samples_leaf=4, max_features=sqrt, max_depth=2, total=   0.1s\n",
      "[CV] n_estimators=152, min_samples_split=10, min_samples_leaf=2, max_features=sqrt, max_depth=2 \n",
      "[CV]  n_estimators=105, min_samples_split=5, min_samples_leaf=4, max_features=auto, max_depth=2, total=   0.8s\n",
      "[CV] n_estimators=152, min_samples_split=10, min_samples_leaf=2, max_features=sqrt, max_depth=2 \n",
      "[CV]  n_estimators=105, min_samples_split=5, min_samples_leaf=4, max_features=auto, max_depth=2, total=   0.9s\n",
      "[CV] n_estimators=152, min_samples_split=10, min_samples_leaf=2, max_features=sqrt, max_depth=2 \n",
      "[CV]  n_estimators=152, min_samples_split=10, min_samples_leaf=2, max_features=auto, max_depth=None, total=   3.5s\n",
      "[CV] n_estimators=105, min_samples_split=5, min_samples_leaf=2, max_features=auto, max_depth=4 \n",
      "[CV]  n_estimators=105, min_samples_split=5, min_samples_leaf=4, max_features=auto, max_depth=2, total=   0.9s\n",
      "[CV] n_estimators=105, min_samples_split=5, min_samples_leaf=2, max_features=auto, max_depth=4 \n",
      "[CV]  n_estimators=152, min_samples_split=10, min_samples_leaf=2, max_features=auto, max_depth=None, total=   3.5s\n",
      "[CV] n_estimators=105, min_samples_split=5, min_samples_leaf=2, max_features=auto, max_depth=4 \n",
      "[CV]  n_estimators=105, min_samples_split=5, min_samples_leaf=2, max_features=sqrt, max_depth=8, total=   1.9s\n",
      "[CV] n_estimators=152, min_samples_split=5, min_samples_leaf=2, max_features=sqrt, max_depth=None \n",
      "[CV]  n_estimators=152, min_samples_split=10, min_samples_leaf=2, max_features=auto, max_depth=None, total=   3.6s\n",
      "[CV] n_estimators=152, min_samples_split=5, min_samples_leaf=2, max_features=sqrt, max_depth=None \n",
      "[CV]  n_estimators=152, min_samples_split=10, min_samples_leaf=2, max_features=sqrt, max_depth=2, total=   1.3s\n",
      "[CV] n_estimators=152, min_samples_split=5, min_samples_leaf=2, max_features=sqrt, max_depth=None \n",
      "[CV]  n_estimators=152, min_samples_split=10, min_samples_leaf=2, max_features=sqrt, max_depth=2, total=   1.3s\n"
     ]
    },
    {
     "name": "stdout",
     "output_type": "stream",
     "text": [
      "[CV] n_estimators=152, min_samples_split=10, min_samples_leaf=2, max_features=sqrt, max_depth=8 \n",
      "[CV]  n_estimators=152, min_samples_split=10, min_samples_leaf=2, max_features=sqrt, max_depth=2, total=   1.3s\n",
      "[CV]  n_estimators=105, min_samples_split=5, min_samples_leaf=2, max_features=auto, max_depth=4, total=   1.2s\n",
      "[CV] n_estimators=152, min_samples_split=10, min_samples_leaf=2, max_features=sqrt, max_depth=8 \n",
      "[CV]  n_estimators=105, min_samples_split=5, min_samples_leaf=2, max_features=auto, max_depth=4, total=   1.2s\n",
      "[CV] n_estimators=152, min_samples_split=10, min_samples_leaf=2, max_features=sqrt, max_depth=8 \n",
      "[CV] n_estimators=57, min_samples_split=5, min_samples_leaf=2, max_features=auto, max_depth=10 \n",
      "[CV]  n_estimators=105, min_samples_split=5, min_samples_leaf=2, max_features=auto, max_depth=4, total=   1.3s\n",
      "[CV] n_estimators=57, min_samples_split=5, min_samples_leaf=2, max_features=auto, max_depth=10 \n",
      "[CV]  n_estimators=57, min_samples_split=5, min_samples_leaf=2, max_features=auto, max_depth=10, total=   1.1s\n",
      "[CV] n_estimators=57, min_samples_split=5, min_samples_leaf=2, max_features=auto, max_depth=10 \n",
      "[CV]  n_estimators=57, min_samples_split=5, min_samples_leaf=2, max_features=auto, max_depth=10, total=   1.0s\n",
      "[CV] n_estimators=57, min_samples_split=5, min_samples_leaf=4, max_features=auto, max_depth=4 \n",
      "[CV]  n_estimators=57, min_samples_split=5, min_samples_leaf=4, max_features=auto, max_depth=4, total=   0.5s\n",
      "[CV] n_estimators=57, min_samples_split=5, min_samples_leaf=4, max_features=auto, max_depth=4 \n",
      "[CV]  n_estimators=57, min_samples_split=5, min_samples_leaf=2, max_features=auto, max_depth=10, total=   1.0s\n",
      "[CV] n_estimators=57, min_samples_split=5, min_samples_leaf=4, max_features=auto, max_depth=4 \n",
      "[CV]  n_estimators=152, min_samples_split=10, min_samples_leaf=2, max_features=sqrt, max_depth=8, total=   2.4s\n",
      "[CV] n_estimators=105, min_samples_split=10, min_samples_leaf=4, max_features=auto, max_depth=8 \n",
      "[CV]  n_estimators=152, min_samples_split=10, min_samples_leaf=2, max_features=sqrt, max_depth=8, total=   2.4s\n",
      "[CV] n_estimators=105, min_samples_split=10, min_samples_leaf=4, max_features=auto, max_depth=8 \n",
      "[CV]  n_estimators=152, min_samples_split=10, min_samples_leaf=2, max_features=sqrt, max_depth=8, total=   2.4s\n",
      "[CV] n_estimators=105, min_samples_split=10, min_samples_leaf=4, max_features=auto, max_depth=8 \n",
      "[CV]  n_estimators=152, min_samples_split=5, min_samples_leaf=2, max_features=sqrt, max_depth=None, total=   3.5s\n",
      "[CV]  n_estimators=152, min_samples_split=5, min_samples_leaf=2, max_features=sqrt, max_depth=None, total=   3.4s\n",
      "[CV]  n_estimators=57, min_samples_split=5, min_samples_leaf=4, max_features=auto, max_depth=4, total=   0.6s\n",
      "[CV] n_estimators=10, min_samples_split=5, min_samples_leaf=4, max_features=sqrt, max_depth=10 \n",
      "[CV] n_estimators=10, min_samples_split=5, min_samples_leaf=4, max_features=sqrt, max_depth=10 \n",
      "[CV] n_estimators=10, min_samples_split=5, min_samples_leaf=4, max_features=sqrt, max_depth=10 \n",
      "[CV]  n_estimators=57, min_samples_split=5, min_samples_leaf=4, max_features=auto, max_depth=4, total=   0.6s\n",
      "[CV] n_estimators=57, min_samples_split=10, min_samples_leaf=4, max_features=sqrt, max_depth=4 \n",
      "[CV]  n_estimators=10, min_samples_split=5, min_samples_leaf=4, max_features=sqrt, max_depth=10, total=   0.2s\n",
      "[CV] n_estimators=57, min_samples_split=10, min_samples_leaf=4, max_features=sqrt, max_depth=4 \n",
      "[CV]  n_estimators=10, min_samples_split=5, min_samples_leaf=4, max_features=sqrt, max_depth=10, total=   0.2s\n",
      "[CV]  n_estimators=10, min_samples_split=5, min_samples_leaf=4, max_features=sqrt, max_depth=10, total=   0.2s\n",
      "[CV] n_estimators=57, min_samples_split=10, min_samples_leaf=4, max_features=sqrt, max_depth=4 \n",
      "[CV] n_estimators=57, min_samples_split=5, min_samples_leaf=2, max_features=auto, max_depth=4 \n",
      "[CV]  n_estimators=152, min_samples_split=5, min_samples_leaf=2, max_features=sqrt, max_depth=None, total=   3.5s\n",
      "[CV] n_estimators=57, min_samples_split=5, min_samples_leaf=2, max_features=auto, max_depth=4 \n",
      "[CV]  n_estimators=57, min_samples_split=10, min_samples_leaf=4, max_features=sqrt, max_depth=4, total=   0.5s\n",
      "[CV] n_estimators=57, min_samples_split=5, min_samples_leaf=2, max_features=auto, max_depth=4 \n",
      "[CV]  n_estimators=57, min_samples_split=10, min_samples_leaf=4, max_features=sqrt, max_depth=4, total=   0.5s\n",
      "[CV]  n_estimators=57, min_samples_split=10, min_samples_leaf=4, max_features=sqrt, max_depth=4, total=   0.5s\n",
      "[CV]  n_estimators=57, min_samples_split=5, min_samples_leaf=2, max_features=auto, max_depth=4, total=   0.5s\n",
      "[CV] n_estimators=105, min_samples_split=5, min_samples_leaf=2, max_features=auto, max_depth=10 \n",
      "[CV] n_estimators=105, min_samples_split=5, min_samples_leaf=2, max_features=auto, max_depth=10 \n",
      "[CV] n_estimators=105, min_samples_split=5, min_samples_leaf=2, max_features=auto, max_depth=10 \n",
      "[CV]  n_estimators=57, min_samples_split=5, min_samples_leaf=2, max_features=auto, max_depth=4, total=   0.5s\n",
      "[CV] n_estimators=57, min_samples_split=10, min_samples_leaf=2, max_features=sqrt, max_depth=8 \n",
      "[CV]  n_estimators=105, min_samples_split=10, min_samples_leaf=4, max_features=auto, max_depth=8, total=   1.6s\n",
      "[CV] n_estimators=57, min_samples_split=10, min_samples_leaf=2, max_features=sqrt, max_depth=8 \n",
      "[CV]  n_estimators=57, min_samples_split=5, min_samples_leaf=2, max_features=auto, max_depth=4, total=   0.5s\n",
      "[CV] n_estimators=57, min_samples_split=10, min_samples_leaf=2, max_features=sqrt, max_depth=8 \n",
      "[CV]  n_estimators=105, min_samples_split=10, min_samples_leaf=4, max_features=auto, max_depth=8, total=   1.5s\n",
      "[CV]  n_estimators=105, min_samples_split=10, min_samples_leaf=4, max_features=auto, max_depth=8, total=   1.6s\n",
      "[CV]  n_estimators=57, min_samples_split=10, min_samples_leaf=2, max_features=sqrt, max_depth=8, total=   0.8s\n",
      "[CV]  n_estimators=57, min_samples_split=10, min_samples_leaf=2, max_features=sqrt, max_depth=8, total=   0.8s\n",
      "[CV]  n_estimators=57, min_samples_split=10, min_samples_leaf=2, max_features=sqrt, max_depth=8, total=   0.8s\n",
      "[CV]  n_estimators=105, min_samples_split=5, min_samples_leaf=2, max_features=auto, max_depth=10, total=   1.6s\n",
      "[CV]  n_estimators=105, min_samples_split=5, min_samples_leaf=2, max_features=auto, max_depth=10, total=   1.6s\n",
      "[CV]  n_estimators=105, min_samples_split=5, min_samples_leaf=2, max_features=auto, max_depth=10, total=   1.6s\n"
     ]
    },
    {
     "name": "stderr",
     "output_type": "stream",
     "text": [
      "[Parallel(n_jobs=-1)]: Done 300 out of 300 | elapsed:  1.1min finished\n"
     ]
    },
    {
     "data": {
      "text/plain": [
       "RandomizedSearchCV(cv=3, error_score='raise',\n",
       "          estimator=RandomForestClassifier(bootstrap=True, class_weight=None, criterion='gini',\n",
       "            max_depth=None, max_features='auto', max_leaf_nodes=None,\n",
       "            min_impurity_split=1e-07, min_samples_leaf=1,\n",
       "            min_samples_split=2, min_weight_fraction_leaf=0.0,\n",
       "            n_estimators=10, n_jobs=1, oob_score=False, random_state=None,\n",
       "            verbose=0, warm_start=False),\n",
       "          fit_params={}, iid=True, n_iter=100, n_jobs=-1,\n",
       "          param_distributions={'n_estimators': [10, 57, 105, 152, 200], 'max_features': ['auto', 'sqrt'], 'max_depth': [2, 4, 6, 8, 10, None], 'min_samples_split': [5, 10], 'min_samples_leaf': [2, 4]},\n",
       "          pre_dispatch='2*n_jobs', random_state=42, refit=True,\n",
       "          return_train_score=True, scoring=None, verbose=2)"
      ]
     },
     "execution_count": 24,
     "metadata": {},
     "output_type": "execute_result"
    }
   ],
   "source": [
    "# Use the random grid to search for best hyperparameters\n",
    "# First create the base model to tune\n",
    "clf_base = RandomForestClassifier()\n",
    "# Random search of parameters, using 3 fold cross validation, \n",
    "# search across 100 different combinations, and use all available cores\n",
    "clf_random = RandomizedSearchCV(estimator = clf_base, param_distributions = random_grid, n_iter = 100, cv = 3, verbose=2, random_state=42, n_jobs = -1)\n",
    "# Fit the random search model\n",
    "clf_random.fit(X_train,y_train)"
   ]
  },
  {
   "cell_type": "code",
   "execution_count": 25,
   "metadata": {
    "scrolled": true
   },
   "outputs": [
    {
     "data": {
      "text/plain": [
       "{'max_depth': None,\n",
       " 'max_features': 'sqrt',\n",
       " 'min_samples_leaf': 2,\n",
       " 'min_samples_split': 10,\n",
       " 'n_estimators': 105}"
      ]
     },
     "execution_count": 25,
     "metadata": {},
     "output_type": "execute_result"
    }
   ],
   "source": [
    "clf_random.best_params_"
   ]
  },
  {
   "cell_type": "markdown",
   "metadata": {},
   "source": [
    "### Evaluate Random Search"
   ]
  },
  {
   "cell_type": "code",
   "execution_count": 26,
   "metadata": {
    "collapsed": true
   },
   "outputs": [],
   "source": [
    "## Common Classification algorithm evaluator. It returns the roc_auc\n",
    "from sklearn.metrics import roc_curve, auc\n",
    "def evaluate(model, X_train,y_train, X_test, y_test):\n",
    "    model.fit(X_train,y_train)\n",
    "    predictions = model.predict(X_test)\n",
    "    false_positive_rate, true_positive_rate, thresholds = roc_curve(y_test, predictions)\n",
    "    roc_auc = auc(false_positive_rate, true_positive_rate)\n",
    "    #print(roc)\n",
    "    return roc_auc"
   ]
  },
  {
   "cell_type": "code",
   "execution_count": 27,
   "metadata": {
    "collapsed": true
   },
   "outputs": [],
   "source": [
    "base_model = RandomForestClassifier(n_estimators = 5, random_state = 42)"
   ]
  },
  {
   "cell_type": "code",
   "execution_count": 28,
   "metadata": {
    "collapsed": true
   },
   "outputs": [],
   "source": [
    "best_random = clf_random.best_estimator_"
   ]
  },
  {
   "cell_type": "code",
   "execution_count": 29,
   "metadata": {
    "scrolled": true
   },
   "outputs": [
    {
     "name": "stdout",
     "output_type": "stream",
     "text": [
      "ROC for base model : 0.88606931622\n",
      "ROC for best model : 0.901751054674\n"
     ]
    }
   ],
   "source": [
    "print('ROC for base model : ' + str(evaluate(base_model,X_train,y_train, X_test, y_test)))\n",
    "print('ROC for best model : ' + str(evaluate(best_random,X_train,y_train, X_test, y_test)))"
   ]
  },
  {
   "cell_type": "markdown",
   "metadata": {},
   "source": [
    "### Grid Search with Cross Validation"
   ]
  },
  {
   "cell_type": "code",
   "execution_count": 30,
   "metadata": {
    "collapsed": true
   },
   "outputs": [],
   "source": [
    "from sklearn.model_selection import GridSearchCV\n",
    "# Create the parameter grid based on the results of random search \n",
    "param_grid = {\n",
    "    'bootstrap': [True],\n",
    "    'max_features': ['auto'],\n",
    "    'min_samples_leaf': [1,2,3],\n",
    "    'min_samples_split': [3,5,7],\n",
    "    'n_estimators': [100, 200, 2000]\n",
    "}\n",
    "# Create a based model\n",
    "clf = RandomForestClassifier()\n",
    "# Instantiate the grid search model\n",
    "grid_search = GridSearchCV(estimator = clf, param_grid = param_grid, \n",
    "                          cv = 3, n_jobs = -1, verbose = 2)"
   ]
  },
  {
   "cell_type": "code",
   "execution_count": 31,
   "metadata": {
    "scrolled": false
   },
   "outputs": [
    {
     "name": "stdout",
     "output_type": "stream",
     "text": [
      "Fitting 3 folds for each of 27 candidates, totalling 81 fits\n",
      "[CV] bootstrap=True, max_features=auto, min_samples_leaf=1, min_samples_split=3, n_estimators=100 \n",
      "[CV] bootstrap=True, max_features=auto, min_samples_leaf=1, min_samples_split=3, n_estimators=100 \n",
      "[CV] bootstrap=True, max_features=auto, min_samples_leaf=1, min_samples_split=3, n_estimators=100 \n",
      "[CV] bootstrap=True, max_features=auto, min_samples_leaf=1, min_samples_split=3, n_estimators=200 \n",
      "[CV] bootstrap=True, max_features=auto, min_samples_leaf=1, min_samples_split=3, n_estimators=200 \n",
      "[CV] bootstrap=True, max_features=auto, min_samples_leaf=1, min_samples_split=3, n_estimators=200 \n",
      "[CV] bootstrap=True, max_features=auto, min_samples_leaf=1, min_samples_split=3, n_estimators=2000 \n",
      "[CV] bootstrap=True, max_features=auto, min_samples_leaf=1, min_samples_split=3, n_estimators=2000 \n",
      "[CV]  bootstrap=True, max_features=auto, min_samples_leaf=1, min_samples_split=3, n_estimators=100, total=   2.2s\n",
      "[CV]  bootstrap=True, max_features=auto, min_samples_leaf=1, min_samples_split=3, n_estimators=100, total=   2.2s\n",
      "[CV] bootstrap=True, max_features=auto, min_samples_leaf=1, min_samples_split=3, n_estimators=2000 \n",
      "[CV] bootstrap=True, max_features=auto, min_samples_leaf=1, min_samples_split=5, n_estimators=100 \n",
      "[CV]  bootstrap=True, max_features=auto, min_samples_leaf=1, min_samples_split=3, n_estimators=100, total=   2.2s\n",
      "[CV] bootstrap=True, max_features=auto, min_samples_leaf=1, min_samples_split=5, n_estimators=100 \n",
      "[CV]  bootstrap=True, max_features=auto, min_samples_leaf=1, min_samples_split=5, n_estimators=100, total=   2.1s\n",
      "[CV]  bootstrap=True, max_features=auto, min_samples_leaf=1, min_samples_split=5, n_estimators=100, total=   2.1s\n",
      "[CV] bootstrap=True, max_features=auto, min_samples_leaf=1, min_samples_split=5, n_estimators=100 \n",
      "[CV] bootstrap=True, max_features=auto, min_samples_leaf=1, min_samples_split=5, n_estimators=200 \n",
      "[CV]  bootstrap=True, max_features=auto, min_samples_leaf=1, min_samples_split=3, n_estimators=200, total=   4.3s\n",
      "[CV] bootstrap=True, max_features=auto, min_samples_leaf=1, min_samples_split=5, n_estimators=200 \n",
      "[CV]  bootstrap=True, max_features=auto, min_samples_leaf=1, min_samples_split=3, n_estimators=200, total=   4.3s\n",
      "[CV]  bootstrap=True, max_features=auto, min_samples_leaf=1, min_samples_split=3, n_estimators=200, total=   4.4s\n",
      "[CV] bootstrap=True, max_features=auto, min_samples_leaf=1, min_samples_split=5, n_estimators=200 \n",
      "[CV] bootstrap=True, max_features=auto, min_samples_leaf=1, min_samples_split=5, n_estimators=2000 \n",
      "[CV]  bootstrap=True, max_features=auto, min_samples_leaf=1, min_samples_split=5, n_estimators=100, total=   2.1s\n",
      "[CV] bootstrap=True, max_features=auto, min_samples_leaf=1, min_samples_split=5, n_estimators=2000 \n",
      "[CV]  bootstrap=True, max_features=auto, min_samples_leaf=1, min_samples_split=5, n_estimators=200, total=   4.2s\n",
      "[CV]  bootstrap=True, max_features=auto, min_samples_leaf=1, min_samples_split=5, n_estimators=200, total=   4.2s\n",
      "[CV] bootstrap=True, max_features=auto, min_samples_leaf=1, min_samples_split=5, n_estimators=2000 \n",
      "[CV]  bootstrap=True, max_features=auto, min_samples_leaf=1, min_samples_split=5, n_estimators=200, total=   4.2s\n",
      "[CV] bootstrap=True, max_features=auto, min_samples_leaf=1, min_samples_split=7, n_estimators=100 \n",
      "[CV] bootstrap=True, max_features=auto, min_samples_leaf=1, min_samples_split=7, n_estimators=100 \n",
      "[CV]  bootstrap=True, max_features=auto, min_samples_leaf=1, min_samples_split=7, n_estimators=100, total=   2.1s\n",
      "[CV]  bootstrap=True, max_features=auto, min_samples_leaf=1, min_samples_split=7, n_estimators=100, total=   2.1s\n",
      "[CV] bootstrap=True, max_features=auto, min_samples_leaf=1, min_samples_split=7, n_estimators=100 \n",
      "[CV] bootstrap=True, max_features=auto, min_samples_leaf=1, min_samples_split=7, n_estimators=200 \n",
      "[CV]  bootstrap=True, max_features=auto, min_samples_leaf=1, min_samples_split=7, n_estimators=100, total=   2.1s\n",
      "[CV] bootstrap=True, max_features=auto, min_samples_leaf=1, min_samples_split=7, n_estimators=200 \n",
      "[CV]  bootstrap=True, max_features=auto, min_samples_leaf=1, min_samples_split=7, n_estimators=200, total=   4.4s\n",
      "[CV] bootstrap=True, max_features=auto, min_samples_leaf=1, min_samples_split=7, n_estimators=200 \n",
      "[CV]  bootstrap=True, max_features=auto, min_samples_leaf=1, min_samples_split=7, n_estimators=200, total=   4.4s\n",
      "[CV] bootstrap=True, max_features=auto, min_samples_leaf=1, min_samples_split=7, n_estimators=2000 \n",
      "[CV]  bootstrap=True, max_features=auto, min_samples_leaf=1, min_samples_split=7, n_estimators=200, total=   4.4s\n",
      "[CV] bootstrap=True, max_features=auto, min_samples_leaf=1, min_samples_split=7, n_estimators=2000 \n",
      "[CV]  bootstrap=True, max_features=auto, min_samples_leaf=1, min_samples_split=3, n_estimators=2000, total=  44.5s\n",
      "[CV] bootstrap=True, max_features=auto, min_samples_leaf=1, min_samples_split=7, n_estimators=2000 \n",
      "[CV]  bootstrap=True, max_features=auto, min_samples_leaf=1, min_samples_split=3, n_estimators=2000, total=  45.0s\n",
      "[CV] bootstrap=True, max_features=auto, min_samples_leaf=2, min_samples_split=3, n_estimators=100 \n",
      "[CV]  bootstrap=True, max_features=auto, min_samples_leaf=1, min_samples_split=3, n_estimators=2000, total=  44.7s\n",
      "[CV] bootstrap=True, max_features=auto, min_samples_leaf=2, min_samples_split=3, n_estimators=100 \n",
      "[CV]  bootstrap=True, max_features=auto, min_samples_leaf=2, min_samples_split=3, n_estimators=100, total=   2.0s\n",
      "[CV] bootstrap=True, max_features=auto, min_samples_leaf=2, min_samples_split=3, n_estimators=100 \n",
      "[CV]  bootstrap=True, max_features=auto, min_samples_leaf=2, min_samples_split=3, n_estimators=100, total=   2.1s\n",
      "[CV] bootstrap=True, max_features=auto, min_samples_leaf=2, min_samples_split=3, n_estimators=200 \n",
      "[CV]  bootstrap=True, max_features=auto, min_samples_leaf=1, min_samples_split=5, n_estimators=2000, total=  44.8s\n",
      "[CV] bootstrap=True, max_features=auto, min_samples_leaf=2, min_samples_split=3, n_estimators=200 \n",
      "[CV]  bootstrap=True, max_features=auto, min_samples_leaf=2, min_samples_split=3, n_estimators=100, total=   2.1s\n",
      "[CV] bootstrap=True, max_features=auto, min_samples_leaf=2, min_samples_split=3, n_estimators=200 \n"
     ]
    },
    {
     "name": "stderr",
     "output_type": "stream",
     "text": [
      "[Parallel(n_jobs=-1)]: Done  25 tasks      | elapsed:   55.3s\n"
     ]
    },
    {
     "name": "stdout",
     "output_type": "stream",
     "text": [
      "[CV]  bootstrap=True, max_features=auto, min_samples_leaf=1, min_samples_split=5, n_estimators=2000, total=  44.5s\n",
      "[CV] bootstrap=True, max_features=auto, min_samples_leaf=2, min_samples_split=3, n_estimators=2000 \n",
      "[CV]  bootstrap=True, max_features=auto, min_samples_leaf=1, min_samples_split=5, n_estimators=2000, total=  44.2s\n",
      "[CV] bootstrap=True, max_features=auto, min_samples_leaf=2, min_samples_split=3, n_estimators=2000 \n",
      "[CV]  bootstrap=True, max_features=auto, min_samples_leaf=2, min_samples_split=3, n_estimators=200, total=   4.2s\n",
      "[CV] bootstrap=True, max_features=auto, min_samples_leaf=2, min_samples_split=3, n_estimators=2000 \n",
      "[CV]  bootstrap=True, max_features=auto, min_samples_leaf=2, min_samples_split=3, n_estimators=200, total=   4.2s\n",
      "[CV] bootstrap=True, max_features=auto, min_samples_leaf=2, min_samples_split=5, n_estimators=100 \n",
      "[CV]  bootstrap=True, max_features=auto, min_samples_leaf=2, min_samples_split=3, n_estimators=200, total=   4.2s\n",
      "[CV] bootstrap=True, max_features=auto, min_samples_leaf=2, min_samples_split=5, n_estimators=100 \n",
      "[CV]  bootstrap=True, max_features=auto, min_samples_leaf=2, min_samples_split=5, n_estimators=100, total=   2.1s\n",
      "[CV] bootstrap=True, max_features=auto, min_samples_leaf=2, min_samples_split=5, n_estimators=100 \n",
      "[CV]  bootstrap=True, max_features=auto, min_samples_leaf=2, min_samples_split=5, n_estimators=100, total=   2.1s\n",
      "[CV] bootstrap=True, max_features=auto, min_samples_leaf=2, min_samples_split=5, n_estimators=200 \n",
      "[CV]  bootstrap=True, max_features=auto, min_samples_leaf=2, min_samples_split=5, n_estimators=100, total=   2.5s\n",
      "[CV] bootstrap=True, max_features=auto, min_samples_leaf=2, min_samples_split=5, n_estimators=200 \n",
      "[CV]  bootstrap=True, max_features=auto, min_samples_leaf=2, min_samples_split=5, n_estimators=200, total=   5.0s\n",
      "[CV] bootstrap=True, max_features=auto, min_samples_leaf=2, min_samples_split=5, n_estimators=200 \n",
      "[CV]  bootstrap=True, max_features=auto, min_samples_leaf=1, min_samples_split=7, n_estimators=2000, total=  44.3s\n",
      "[CV] bootstrap=True, max_features=auto, min_samples_leaf=2, min_samples_split=5, n_estimators=2000 \n",
      "[CV]  bootstrap=True, max_features=auto, min_samples_leaf=2, min_samples_split=5, n_estimators=200, total=   4.8s\n",
      "[CV] bootstrap=True, max_features=auto, min_samples_leaf=2, min_samples_split=5, n_estimators=2000 \n",
      "[CV]  bootstrap=True, max_features=auto, min_samples_leaf=1, min_samples_split=7, n_estimators=2000, total=  44.2s\n",
      "[CV] bootstrap=True, max_features=auto, min_samples_leaf=2, min_samples_split=5, n_estimators=2000 \n",
      "[CV]  bootstrap=True, max_features=auto, min_samples_leaf=2, min_samples_split=5, n_estimators=200, total=   4.9s\n",
      "[CV] bootstrap=True, max_features=auto, min_samples_leaf=2, min_samples_split=7, n_estimators=100 \n",
      "[CV]  bootstrap=True, max_features=auto, min_samples_leaf=2, min_samples_split=7, n_estimators=100, total=   2.3s\n",
      "[CV] bootstrap=True, max_features=auto, min_samples_leaf=2, min_samples_split=7, n_estimators=100 \n",
      "[CV]  bootstrap=True, max_features=auto, min_samples_leaf=2, min_samples_split=7, n_estimators=100, total=   2.8s\n",
      "[CV] bootstrap=True, max_features=auto, min_samples_leaf=2, min_samples_split=7, n_estimators=100 \n",
      "[CV]  bootstrap=True, max_features=auto, min_samples_leaf=2, min_samples_split=7, n_estimators=100, total=   3.0s\n",
      "[CV] bootstrap=True, max_features=auto, min_samples_leaf=2, min_samples_split=7, n_estimators=200 \n",
      "[CV]  bootstrap=True, max_features=auto, min_samples_leaf=2, min_samples_split=7, n_estimators=200, total=   4.8s\n",
      "[CV] bootstrap=True, max_features=auto, min_samples_leaf=2, min_samples_split=7, n_estimators=200 \n",
      "[CV]  bootstrap=True, max_features=auto, min_samples_leaf=2, min_samples_split=7, n_estimators=200, total=   4.6s\n",
      "[CV] bootstrap=True, max_features=auto, min_samples_leaf=2, min_samples_split=7, n_estimators=200 \n",
      "[CV]  bootstrap=True, max_features=auto, min_samples_leaf=2, min_samples_split=7, n_estimators=200, total=   4.6s\n",
      "[CV] bootstrap=True, max_features=auto, min_samples_leaf=2, min_samples_split=7, n_estimators=2000 \n",
      "[CV]  bootstrap=True, max_features=auto, min_samples_leaf=1, min_samples_split=7, n_estimators=2000, total=  48.6s\n",
      "[CV] bootstrap=True, max_features=auto, min_samples_leaf=2, min_samples_split=7, n_estimators=2000 \n",
      "[CV]  bootstrap=True, max_features=auto, min_samples_leaf=2, min_samples_split=3, n_estimators=2000, total=  49.9s\n",
      "[CV] bootstrap=True, max_features=auto, min_samples_leaf=2, min_samples_split=7, n_estimators=2000 \n",
      "[CV]  bootstrap=True, max_features=auto, min_samples_leaf=2, min_samples_split=3, n_estimators=2000, total=  49.9s\n",
      "[CV] bootstrap=True, max_features=auto, min_samples_leaf=3, min_samples_split=3, n_estimators=100 \n",
      "[CV]  bootstrap=True, max_features=auto, min_samples_leaf=2, min_samples_split=3, n_estimators=2000, total=  50.0s\n",
      "[CV] bootstrap=True, max_features=auto, min_samples_leaf=3, min_samples_split=3, n_estimators=100 \n",
      "[CV]  bootstrap=True, max_features=auto, min_samples_leaf=3, min_samples_split=3, n_estimators=100, total=   2.4s\n",
      "[CV] bootstrap=True, max_features=auto, min_samples_leaf=3, min_samples_split=3, n_estimators=100 \n",
      "[CV]  bootstrap=True, max_features=auto, min_samples_leaf=3, min_samples_split=3, n_estimators=100, total=   2.3s\n",
      "[CV] bootstrap=True, max_features=auto, min_samples_leaf=3, min_samples_split=3, n_estimators=200 \n",
      "[CV]  bootstrap=True, max_features=auto, min_samples_leaf=3, min_samples_split=3, n_estimators=100, total=   2.4s\n",
      "[CV] bootstrap=True, max_features=auto, min_samples_leaf=3, min_samples_split=3, n_estimators=200 \n",
      "[CV]  bootstrap=True, max_features=auto, min_samples_leaf=3, min_samples_split=3, n_estimators=200, total=   4.6s\n",
      "[CV] bootstrap=True, max_features=auto, min_samples_leaf=3, min_samples_split=3, n_estimators=200 \n",
      "[CV]  bootstrap=True, max_features=auto, min_samples_leaf=3, min_samples_split=3, n_estimators=200, total=   4.5s\n",
      "[CV] bootstrap=True, max_features=auto, min_samples_leaf=3, min_samples_split=3, n_estimators=2000 \n",
      "[CV]  bootstrap=True, max_features=auto, min_samples_leaf=2, min_samples_split=5, n_estimators=2000, total=  50.3s\n",
      "[CV] bootstrap=True, max_features=auto, min_samples_leaf=3, min_samples_split=3, n_estimators=2000 \n",
      "[CV]  bootstrap=True, max_features=auto, min_samples_leaf=2, min_samples_split=5, n_estimators=2000, total=  49.9s\n",
      "[CV] bootstrap=True, max_features=auto, min_samples_leaf=3, min_samples_split=3, n_estimators=2000 \n",
      "[CV]  bootstrap=True, max_features=auto, min_samples_leaf=2, min_samples_split=5, n_estimators=2000, total=  49.9s\n",
      "[CV] bootstrap=True, max_features=auto, min_samples_leaf=3, min_samples_split=5, n_estimators=100 \n",
      "[CV]  bootstrap=True, max_features=auto, min_samples_leaf=3, min_samples_split=3, n_estimators=200, total=   4.9s\n",
      "[CV] bootstrap=True, max_features=auto, min_samples_leaf=3, min_samples_split=5, n_estimators=100 \n",
      "[CV]  bootstrap=True, max_features=auto, min_samples_leaf=3, min_samples_split=5, n_estimators=100, total=   2.4s\n",
      "[CV] bootstrap=True, max_features=auto, min_samples_leaf=3, min_samples_split=5, n_estimators=100 \n",
      "[CV]  bootstrap=True, max_features=auto, min_samples_leaf=3, min_samples_split=5, n_estimators=100, total=   2.3s\n",
      "[CV] bootstrap=True, max_features=auto, min_samples_leaf=3, min_samples_split=5, n_estimators=200 \n",
      "[CV]  bootstrap=True, max_features=auto, min_samples_leaf=3, min_samples_split=5, n_estimators=100, total=   2.1s\n",
      "[CV] bootstrap=True, max_features=auto, min_samples_leaf=3, min_samples_split=5, n_estimators=200 \n",
      "[CV]  bootstrap=True, max_features=auto, min_samples_leaf=3, min_samples_split=5, n_estimators=200, total=   4.1s\n",
      "[CV] bootstrap=True, max_features=auto, min_samples_leaf=3, min_samples_split=5, n_estimators=200 \n",
      "[CV]  bootstrap=True, max_features=auto, min_samples_leaf=3, min_samples_split=5, n_estimators=200, total=   4.1s\n",
      "[CV] bootstrap=True, max_features=auto, min_samples_leaf=3, min_samples_split=5, n_estimators=2000 \n",
      "[CV]  bootstrap=True, max_features=auto, min_samples_leaf=3, min_samples_split=5, n_estimators=200, total=   4.0s\n",
      "[CV] bootstrap=True, max_features=auto, min_samples_leaf=3, min_samples_split=5, n_estimators=2000 \n",
      "[CV]  bootstrap=True, max_features=auto, min_samples_leaf=2, min_samples_split=7, n_estimators=2000, total=  46.9s\n"
     ]
    },
    {
     "name": "stdout",
     "output_type": "stream",
     "text": [
      "[CV] bootstrap=True, max_features=auto, min_samples_leaf=3, min_samples_split=5, n_estimators=2000 \n",
      "[CV]  bootstrap=True, max_features=auto, min_samples_leaf=2, min_samples_split=7, n_estimators=2000, total=  45.2s\n",
      "[CV] bootstrap=True, max_features=auto, min_samples_leaf=3, min_samples_split=7, n_estimators=100 \n",
      "[CV]  bootstrap=True, max_features=auto, min_samples_leaf=3, min_samples_split=7, n_estimators=100, total=   2.2s\n",
      "[CV] bootstrap=True, max_features=auto, min_samples_leaf=3, min_samples_split=7, n_estimators=100 \n",
      "[CV]  bootstrap=True, max_features=auto, min_samples_leaf=3, min_samples_split=7, n_estimators=100, total=   2.5s\n",
      "[CV] bootstrap=True, max_features=auto, min_samples_leaf=3, min_samples_split=7, n_estimators=100 \n",
      "[CV]  bootstrap=True, max_features=auto, min_samples_leaf=2, min_samples_split=7, n_estimators=2000, total=  44.6s\n",
      "[CV] bootstrap=True, max_features=auto, min_samples_leaf=3, min_samples_split=7, n_estimators=200 \n",
      "[CV]  bootstrap=True, max_features=auto, min_samples_leaf=3, min_samples_split=7, n_estimators=100, total=   3.0s\n",
      "[CV] bootstrap=True, max_features=auto, min_samples_leaf=3, min_samples_split=7, n_estimators=200 \n",
      "[CV]  bootstrap=True, max_features=auto, min_samples_leaf=3, min_samples_split=7, n_estimators=200, total=   6.1s\n",
      "[CV] bootstrap=True, max_features=auto, min_samples_leaf=3, min_samples_split=7, n_estimators=200 \n",
      "[CV]  bootstrap=True, max_features=auto, min_samples_leaf=3, min_samples_split=7, n_estimators=200, total=   6.3s\n",
      "[CV] bootstrap=True, max_features=auto, min_samples_leaf=3, min_samples_split=7, n_estimators=2000 \n",
      "[CV]  bootstrap=True, max_features=auto, min_samples_leaf=3, min_samples_split=7, n_estimators=200, total=   6.3s\n",
      "[CV] bootstrap=True, max_features=auto, min_samples_leaf=3, min_samples_split=7, n_estimators=2000 \n",
      "[CV]  bootstrap=True, max_features=auto, min_samples_leaf=3, min_samples_split=3, n_estimators=2000, total=  46.0s\n",
      "[CV] bootstrap=True, max_features=auto, min_samples_leaf=3, min_samples_split=7, n_estimators=2000 \n",
      "[CV]  bootstrap=True, max_features=auto, min_samples_leaf=3, min_samples_split=3, n_estimators=2000, total=  46.6s\n",
      "[CV]  bootstrap=True, max_features=auto, min_samples_leaf=3, min_samples_split=3, n_estimators=2000, total=  46.1s\n",
      "[CV]  bootstrap=True, max_features=auto, min_samples_leaf=3, min_samples_split=5, n_estimators=2000, total=  48.8s\n",
      "[CV]  bootstrap=True, max_features=auto, min_samples_leaf=3, min_samples_split=5, n_estimators=2000, total=  48.4s\n",
      "[CV]  bootstrap=True, max_features=auto, min_samples_leaf=3, min_samples_split=5, n_estimators=2000, total=  46.2s\n",
      "[CV]  bootstrap=True, max_features=auto, min_samples_leaf=3, min_samples_split=7, n_estimators=2000, total=  35.9s\n",
      "[CV]  bootstrap=True, max_features=auto, min_samples_leaf=3, min_samples_split=7, n_estimators=2000, total=  31.3s\n",
      "[CV]  bootstrap=True, max_features=auto, min_samples_leaf=3, min_samples_split=7, n_estimators=2000, total=  30.7s\n"
     ]
    },
    {
     "name": "stderr",
     "output_type": "stream",
     "text": [
      "[Parallel(n_jobs=-1)]: Done  81 out of  81 | elapsed:  3.6min finished\n"
     ]
    },
    {
     "data": {
      "text/plain": [
       "GridSearchCV(cv=3, error_score='raise',\n",
       "       estimator=RandomForestClassifier(bootstrap=True, class_weight=None, criterion='gini',\n",
       "            max_depth=None, max_features='auto', max_leaf_nodes=None,\n",
       "            min_impurity_split=1e-07, min_samples_leaf=1,\n",
       "            min_samples_split=2, min_weight_fraction_leaf=0.0,\n",
       "            n_estimators=10, n_jobs=1, oob_score=False, random_state=None,\n",
       "            verbose=0, warm_start=False),\n",
       "       fit_params={}, iid=True, n_jobs=-1,\n",
       "       param_grid={'bootstrap': [True], 'max_features': ['auto'], 'min_samples_leaf': [1, 2, 3], 'min_samples_split': [3, 5, 7], 'n_estimators': [100, 200, 2000]},\n",
       "       pre_dispatch='2*n_jobs', refit=True, return_train_score=True,\n",
       "       scoring=None, verbose=2)"
      ]
     },
     "execution_count": 31,
     "metadata": {},
     "output_type": "execute_result"
    }
   ],
   "source": [
    "grid_search.fit(X_train, y_train)"
   ]
  },
  {
   "cell_type": "code",
   "execution_count": 32,
   "metadata": {},
   "outputs": [
    {
     "data": {
      "text/plain": [
       "{'bootstrap': True,\n",
       " 'max_features': 'auto',\n",
       " 'min_samples_leaf': 1,\n",
       " 'min_samples_split': 7,\n",
       " 'n_estimators': 100}"
      ]
     },
     "execution_count": 32,
     "metadata": {},
     "output_type": "execute_result"
    }
   ],
   "source": [
    "grid_search.best_params_"
   ]
  },
  {
   "cell_type": "code",
   "execution_count": 33,
   "metadata": {
    "collapsed": true
   },
   "outputs": [],
   "source": [
    "best_grid = grid_search.best_estimator_"
   ]
  },
  {
   "cell_type": "code",
   "execution_count": 34,
   "metadata": {},
   "outputs": [
    {
     "name": "stdout",
     "output_type": "stream",
     "text": [
      "ROC for best grid search model : 0.903271398441\n"
     ]
    }
   ],
   "source": [
    "print('ROC for best grid search model : ' + str(evaluate(best_grid,X_train,y_train, X_test, y_test)))"
   ]
  },
  {
   "cell_type": "markdown",
   "metadata": {},
   "source": [
    "### Now lets implement XGBoost (eXtreme Gradient Boosting) "
   ]
  },
  {
   "cell_type": "markdown",
   "metadata": {},
   "source": [
    "I’ll consider only tree booster here because it always outperforms the linear booster and thus the later is rarely used."
   ]
  },
  {
   "cell_type": "code",
   "execution_count": 35,
   "metadata": {},
   "outputs": [
    {
     "name": "stderr",
     "output_type": "stream",
     "text": [
      "/Users/bear/anaconda/lib/python3.6/site-packages/sklearn/cross_validation.py:44: DeprecationWarning: This module was deprecated in version 0.18 in favor of the model_selection module into which all the refactored classes and functions are moved. Also note that the interface of the new CV iterators are different from that of this module. This module will be removed in 0.20.\n",
      "  \"This module will be removed in 0.20.\", DeprecationWarning)\n"
     ]
    }
   ],
   "source": [
    "from xgboost import XGBClassifier\n",
    "from sklearn.metrics import accuracy_score"
   ]
  },
  {
   "cell_type": "code",
   "execution_count": 36,
   "metadata": {
    "scrolled": false
   },
   "outputs": [
    {
     "data": {
      "text/plain": [
       "XGBClassifier(base_score=0.5, colsample_bylevel=1, colsample_bytree=1,\n",
       "       gamma=0, learning_rate=0.1, max_delta_step=0, max_depth=3,\n",
       "       min_child_weight=1, missing=None, n_estimators=100, nthread=-1,\n",
       "       objective='binary:logistic', reg_alpha=0, reg_lambda=1,\n",
       "       scale_pos_weight=1, seed=0, silent=True, subsample=1)"
      ]
     },
     "execution_count": 36,
     "metadata": {},
     "output_type": "execute_result"
    }
   ],
   "source": [
    "# fit model on training data\n",
    "xgBoostClassifierModel = XGBClassifier()\n",
    "xgBoostClassifierModel.fit(X_train, y_train)"
   ]
  },
  {
   "cell_type": "code",
   "execution_count": 37,
   "metadata": {
    "collapsed": true
   },
   "outputs": [],
   "source": [
    "# make predictions for test data\n",
    "y_pred = xgBoostClassifierModel.predict(X_test)\n",
    "predictions = [round(value) for value in y_pred]"
   ]
  },
  {
   "cell_type": "code",
   "execution_count": 38,
   "metadata": {},
   "outputs": [
    {
     "name": "stdout",
     "output_type": "stream",
     "text": [
      "Accuracy: 90.48%\n"
     ]
    }
   ],
   "source": [
    "# evaluate predictions\n",
    "accuracy = accuracy_score(y_test, predictions)\n",
    "print(\"Accuracy: %.2f%%\" % (accuracy * 100.0))"
   ]
  },
  {
   "cell_type": "markdown",
   "metadata": {},
   "source": [
    "## Which are the important hyper parameters?\n",
    "\n",
    "* ???\n",
    "* ???\n",
    "* ??? "
   ]
  },
  {
   "cell_type": "code",
   "execution_count": 39,
   "metadata": {
    "collapsed": true
   },
   "outputs": [],
   "source": [
    "from sklearn.model_selection import GridSearchCV\n",
    "from sklearn.model_selection import StratifiedKFold"
   ]
  },
  {
   "cell_type": "code",
   "execution_count": 40,
   "metadata": {},
   "outputs": [
    {
     "name": "stdout",
     "output_type": "stream",
     "text": [
      "Best: -0.210598 using {'n_estimators': 350}\n",
      "-0.256521 (0.010445) with: {'n_estimators': 50}\n",
      "-0.230593 (0.011526) with: {'n_estimators': 100}\n",
      "-0.221281 (0.012066) with: {'n_estimators': 150}\n",
      "-0.216314 (0.012628) with: {'n_estimators': 200}\n",
      "-0.213511 (0.012680) with: {'n_estimators': 250}\n",
      "-0.211842 (0.012444) with: {'n_estimators': 300}\n",
      "-0.210598 (0.012785) with: {'n_estimators': 350}\n"
     ]
    },
    {
     "data": {
      "image/png": "[encoded data removed]",
      "text/plain": [
       "<Figure size 432x288 with 1 Axes>"
      ]
     },
     "metadata": {},
     "output_type": "display_data"
    }
   ],
   "source": [
    "model = XGBClassifier()\n",
    "n_estimators = range(50, 400, 50)\n",
    "param_grid = dict(n_estimators=n_estimators)\n",
    "kfold = StratifiedKFold(n_splits=10, shuffle=True, random_state=7)\n",
    "grid_search = GridSearchCV(model, param_grid, scoring=\"neg_log_loss\", n_jobs=-1, cv=kfold)\n",
    "grid_result = grid_search.fit(X_train, y_train)\n",
    "# summarize results\n",
    "print(\"Best: %f using %s\" % (grid_result.best_score_, grid_result.best_params_))\n",
    "means = grid_result.cv_results_['mean_test_score']\n",
    "stds = grid_result.cv_results_['std_test_score']\n",
    "params = grid_result.cv_results_['params']\n",
    "for mean, stdev, param in zip(means, stds, params):\n",
    "\tprint(\"%f (%f) with: %r\" % (mean, stdev, param))\n",
    "# plot\n",
    "plt.errorbar(n_estimators, means, yerr=stds)\n",
    "plt.title(\"XGBoost n_estimators vs Log Loss\")\n",
    "plt.xlabel('n_estimators')\n",
    "plt.ylabel('Log Loss')\n",
    "plt.savefig('n_estimators.png')"
   ]
  },
  {
   "cell_type": "markdown",
   "metadata": {},
   "source": [
    "We can see that the cross validation log loss scores are negative. This is because the scikit-learn cross validation framework inverted them. The reason is that internally, the framework requires that all metrics that are being optimized are to be maximized, whereas log loss is a minimization metric. It can easily be made maximizing by inverting the scores.\n",
    "\n",
    "The best number of trees was n_estimators=350 resulting in a log loss of -0.213537, but really not a significant difference from n_estimators=200. In fact, there is not a large relative difference in the number of trees between 100 and 350 if we plot the results."
   ]
  },
  {
   "cell_type": "markdown",
   "metadata": {},
   "source": [
    "## Tune the Size of Decision Trees in XGBoost"
   ]
  },
  {
   "cell_type": "markdown",
   "metadata": {},
   "source": [
    "In gradient boosting, we can control the size of decision trees, also called the number of layers or the depth.\n",
    "\n",
    "Shallow trees are expected to have poor performance because they capture few details of the problem and are generally referred to as weak learners. Deeper trees generally capture too many details of the problem and overfit the training dataset, limiting the ability to make good predictions on new data.\n",
    "\n",
    "Generally, boosting algorithms are configured with weak learners, decision trees with few layers, sometimes as simple as just a root node, also called a decision stump rather than a decision tree.\n",
    "\n",
    "The maximum depth can be specified in the XGBClassifier and XGBRegressor wrapper classes for XGBoost in the max_depth parameter. This parameter takes an integer value and defaults to a value of 3."
   ]
  },
  {
   "cell_type": "code",
   "execution_count": 41,
   "metadata": {},
   "outputs": [
    {
     "name": "stdout",
     "output_type": "stream",
     "text": [
      "range(1, 11, 2)\n",
      "Fitting 10 folds for each of 5 candidates, totalling 50 fits\n"
     ]
    },
    {
     "name": "stderr",
     "output_type": "stream",
     "text": [
      "[Parallel(n_jobs=-1)]: Done  34 tasks      | elapsed:   17.2s\n",
      "[Parallel(n_jobs=-1)]: Done  50 out of  50 | elapsed:   32.7s finished\n"
     ]
    },
    {
     "name": "stdout",
     "output_type": "stream",
     "text": [
      "Best: -0.206851 using {'max_depth': 7}\n",
      "-0.331726 (0.009596) with: {'max_depth': 1}\n",
      "-0.230593 (0.011526) with: {'max_depth': 3}\n",
      "-0.212634 (0.012654) with: {'max_depth': 5}\n",
      "-0.206851 (0.013448) with: {'max_depth': 7}\n",
      "-0.208659 (0.012861) with: {'max_depth': 9}\n"
     ]
    }
   ],
   "source": [
    "model = XGBClassifier()\n",
    "max_depth = range(1, 11, 2)\n",
    "print(max_depth)\n",
    "param_grid = dict(max_depth=max_depth)\n",
    "kfold = StratifiedKFold(n_splits=10, shuffle=True, random_state=7)\n",
    "grid_search = GridSearchCV(model, param_grid, scoring=\"neg_log_loss\", n_jobs=-1, cv=kfold, verbose=1)\n",
    "grid_result = grid_search.fit(X_train, y_train)\n",
    "# summarize results\n",
    "print(\"Best: %f using %s\" % (grid_result.best_score_, grid_result.best_params_))\n",
    "means = grid_result.cv_results_['mean_test_score']\n",
    "stds = grid_result.cv_results_['std_test_score']\n",
    "params = grid_result.cv_results_['params']\n",
    "for mean, stdev, param in zip(means, stds, params):\n",
    "\tprint(\"%f (%f) with: %r\" % (mean, stdev, param))\n"
   ]
  },
  {
   "cell_type": "code",
   "execution_count": 42,
   "metadata": {},
   "outputs": [
    {
     "data": {
      "image/png": "[encoded data removed]",
      "text/plain": [
       "<Figure size 432x288 with 1 Axes>"
      ]
     },
     "metadata": {},
     "output_type": "display_data"
    }
   ],
   "source": [
    "# plot\n",
    "plt.errorbar(max_depth, means, yerr=stds)\n",
    "plt.title(\"XGBoost max_depth vs Log Loss\")\n",
    "plt.xlabel('max_depth')\n",
    "plt.ylabel('Log Loss')\n",
    "plt.savefig('max_depth.png')"
   ]
  },
  {
   "cell_type": "markdown",
   "metadata": {},
   "source": [
    "Reviewing the plot of log loss scores, we can see a marked jump from max_depth=1 to max_depth=3 then pretty even performance for the rest the values of max_depth.\n",
    "\n",
    "Although the best score was observed for max_depth=5, it is interesting to note that there was practically little difference between using max_depth=3 or max_depth=7.\n",
    "\n",
    "This suggests a point of diminishing returns in max_depth on a problem that you can tease out using grid search. A graph of max_depth values is plotted against (inverted) logarithmic loss below."
   ]
  },
  {
   "cell_type": "markdown",
   "metadata": {},
   "source": [
    "### Tune The Number of Trees and Max Depth in XGBoost"
   ]
  },
  {
   "cell_type": "markdown",
   "metadata": {},
   "source": [
    "There is a relationship between the number of trees in the model and the depth of each tree.\n",
    "\n",
    "We would expect that deeper trees would result in fewer trees being required in the model, and the inverse where simpler trees (such as decision stumps) require many more trees to achieve similar results.\n",
    "\n",
    "We can investigate this relationship by evaluating a grid of n_estimators and max_depth configuration values. To avoid the evaluation taking too long, we will limit the total number of configuration values evaluated. Parameters were chosen to tease out the relationship rather than optimize the model.\n",
    "\n",
    "We will create a grid of 4 different n_estimators values (350, 300, 250, 400) and 4 different max_depth values (6, 7, 8, 9) and each combination will be evaluated using 10-fold cross validation. A total of 4*4*10 or 160 models will be trained and evaluated.\n",
    "\n"
   ]
  },
  {
   "cell_type": "code",
   "execution_count": 43,
   "metadata": {},
   "outputs": [
    {
     "name": "stdout",
     "output_type": "stream",
     "text": [
      "[6, 7, 8, 9]\n",
      "Fitting 10 folds for each of 16 candidates, totalling 160 fits\n"
     ]
    },
    {
     "name": "stderr",
     "output_type": "stream",
     "text": [
      "[Parallel(n_jobs=-1)]: Done  34 tasks      | elapsed:  1.5min\n",
      "[Parallel(n_jobs=-1)]: Done 160 out of 160 | elapsed:  7.4min finished\n"
     ]
    },
    {
     "name": "stdout",
     "output_type": "stream",
     "text": [
      "Best: -0.206594 using {'max_depth': 6, 'n_estimators': 250}\n",
      "-0.210369 (0.017360) with: {'max_depth': 6, 'n_estimators': 350}\n",
      "-0.208358 (0.016907) with: {'max_depth': 6, 'n_estimators': 300}\n",
      "-0.206594 (0.016028) with: {'max_depth': 6, 'n_estimators': 250}\n",
      "-0.212370 (0.017970) with: {'max_depth': 6, 'n_estimators': 400}\n",
      "-0.215489 (0.015698) with: {'max_depth': 7, 'n_estimators': 350}\n",
      "-0.212513 (0.014956) with: {'max_depth': 7, 'n_estimators': 300}\n",
      "-0.209843 (0.014491) with: {'max_depth': 7, 'n_estimators': 250}\n",
      "-0.218934 (0.016089) with: {'max_depth': 7, 'n_estimators': 400}\n",
      "-0.223642 (0.016684) with: {'max_depth': 8, 'n_estimators': 350}\n",
      "-0.219297 (0.016335) with: {'max_depth': 8, 'n_estimators': 300}\n",
      "-0.215353 (0.015558) with: {'max_depth': 8, 'n_estimators': 250}\n",
      "-0.228244 (0.017581) with: {'max_depth': 8, 'n_estimators': 400}\n",
      "-0.232503 (0.016736) with: {'max_depth': 9, 'n_estimators': 350}\n",
      "-0.226739 (0.015552) with: {'max_depth': 9, 'n_estimators': 300}\n",
      "-0.221105 (0.014920) with: {'max_depth': 9, 'n_estimators': 250}\n",
      "-0.237505 (0.017320) with: {'max_depth': 9, 'n_estimators': 400}\n"
     ]
    }
   ],
   "source": [
    "# grid search\n",
    "model = XGBClassifier()\n",
    "n_estimators = [350, 300, 250, 400]\n",
    "max_depth = [6, 7, 8, 9]\n",
    "print(max_depth)\n",
    "param_grid = dict(max_depth=max_depth, n_estimators=n_estimators)\n",
    "kfold = StratifiedKFold(n_splits=10, shuffle=True, random_state=7)\n",
    "grid_search = GridSearchCV(model, param_grid, scoring=\"neg_log_loss\", n_jobs=-1, cv=kfold, verbose=1)\n",
    "grid_result = grid_search.fit(X_train, y_train)\n",
    "# summarize results\n",
    "print(\"Best: %f using %s\" % (grid_result.best_score_, grid_result.best_params_))\n",
    "means = grid_result.cv_results_['mean_test_score']\n",
    "stds = grid_result.cv_results_['std_test_score']\n",
    "params = grid_result.cv_results_['params']\n",
    "for mean, stdev, param in zip(means, stds, params):\n",
    "\tprint(\"%f (%f) with: %r\" % (mean, stdev, param))\n"
   ]
  },
  {
   "cell_type": "code",
   "execution_count": 44,
   "metadata": {
    "scrolled": true
   },
   "outputs": [
    {
     "data": {
      "image/png": "[encoded data removed]",
      "text/plain": [
       "<Figure size 432x288 with 1 Axes>"
      ]
     },
     "metadata": {},
     "output_type": "display_data"
    }
   ],
   "source": [
    "# plot results\n",
    "scores = np.array(means).reshape(len(max_depth), len(n_estimators))\n",
    "for i, value in enumerate(max_depth):\n",
    "    plt.plot(n_estimators, scores[i], label='depth: ' + str(value))\n",
    "plt.legend()\n",
    "plt.xlabel('n_estimators')\n",
    "plt.ylabel('Log Loss')\n",
    "plt.savefig('n_estimators_vs_max_depth.png')"
   ]
  },
  {
   "cell_type": "markdown",
   "metadata": {},
   "source": [
    "We can see that the best result was achieved with a n_estimators=250 and max_depth=6, similar to the best values found from the previous two rounds of standalone parameter tuning (n_estimators=250, max_depth=5).\n",
    "\n",
    "We can plot the relationship between each series of max_depth values for a given n_estimators."
   ]
  },
  {
   "cell_type": "markdown",
   "metadata": {},
   "source": [
    "Fewer boosted trees are required with increased tree depth.\n",
    "\n",
    "Further, we would expect the increase complexity provided by deeper individual trees to result in greater overfitting of the training data which would be exacerbated by having more trees, in turn resulting in a lower cross validation score. We don’t see this here as our trees are not that deep nor do we have too many. Exploring this expectation  is left as an exercise you could explore yourself."
   ]
  },
  {
   "cell_type": "markdown",
   "metadata": {},
   "source": [
    "## Creating the model with the best values for Hyper parameters\n"
   ]
  },
  {
   "cell_type": "code",
   "execution_count": 45,
   "metadata": {
    "collapsed": true
   },
   "outputs": [],
   "source": [
    "model = XGBClassifier(max_depth=3, n_estimators=50)"
   ]
  },
  {
   "cell_type": "code",
   "execution_count": 46,
   "metadata": {},
   "outputs": [
    {
     "name": "stdout",
     "output_type": "stream",
     "text": [
      "XGBClassifier(base_score=0.5, colsample_bylevel=1, colsample_bytree=1,\n",
      "       gamma=0, learning_rate=0.1, max_delta_step=0, max_depth=3,\n",
      "       min_child_weight=1, missing=None, n_estimators=50, nthread=-1,\n",
      "       objective='binary:logistic', reg_alpha=0, reg_lambda=1,\n",
      "       scale_pos_weight=1, seed=0, silent=True, subsample=1)\n"
     ]
    }
   ],
   "source": [
    "print(model)"
   ]
  },
  {
   "cell_type": "code",
   "execution_count": 47,
   "metadata": {
    "collapsed": true,
    "scrolled": true
   },
   "outputs": [],
   "source": [
    "model.fit(X_train, y_train)\n",
    "y_pred = model.predict(X_test)\n",
    "predictions = [round(value) for value in y_pred]"
   ]
  },
  {
   "cell_type": "code",
   "execution_count": 48,
   "metadata": {
    "scrolled": true
   },
   "outputs": [
    {
     "name": "stdout",
     "output_type": "stream",
     "text": [
      "ROC for the XGBoost model is: 0.897685069908\n"
     ]
    }
   ],
   "source": [
    "print('ROC for the XGBoost model is: ' + str(evaluate(model, X_train,y_train, X_test, y_test)))"
   ]
  },
  {
   "cell_type": "markdown",
   "metadata": {},
   "source": [
    "## Thus we got a higher ROC for XGBoost model than the bagging models tried earlier"
   ]
  },
  {
   "cell_type": "markdown",
   "metadata": {},
   "source": [
    "## Classification with Logistic Regression\n",
    "\n",
    "Compare logistic regression with the based tree algorithms in Part A on the same data. Answer the following questions for logistic regression:\n",
    "\n",
    "* Which independent variables are important?\n",
    "* Is there multi-colinearity?\n",
    "* How does it compare to the the models in Part A?"
   ]
  },
  {
   "cell_type": "markdown",
   "metadata": {},
   "source": [
    "We need to develop a Nominal Logistic Regression model which will predict whether the house price is HIGH(1) or LOW(-1)"
   ]
  },
  {
   "cell_type": "code",
   "execution_count": 49,
   "metadata": {},
   "outputs": [
    {
     "name": "stderr",
     "output_type": "stream",
     "text": [
      "/Users/bear/anaconda/lib/python3.6/site-packages/statsmodels/compat/pandas.py:56: FutureWarning: The pandas.core.datetools module is deprecated and will be removed in a future version. Please use the pandas.tseries module instead.\n",
      "  from pandas.core import datetools\n"
     ]
    }
   ],
   "source": [
    "import statsmodels.api as sm\n",
    "import statsmodels.formula.api as smf\n",
    "import pandas as pd\n",
    "from sklearn.linear_model import LogisticRegression"
   ]
  },
  {
   "cell_type": "code",
   "execution_count": 50,
   "metadata": {
    "collapsed": true
   },
   "outputs": [],
   "source": [
    "features['price_cat_log'] = features['price'].apply(lambda x: 1 if x > median_price else 0)"
   ]
  },
  {
   "cell_type": "code",
   "execution_count": 51,
   "metadata": {
    "scrolled": true
   },
   "outputs": [
    {
     "data": {
      "text/plain": [
       "Index(['index', 'price', 'bedrooms', 'bathrooms', 'sqft_living', 'sqft_lot',\n",
       "       'waterfront', 'sqft_above', 'sqft_basement', 'yr_built', 'yr_renovated',\n",
       "       'lat', 'long', 'sqft_living15', 'sqft_lot15', 'basement_present',\n",
       "       'renovated', 'floors#1.0', 'floors#1.5', 'floors#2.0', 'floors#2.5',\n",
       "       'floors#3.0', 'floors#3.5', 'view#0', 'view#1', 'view#2', 'view#3',\n",
       "       'view#4', 'condition#1', 'condition#2', 'condition#3', 'condition#4',\n",
       "       'condition#5', 'grade#1', 'grade#3', 'grade#4', 'grade#5', 'grade#6',\n",
       "       'grade#7', 'grade#8', 'grade#9', 'grade#10', 'grade#11', 'grade#12',\n",
       "       'grade#13', 'zipcode#98004', 'zipcode#98102', 'zipcode#98109',\n",
       "       'zipcode#98112', 'zipcode#98039', 'zipcode#98040', 'price_cat',\n",
       "       'price_cat_log'],\n",
       "      dtype='object')"
      ]
     },
     "execution_count": 51,
     "metadata": {},
     "output_type": "execute_result"
    }
   ],
   "source": [
    "features.columns"
   ]
  },
  {
   "cell_type": "code",
   "execution_count": 52,
   "metadata": {
    "collapsed": true
   },
   "outputs": [],
   "source": [
    "price_cat_log=features['price_cat_log']\n",
    "y_log=price_cat_log"
   ]
  },
  {
   "cell_type": "code",
   "execution_count": 53,
   "metadata": {
    "collapsed": true
   },
   "outputs": [],
   "source": [
    "X_train_log,X_test_log,y_train_log,y_test_log=train_test_split(features[['bedrooms', 'sqft_living', 'waterfront', 'sqft_basement', 'yr_built', 'bathrooms']]\n",
    "                                                               ,y_log,test_size=0.3,random_state=0)"
   ]
  },
  {
   "cell_type": "code",
   "execution_count": 54,
   "metadata": {},
   "outputs": [
    {
     "name": "stdout",
     "output_type": "stream",
     "text": [
      "Training set score: 0.732\n",
      "Test set score: 0.731\n"
     ]
    }
   ],
   "source": [
    "logreg=LogisticRegression().fit(X_train_log,y_train_log)\n",
    "logreg\n",
    "print(\"Training set score: {:.3f}\".format(logreg.score(X_train_log,y_train_log)))\n",
    "print(\"Test set score: {:.3f}\".format(logreg.score(X_test_log,y_test_log)))"
   ]
  },
  {
   "cell_type": "code",
   "execution_count": 55,
   "metadata": {},
   "outputs": [
    {
     "name": "stdout",
     "output_type": "stream",
     "text": [
      "Optimization terminated successfully.\n",
      "         Current function value: 0.522835\n",
      "         Iterations 7\n",
      "                           Logit Regression Results                           \n",
      "==============================================================================\n",
      "Dep. Variable:          price_cat_log   No. Observations:                15129\n",
      "Model:                          Logit   Df Residuals:                    15123\n",
      "Method:                           MLE   Df Model:                            5\n",
      "Date:                Mon, 14 Jan 2019   Pseudo R-squ.:                  0.2457\n",
      "Time:                        19:42:05   Log-Likelihood:                -7910.0\n",
      "converged:                       True   LL-Null:                       -10486.\n",
      "                                        LLR p-value:                     0.000\n",
      "=================================================================================\n",
      "                    coef    std err          z      P>|z|      [0.025      0.975]\n",
      "---------------------------------------------------------------------------------\n",
      "bedrooms         -0.3118      0.028    -10.959      0.000      -0.368      -0.256\n",
      "sqft_living       0.0019   4.82e-05     38.869      0.000       0.002       0.002\n",
      "waterfront        1.9170      0.419      4.578      0.000       1.096       2.738\n",
      "sqft_basement     0.0002   5.38e-05      3.926      0.000       0.000       0.000\n",
      "yr_built         -0.0016   4.46e-05    -36.071      0.000      -0.002      -0.002\n",
      "bathrooms         0.1852      0.040      4.594      0.000       0.106       0.264\n",
      "=================================================================================\n"
     ]
    }
   ],
   "source": [
    "logit_model=sm.Logit(y_train_log,X_train_log)\n",
    "result=logit_model.fit()\n",
    "print(result.summary())"
   ]
  },
  {
   "cell_type": "markdown",
   "metadata": {},
   "source": [
    "### Looking at the z scores, we know that, sqft_living is the most significant followed by yr_built and then the rest.\n",
    "\n",
    "Why?  Explain."
   ]
  },
  {
   "cell_type": "code",
   "execution_count": 56,
   "metadata": {
    "scrolled": true
   },
   "outputs": [
    {
     "data": {
      "image/png": "[encoded data removed]",
      "text/plain": [
       "<Figure size 432x288 with 1 Axes>"
      ]
     },
     "metadata": {},
     "output_type": "display_data"
    }
   ],
   "source": [
    "from sklearn.metrics import roc_curve\n",
    "falsepos,truepos,thresholds=roc_curve(y_test_log,logreg.decision_function(X_test_log))\n",
    "\n",
    "plt.plot(falsepos,truepos,label=\"ROC\")\n",
    "plt.xlabel(\"False Positive Rate\")\n",
    "plt.ylabel(\"True Positive Rate\")\n",
    "\n",
    "cutoff=np.argmin(np.abs(thresholds))\n",
    "plt.plot(falsepos[cutoff],truepos[cutoff],'o',markersize=10,label=\"cutoff\",fillstyle=\"none\")\n",
    "plt.show()"
   ]
  },
  {
   "cell_type": "code",
   "execution_count": 57,
   "metadata": {},
   "outputs": [
    {
     "data": {
      "text/plain": [
       "0.80786951781479166"
      ]
     },
     "execution_count": 57,
     "metadata": {},
     "output_type": "execute_result"
    }
   ],
   "source": [
    "from sklearn import metrics\n",
    "metrics.auc(falsepos, truepos)"
   ]
  },
  {
   "cell_type": "markdown",
   "metadata": {},
   "source": [
    "## As compared to Models in Part A, the accuracy of the Logistic Regression model is less. "
   ]
  },
  {
   "cell_type": "markdown",
   "metadata": {},
   "source": [
    "## Regression with Trees \n",
    "Compare at least one bagging based tree algorithm (e.g. Random Forest) with a boosting based tree algorithm on a regression problem.\n",
    "Answer the following questions for each supervised learner:\n",
    "\n",
    "* Which hyper-parameters are important?    \n",
    "* What hyper-parameter values work best?   \n",
    "* Which supervised learner works best on the test data?  \n"
   ]
  },
  {
   "cell_type": "markdown",
   "metadata": {},
   "source": [
    "### Random Forest based Regression"
   ]
  },
  {
   "cell_type": "markdown",
   "metadata": {},
   "source": [
    "To look at the available hyperparameters, we can create a random forest and examine the default values."
   ]
  },
  {
   "cell_type": "code",
   "execution_count": 58,
   "metadata": {},
   "outputs": [
    {
     "name": "stdout",
     "output_type": "stream",
     "text": [
      "Parameters currently in use:\n",
      "\n",
      "{'bootstrap': True,\n",
      " 'criterion': 'mse',\n",
      " 'max_depth': None,\n",
      " 'max_features': 'auto',\n",
      " 'max_leaf_nodes': None,\n",
      " 'min_impurity_split': 1e-07,\n",
      " 'min_samples_leaf': 1,\n",
      " 'min_samples_split': 2,\n",
      " 'min_weight_fraction_leaf': 0.0,\n",
      " 'n_estimators': 10,\n",
      " 'n_jobs': 1,\n",
      " 'oob_score': False,\n",
      " 'random_state': 42,\n",
      " 'verbose': 0,\n",
      " 'warm_start': False}\n"
     ]
    }
   ],
   "source": [
    "from sklearn.ensemble import RandomForestRegressor\n",
    "rf = RandomForestRegressor(random_state = 42)\n",
    "from pprint import pprint\n",
    "# Look at parameters used by our current forest\n",
    "print('Parameters currently in use:\\n')\n",
    "pprint(rf.get_params())"
   ]
  },
  {
   "cell_type": "markdown",
   "metadata": {},
   "source": [
    "* estimators = number of trees in the foreset\n",
    "* max_features = max number of features considered for splitting a node\n",
    "* max_depth = max number of levels in each decision tree\n",
    "* min_samples_split = min number of data points placed in a node before the node is split\n",
    "* min_samples_leaf = min number of data points allowed in a leaf node\n",
    "* bootstrap = method for sampling data points (with or without replacement)"
   ]
  },
  {
   "cell_type": "code",
   "execution_count": 59,
   "metadata": {
    "collapsed": true
   },
   "outputs": [],
   "source": [
    "X_features_reg = ['bedrooms', 'bathrooms', 'sqft_living', 'sqft_lot',\n",
    "       'waterfront', 'sqft_above', 'sqft_basement', 'yr_built', 'yr_renovated',\n",
    "       'lat', 'long', 'sqft_living15', 'sqft_lot15', 'basement_present',\n",
    "       'renovated', 'floors#1.0', 'floors#1.5', 'floors#2.0', 'floors#2.5',\n",
    "       'floors#3.0', 'floors#3.5', 'view#0', 'view#1', 'view#2', 'view#3',\n",
    "       'view#4', 'condition#1', 'condition#2', 'condition#3', 'condition#4',\n",
    "       'condition#5', 'grade#1', 'grade#3', 'grade#4', 'grade#5', 'grade#6',\n",
    "       'grade#7', 'grade#8', 'grade#9', 'grade#10', 'grade#11', 'grade#12',\n",
    "       'grade#13', 'zipcode#98004', 'zipcode#98102', 'zipcode#98109',\n",
    "       'zipcode#98112', 'zipcode#98039', 'zipcode#98040']\n",
    "\n",
    "X_reg=features[['bedrooms', 'bathrooms', 'sqft_living', 'sqft_lot',\n",
    "       'waterfront', 'sqft_above', 'sqft_basement', 'yr_built', 'yr_renovated',\n",
    "       'lat', 'long', 'sqft_living15', 'sqft_lot15', 'basement_present',\n",
    "       'renovated', 'floors#1.0', 'floors#1.5', 'floors#2.0', 'floors#2.5',\n",
    "       'floors#3.0', 'floors#3.5', 'view#0', 'view#1', 'view#2', 'view#3',\n",
    "       'view#4', 'condition#1', 'condition#2', 'condition#3', 'condition#4',\n",
    "       'condition#5', 'grade#1', 'grade#3', 'grade#4', 'grade#5', 'grade#6',\n",
    "       'grade#7', 'grade#8', 'grade#9', 'grade#10', 'grade#11', 'grade#12',\n",
    "       'grade#13', 'zipcode#98004', 'zipcode#98102', 'zipcode#98109',\n",
    "       'zipcode#98112', 'zipcode#98039', 'zipcode#98040']]  # Features\n",
    "\n",
    "y_reg=features['price']  # Labels\n",
    "       \n",
    "# Split dataset into training set and test set\n",
    "X_train_reg, X_test_reg, y_train_reg, y_test_reg = train_test_split(X_reg, y_reg, test_size=0.3) # 70% training and 30% test"
   ]
  },
  {
   "cell_type": "markdown",
   "metadata": {},
   "source": [
    "### Random Search Cross Validation in Scikit-Learn"
   ]
  },
  {
   "cell_type": "markdown",
   "metadata": {},
   "source": [
    "To use RandomizedSearchCV, we first need to create a parameter grid to sample from during fitting:"
   ]
  },
  {
   "cell_type": "code",
   "execution_count": 60,
   "metadata": {},
   "outputs": [
    {
     "name": "stdout",
     "output_type": "stream",
     "text": [
      "{'max_depth': [2, 4, 6, 8, 10, None],\n",
      " 'max_features': ['auto', 'sqrt'],\n",
      " 'min_samples_leaf': [2, 4],\n",
      " 'min_samples_split': [5, 10],\n",
      " 'n_estimators': [10, 57, 105, 152, 200]}\n"
     ]
    }
   ],
   "source": [
    "from sklearn.model_selection import RandomizedSearchCV\n",
    "# Number of trees in random forest\n",
    "n_estimators = [int(x) for x in np.linspace(start = 10, stop = 200, num = 5)]\n",
    "# Number of features to consider at every split\n",
    "max_features = ['auto', 'sqrt']\n",
    "# Maximum number of levels in tree\n",
    "max_depth = [int(x) for x in np.linspace(2, 10, num = 5)]\n",
    "max_depth.append(None)\n",
    "# Minimum number of samples required to split a node\n",
    "min_samples_split = [5, 10]\n",
    "# Minimum number of samples required at each leaf node\n",
    "min_samples_leaf = [2, 4]\n",
    "# Method of selecting samples for training each tree\n",
    "#bootstrap = [True, False]\n",
    "# Create the random grid\n",
    "random_grid = {'n_estimators': n_estimators,\n",
    "               'max_features': max_features,\n",
    "               'max_depth': max_depth,\n",
    "               'min_samples_split': min_samples_split,\n",
    "               'min_samples_leaf': min_samples_leaf}\n",
    "pprint(random_grid)"
   ]
  },
  {
   "cell_type": "code",
   "execution_count": 61,
   "metadata": {},
   "outputs": [
    {
     "name": "stdout",
     "output_type": "stream",
     "text": [
      "Fitting 3 folds for each of 100 candidates, totalling 300 fits\n",
      "[CV] n_estimators=200, min_samples_split=5, min_samples_leaf=2, max_features=sqrt, max_depth=2 \n",
      "[CV] n_estimators=200, min_samples_split=5, min_samples_leaf=2, max_features=sqrt, max_depth=2 \n",
      "[CV] n_estimators=200, min_samples_split=5, min_samples_leaf=2, max_features=sqrt, max_depth=2 \n",
      "[CV] n_estimators=57, min_samples_split=10, min_samples_leaf=2, max_features=auto, max_depth=2 \n",
      "[CV] n_estimators=57, min_samples_split=10, min_samples_leaf=2, max_features=auto, max_depth=2 \n",
      "[CV] n_estimators=57, min_samples_split=10, min_samples_leaf=2, max_features=auto, max_depth=2 \n",
      "[CV] n_estimators=152, min_samples_split=5, min_samples_leaf=4, max_features=auto, max_depth=6 \n",
      "[CV] n_estimators=152, min_samples_split=5, min_samples_leaf=4, max_features=auto, max_depth=6 \n",
      "[CV]  n_estimators=200, min_samples_split=5, min_samples_leaf=2, max_features=sqrt, max_depth=2, total=   0.8s\n",
      "[CV] n_estimators=152, min_samples_split=5, min_samples_leaf=4, max_features=auto, max_depth=6 \n",
      "[CV]  n_estimators=200, min_samples_split=5, min_samples_leaf=2, max_features=sqrt, max_depth=2, total=   0.8s\n",
      "[CV] n_estimators=200, min_samples_split=10, min_samples_leaf=2, max_features=sqrt, max_depth=6 \n",
      "[CV]  n_estimators=200, min_samples_split=5, min_samples_leaf=2, max_features=sqrt, max_depth=2, total=   0.8s\n",
      "[CV] n_estimators=200, min_samples_split=10, min_samples_leaf=2, max_features=sqrt, max_depth=6 \n",
      "[CV]  n_estimators=57, min_samples_split=10, min_samples_leaf=2, max_features=auto, max_depth=2, total=   0.9s\n",
      "[CV] n_estimators=200, min_samples_split=10, min_samples_leaf=2, max_features=sqrt, max_depth=6 \n",
      "[CV]  n_estimators=57, min_samples_split=10, min_samples_leaf=2, max_features=auto, max_depth=2, total=   0.9s\n",
      "[CV] n_estimators=200, min_samples_split=5, min_samples_leaf=2, max_features=sqrt, max_depth=6 \n",
      "[CV]  n_estimators=57, min_samples_split=10, min_samples_leaf=2, max_features=auto, max_depth=2, total=   0.9s\n",
      "[CV] n_estimators=200, min_samples_split=5, min_samples_leaf=2, max_features=sqrt, max_depth=6 \n",
      "[CV]  n_estimators=200, min_samples_split=10, min_samples_leaf=2, max_features=sqrt, max_depth=6, total=   1.9s\n",
      "[CV]  n_estimators=200, min_samples_split=10, min_samples_leaf=2, max_features=sqrt, max_depth=6, total=   1.9s\n",
      "[CV] n_estimators=200, min_samples_split=5, min_samples_leaf=2, max_features=sqrt, max_depth=6 \n",
      "[CV] n_estimators=105, min_samples_split=5, min_samples_leaf=4, max_features=auto, max_depth=10 \n",
      "[CV]  n_estimators=200, min_samples_split=10, min_samples_leaf=2, max_features=sqrt, max_depth=6, total=   1.9s\n",
      "[CV] n_estimators=105, min_samples_split=5, min_samples_leaf=4, max_features=auto, max_depth=10 \n",
      "[CV]  n_estimators=200, min_samples_split=5, min_samples_leaf=2, max_features=sqrt, max_depth=6, total=   1.9s\n",
      "[CV] n_estimators=105, min_samples_split=5, min_samples_leaf=4, max_features=auto, max_depth=10 \n",
      "[CV]  n_estimators=200, min_samples_split=5, min_samples_leaf=2, max_features=sqrt, max_depth=6, total=   1.9s\n",
      "[CV] n_estimators=152, min_samples_split=5, min_samples_leaf=4, max_features=sqrt, max_depth=None \n",
      "[CV]  n_estimators=200, min_samples_split=5, min_samples_leaf=2, max_features=sqrt, max_depth=6, total=   1.9s\n",
      "[CV] n_estimators=152, min_samples_split=5, min_samples_leaf=4, max_features=sqrt, max_depth=None \n",
      "[CV]  n_estimators=152, min_samples_split=5, min_samples_leaf=4, max_features=sqrt, max_depth=None, total=   3.1s\n",
      "[CV] n_estimators=152, min_samples_split=5, min_samples_leaf=4, max_features=sqrt, max_depth=None \n",
      "[CV]  n_estimators=152, min_samples_split=5, min_samples_leaf=4, max_features=auto, max_depth=6, total=   7.1s\n",
      "[CV]  n_estimators=152, min_samples_split=5, min_samples_leaf=4, max_features=auto, max_depth=6, total=   7.1s\n",
      "[CV] n_estimators=57, min_samples_split=10, min_samples_leaf=2, max_features=auto, max_depth=6 \n",
      "[CV] n_estimators=57, min_samples_split=10, min_samples_leaf=2, max_features=auto, max_depth=6 \n",
      "[CV]  n_estimators=152, min_samples_split=5, min_samples_leaf=4, max_features=auto, max_depth=6, total=   7.2s\n",
      "[CV] n_estimators=57, min_samples_split=10, min_samples_leaf=2, max_features=auto, max_depth=6 \n",
      "[CV]  n_estimators=152, min_samples_split=5, min_samples_leaf=4, max_features=sqrt, max_depth=None, total=   3.1s\n",
      "[CV] n_estimators=200, min_samples_split=10, min_samples_leaf=2, max_features=auto, max_depth=2 \n",
      "[CV]  n_estimators=152, min_samples_split=5, min_samples_leaf=4, max_features=sqrt, max_depth=None, total=   3.1s\n",
      "[CV] n_estimators=200, min_samples_split=10, min_samples_leaf=2, max_features=auto, max_depth=2 \n",
      "[CV]  n_estimators=57, min_samples_split=10, min_samples_leaf=2, max_features=auto, max_depth=6, total=   2.8s\n",
      "[CV] n_estimators=200, min_samples_split=10, min_samples_leaf=2, max_features=auto, max_depth=2 \n",
      "[CV]  n_estimators=57, min_samples_split=10, min_samples_leaf=2, max_features=auto, max_depth=6, total=   2.8s\n",
      "[CV] n_estimators=152, min_samples_split=5, min_samples_leaf=2, max_features=sqrt, max_depth=8 \n",
      "[CV]  n_estimators=57, min_samples_split=10, min_samples_leaf=2, max_features=auto, max_depth=6, total=   2.8s\n",
      "[CV] n_estimators=152, min_samples_split=5, min_samples_leaf=2, max_features=sqrt, max_depth=8 \n",
      "[CV]  n_estimators=105, min_samples_split=5, min_samples_leaf=4, max_features=auto, max_depth=10, total=   8.2s\n",
      "[CV] n_estimators=152, min_samples_split=5, min_samples_leaf=2, max_features=sqrt, max_depth=8 \n",
      "[CV]  n_estimators=105, min_samples_split=5, min_samples_leaf=4, max_features=auto, max_depth=10, total=   8.2s\n",
      "[CV]  n_estimators=105, min_samples_split=5, min_samples_leaf=4, max_features=auto, max_depth=10, total=   8.2s\n",
      "[CV] n_estimators=10, min_samples_split=10, min_samples_leaf=2, max_features=auto, max_depth=4 \n",
      "[CV] n_estimators=10, min_samples_split=10, min_samples_leaf=2, max_features=auto, max_depth=4 \n",
      "[CV]  n_estimators=10, min_samples_split=10, min_samples_leaf=2, max_features=auto, max_depth=4, total=   0.4s\n",
      "[CV]  n_estimators=10, min_samples_split=10, min_samples_leaf=2, max_features=auto, max_depth=4, total=   0.4s\n",
      "[CV] n_estimators=10, min_samples_split=10, min_samples_leaf=2, max_features=auto, max_depth=4 \n",
      "[CV] n_estimators=57, min_samples_split=10, min_samples_leaf=2, max_features=auto, max_depth=None \n"
     ]
    },
    {
     "name": "stderr",
     "output_type": "stream",
     "text": [
      "[Parallel(n_jobs=-1)]: Done  25 tasks      | elapsed:   11.9s\n"
     ]
    },
    {
     "name": "stdout",
     "output_type": "stream",
     "text": [
      "[CV]  n_estimators=200, min_samples_split=10, min_samples_leaf=2, max_features=auto, max_depth=2, total=   3.7s\n",
      "[CV] n_estimators=57, min_samples_split=10, min_samples_leaf=2, max_features=auto, max_depth=None \n",
      "[CV]  n_estimators=10, min_samples_split=10, min_samples_leaf=2, max_features=auto, max_depth=4, total=   0.4s\n",
      "[CV] n_estimators=57, min_samples_split=10, min_samples_leaf=2, max_features=auto, max_depth=None \n",
      "[CV]  n_estimators=152, min_samples_split=5, min_samples_leaf=2, max_features=sqrt, max_depth=8, total=   2.1s\n",
      "[CV] n_estimators=200, min_samples_split=5, min_samples_leaf=4, max_features=sqrt, max_depth=6 \n",
      "[CV]  n_estimators=152, min_samples_split=5, min_samples_leaf=2, max_features=sqrt, max_depth=8, total=   2.1s\n",
      "[CV] n_estimators=200, min_samples_split=5, min_samples_leaf=4, max_features=sqrt, max_depth=6 \n",
      "[CV]  n_estimators=152, min_samples_split=5, min_samples_leaf=2, max_features=sqrt, max_depth=8, total=   2.0s\n",
      "[CV] n_estimators=200, min_samples_split=5, min_samples_leaf=4, max_features=sqrt, max_depth=6 \n",
      "[CV]  n_estimators=200, min_samples_split=10, min_samples_leaf=2, max_features=auto, max_depth=2, total=   3.8s\n",
      "[CV] n_estimators=152, min_samples_split=10, min_samples_leaf=2, max_features=auto, max_depth=10 \n",
      "[CV]  n_estimators=200, min_samples_split=10, min_samples_leaf=2, max_features=auto, max_depth=2, total=   3.8s\n",
      "[CV] n_estimators=152, min_samples_split=10, min_samples_leaf=2, max_features=auto, max_depth=10 \n",
      "[CV]  n_estimators=200, min_samples_split=5, min_samples_leaf=4, max_features=sqrt, max_depth=6, total=   2.1s\n",
      "[CV] n_estimators=152, min_samples_split=10, min_samples_leaf=2, max_features=auto, max_depth=10 \n",
      "[CV]  n_estimators=200, min_samples_split=5, min_samples_leaf=4, max_features=sqrt, max_depth=6, total=   2.1s\n",
      "[CV] n_estimators=152, min_samples_split=5, min_samples_leaf=4, max_features=sqrt, max_depth=6 \n",
      "[CV]  n_estimators=200, min_samples_split=5, min_samples_leaf=4, max_features=sqrt, max_depth=6, total=   2.1s\n",
      "[CV] n_estimators=152, min_samples_split=5, min_samples_leaf=4, max_features=sqrt, max_depth=6 \n",
      "[CV]  n_estimators=152, min_samples_split=5, min_samples_leaf=4, max_features=sqrt, max_depth=6, total=   1.7s\n",
      "[CV] n_estimators=152, min_samples_split=5, min_samples_leaf=4, max_features=sqrt, max_depth=6 \n",
      "[CV]  n_estimators=152, min_samples_split=5, min_samples_leaf=4, max_features=sqrt, max_depth=6, total=   1.6s\n",
      "[CV] n_estimators=10, min_samples_split=5, min_samples_leaf=4, max_features=sqrt, max_depth=None \n",
      "[CV]  n_estimators=10, min_samples_split=5, min_samples_leaf=4, max_features=sqrt, max_depth=None, total=   0.2s\n",
      "[CV] n_estimators=10, min_samples_split=5, min_samples_leaf=4, max_features=sqrt, max_depth=None \n",
      "[CV]  n_estimators=10, min_samples_split=5, min_samples_leaf=4, max_features=sqrt, max_depth=None, total=   0.2s\n",
      "[CV] n_estimators=10, min_samples_split=5, min_samples_leaf=4, max_features=sqrt, max_depth=None \n",
      "[CV]  n_estimators=10, min_samples_split=5, min_samples_leaf=4, max_features=sqrt, max_depth=None, total=   0.2s\n",
      "[CV] n_estimators=10, min_samples_split=10, min_samples_leaf=2, max_features=sqrt, max_depth=10 \n",
      "[CV]  n_estimators=10, min_samples_split=10, min_samples_leaf=2, max_features=sqrt, max_depth=10, total=   0.2s\n",
      "[CV] n_estimators=10, min_samples_split=10, min_samples_leaf=2, max_features=sqrt, max_depth=10 \n",
      "[CV]  n_estimators=57, min_samples_split=10, min_samples_leaf=2, max_features=auto, max_depth=None, total=   6.7s\n",
      "[CV] n_estimators=10, min_samples_split=10, min_samples_leaf=2, max_features=sqrt, max_depth=10 \n",
      "[CV]  n_estimators=10, min_samples_split=10, min_samples_leaf=2, max_features=sqrt, max_depth=10, total=   0.2s\n",
      "[CV] n_estimators=10, min_samples_split=10, min_samples_leaf=4, max_features=auto, max_depth=2 \n",
      "[CV]  n_estimators=10, min_samples_split=10, min_samples_leaf=2, max_features=sqrt, max_depth=10, total=   0.2s\n",
      "[CV] n_estimators=10, min_samples_split=10, min_samples_leaf=4, max_features=auto, max_depth=2 \n",
      "[CV]  n_estimators=10, min_samples_split=10, min_samples_leaf=4, max_features=auto, max_depth=2, total=   0.2s\n",
      "[CV]  n_estimators=57, min_samples_split=10, min_samples_leaf=2, max_features=auto, max_depth=None, total=   6.7s\n",
      "[CV] n_estimators=10, min_samples_split=10, min_samples_leaf=4, max_features=auto, max_depth=2 \n",
      "[CV]  n_estimators=57, min_samples_split=10, min_samples_leaf=2, max_features=auto, max_depth=None, total=   6.7s\n",
      "[CV] n_estimators=105, min_samples_split=5, min_samples_leaf=4, max_features=sqrt, max_depth=8 \n",
      "[CV] n_estimators=105, min_samples_split=5, min_samples_leaf=4, max_features=sqrt, max_depth=8 \n",
      "[CV]  n_estimators=10, min_samples_split=10, min_samples_leaf=4, max_features=auto, max_depth=2, total=   0.2s\n",
      "[CV] n_estimators=105, min_samples_split=5, min_samples_leaf=4, max_features=sqrt, max_depth=8 \n",
      "[CV]  n_estimators=152, min_samples_split=5, min_samples_leaf=4, max_features=sqrt, max_depth=6, total=   1.6s\n",
      "[CV] n_estimators=10, min_samples_split=10, min_samples_leaf=2, max_features=auto, max_depth=8 \n",
      "[CV]  n_estimators=10, min_samples_split=10, min_samples_leaf=4, max_features=auto, max_depth=2, total=   0.2s\n",
      "[CV] n_estimators=10, min_samples_split=10, min_samples_leaf=2, max_features=auto, max_depth=8 \n",
      "[CV]  n_estimators=10, min_samples_split=10, min_samples_leaf=2, max_features=auto, max_depth=8, total=   0.7s\n",
      "[CV] n_estimators=10, min_samples_split=10, min_samples_leaf=2, max_features=auto, max_depth=8 \n",
      "[CV]  n_estimators=10, min_samples_split=10, min_samples_leaf=2, max_features=auto, max_depth=8, total=   0.7s\n",
      "[CV] n_estimators=105, min_samples_split=10, min_samples_leaf=2, max_features=auto, max_depth=8 \n",
      "[CV]  n_estimators=105, min_samples_split=5, min_samples_leaf=4, max_features=sqrt, max_depth=8, total=   1.4s\n",
      "[CV]  n_estimators=105, min_samples_split=5, min_samples_leaf=4, max_features=sqrt, max_depth=8, total=   1.4s\n",
      "[CV] n_estimators=105, min_samples_split=10, min_samples_leaf=2, max_features=auto, max_depth=8 \n",
      "[CV]  n_estimators=105, min_samples_split=5, min_samples_leaf=4, max_features=sqrt, max_depth=8, total=   1.4s\n",
      "[CV] n_estimators=105, min_samples_split=10, min_samples_leaf=2, max_features=auto, max_depth=8 \n",
      "[CV] n_estimators=200, min_samples_split=10, min_samples_leaf=4, max_features=auto, max_depth=2 \n",
      "[CV]  n_estimators=10, min_samples_split=10, min_samples_leaf=2, max_features=auto, max_depth=8, total=   0.7s\n",
      "[CV] n_estimators=200, min_samples_split=10, min_samples_leaf=4, max_features=auto, max_depth=2 \n",
      "[CV]  n_estimators=200, min_samples_split=10, min_samples_leaf=4, max_features=auto, max_depth=2, total=   3.8s\n",
      "[CV] n_estimators=200, min_samples_split=10, min_samples_leaf=4, max_features=auto, max_depth=2 \n",
      "[CV]  n_estimators=200, min_samples_split=10, min_samples_leaf=4, max_features=auto, max_depth=2, total=   3.8s\n",
      "[CV] n_estimators=10, min_samples_split=10, min_samples_leaf=4, max_features=sqrt, max_depth=None \n",
      "[CV]  n_estimators=10, min_samples_split=10, min_samples_leaf=4, max_features=sqrt, max_depth=None, total=   0.2s\n",
      "[CV] n_estimators=10, min_samples_split=10, min_samples_leaf=4, max_features=sqrt, max_depth=None \n",
      "[CV]  n_estimators=10, min_samples_split=10, min_samples_leaf=4, max_features=sqrt, max_depth=None, total=   0.3s\n",
      "[CV] n_estimators=10, min_samples_split=10, min_samples_leaf=4, max_features=sqrt, max_depth=None \n",
      "[CV]  n_estimators=10, min_samples_split=10, min_samples_leaf=4, max_features=sqrt, max_depth=None, total=   0.2s\n",
      "[CV] n_estimators=10, min_samples_split=5, min_samples_leaf=4, max_features=sqrt, max_depth=2 \n",
      "[CV]  n_estimators=10, min_samples_split=5, min_samples_leaf=4, max_features=sqrt, max_depth=2, total=   0.1s\n",
      "[CV] n_estimators=10, min_samples_split=5, min_samples_leaf=4, max_features=sqrt, max_depth=2 \n",
      "[CV]  n_estimators=10, min_samples_split=5, min_samples_leaf=4, max_features=sqrt, max_depth=2, total=   0.1s\n",
      "[CV] n_estimators=10, min_samples_split=5, min_samples_leaf=4, max_features=sqrt, max_depth=2 \n",
      "[CV]  n_estimators=10, min_samples_split=5, min_samples_leaf=4, max_features=sqrt, max_depth=2, total=   0.1s\n",
      "[CV] n_estimators=57, min_samples_split=10, min_samples_leaf=4, max_features=auto, max_depth=10 \n",
      "[CV]  n_estimators=152, min_samples_split=10, min_samples_leaf=2, max_features=auto, max_depth=10, total=  13.0s\n"
     ]
    },
    {
     "name": "stdout",
     "output_type": "stream",
     "text": [
      "[CV] n_estimators=57, min_samples_split=10, min_samples_leaf=4, max_features=auto, max_depth=10 \n",
      "[CV]  n_estimators=152, min_samples_split=10, min_samples_leaf=2, max_features=auto, max_depth=10, total=  13.1s\n",
      "[CV] n_estimators=57, min_samples_split=10, min_samples_leaf=4, max_features=auto, max_depth=10 \n",
      "[CV]  n_estimators=105, min_samples_split=10, min_samples_leaf=2, max_features=auto, max_depth=8, total=   7.5s\n",
      "[CV] n_estimators=10, min_samples_split=5, min_samples_leaf=4, max_features=sqrt, max_depth=8 \n",
      "[CV]  n_estimators=10, min_samples_split=5, min_samples_leaf=4, max_features=sqrt, max_depth=8, total=   0.1s\n",
      "[CV] n_estimators=10, min_samples_split=5, min_samples_leaf=4, max_features=sqrt, max_depth=8 \n",
      "[CV]  n_estimators=10, min_samples_split=5, min_samples_leaf=4, max_features=sqrt, max_depth=8, total=   0.2s\n",
      "[CV] n_estimators=10, min_samples_split=5, min_samples_leaf=4, max_features=sqrt, max_depth=8 \n",
      "[CV]  n_estimators=152, min_samples_split=10, min_samples_leaf=2, max_features=auto, max_depth=10, total=  13.1s\n",
      "[CV] n_estimators=10, min_samples_split=5, min_samples_leaf=4, max_features=auto, max_depth=2 \n",
      "[CV]  n_estimators=10, min_samples_split=5, min_samples_leaf=4, max_features=sqrt, max_depth=8, total=   0.1s\n",
      "[CV]  n_estimators=105, min_samples_split=10, min_samples_leaf=2, max_features=auto, max_depth=8, total=   7.5s\n",
      "[CV] n_estimators=10, min_samples_split=5, min_samples_leaf=4, max_features=auto, max_depth=2 \n",
      "[CV] n_estimators=10, min_samples_split=5, min_samples_leaf=4, max_features=auto, max_depth=2 \n",
      "[CV]  n_estimators=10, min_samples_split=5, min_samples_leaf=4, max_features=auto, max_depth=2, total=   0.2s\n",
      "[CV] n_estimators=57, min_samples_split=5, min_samples_leaf=2, max_features=auto, max_depth=None \n",
      "[CV]  n_estimators=10, min_samples_split=5, min_samples_leaf=4, max_features=auto, max_depth=2, total=   0.2s\n",
      "[CV]  n_estimators=10, min_samples_split=5, min_samples_leaf=4, max_features=auto, max_depth=2, total=   0.2s\n",
      "[CV] n_estimators=57, min_samples_split=5, min_samples_leaf=2, max_features=auto, max_depth=None \n",
      "[CV]  n_estimators=105, min_samples_split=10, min_samples_leaf=2, max_features=auto, max_depth=8, total=   7.7s\n",
      "[CV] n_estimators=57, min_samples_split=5, min_samples_leaf=2, max_features=auto, max_depth=None \n",
      "[CV] n_estimators=105, min_samples_split=10, min_samples_leaf=4, max_features=sqrt, max_depth=None \n",
      "[CV]  n_estimators=200, min_samples_split=10, min_samples_leaf=4, max_features=auto, max_depth=2, total=   3.9s\n",
      "[CV] n_estimators=105, min_samples_split=10, min_samples_leaf=4, max_features=sqrt, max_depth=None \n",
      "[CV]  n_estimators=57, min_samples_split=10, min_samples_leaf=4, max_features=auto, max_depth=10, total=   4.9s\n",
      "[CV] n_estimators=105, min_samples_split=10, min_samples_leaf=4, max_features=sqrt, max_depth=None \n",
      "[CV]  n_estimators=105, min_samples_split=10, min_samples_leaf=4, max_features=sqrt, max_depth=None, total=   2.2s\n",
      "[CV] n_estimators=152, min_samples_split=5, min_samples_leaf=4, max_features=sqrt, max_depth=8 \n",
      "[CV]  n_estimators=105, min_samples_split=10, min_samples_leaf=4, max_features=sqrt, max_depth=None, total=   2.2s\n",
      "[CV] n_estimators=152, min_samples_split=5, min_samples_leaf=4, max_features=sqrt, max_depth=8 \n",
      "[CV]  n_estimators=57, min_samples_split=10, min_samples_leaf=4, max_features=auto, max_depth=10, total=   4.9s\n",
      "[CV] n_estimators=152, min_samples_split=5, min_samples_leaf=4, max_features=sqrt, max_depth=8 \n",
      "[CV]  n_estimators=57, min_samples_split=10, min_samples_leaf=4, max_features=auto, max_depth=10, total=   4.9s\n",
      "[CV] n_estimators=57, min_samples_split=10, min_samples_leaf=4, max_features=auto, max_depth=6 \n",
      "[CV]  n_estimators=152, min_samples_split=5, min_samples_leaf=4, max_features=sqrt, max_depth=8, total=   2.2s\n",
      "[CV] n_estimators=57, min_samples_split=10, min_samples_leaf=4, max_features=auto, max_depth=6 \n",
      "[CV]  n_estimators=152, min_samples_split=5, min_samples_leaf=4, max_features=sqrt, max_depth=8, total=   2.2s\n",
      "[CV] n_estimators=57, min_samples_split=10, min_samples_leaf=4, max_features=auto, max_depth=6 \n",
      "[CV]  n_estimators=105, min_samples_split=10, min_samples_leaf=4, max_features=sqrt, max_depth=None, total=   2.5s\n",
      "[CV] n_estimators=152, min_samples_split=10, min_samples_leaf=2, max_features=sqrt, max_depth=None \n",
      "[CV]  n_estimators=152, min_samples_split=5, min_samples_leaf=4, max_features=sqrt, max_depth=8, total=   2.3s\n",
      "[CV] n_estimators=152, min_samples_split=10, min_samples_leaf=2, max_features=sqrt, max_depth=None \n",
      "[CV]  n_estimators=57, min_samples_split=10, min_samples_leaf=4, max_features=auto, max_depth=6, total=   3.4s\n",
      "[CV] n_estimators=152, min_samples_split=10, min_samples_leaf=2, max_features=sqrt, max_depth=None \n",
      "[CV]  n_estimators=57, min_samples_split=5, min_samples_leaf=2, max_features=auto, max_depth=None, total=   7.9s\n",
      "[CV] n_estimators=10, min_samples_split=10, min_samples_leaf=2, max_features=sqrt, max_depth=2 \n",
      "[CV]  n_estimators=57, min_samples_split=5, min_samples_leaf=2, max_features=auto, max_depth=None, total=   7.9s\n",
      "[CV] n_estimators=10, min_samples_split=10, min_samples_leaf=2, max_features=sqrt, max_depth=2 \n",
      "[CV]  n_estimators=10, min_samples_split=10, min_samples_leaf=2, max_features=sqrt, max_depth=2, total=   0.1s\n",
      "[CV]  n_estimators=57, min_samples_split=5, min_samples_leaf=2, max_features=auto, max_depth=None, total=   7.9s\n",
      "[CV] n_estimators=10, min_samples_split=10, min_samples_leaf=2, max_features=sqrt, max_depth=2 \n",
      "[CV] n_estimators=105, min_samples_split=5, min_samples_leaf=2, max_features=sqrt, max_depth=10 \n",
      "[CV]  n_estimators=10, min_samples_split=10, min_samples_leaf=2, max_features=sqrt, max_depth=2, total=   0.1s\n",
      "[CV] n_estimators=105, min_samples_split=5, min_samples_leaf=2, max_features=sqrt, max_depth=10 \n",
      "[CV]  n_estimators=10, min_samples_split=10, min_samples_leaf=2, max_features=sqrt, max_depth=2, total=   0.1s\n",
      "[CV] n_estimators=105, min_samples_split=5, min_samples_leaf=2, max_features=sqrt, max_depth=10 \n",
      "[CV]  n_estimators=57, min_samples_split=10, min_samples_leaf=4, max_features=auto, max_depth=6, total=   3.6s\n",
      "[CV] n_estimators=152, min_samples_split=10, min_samples_leaf=4, max_features=auto, max_depth=2 \n",
      "[CV]  n_estimators=57, min_samples_split=10, min_samples_leaf=4, max_features=auto, max_depth=6, total=   3.6s\n",
      "[CV] n_estimators=152, min_samples_split=10, min_samples_leaf=4, max_features=auto, max_depth=2 \n",
      "[CV]  n_estimators=152, min_samples_split=10, min_samples_leaf=2, max_features=sqrt, max_depth=None, total=   4.6s\n",
      "[CV] n_estimators=152, min_samples_split=10, min_samples_leaf=4, max_features=auto, max_depth=2 \n",
      "[CV]  n_estimators=105, min_samples_split=5, min_samples_leaf=2, max_features=sqrt, max_depth=10, total=   2.3s\n",
      "[CV]  n_estimators=105, min_samples_split=5, min_samples_leaf=2, max_features=sqrt, max_depth=10, total=   2.3s\n",
      "[CV] n_estimators=200, min_samples_split=10, min_samples_leaf=2, max_features=sqrt, max_depth=4 \n",
      "[CV] n_estimators=200, min_samples_split=10, min_samples_leaf=2, max_features=sqrt, max_depth=4 \n",
      "[CV]  n_estimators=105, min_samples_split=5, min_samples_leaf=2, max_features=sqrt, max_depth=10, total=   2.3s\n",
      "[CV] n_estimators=200, min_samples_split=10, min_samples_leaf=2, max_features=sqrt, max_depth=4 \n",
      "[CV]  n_estimators=152, min_samples_split=10, min_samples_leaf=2, max_features=sqrt, max_depth=None, total=   4.7s\n",
      "[CV] n_estimators=105, min_samples_split=5, min_samples_leaf=4, max_features=sqrt, max_depth=10 \n",
      "[CV]  n_estimators=152, min_samples_split=10, min_samples_leaf=4, max_features=auto, max_depth=2, total=   3.6s\n",
      "[CV] n_estimators=105, min_samples_split=5, min_samples_leaf=4, max_features=sqrt, max_depth=10 \n",
      "[CV]  n_estimators=152, min_samples_split=10, min_samples_leaf=4, max_features=auto, max_depth=2, total=   3.6s\n",
      "[CV] n_estimators=105, min_samples_split=5, min_samples_leaf=4, max_features=sqrt, max_depth=10 \n",
      "[CV]  n_estimators=152, min_samples_split=10, min_samples_leaf=2, max_features=sqrt, max_depth=None, total=   4.7s\n",
      "[CV] n_estimators=10, min_samples_split=10, min_samples_leaf=4, max_features=auto, max_depth=4 \n",
      "[CV]  n_estimators=200, min_samples_split=10, min_samples_leaf=2, max_features=sqrt, max_depth=4, total=   2.0s\n",
      "[CV]  n_estimators=200, min_samples_split=10, min_samples_leaf=2, max_features=sqrt, max_depth=4, total=   2.0s\n"
     ]
    },
    {
     "name": "stdout",
     "output_type": "stream",
     "text": [
      "[CV] n_estimators=10, min_samples_split=10, min_samples_leaf=4, max_features=auto, max_depth=4 \n",
      "[CV] n_estimators=10, min_samples_split=10, min_samples_leaf=4, max_features=auto, max_depth=4 \n",
      "[CV]  n_estimators=200, min_samples_split=10, min_samples_leaf=2, max_features=sqrt, max_depth=4, total=   2.0s\n",
      "[CV] n_estimators=200, min_samples_split=10, min_samples_leaf=4, max_features=sqrt, max_depth=4 \n",
      "[CV]  n_estimators=10, min_samples_split=10, min_samples_leaf=4, max_features=auto, max_depth=4, total=   0.5s\n",
      "[CV] n_estimators=200, min_samples_split=10, min_samples_leaf=4, max_features=sqrt, max_depth=4 \n",
      "[CV]  n_estimators=10, min_samples_split=10, min_samples_leaf=4, max_features=auto, max_depth=4, total=   0.5s\n",
      "[CV]  n_estimators=10, min_samples_split=10, min_samples_leaf=4, max_features=auto, max_depth=4, total=   0.5s\n",
      "[CV] n_estimators=200, min_samples_split=10, min_samples_leaf=4, max_features=sqrt, max_depth=4 \n",
      "[CV] n_estimators=10, min_samples_split=10, min_samples_leaf=4, max_features=auto, max_depth=10 \n",
      "[CV]  n_estimators=152, min_samples_split=10, min_samples_leaf=4, max_features=auto, max_depth=2, total=   3.7s\n",
      "[CV]  n_estimators=105, min_samples_split=5, min_samples_leaf=4, max_features=sqrt, max_depth=10, total=   2.3s\n",
      "[CV] n_estimators=10, min_samples_split=10, min_samples_leaf=4, max_features=auto, max_depth=10 \n",
      "[CV] n_estimators=10, min_samples_split=10, min_samples_leaf=4, max_features=auto, max_depth=10 \n",
      "[CV]  n_estimators=10, min_samples_split=10, min_samples_leaf=4, max_features=auto, max_depth=10, total=   1.0s\n",
      "[CV] n_estimators=105, min_samples_split=10, min_samples_leaf=2, max_features=sqrt, max_depth=None \n",
      "[CV]  n_estimators=105, min_samples_split=5, min_samples_leaf=4, max_features=sqrt, max_depth=10, total=   2.2s\n",
      "[CV] n_estimators=105, min_samples_split=10, min_samples_leaf=2, max_features=sqrt, max_depth=None \n",
      "[CV]  n_estimators=105, min_samples_split=5, min_samples_leaf=4, max_features=sqrt, max_depth=10, total=   2.3s\n",
      "[CV] n_estimators=105, min_samples_split=10, min_samples_leaf=2, max_features=sqrt, max_depth=None \n",
      "[CV]  n_estimators=10, min_samples_split=10, min_samples_leaf=4, max_features=auto, max_depth=10, total=   1.1s\n",
      "[CV]  n_estimators=10, min_samples_split=10, min_samples_leaf=4, max_features=auto, max_depth=10, total=   1.1s\n",
      "[CV] n_estimators=105, min_samples_split=5, min_samples_leaf=4, max_features=sqrt, max_depth=6 \n",
      "[CV] n_estimators=105, min_samples_split=5, min_samples_leaf=4, max_features=sqrt, max_depth=6 \n",
      "[CV]  n_estimators=200, min_samples_split=10, min_samples_leaf=4, max_features=sqrt, max_depth=4, total=   2.0s\n",
      "[CV] n_estimators=105, min_samples_split=5, min_samples_leaf=4, max_features=sqrt, max_depth=6 \n",
      "[CV]  n_estimators=200, min_samples_split=10, min_samples_leaf=4, max_features=sqrt, max_depth=4, total=   2.2s\n",
      "[CV] n_estimators=57, min_samples_split=5, min_samples_leaf=2, max_features=sqrt, max_depth=None \n",
      "[CV]  n_estimators=200, min_samples_split=10, min_samples_leaf=4, max_features=sqrt, max_depth=4, total=   2.0s\n",
      "[CV] n_estimators=57, min_samples_split=5, min_samples_leaf=2, max_features=sqrt, max_depth=None \n",
      "[CV]  n_estimators=105, min_samples_split=5, min_samples_leaf=4, max_features=sqrt, max_depth=6, total=   1.4s\n",
      "[CV] n_estimators=57, min_samples_split=5, min_samples_leaf=2, max_features=sqrt, max_depth=None \n",
      "[CV]  n_estimators=105, min_samples_split=5, min_samples_leaf=4, max_features=sqrt, max_depth=6, total=   1.4s\n",
      "[CV] n_estimators=57, min_samples_split=10, min_samples_leaf=4, max_features=auto, max_depth=2 \n",
      "[CV]  n_estimators=105, min_samples_split=5, min_samples_leaf=4, max_features=sqrt, max_depth=6, total=   1.3s\n",
      "[CV] n_estimators=57, min_samples_split=10, min_samples_leaf=4, max_features=auto, max_depth=2 \n",
      "[CV]  n_estimators=57, min_samples_split=5, min_samples_leaf=2, max_features=sqrt, max_depth=None, total=   1.7s\n",
      "[CV] n_estimators=57, min_samples_split=10, min_samples_leaf=4, max_features=auto, max_depth=2 \n",
      "[CV]  n_estimators=57, min_samples_split=5, min_samples_leaf=2, max_features=sqrt, max_depth=None, total=   1.7s\n",
      "[CV] n_estimators=57, min_samples_split=10, min_samples_leaf=4, max_features=sqrt, max_depth=8 \n",
      "[CV]  n_estimators=57, min_samples_split=10, min_samples_leaf=4, max_features=auto, max_depth=2, total=   1.2s\n",
      "[CV]  n_estimators=57, min_samples_split=10, min_samples_leaf=4, max_features=auto, max_depth=2, total=   1.2s\n",
      "[CV] n_estimators=57, min_samples_split=10, min_samples_leaf=4, max_features=sqrt, max_depth=8 \n",
      "[CV] n_estimators=57, min_samples_split=10, min_samples_leaf=4, max_features=sqrt, max_depth=8 \n",
      "[CV]  n_estimators=105, min_samples_split=10, min_samples_leaf=2, max_features=sqrt, max_depth=None, total=   3.1s\n",
      "[CV] n_estimators=57, min_samples_split=10, min_samples_leaf=2, max_features=sqrt, max_depth=4 \n",
      "[CV]  n_estimators=105, min_samples_split=10, min_samples_leaf=2, max_features=sqrt, max_depth=None, total=   3.1s\n",
      "[CV] n_estimators=57, min_samples_split=10, min_samples_leaf=2, max_features=sqrt, max_depth=4 \n",
      "[CV]  n_estimators=105, min_samples_split=10, min_samples_leaf=2, max_features=sqrt, max_depth=None, total=   3.1s\n",
      "[CV] n_estimators=57, min_samples_split=10, min_samples_leaf=2, max_features=sqrt, max_depth=4 \n",
      "[CV]  n_estimators=57, min_samples_split=5, min_samples_leaf=2, max_features=sqrt, max_depth=None, total=   1.8s\n",
      "[CV] n_estimators=10, min_samples_split=10, min_samples_leaf=2, max_features=auto, max_depth=10 \n",
      "[CV]  n_estimators=57, min_samples_split=10, min_samples_leaf=2, max_features=sqrt, max_depth=4, total=   0.5s\n",
      "[CV]  n_estimators=57, min_samples_split=10, min_samples_leaf=4, max_features=sqrt, max_depth=8, total=   0.9s\n",
      "[CV] n_estimators=10, min_samples_split=10, min_samples_leaf=2, max_features=auto, max_depth=10 \n",
      "[CV] n_estimators=10, min_samples_split=10, min_samples_leaf=2, max_features=auto, max_depth=10 \n",
      "[CV]  n_estimators=57, min_samples_split=10, min_samples_leaf=4, max_features=auto, max_depth=2, total=   1.3s\n",
      "[CV] n_estimators=152, min_samples_split=10, min_samples_leaf=4, max_features=sqrt, max_depth=2 \n",
      "[CV]  n_estimators=57, min_samples_split=10, min_samples_leaf=2, max_features=sqrt, max_depth=4, total=   0.5s\n",
      "[CV]  n_estimators=57, min_samples_split=10, min_samples_leaf=4, max_features=sqrt, max_depth=8, total=   0.9s\n",
      "[CV] n_estimators=152, min_samples_split=10, min_samples_leaf=4, max_features=sqrt, max_depth=2 \n",
      "[CV] n_estimators=152, min_samples_split=10, min_samples_leaf=4, max_features=sqrt, max_depth=2 \n",
      "[CV]  n_estimators=57, min_samples_split=10, min_samples_leaf=4, max_features=sqrt, max_depth=8, total=   0.9s\n",
      "[CV] n_estimators=200, min_samples_split=10, min_samples_leaf=4, max_features=auto, max_depth=8 \n",
      "[CV]  n_estimators=57, min_samples_split=10, min_samples_leaf=2, max_features=sqrt, max_depth=4, total=   0.5s\n",
      "[CV] n_estimators=200, min_samples_split=10, min_samples_leaf=4, max_features=auto, max_depth=8 \n",
      "[CV]  n_estimators=10, min_samples_split=10, min_samples_leaf=2, max_features=auto, max_depth=10, total=   1.0s\n",
      "[CV] n_estimators=200, min_samples_split=10, min_samples_leaf=4, max_features=auto, max_depth=8 \n",
      "[CV]  n_estimators=10, min_samples_split=10, min_samples_leaf=2, max_features=auto, max_depth=10, total=   0.9s\n",
      "[CV]  n_estimators=10, min_samples_split=10, min_samples_leaf=2, max_features=auto, max_depth=10, total=   1.0s\n",
      "[CV] n_estimators=10, min_samples_split=5, min_samples_leaf=2, max_features=sqrt, max_depth=4 \n",
      "[CV] n_estimators=10, min_samples_split=5, min_samples_leaf=2, max_features=sqrt, max_depth=4 \n",
      "[CV]  n_estimators=10, min_samples_split=5, min_samples_leaf=2, max_features=sqrt, max_depth=4, total=   0.1s\n",
      "[CV]  n_estimators=10, min_samples_split=5, min_samples_leaf=2, max_features=sqrt, max_depth=4, total=   0.1s\n",
      "[CV] n_estimators=10, min_samples_split=5, min_samples_leaf=2, max_features=sqrt, max_depth=4 \n",
      "[CV] n_estimators=200, min_samples_split=5, min_samples_leaf=2, max_features=auto, max_depth=None \n",
      "[CV]  n_estimators=152, min_samples_split=10, min_samples_leaf=4, max_features=sqrt, max_depth=2, total=   0.8s\n",
      "[CV]  n_estimators=152, min_samples_split=10, min_samples_leaf=4, max_features=sqrt, max_depth=2, total=   0.8s\n",
      "[CV] n_estimators=200, min_samples_split=5, min_samples_leaf=2, max_features=auto, max_depth=None \n"
     ]
    },
    {
     "name": "stdout",
     "output_type": "stream",
     "text": [
      "[CV] n_estimators=200, min_samples_split=5, min_samples_leaf=2, max_features=auto, max_depth=None \n",
      "[CV]  n_estimators=10, min_samples_split=5, min_samples_leaf=2, max_features=sqrt, max_depth=4, total=   0.1s\n",
      "[CV] n_estimators=57, min_samples_split=10, min_samples_leaf=2, max_features=sqrt, max_depth=10 \n",
      "[CV]  n_estimators=152, min_samples_split=10, min_samples_leaf=4, max_features=sqrt, max_depth=2, total=   0.8s\n",
      "[CV] n_estimators=57, min_samples_split=10, min_samples_leaf=2, max_features=sqrt, max_depth=10 \n"
     ]
    },
    {
     "name": "stderr",
     "output_type": "stream",
     "text": [
      "[Parallel(n_jobs=-1)]: Done 146 tasks      | elapsed:   48.4s\n"
     ]
    },
    {
     "name": "stdout",
     "output_type": "stream",
     "text": [
      "[CV]  n_estimators=57, min_samples_split=10, min_samples_leaf=2, max_features=sqrt, max_depth=10, total=   1.1s\n",
      "[CV]  n_estimators=57, min_samples_split=10, min_samples_leaf=2, max_features=sqrt, max_depth=10, total=   1.1s\n",
      "[CV] n_estimators=57, min_samples_split=10, min_samples_leaf=2, max_features=sqrt, max_depth=10 \n",
      "[CV] n_estimators=105, min_samples_split=10, min_samples_leaf=2, max_features=auto, max_depth=None \n",
      "[CV]  n_estimators=57, min_samples_split=10, min_samples_leaf=2, max_features=sqrt, max_depth=10, total=   1.0s\n",
      "[CV] n_estimators=105, min_samples_split=10, min_samples_leaf=2, max_features=auto, max_depth=None \n",
      "[CV]  n_estimators=200, min_samples_split=10, min_samples_leaf=4, max_features=auto, max_depth=8, total=  16.7s\n",
      "[CV]  n_estimators=200, min_samples_split=10, min_samples_leaf=4, max_features=auto, max_depth=8, total=  16.8s\n",
      "[CV] n_estimators=105, min_samples_split=10, min_samples_leaf=2, max_features=auto, max_depth=None \n",
      "[CV] n_estimators=152, min_samples_split=5, min_samples_leaf=4, max_features=sqrt, max_depth=10 \n",
      "[CV]  n_estimators=105, min_samples_split=10, min_samples_leaf=2, max_features=auto, max_depth=None, total=  15.1s\n",
      "[CV] n_estimators=152, min_samples_split=5, min_samples_leaf=4, max_features=sqrt, max_depth=10 \n",
      "[CV]  n_estimators=200, min_samples_split=10, min_samples_leaf=4, max_features=auto, max_depth=8, total=  16.6s\n",
      "[CV] n_estimators=152, min_samples_split=5, min_samples_leaf=4, max_features=sqrt, max_depth=10 \n",
      "[CV]  n_estimators=105, min_samples_split=10, min_samples_leaf=2, max_features=auto, max_depth=None, total=  15.2s\n",
      "[CV] n_estimators=200, min_samples_split=5, min_samples_leaf=2, max_features=sqrt, max_depth=None \n",
      "[CV]  n_estimators=152, min_samples_split=5, min_samples_leaf=4, max_features=sqrt, max_depth=10, total=   3.2s\n",
      "[CV] n_estimators=200, min_samples_split=5, min_samples_leaf=2, max_features=sqrt, max_depth=None \n",
      "[CV]  n_estimators=152, min_samples_split=5, min_samples_leaf=4, max_features=sqrt, max_depth=10, total=   3.2s\n",
      "[CV]  n_estimators=152, min_samples_split=5, min_samples_leaf=4, max_features=sqrt, max_depth=10, total=   3.2s\n",
      "[CV] n_estimators=200, min_samples_split=5, min_samples_leaf=2, max_features=sqrt, max_depth=None \n",
      "[CV] n_estimators=200, min_samples_split=10, min_samples_leaf=2, max_features=auto, max_depth=None \n",
      "[CV]  n_estimators=200, min_samples_split=5, min_samples_leaf=2, max_features=sqrt, max_depth=None, total=   6.4s\n",
      "[CV] n_estimators=200, min_samples_split=10, min_samples_leaf=2, max_features=auto, max_depth=None \n",
      "[CV]  n_estimators=200, min_samples_split=5, min_samples_leaf=2, max_features=sqrt, max_depth=None, total=   6.6s\n",
      "[CV] n_estimators=200, min_samples_split=10, min_samples_leaf=2, max_features=auto, max_depth=None \n",
      "[CV]  n_estimators=200, min_samples_split=5, min_samples_leaf=2, max_features=sqrt, max_depth=None, total=   6.7s\n",
      "[CV] n_estimators=10, min_samples_split=10, min_samples_leaf=4, max_features=sqrt, max_depth=6 \n",
      "[CV]  n_estimators=10, min_samples_split=10, min_samples_leaf=4, max_features=sqrt, max_depth=6, total=   0.1s\n",
      "[CV] n_estimators=10, min_samples_split=10, min_samples_leaf=4, max_features=sqrt, max_depth=6 \n",
      "[CV]  n_estimators=10, min_samples_split=10, min_samples_leaf=4, max_features=sqrt, max_depth=6, total=   0.1s\n",
      "[CV] n_estimators=10, min_samples_split=10, min_samples_leaf=4, max_features=sqrt, max_depth=6 \n",
      "[CV]  n_estimators=10, min_samples_split=10, min_samples_leaf=4, max_features=sqrt, max_depth=6, total=   0.1s\n",
      "[CV] n_estimators=200, min_samples_split=10, min_samples_leaf=4, max_features=auto, max_depth=None \n",
      "[CV]  n_estimators=200, min_samples_split=5, min_samples_leaf=2, max_features=auto, max_depth=None, total=  30.8s\n",
      "[CV] n_estimators=200, min_samples_split=10, min_samples_leaf=4, max_features=auto, max_depth=None \n",
      "[CV]  n_estimators=200, min_samples_split=5, min_samples_leaf=2, max_features=auto, max_depth=None, total=  30.8s\n",
      "[CV]  n_estimators=105, min_samples_split=10, min_samples_leaf=2, max_features=auto, max_depth=None, total=  14.8s\n",
      "[CV]  n_estimators=200, min_samples_split=5, min_samples_leaf=2, max_features=auto, max_depth=None, total=  30.8s\n",
      "[CV] n_estimators=200, min_samples_split=10, min_samples_leaf=4, max_features=auto, max_depth=None \n",
      "[CV] n_estimators=152, min_samples_split=5, min_samples_leaf=4, max_features=sqrt, max_depth=4 \n",
      "[CV] n_estimators=152, min_samples_split=5, min_samples_leaf=4, max_features=sqrt, max_depth=4 \n",
      "[CV]  n_estimators=152, min_samples_split=5, min_samples_leaf=4, max_features=sqrt, max_depth=4, total=   1.2s\n",
      "[CV] n_estimators=152, min_samples_split=5, min_samples_leaf=4, max_features=sqrt, max_depth=4 \n",
      "[CV]  n_estimators=152, min_samples_split=5, min_samples_leaf=4, max_features=sqrt, max_depth=4, total=   1.3s\n",
      "[CV] n_estimators=57, min_samples_split=10, min_samples_leaf=4, max_features=auto, max_depth=8 \n",
      "[CV]  n_estimators=152, min_samples_split=5, min_samples_leaf=4, max_features=sqrt, max_depth=4, total=   1.3s\n",
      "[CV] n_estimators=57, min_samples_split=10, min_samples_leaf=4, max_features=auto, max_depth=8 \n",
      "[CV]  n_estimators=57, min_samples_split=10, min_samples_leaf=4, max_features=auto, max_depth=8, total=   4.4s\n",
      "[CV] n_estimators=57, min_samples_split=10, min_samples_leaf=4, max_features=auto, max_depth=8 \n",
      "[CV]  n_estimators=57, min_samples_split=10, min_samples_leaf=4, max_features=auto, max_depth=8, total=   4.4s\n",
      "[CV] n_estimators=10, min_samples_split=10, min_samples_leaf=4, max_features=auto, max_depth=6 \n",
      "[CV]  n_estimators=10, min_samples_split=10, min_samples_leaf=4, max_features=auto, max_depth=6, total=   0.5s\n",
      "[CV] n_estimators=10, min_samples_split=10, min_samples_leaf=4, max_features=auto, max_depth=6 \n",
      "[CV]  n_estimators=10, min_samples_split=10, min_samples_leaf=4, max_features=auto, max_depth=6, total=   0.5s\n",
      "[CV] n_estimators=10, min_samples_split=10, min_samples_leaf=4, max_features=auto, max_depth=6 \n",
      "[CV]  n_estimators=10, min_samples_split=10, min_samples_leaf=4, max_features=auto, max_depth=6, total=   0.5s\n",
      "[CV] n_estimators=57, min_samples_split=10, min_samples_leaf=2, max_features=auto, max_depth=8 \n",
      "[CV]  n_estimators=57, min_samples_split=10, min_samples_leaf=4, max_features=auto, max_depth=8, total=   4.2s\n",
      "[CV] n_estimators=57, min_samples_split=10, min_samples_leaf=2, max_features=auto, max_depth=8 \n",
      "[CV]  n_estimators=57, min_samples_split=10, min_samples_leaf=2, max_features=auto, max_depth=8, total=   4.6s\n",
      "[CV] n_estimators=57, min_samples_split=10, min_samples_leaf=2, max_features=auto, max_depth=8 \n",
      "[CV]  n_estimators=57, min_samples_split=10, min_samples_leaf=2, max_features=auto, max_depth=8, total=   4.5s\n",
      "[CV] n_estimators=10, min_samples_split=5, min_samples_leaf=2, max_features=auto, max_depth=8 \n",
      "[CV]  n_estimators=10, min_samples_split=5, min_samples_leaf=2, max_features=auto, max_depth=8, total=   0.8s\n",
      "[CV] n_estimators=10, min_samples_split=5, min_samples_leaf=2, max_features=auto, max_depth=8 \n",
      "[CV]  n_estimators=200, min_samples_split=10, min_samples_leaf=2, max_features=auto, max_depth=None, total=  26.3s\n",
      "[CV] n_estimators=10, min_samples_split=5, min_samples_leaf=2, max_features=auto, max_depth=8 \n",
      "[CV]  n_estimators=10, min_samples_split=5, min_samples_leaf=2, max_features=auto, max_depth=8, total=   0.7s\n",
      "[CV] n_estimators=105, min_samples_split=10, min_samples_leaf=2, max_features=sqrt, max_depth=4 \n",
      "[CV]  n_estimators=10, min_samples_split=5, min_samples_leaf=2, max_features=auto, max_depth=8, total=   0.8s\n",
      "[CV] n_estimators=105, min_samples_split=10, min_samples_leaf=2, max_features=sqrt, max_depth=4 \n",
      "[CV]  n_estimators=105, min_samples_split=10, min_samples_leaf=2, max_features=sqrt, max_depth=4, total=   0.9s\n",
      "[CV] n_estimators=105, min_samples_split=10, min_samples_leaf=2, max_features=sqrt, max_depth=4 \n",
      "[CV]  n_estimators=105, min_samples_split=10, min_samples_leaf=2, max_features=sqrt, max_depth=4, total=   0.9s\n",
      "[CV] n_estimators=57, min_samples_split=5, min_samples_leaf=2, max_features=sqrt, max_depth=6 \n",
      "[CV]  n_estimators=57, min_samples_split=10, min_samples_leaf=2, max_features=auto, max_depth=8, total=   4.4s\n",
      "[CV] n_estimators=57, min_samples_split=5, min_samples_leaf=2, max_features=sqrt, max_depth=6 \n",
      "[CV]  n_estimators=57, min_samples_split=5, min_samples_leaf=2, max_features=sqrt, max_depth=6, total=   0.6s\n"
     ]
    },
    {
     "name": "stdout",
     "output_type": "stream",
     "text": [
      "[CV] n_estimators=57, min_samples_split=5, min_samples_leaf=2, max_features=sqrt, max_depth=6 \n",
      "[CV]  n_estimators=105, min_samples_split=10, min_samples_leaf=2, max_features=sqrt, max_depth=4, total=   0.9s\n",
      "[CV] n_estimators=152, min_samples_split=10, min_samples_leaf=2, max_features=sqrt, max_depth=4 \n",
      "[CV]  n_estimators=57, min_samples_split=5, min_samples_leaf=2, max_features=sqrt, max_depth=6, total=   0.6s\n",
      "[CV] n_estimators=152, min_samples_split=10, min_samples_leaf=2, max_features=sqrt, max_depth=4 \n",
      "[CV]  n_estimators=57, min_samples_split=5, min_samples_leaf=2, max_features=sqrt, max_depth=6, total=   0.6s\n",
      "[CV] n_estimators=152, min_samples_split=10, min_samples_leaf=2, max_features=sqrt, max_depth=4 \n",
      "[CV]  n_estimators=152, min_samples_split=10, min_samples_leaf=2, max_features=sqrt, max_depth=4, total=   1.3s\n",
      "[CV] n_estimators=152, min_samples_split=10, min_samples_leaf=2, max_features=sqrt, max_depth=6 \n",
      "[CV]  n_estimators=200, min_samples_split=10, min_samples_leaf=2, max_features=auto, max_depth=None, total=  25.7s\n",
      "[CV] n_estimators=152, min_samples_split=10, min_samples_leaf=2, max_features=sqrt, max_depth=6 \n",
      "[CV]  n_estimators=152, min_samples_split=10, min_samples_leaf=2, max_features=sqrt, max_depth=4, total=   1.3s\n",
      "[CV] n_estimators=152, min_samples_split=10, min_samples_leaf=2, max_features=sqrt, max_depth=6 \n",
      "[CV]  n_estimators=152, min_samples_split=10, min_samples_leaf=2, max_features=sqrt, max_depth=4, total=   1.3s\n",
      "[CV] n_estimators=200, min_samples_split=5, min_samples_leaf=2, max_features=auto, max_depth=6 \n",
      "[CV]  n_estimators=200, min_samples_split=10, min_samples_leaf=4, max_features=auto, max_depth=None, total=  23.6s\n",
      "[CV] n_estimators=200, min_samples_split=5, min_samples_leaf=2, max_features=auto, max_depth=6 \n",
      "[CV]  n_estimators=200, min_samples_split=10, min_samples_leaf=2, max_features=auto, max_depth=None, total=  25.2s\n",
      "[CV] n_estimators=200, min_samples_split=5, min_samples_leaf=2, max_features=auto, max_depth=6 \n",
      "[CV]  n_estimators=152, min_samples_split=10, min_samples_leaf=2, max_features=sqrt, max_depth=6, total=   1.7s\n",
      "[CV] n_estimators=105, min_samples_split=10, min_samples_leaf=4, max_features=sqrt, max_depth=6 \n",
      "[CV]  n_estimators=152, min_samples_split=10, min_samples_leaf=2, max_features=sqrt, max_depth=6, total=   1.7s\n",
      "[CV] n_estimators=105, min_samples_split=10, min_samples_leaf=4, max_features=sqrt, max_depth=6 \n",
      "[CV]  n_estimators=152, min_samples_split=10, min_samples_leaf=2, max_features=sqrt, max_depth=6, total=   1.7s\n",
      "[CV] n_estimators=105, min_samples_split=10, min_samples_leaf=4, max_features=sqrt, max_depth=6 \n",
      "[CV]  n_estimators=105, min_samples_split=10, min_samples_leaf=4, max_features=sqrt, max_depth=6, total=   1.2s\n",
      "[CV] n_estimators=200, min_samples_split=5, min_samples_leaf=4, max_features=sqrt, max_depth=10 \n",
      "[CV]  n_estimators=105, min_samples_split=10, min_samples_leaf=4, max_features=sqrt, max_depth=6, total=   1.1s\n",
      "[CV]  n_estimators=105, min_samples_split=10, min_samples_leaf=4, max_features=sqrt, max_depth=6, total=   1.2s\n",
      "[CV] n_estimators=200, min_samples_split=5, min_samples_leaf=4, max_features=sqrt, max_depth=10 \n",
      "[CV] n_estimators=200, min_samples_split=5, min_samples_leaf=4, max_features=sqrt, max_depth=10 \n",
      "[CV]  n_estimators=200, min_samples_split=10, min_samples_leaf=4, max_features=auto, max_depth=None, total=  23.5s\n",
      "[CV] n_estimators=105, min_samples_split=10, min_samples_leaf=4, max_features=auto, max_depth=10 \n",
      "[CV]  n_estimators=200, min_samples_split=10, min_samples_leaf=4, max_features=auto, max_depth=None, total=  23.8s\n",
      "[CV] n_estimators=105, min_samples_split=10, min_samples_leaf=4, max_features=auto, max_depth=10 \n",
      "[CV]  n_estimators=200, min_samples_split=5, min_samples_leaf=4, max_features=sqrt, max_depth=10, total=   3.4s\n",
      "[CV] n_estimators=105, min_samples_split=10, min_samples_leaf=4, max_features=auto, max_depth=10 \n",
      "[CV]  n_estimators=200, min_samples_split=5, min_samples_leaf=4, max_features=sqrt, max_depth=10, total=   3.3s\n",
      "[CV]  n_estimators=200, min_samples_split=5, min_samples_leaf=4, max_features=sqrt, max_depth=10, total=   3.3s\n",
      "[CV] n_estimators=57, min_samples_split=5, min_samples_leaf=4, max_features=sqrt, max_depth=6 \n",
      "[CV] n_estimators=57, min_samples_split=5, min_samples_leaf=4, max_features=sqrt, max_depth=6 \n",
      "[CV]  n_estimators=57, min_samples_split=5, min_samples_leaf=4, max_features=sqrt, max_depth=6, total=   0.6s\n",
      "[CV]  n_estimators=57, min_samples_split=5, min_samples_leaf=4, max_features=sqrt, max_depth=6, total=   0.6s\n",
      "[CV] n_estimators=57, min_samples_split=5, min_samples_leaf=4, max_features=sqrt, max_depth=6 \n",
      "[CV] n_estimators=200, min_samples_split=10, min_samples_leaf=2, max_features=sqrt, max_depth=2 \n",
      "[CV]  n_estimators=57, min_samples_split=5, min_samples_leaf=4, max_features=sqrt, max_depth=6, total=   0.6s\n",
      "[CV] n_estimators=200, min_samples_split=10, min_samples_leaf=2, max_features=sqrt, max_depth=2 \n",
      "[CV]  n_estimators=200, min_samples_split=10, min_samples_leaf=2, max_features=sqrt, max_depth=2, total=   1.1s\n",
      "[CV] n_estimators=200, min_samples_split=10, min_samples_leaf=2, max_features=sqrt, max_depth=2 \n",
      "[CV]  n_estimators=200, min_samples_split=10, min_samples_leaf=2, max_features=sqrt, max_depth=2, total=   1.1s\n",
      "[CV] n_estimators=200, min_samples_split=5, min_samples_leaf=2, max_features=auto, max_depth=8 \n",
      "[CV]  n_estimators=200, min_samples_split=10, min_samples_leaf=2, max_features=sqrt, max_depth=2, total=   1.1s\n",
      "[CV] n_estimators=200, min_samples_split=5, min_samples_leaf=2, max_features=auto, max_depth=8 \n",
      "[CV]  n_estimators=200, min_samples_split=5, min_samples_leaf=2, max_features=auto, max_depth=6, total=  11.0s\n",
      "[CV] n_estimators=200, min_samples_split=5, min_samples_leaf=2, max_features=auto, max_depth=8 \n",
      "[CV]  n_estimators=200, min_samples_split=5, min_samples_leaf=2, max_features=auto, max_depth=6, total=  11.0s\n",
      "[CV] n_estimators=10, min_samples_split=10, min_samples_leaf=4, max_features=sqrt, max_depth=4 \n",
      "[CV]  n_estimators=10, min_samples_split=10, min_samples_leaf=4, max_features=sqrt, max_depth=4, total=   0.1s\n",
      "[CV] n_estimators=10, min_samples_split=10, min_samples_leaf=4, max_features=sqrt, max_depth=4 \n",
      "[CV]  n_estimators=10, min_samples_split=10, min_samples_leaf=4, max_features=sqrt, max_depth=4, total=   0.1s\n",
      "[CV] n_estimators=10, min_samples_split=10, min_samples_leaf=4, max_features=sqrt, max_depth=4 \n",
      "[CV]  n_estimators=10, min_samples_split=10, min_samples_leaf=4, max_features=sqrt, max_depth=4, total=   0.1s\n",
      "[CV] n_estimators=105, min_samples_split=5, min_samples_leaf=2, max_features=auto, max_depth=6 \n",
      "[CV]  n_estimators=200, min_samples_split=5, min_samples_leaf=2, max_features=auto, max_depth=6, total=  11.1s\n",
      "[CV] n_estimators=105, min_samples_split=5, min_samples_leaf=2, max_features=auto, max_depth=6 \n",
      "[CV]  n_estimators=105, min_samples_split=10, min_samples_leaf=4, max_features=auto, max_depth=10, total=   9.4s\n",
      "[CV] n_estimators=105, min_samples_split=5, min_samples_leaf=2, max_features=auto, max_depth=6 \n",
      "[CV]  n_estimators=105, min_samples_split=10, min_samples_leaf=4, max_features=auto, max_depth=10, total=   9.4s\n",
      "[CV] n_estimators=10, min_samples_split=10, min_samples_leaf=2, max_features=auto, max_depth=2 \n",
      "[CV]  n_estimators=10, min_samples_split=10, min_samples_leaf=2, max_features=auto, max_depth=2, total=   0.2s\n",
      "[CV] n_estimators=10, min_samples_split=10, min_samples_leaf=2, max_features=auto, max_depth=2 \n",
      "[CV]  n_estimators=10, min_samples_split=10, min_samples_leaf=2, max_features=auto, max_depth=2, total=   0.2s\n",
      "[CV] n_estimators=10, min_samples_split=10, min_samples_leaf=2, max_features=auto, max_depth=2 \n",
      "[CV]  n_estimators=10, min_samples_split=10, min_samples_leaf=2, max_features=auto, max_depth=2, total=   0.2s\n",
      "[CV] n_estimators=57, min_samples_split=10, min_samples_leaf=4, max_features=auto, max_depth=4 \n",
      "[CV]  n_estimators=105, min_samples_split=10, min_samples_leaf=4, max_features=auto, max_depth=10, total=   9.3s\n",
      "[CV] n_estimators=57, min_samples_split=10, min_samples_leaf=4, max_features=auto, max_depth=4 \n",
      "[CV]  n_estimators=57, min_samples_split=10, min_samples_leaf=4, max_features=auto, max_depth=4, total=   2.3s\n",
      "[CV] n_estimators=57, min_samples_split=10, min_samples_leaf=4, max_features=auto, max_depth=4 \n"
     ]
    },
    {
     "name": "stdout",
     "output_type": "stream",
     "text": [
      "[CV]  n_estimators=105, min_samples_split=5, min_samples_leaf=2, max_features=auto, max_depth=6, total=   6.0s\n",
      "[CV] n_estimators=200, min_samples_split=5, min_samples_leaf=2, max_features=auto, max_depth=10 \n",
      "[CV]  n_estimators=57, min_samples_split=10, min_samples_leaf=4, max_features=auto, max_depth=4, total=   2.3s\n",
      "[CV] n_estimators=200, min_samples_split=5, min_samples_leaf=2, max_features=auto, max_depth=10 \n",
      "[CV]  n_estimators=105, min_samples_split=5, min_samples_leaf=2, max_features=auto, max_depth=6, total=   6.2s\n",
      "[CV] n_estimators=200, min_samples_split=5, min_samples_leaf=2, max_features=auto, max_depth=10 \n",
      "[CV]  n_estimators=57, min_samples_split=10, min_samples_leaf=4, max_features=auto, max_depth=4, total=   2.4s\n",
      "[CV] n_estimators=200, min_samples_split=10, min_samples_leaf=4, max_features=sqrt, max_depth=8 \n",
      "[CV]  n_estimators=105, min_samples_split=5, min_samples_leaf=2, max_features=auto, max_depth=6, total=   6.2s\n",
      "[CV] n_estimators=200, min_samples_split=10, min_samples_leaf=4, max_features=sqrt, max_depth=8 \n",
      "[CV]  n_estimators=200, min_samples_split=10, min_samples_leaf=4, max_features=sqrt, max_depth=8, total=   3.3s\n",
      "[CV] n_estimators=200, min_samples_split=10, min_samples_leaf=4, max_features=sqrt, max_depth=8 \n",
      "[CV]  n_estimators=200, min_samples_split=10, min_samples_leaf=4, max_features=sqrt, max_depth=8, total=   3.2s\n",
      "[CV] n_estimators=105, min_samples_split=10, min_samples_leaf=4, max_features=auto, max_depth=6 \n",
      "[CV]  n_estimators=200, min_samples_split=5, min_samples_leaf=2, max_features=auto, max_depth=8, total=  15.8s\n",
      "[CV] n_estimators=105, min_samples_split=10, min_samples_leaf=4, max_features=auto, max_depth=6 \n",
      "[CV]  n_estimators=200, min_samples_split=5, min_samples_leaf=2, max_features=auto, max_depth=8, total=  15.8s\n",
      "[CV] n_estimators=105, min_samples_split=10, min_samples_leaf=4, max_features=auto, max_depth=6 \n",
      "[CV]  n_estimators=200, min_samples_split=10, min_samples_leaf=4, max_features=sqrt, max_depth=8, total=   3.0s\n",
      "[CV] n_estimators=10, min_samples_split=10, min_samples_leaf=2, max_features=sqrt, max_depth=4 \n",
      "[CV]  n_estimators=10, min_samples_split=10, min_samples_leaf=2, max_features=sqrt, max_depth=4, total=   0.1s\n",
      "[CV] n_estimators=10, min_samples_split=10, min_samples_leaf=2, max_features=sqrt, max_depth=4 \n",
      "[CV]  n_estimators=10, min_samples_split=10, min_samples_leaf=2, max_features=sqrt, max_depth=4, total=   0.1s\n",
      "[CV] n_estimators=10, min_samples_split=10, min_samples_leaf=2, max_features=sqrt, max_depth=4 \n",
      "[CV]  n_estimators=10, min_samples_split=10, min_samples_leaf=2, max_features=sqrt, max_depth=4, total=   0.1s\n",
      "[CV] n_estimators=105, min_samples_split=5, min_samples_leaf=4, max_features=auto, max_depth=None \n",
      "[CV]  n_estimators=200, min_samples_split=5, min_samples_leaf=2, max_features=auto, max_depth=8, total=  15.6s\n",
      "[CV] n_estimators=105, min_samples_split=5, min_samples_leaf=4, max_features=auto, max_depth=None \n",
      "[CV]  n_estimators=105, min_samples_split=10, min_samples_leaf=4, max_features=auto, max_depth=6, total=   6.0s\n",
      "[CV] n_estimators=105, min_samples_split=5, min_samples_leaf=4, max_features=auto, max_depth=None \n",
      "[CV]  n_estimators=105, min_samples_split=10, min_samples_leaf=4, max_features=auto, max_depth=6, total=   5.9s\n",
      "[CV] n_estimators=152, min_samples_split=10, min_samples_leaf=2, max_features=auto, max_depth=None \n",
      "[CV]  n_estimators=105, min_samples_split=10, min_samples_leaf=4, max_features=auto, max_depth=6, total=   5.8s\n",
      "[CV] n_estimators=152, min_samples_split=10, min_samples_leaf=2, max_features=auto, max_depth=None \n",
      "[CV]  n_estimators=200, min_samples_split=5, min_samples_leaf=2, max_features=auto, max_depth=10, total=  18.9s\n",
      "[CV] n_estimators=152, min_samples_split=10, min_samples_leaf=2, max_features=auto, max_depth=None \n",
      "[CV]  n_estimators=200, min_samples_split=5, min_samples_leaf=2, max_features=auto, max_depth=10, total=  18.8s\n",
      "[CV] n_estimators=105, min_samples_split=5, min_samples_leaf=2, max_features=sqrt, max_depth=8 \n",
      "[CV]  n_estimators=200, min_samples_split=5, min_samples_leaf=2, max_features=auto, max_depth=10, total=  18.5s\n",
      "[CV] n_estimators=105, min_samples_split=5, min_samples_leaf=2, max_features=sqrt, max_depth=8 \n",
      "[CV]  n_estimators=105, min_samples_split=5, min_samples_leaf=4, max_features=auto, max_depth=None, total=  12.3s\n",
      "[CV] n_estimators=105, min_samples_split=5, min_samples_leaf=2, max_features=sqrt, max_depth=8 \n",
      "[CV]  n_estimators=105, min_samples_split=5, min_samples_leaf=2, max_features=sqrt, max_depth=8, total=   1.5s\n",
      "[CV] n_estimators=57, min_samples_split=5, min_samples_leaf=4, max_features=sqrt, max_depth=2 \n",
      "[CV]  n_estimators=105, min_samples_split=5, min_samples_leaf=2, max_features=sqrt, max_depth=8, total=   1.6s\n",
      "[CV] n_estimators=57, min_samples_split=5, min_samples_leaf=4, max_features=sqrt, max_depth=2 \n",
      "[CV]  n_estimators=57, min_samples_split=5, min_samples_leaf=4, max_features=sqrt, max_depth=2, total=   0.4s\n",
      "[CV] n_estimators=57, min_samples_split=5, min_samples_leaf=4, max_features=sqrt, max_depth=2 \n",
      "[CV]  n_estimators=57, min_samples_split=5, min_samples_leaf=4, max_features=sqrt, max_depth=2, total=   0.4s\n",
      "[CV] n_estimators=105, min_samples_split=5, min_samples_leaf=4, max_features=auto, max_depth=2 \n",
      "[CV]  n_estimators=57, min_samples_split=5, min_samples_leaf=4, max_features=sqrt, max_depth=2, total=   0.4s\n",
      "[CV] n_estimators=105, min_samples_split=5, min_samples_leaf=4, max_features=auto, max_depth=2 \n",
      "[CV]  n_estimators=105, min_samples_split=5, min_samples_leaf=4, max_features=auto, max_depth=None, total=  12.4s\n",
      "[CV] n_estimators=105, min_samples_split=5, min_samples_leaf=4, max_features=auto, max_depth=2 \n",
      "[CV]  n_estimators=105, min_samples_split=5, min_samples_leaf=2, max_features=sqrt, max_depth=8, total=   1.8s\n",
      "[CV] n_estimators=10, min_samples_split=10, min_samples_leaf=4, max_features=sqrt, max_depth=2 \n",
      "[CV]  n_estimators=10, min_samples_split=10, min_samples_leaf=4, max_features=sqrt, max_depth=2, total=   0.1s\n",
      "[CV] n_estimators=10, min_samples_split=10, min_samples_leaf=4, max_features=sqrt, max_depth=2 \n",
      "[CV]  n_estimators=10, min_samples_split=10, min_samples_leaf=4, max_features=sqrt, max_depth=2, total=   0.1s\n",
      "[CV] n_estimators=10, min_samples_split=10, min_samples_leaf=4, max_features=sqrt, max_depth=2 \n",
      "[CV]  n_estimators=10, min_samples_split=10, min_samples_leaf=4, max_features=sqrt, max_depth=2, total=   0.1s\n",
      "[CV] n_estimators=152, min_samples_split=10, min_samples_leaf=2, max_features=sqrt, max_depth=2 \n",
      "[CV]  n_estimators=105, min_samples_split=5, min_samples_leaf=4, max_features=auto, max_depth=None, total=  12.6s\n",
      "[CV] n_estimators=152, min_samples_split=10, min_samples_leaf=2, max_features=sqrt, max_depth=2 \n",
      "[CV]  n_estimators=152, min_samples_split=10, min_samples_leaf=2, max_features=sqrt, max_depth=2, total=   0.8s\n",
      "[CV] n_estimators=152, min_samples_split=10, min_samples_leaf=2, max_features=sqrt, max_depth=2 \n",
      "[CV]  n_estimators=105, min_samples_split=5, min_samples_leaf=4, max_features=auto, max_depth=2, total=   2.1s\n",
      "[CV] n_estimators=105, min_samples_split=5, min_samples_leaf=2, max_features=auto, max_depth=4 \n",
      "[CV]  n_estimators=105, min_samples_split=5, min_samples_leaf=4, max_features=auto, max_depth=2, total=   2.1s\n",
      "[CV] n_estimators=105, min_samples_split=5, min_samples_leaf=2, max_features=auto, max_depth=4 \n",
      "[CV]  n_estimators=105, min_samples_split=5, min_samples_leaf=4, max_features=auto, max_depth=2, total=   2.1s\n",
      "[CV] n_estimators=105, min_samples_split=5, min_samples_leaf=2, max_features=auto, max_depth=4 \n",
      "[CV]  n_estimators=152, min_samples_split=10, min_samples_leaf=2, max_features=sqrt, max_depth=2, total=   0.8s\n",
      "[CV] n_estimators=152, min_samples_split=5, min_samples_leaf=2, max_features=sqrt, max_depth=None \n",
      "[CV]  n_estimators=152, min_samples_split=10, min_samples_leaf=2, max_features=sqrt, max_depth=2, total=   0.8s\n",
      "[CV] n_estimators=152, min_samples_split=5, min_samples_leaf=2, max_features=sqrt, max_depth=None \n",
      "[CV]  n_estimators=105, min_samples_split=5, min_samples_leaf=2, max_features=auto, max_depth=4, total=   3.7s\n",
      "[CV] n_estimators=152, min_samples_split=5, min_samples_leaf=2, max_features=sqrt, max_depth=None \n",
      "[CV]  n_estimators=105, min_samples_split=5, min_samples_leaf=2, max_features=auto, max_depth=4, total=   3.7s\n"
     ]
    },
    {
     "name": "stdout",
     "output_type": "stream",
     "text": [
      "[CV] n_estimators=152, min_samples_split=10, min_samples_leaf=2, max_features=sqrt, max_depth=8 \n",
      "[CV]  n_estimators=105, min_samples_split=5, min_samples_leaf=2, max_features=auto, max_depth=4, total=   3.7s\n",
      "[CV] n_estimators=152, min_samples_split=10, min_samples_leaf=2, max_features=sqrt, max_depth=8 \n",
      "[CV]  n_estimators=152, min_samples_split=5, min_samples_leaf=2, max_features=sqrt, max_depth=None, total=   4.0s\n",
      "[CV] n_estimators=152, min_samples_split=10, min_samples_leaf=2, max_features=sqrt, max_depth=8 \n",
      "[CV]  n_estimators=152, min_samples_split=5, min_samples_leaf=2, max_features=sqrt, max_depth=None, total=   4.0s\n",
      "[CV] n_estimators=57, min_samples_split=5, min_samples_leaf=2, max_features=auto, max_depth=10 \n",
      "[CV]  n_estimators=152, min_samples_split=10, min_samples_leaf=2, max_features=sqrt, max_depth=8, total=   2.3s\n",
      "[CV] n_estimators=57, min_samples_split=5, min_samples_leaf=2, max_features=auto, max_depth=10 \n",
      "[CV]  n_estimators=152, min_samples_split=10, min_samples_leaf=2, max_features=sqrt, max_depth=8, total=   2.3s\n",
      "[CV] n_estimators=57, min_samples_split=5, min_samples_leaf=2, max_features=auto, max_depth=10 \n",
      "[CV]  n_estimators=152, min_samples_split=10, min_samples_leaf=2, max_features=sqrt, max_depth=8, total=   2.3s\n",
      "[CV] n_estimators=57, min_samples_split=5, min_samples_leaf=4, max_features=auto, max_depth=4 \n",
      "[CV]  n_estimators=152, min_samples_split=10, min_samples_leaf=2, max_features=auto, max_depth=None, total=  19.0s\n",
      "[CV] n_estimators=57, min_samples_split=5, min_samples_leaf=4, max_features=auto, max_depth=4 \n",
      "[CV]  n_estimators=152, min_samples_split=5, min_samples_leaf=2, max_features=sqrt, max_depth=None, total=   4.5s\n",
      "[CV] n_estimators=57, min_samples_split=5, min_samples_leaf=4, max_features=auto, max_depth=4 \n",
      "[CV]  n_estimators=152, min_samples_split=10, min_samples_leaf=2, max_features=auto, max_depth=None, total=  19.2s\n",
      "[CV] n_estimators=105, min_samples_split=10, min_samples_leaf=4, max_features=auto, max_depth=8 \n",
      "[CV]  n_estimators=57, min_samples_split=5, min_samples_leaf=4, max_features=auto, max_depth=4, total=   2.5s\n",
      "[CV] n_estimators=105, min_samples_split=10, min_samples_leaf=4, max_features=auto, max_depth=8 \n",
      "[CV]  n_estimators=57, min_samples_split=5, min_samples_leaf=4, max_features=auto, max_depth=4, total=   2.4s\n",
      "[CV] n_estimators=105, min_samples_split=10, min_samples_leaf=4, max_features=auto, max_depth=8 \n",
      "[CV]  n_estimators=57, min_samples_split=5, min_samples_leaf=2, max_features=auto, max_depth=10, total=   5.7s\n",
      "[CV] n_estimators=10, min_samples_split=5, min_samples_leaf=4, max_features=sqrt, max_depth=10 \n",
      "[CV]  n_estimators=57, min_samples_split=5, min_samples_leaf=4, max_features=auto, max_depth=4, total=   2.4s\n",
      "[CV] n_estimators=10, min_samples_split=5, min_samples_leaf=4, max_features=sqrt, max_depth=10 \n",
      "[CV]  n_estimators=10, min_samples_split=5, min_samples_leaf=4, max_features=sqrt, max_depth=10, total=   0.2s\n",
      "[CV] n_estimators=10, min_samples_split=5, min_samples_leaf=4, max_features=sqrt, max_depth=10 \n",
      "[CV]  n_estimators=10, min_samples_split=5, min_samples_leaf=4, max_features=sqrt, max_depth=10, total=   0.3s\n",
      "[CV] n_estimators=57, min_samples_split=10, min_samples_leaf=4, max_features=sqrt, max_depth=4 \n",
      "[CV]  n_estimators=10, min_samples_split=5, min_samples_leaf=4, max_features=sqrt, max_depth=10, total=   0.3s\n",
      "[CV] n_estimators=57, min_samples_split=10, min_samples_leaf=4, max_features=sqrt, max_depth=4 \n",
      "[CV]  n_estimators=57, min_samples_split=10, min_samples_leaf=4, max_features=sqrt, max_depth=4, total=   0.5s\n",
      "[CV] n_estimators=57, min_samples_split=10, min_samples_leaf=4, max_features=sqrt, max_depth=4 \n",
      "[CV]  n_estimators=57, min_samples_split=10, min_samples_leaf=4, max_features=sqrt, max_depth=4, total=   0.5s\n",
      "[CV]  n_estimators=57, min_samples_split=5, min_samples_leaf=2, max_features=auto, max_depth=10, total=   5.8s\n",
      "[CV]  n_estimators=57, min_samples_split=5, min_samples_leaf=2, max_features=auto, max_depth=10, total=   5.8s\n",
      "[CV] n_estimators=57, min_samples_split=5, min_samples_leaf=2, max_features=auto, max_depth=4 \n",
      "[CV] n_estimators=57, min_samples_split=5, min_samples_leaf=2, max_features=auto, max_depth=4 \n",
      "[CV] n_estimators=57, min_samples_split=5, min_samples_leaf=2, max_features=auto, max_depth=4 \n",
      "[CV]  n_estimators=57, min_samples_split=10, min_samples_leaf=4, max_features=sqrt, max_depth=4, total=   0.5s\n",
      "[CV] n_estimators=105, min_samples_split=5, min_samples_leaf=2, max_features=auto, max_depth=10 \n",
      "[CV]  n_estimators=57, min_samples_split=5, min_samples_leaf=2, max_features=auto, max_depth=4, total=   2.1s\n",
      "[CV]  n_estimators=57, min_samples_split=5, min_samples_leaf=2, max_features=auto, max_depth=4, total=   2.2s\n",
      "[CV]  n_estimators=57, min_samples_split=5, min_samples_leaf=2, max_features=auto, max_depth=4, total=   2.1s\n",
      "[CV] n_estimators=105, min_samples_split=5, min_samples_leaf=2, max_features=auto, max_depth=10 \n",
      "[CV] n_estimators=105, min_samples_split=5, min_samples_leaf=2, max_features=auto, max_depth=10 \n",
      "[CV] n_estimators=57, min_samples_split=10, min_samples_leaf=2, max_features=sqrt, max_depth=8 \n",
      "[CV]  n_estimators=152, min_samples_split=10, min_samples_leaf=2, max_features=auto, max_depth=None, total=  19.5s\n",
      "[CV] n_estimators=57, min_samples_split=10, min_samples_leaf=2, max_features=sqrt, max_depth=8 \n",
      "[CV]  n_estimators=57, min_samples_split=10, min_samples_leaf=2, max_features=sqrt, max_depth=8, total=   0.9s\n",
      "[CV] n_estimators=57, min_samples_split=10, min_samples_leaf=2, max_features=sqrt, max_depth=8 \n",
      "[CV]  n_estimators=57, min_samples_split=10, min_samples_leaf=2, max_features=sqrt, max_depth=8, total=   0.8s\n",
      "[CV]  n_estimators=57, min_samples_split=10, min_samples_leaf=2, max_features=sqrt, max_depth=8, total=   0.8s\n",
      "[CV]  n_estimators=105, min_samples_split=10, min_samples_leaf=4, max_features=auto, max_depth=8, total=   7.9s\n",
      "[CV]  n_estimators=105, min_samples_split=10, min_samples_leaf=4, max_features=auto, max_depth=8, total=   7.5s\n",
      "[CV]  n_estimators=105, min_samples_split=10, min_samples_leaf=4, max_features=auto, max_depth=8, total=   7.3s\n",
      "[CV]  n_estimators=105, min_samples_split=5, min_samples_leaf=2, max_features=auto, max_depth=10, total=   7.6s\n",
      "[CV]  n_estimators=105, min_samples_split=5, min_samples_leaf=2, max_features=auto, max_depth=10, total=   6.7s\n",
      "[CV]  n_estimators=105, min_samples_split=5, min_samples_leaf=2, max_features=auto, max_depth=10, total=   6.7s\n"
     ]
    },
    {
     "name": "stderr",
     "output_type": "stream",
     "text": [
      "[Parallel(n_jobs=-1)]: Done 300 out of 300 | elapsed:  2.7min finished\n"
     ]
    },
    {
     "data": {
      "text/plain": [
       "RandomizedSearchCV(cv=3, error_score='raise',\n",
       "          estimator=RandomForestRegressor(bootstrap=True, criterion='mse', max_depth=None,\n",
       "           max_features='auto', max_leaf_nodes=None,\n",
       "           min_impurity_split=1e-07, min_samples_leaf=1,\n",
       "           min_samples_split=2, min_weight_fraction_leaf=0.0,\n",
       "           n_estimators=10, n_jobs=1, oob_score=False, random_state=None,\n",
       "           verbose=0, warm_start=False),\n",
       "          fit_params={}, iid=True, n_iter=100, n_jobs=-1,\n",
       "          param_distributions={'n_estimators': [10, 57, 105, 152, 200], 'max_features': ['auto', 'sqrt'], 'max_depth': [2, 4, 6, 8, 10, None], 'min_samples_split': [5, 10], 'min_samples_leaf': [2, 4]},\n",
       "          pre_dispatch='2*n_jobs', random_state=42, refit=True,\n",
       "          return_train_score=True, scoring=None, verbose=2)"
      ]
     },
     "execution_count": 61,
     "metadata": {},
     "output_type": "execute_result"
    }
   ],
   "source": [
    "# Use the random grid to search for best hyperparameters\n",
    "# First create the base model to tune\n",
    "rf = RandomForestRegressor()\n",
    "# Random search of parameters, using 3 fold cross validation, \n",
    "# search across 100 different combinations, and use all available cores\n",
    "rf_random = RandomizedSearchCV(estimator = rf, param_distributions = random_grid, n_iter = 100, cv = 3, verbose=2, random_state=42, n_jobs = -1)\n",
    "# Fit the random search model\n",
    "rf_random.fit(X_train_reg, y_train_reg)"
   ]
  },
  {
   "cell_type": "code",
   "execution_count": 62,
   "metadata": {},
   "outputs": [
    {
     "name": "stdout",
     "output_type": "stream",
     "text": [
      "Model Performance\n",
      "Average Error: 74537.9486 degrees.\n",
      "Accuracy = 85.82%.\n"
     ]
    }
   ],
   "source": [
    "def evaluate_reg(model, test_features, test_labels):\n",
    "    predictions = model.predict(test_features)\n",
    "    errors = abs(predictions - test_labels)\n",
    "    mape = 100 * np.mean(errors / test_labels)\n",
    "    accuracy = 100 - mape\n",
    "    print('Model Performance')\n",
    "    print('Average Error: {:0.4f} degrees.'.format(np.mean(errors)))\n",
    "    print('Accuracy = {:0.2f}%.'.format(accuracy))\n",
    "    \n",
    "    return accuracy\n",
    "base_model = RandomForestRegressor(n_estimators = 10, random_state = 42)\n",
    "base_model.fit(X_train_reg, y_train_reg)\n",
    "base_accuracy = evaluate_reg(base_model, X_test_reg, y_test_reg)"
   ]
  },
  {
   "cell_type": "code",
   "execution_count": 63,
   "metadata": {},
   "outputs": [
    {
     "data": {
      "text/plain": [
       "RandomForestRegressor(bootstrap=True, criterion='mse', max_depth=None,\n",
       "           max_features='auto', max_leaf_nodes=None,\n",
       "           min_impurity_split=1e-07, min_samples_leaf=2,\n",
       "           min_samples_split=10, min_weight_fraction_leaf=0.0,\n",
       "           n_estimators=105, n_jobs=1, oob_score=False, random_state=None,\n",
       "           verbose=0, warm_start=False)"
      ]
     },
     "execution_count": 63,
     "metadata": {},
     "output_type": "execute_result"
    }
   ],
   "source": [
    "rf_random.best_estimator_"
   ]
  },
  {
   "cell_type": "code",
   "execution_count": 64,
   "metadata": {
    "scrolled": true
   },
   "outputs": [
    {
     "name": "stdout",
     "output_type": "stream",
     "text": [
      "Model Performance\n",
      "Average Error: 70980.7766 degrees.\n",
      "Accuracy = 86.55%.\n"
     ]
    }
   ],
   "source": [
    "best_random = rf_random.best_estimator_\n",
    "random_accuracy = evaluate_reg(best_random, X_test_reg, y_test_reg)"
   ]
  },
  {
   "cell_type": "markdown",
   "metadata": {},
   "source": [
    "### Grid Search with Cross Validation"
   ]
  },
  {
   "cell_type": "code",
   "execution_count": 65,
   "metadata": {
    "collapsed": true
   },
   "outputs": [],
   "source": [
    "from sklearn.model_selection import GridSearchCV\n",
    "# Create the parameter grid based on the results of random search \n",
    "param_grid = {\n",
    "    'bootstrap': [True, False],\n",
    "    'max_depth': [None],\n",
    "    'max_features': [2, 3],\n",
    "    'min_samples_leaf': [2,3,4],\n",
    "    'min_samples_split': [3,5,7],\n",
    "    'n_estimators': [100, 200, 300, 1000]\n",
    "}\n",
    "# Create a based model\n",
    "rf = RandomForestRegressor()\n",
    "\n",
    "# Instantiate the grid search model\n",
    "grid_search = GridSearchCV(estimator = rf, param_grid = param_grid, \n",
    "                          cv = 3, n_jobs = -1, verbose = 2)"
   ]
  },
  {
   "cell_type": "code",
   "execution_count": 66,
   "metadata": {},
   "outputs": [
    {
     "name": "stdout",
     "output_type": "stream",
     "text": [
      "Fitting 3 folds for each of 144 candidates, totalling 432 fits\n",
      "[CV] bootstrap=True, max_depth=None, max_features=2, min_samples_leaf=2, min_samples_split=3, n_estimators=100 \n",
      "[CV] bootstrap=True, max_depth=None, max_features=2, min_samples_leaf=2, min_samples_split=3, n_estimators=100 \n",
      "[CV] bootstrap=True, max_depth=None, max_features=2, min_samples_leaf=2, min_samples_split=3, n_estimators=100 \n",
      "[CV] bootstrap=True, max_depth=None, max_features=2, min_samples_leaf=2, min_samples_split=3, n_estimators=200 \n",
      "[CV] bootstrap=True, max_depth=None, max_features=2, min_samples_leaf=2, min_samples_split=3, n_estimators=200 \n",
      "[CV] bootstrap=True, max_depth=None, max_features=2, min_samples_leaf=2, min_samples_split=3, n_estimators=200 \n",
      "[CV] bootstrap=True, max_depth=None, max_features=2, min_samples_leaf=2, min_samples_split=3, n_estimators=300 \n",
      "[CV] bootstrap=True, max_depth=None, max_features=2, min_samples_leaf=2, min_samples_split=3, n_estimators=300 \n",
      "[CV]  bootstrap=True, max_depth=None, max_features=2, min_samples_leaf=2, min_samples_split=3, n_estimators=100, total=   1.2s\n",
      "[CV] bootstrap=True, max_depth=None, max_features=2, min_samples_leaf=2, min_samples_split=3, n_estimators=300 \n",
      "[CV]  bootstrap=True, max_depth=None, max_features=2, min_samples_leaf=2, min_samples_split=3, n_estimators=100, total=   1.3s\n",
      "[CV] bootstrap=True, max_depth=None, max_features=2, min_samples_leaf=2, min_samples_split=3, n_estimators=1000 \n",
      "[CV]  bootstrap=True, max_depth=None, max_features=2, min_samples_leaf=2, min_samples_split=3, n_estimators=100, total=   1.3s\n",
      "[CV] bootstrap=True, max_depth=None, max_features=2, min_samples_leaf=2, min_samples_split=3, n_estimators=1000 \n",
      "[CV]  bootstrap=True, max_depth=None, max_features=2, min_samples_leaf=2, min_samples_split=3, n_estimators=200, total=   2.5s\n",
      "[CV] bootstrap=True, max_depth=None, max_features=2, min_samples_leaf=2, min_samples_split=3, n_estimators=1000 \n",
      "[CV]  bootstrap=True, max_depth=None, max_features=2, min_samples_leaf=2, min_samples_split=3, n_estimators=200, total=   2.5s\n",
      "[CV] bootstrap=True, max_depth=None, max_features=2, min_samples_leaf=2, min_samples_split=5, n_estimators=100 \n",
      "[CV]  bootstrap=True, max_depth=None, max_features=2, min_samples_leaf=2, min_samples_split=3, n_estimators=200, total=   2.5s\n",
      "[CV] bootstrap=True, max_depth=None, max_features=2, min_samples_leaf=2, min_samples_split=5, n_estimators=100 \n",
      "[CV]  bootstrap=True, max_depth=None, max_features=2, min_samples_leaf=2, min_samples_split=5, n_estimators=100, total=   1.1s\n",
      "[CV] bootstrap=True, max_depth=None, max_features=2, min_samples_leaf=2, min_samples_split=5, n_estimators=100 \n",
      "[CV]  bootstrap=True, max_depth=None, max_features=2, min_samples_leaf=2, min_samples_split=3, n_estimators=300, total=   3.7s\n",
      "[CV]  bootstrap=True, max_depth=None, max_features=2, min_samples_leaf=2, min_samples_split=5, n_estimators=100, total=   1.1s\n",
      "[CV] bootstrap=True, max_depth=None, max_features=2, min_samples_leaf=2, min_samples_split=5, n_estimators=200 \n",
      "[CV] bootstrap=True, max_depth=None, max_features=2, min_samples_leaf=2, min_samples_split=5, n_estimators=200 \n",
      "[CV]  bootstrap=True, max_depth=None, max_features=2, min_samples_leaf=2, min_samples_split=3, n_estimators=300, total=   3.7s\n",
      "[CV] bootstrap=True, max_depth=None, max_features=2, min_samples_leaf=2, min_samples_split=5, n_estimators=200 \n",
      "[CV]  bootstrap=True, max_depth=None, max_features=2, min_samples_leaf=2, min_samples_split=3, n_estimators=300, total=   3.6s\n",
      "[CV] bootstrap=True, max_depth=None, max_features=2, min_samples_leaf=2, min_samples_split=5, n_estimators=300 \n",
      "[CV]  bootstrap=True, max_depth=None, max_features=2, min_samples_leaf=2, min_samples_split=5, n_estimators=100, total=   1.2s\n",
      "[CV] bootstrap=True, max_depth=None, max_features=2, min_samples_leaf=2, min_samples_split=5, n_estimators=300 \n",
      "[CV]  bootstrap=True, max_depth=None, max_features=2, min_samples_leaf=2, min_samples_split=5, n_estimators=200, total=   2.3s\n",
      "[CV] bootstrap=True, max_depth=None, max_features=2, min_samples_leaf=2, min_samples_split=5, n_estimators=300 \n",
      "[CV]  bootstrap=True, max_depth=None, max_features=2, min_samples_leaf=2, min_samples_split=5, n_estimators=200, total=   2.3s\n",
      "[CV] bootstrap=True, max_depth=None, max_features=2, min_samples_leaf=2, min_samples_split=5, n_estimators=1000 \n",
      "[CV]  bootstrap=True, max_depth=None, max_features=2, min_samples_leaf=2, min_samples_split=5, n_estimators=200, total=   2.3s\n",
      "[CV] bootstrap=True, max_depth=None, max_features=2, min_samples_leaf=2, min_samples_split=5, n_estimators=1000 \n",
      "[CV]  bootstrap=True, max_depth=None, max_features=2, min_samples_leaf=2, min_samples_split=5, n_estimators=300, total=   3.3s\n",
      "[CV] bootstrap=True, max_depth=None, max_features=2, min_samples_leaf=2, min_samples_split=5, n_estimators=1000 \n",
      "[CV]  bootstrap=True, max_depth=None, max_features=2, min_samples_leaf=2, min_samples_split=5, n_estimators=300, total=   3.3s\n",
      "[CV] bootstrap=True, max_depth=None, max_features=2, min_samples_leaf=2, min_samples_split=7, n_estimators=100 \n",
      "[CV]  bootstrap=True, max_depth=None, max_features=2, min_samples_leaf=2, min_samples_split=5, n_estimators=300, total=   3.3s\n",
      "[CV] bootstrap=True, max_depth=None, max_features=2, min_samples_leaf=2, min_samples_split=7, n_estimators=100 \n",
      "[CV]  bootstrap=True, max_depth=None, max_features=2, min_samples_leaf=2, min_samples_split=7, n_estimators=100, total=   1.1s\n",
      "[CV] bootstrap=True, max_depth=None, max_features=2, min_samples_leaf=2, min_samples_split=7, n_estimators=100 \n",
      "[CV]  bootstrap=True, max_depth=None, max_features=2, min_samples_leaf=2, min_samples_split=7, n_estimators=100, total=   1.2s\n",
      "[CV] bootstrap=True, max_depth=None, max_features=2, min_samples_leaf=2, min_samples_split=7, n_estimators=200 \n",
      "[CV]  bootstrap=True, max_depth=None, max_features=2, min_samples_leaf=2, min_samples_split=7, n_estimators=100, total=   1.2s\n",
      "[CV] bootstrap=True, max_depth=None, max_features=2, min_samples_leaf=2, min_samples_split=7, n_estimators=200 \n",
      "[CV]  bootstrap=True, max_depth=None, max_features=2, min_samples_leaf=2, min_samples_split=7, n_estimators=200, total=   2.4s\n",
      "[CV]  bootstrap=True, max_depth=None, max_features=2, min_samples_leaf=2, min_samples_split=7, n_estimators=200, total=   2.4s\n",
      "[CV] bootstrap=True, max_depth=None, max_features=2, min_samples_leaf=2, min_samples_split=7, n_estimators=200 \n",
      "[CV] bootstrap=True, max_depth=None, max_features=2, min_samples_leaf=2, min_samples_split=7, n_estimators=300 \n",
      "[CV]  bootstrap=True, max_depth=None, max_features=2, min_samples_leaf=2, min_samples_split=3, n_estimators=1000, total=  11.8s\n",
      "[CV] bootstrap=True, max_depth=None, max_features=2, min_samples_leaf=2, min_samples_split=7, n_estimators=300 \n",
      "[CV]  bootstrap=True, max_depth=None, max_features=2, min_samples_leaf=2, min_samples_split=3, n_estimators=1000, total=  11.9s\n",
      "[CV] bootstrap=True, max_depth=None, max_features=2, min_samples_leaf=2, min_samples_split=7, n_estimators=300 \n"
     ]
    },
    {
     "name": "stderr",
     "output_type": "stream",
     "text": [
      "[Parallel(n_jobs=-1)]: Done  25 tasks      | elapsed:   15.8s\n"
     ]
    },
    {
     "name": "stdout",
     "output_type": "stream",
     "text": [
      "[CV]  bootstrap=True, max_depth=None, max_features=2, min_samples_leaf=2, min_samples_split=3, n_estimators=1000, total=  11.9s\n",
      "[CV] bootstrap=True, max_depth=None, max_features=2, min_samples_leaf=2, min_samples_split=7, n_estimators=1000 \n",
      "[CV]  bootstrap=True, max_depth=None, max_features=2, min_samples_leaf=2, min_samples_split=7, n_estimators=200, total=   2.6s\n",
      "[CV] bootstrap=True, max_depth=None, max_features=2, min_samples_leaf=2, min_samples_split=7, n_estimators=1000 \n",
      "[CV]  bootstrap=True, max_depth=None, max_features=2, min_samples_leaf=2, min_samples_split=7, n_estimators=300, total=   3.9s\n",
      "[CV] bootstrap=True, max_depth=None, max_features=2, min_samples_leaf=2, min_samples_split=7, n_estimators=1000 \n",
      "[CV]  bootstrap=True, max_depth=None, max_features=2, min_samples_leaf=2, min_samples_split=7, n_estimators=300, total=   4.0s\n",
      "[CV] bootstrap=True, max_depth=None, max_features=2, min_samples_leaf=3, min_samples_split=3, n_estimators=100 \n",
      "[CV]  bootstrap=True, max_depth=None, max_features=2, min_samples_leaf=2, min_samples_split=7, n_estimators=300, total=   4.1s\n",
      "[CV] bootstrap=True, max_depth=None, max_features=2, min_samples_leaf=3, min_samples_split=3, n_estimators=100 \n",
      "[CV]  bootstrap=True, max_depth=None, max_features=2, min_samples_leaf=3, min_samples_split=3, n_estimators=100, total=   1.0s\n",
      "[CV] bootstrap=True, max_depth=None, max_features=2, min_samples_leaf=3, min_samples_split=3, n_estimators=100 \n",
      "[CV]  bootstrap=True, max_depth=None, max_features=2, min_samples_leaf=2, min_samples_split=5, n_estimators=1000, total=  12.4s\n",
      "[CV]  bootstrap=True, max_depth=None, max_features=2, min_samples_leaf=3, min_samples_split=3, n_estimators=100, total=   1.1s\n",
      "[CV] bootstrap=True, max_depth=None, max_features=2, min_samples_leaf=3, min_samples_split=3, n_estimators=200 \n",
      "[CV] bootstrap=True, max_depth=None, max_features=2, min_samples_leaf=3, min_samples_split=3, n_estimators=200 \n",
      "[CV]  bootstrap=True, max_depth=None, max_features=2, min_samples_leaf=2, min_samples_split=5, n_estimators=1000, total=  12.6s\n",
      "[CV] bootstrap=True, max_depth=None, max_features=2, min_samples_leaf=3, min_samples_split=3, n_estimators=200 \n",
      "[CV]  bootstrap=True, max_depth=None, max_features=2, min_samples_leaf=3, min_samples_split=3, n_estimators=100, total=   1.1s\n",
      "[CV] bootstrap=True, max_depth=None, max_features=2, min_samples_leaf=3, min_samples_split=3, n_estimators=300 \n",
      "[CV]  bootstrap=True, max_depth=None, max_features=2, min_samples_leaf=3, min_samples_split=3, n_estimators=200, total=   1.9s\n",
      "[CV] bootstrap=True, max_depth=None, max_features=2, min_samples_leaf=3, min_samples_split=3, n_estimators=300 \n",
      "[CV]  bootstrap=True, max_depth=None, max_features=2, min_samples_leaf=3, min_samples_split=3, n_estimators=200, total=   2.0s\n",
      "[CV] bootstrap=True, max_depth=None, max_features=2, min_samples_leaf=3, min_samples_split=3, n_estimators=300 \n",
      "[CV]  bootstrap=True, max_depth=None, max_features=2, min_samples_leaf=2, min_samples_split=5, n_estimators=1000, total=  12.8s\n",
      "[CV] bootstrap=True, max_depth=None, max_features=2, min_samples_leaf=3, min_samples_split=3, n_estimators=1000 \n",
      "[CV]  bootstrap=True, max_depth=None, max_features=2, min_samples_leaf=3, min_samples_split=3, n_estimators=200, total=   2.0s\n",
      "[CV] bootstrap=True, max_depth=None, max_features=2, min_samples_leaf=3, min_samples_split=3, n_estimators=1000 \n",
      "[CV]  bootstrap=True, max_depth=None, max_features=2, min_samples_leaf=3, min_samples_split=3, n_estimators=300, total=   3.0s\n",
      "[CV] bootstrap=True, max_depth=None, max_features=2, min_samples_leaf=3, min_samples_split=3, n_estimators=1000 \n",
      "[CV]  bootstrap=True, max_depth=None, max_features=2, min_samples_leaf=3, min_samples_split=3, n_estimators=300, total=   3.0s\n",
      "[CV] bootstrap=True, max_depth=None, max_features=2, min_samples_leaf=3, min_samples_split=5, n_estimators=100 \n",
      "[CV]  bootstrap=True, max_depth=None, max_features=2, min_samples_leaf=3, min_samples_split=3, n_estimators=300, total=   3.0s\n",
      "[CV] bootstrap=True, max_depth=None, max_features=2, min_samples_leaf=3, min_samples_split=5, n_estimators=100 \n",
      "[CV]  bootstrap=True, max_depth=None, max_features=2, min_samples_leaf=3, min_samples_split=5, n_estimators=100, total=   1.1s\n",
      "[CV] bootstrap=True, max_depth=None, max_features=2, min_samples_leaf=3, min_samples_split=5, n_estimators=100 \n",
      "[CV]  bootstrap=True, max_depth=None, max_features=2, min_samples_leaf=3, min_samples_split=5, n_estimators=100, total=   1.1s\n",
      "[CV] bootstrap=True, max_depth=None, max_features=2, min_samples_leaf=3, min_samples_split=5, n_estimators=200 \n",
      "[CV]  bootstrap=True, max_depth=None, max_features=2, min_samples_leaf=3, min_samples_split=5, n_estimators=100, total=   1.1s\n",
      "[CV] bootstrap=True, max_depth=None, max_features=2, min_samples_leaf=3, min_samples_split=5, n_estimators=200 \n",
      "[CV]  bootstrap=True, max_depth=None, max_features=2, min_samples_leaf=2, min_samples_split=7, n_estimators=1000, total=  12.3s\n",
      "[CV] bootstrap=True, max_depth=None, max_features=2, min_samples_leaf=3, min_samples_split=5, n_estimators=200 \n",
      "[CV]  bootstrap=True, max_depth=None, max_features=2, min_samples_leaf=3, min_samples_split=5, n_estimators=200, total=   2.0s\n",
      "[CV] bootstrap=True, max_depth=None, max_features=2, min_samples_leaf=3, min_samples_split=5, n_estimators=300 \n",
      "[CV]  bootstrap=True, max_depth=None, max_features=2, min_samples_leaf=3, min_samples_split=5, n_estimators=200, total=   1.9s\n",
      "[CV]  bootstrap=True, max_depth=None, max_features=2, min_samples_leaf=2, min_samples_split=7, n_estimators=1000, total=  12.1s\n",
      "[CV] bootstrap=True, max_depth=None, max_features=2, min_samples_leaf=3, min_samples_split=5, n_estimators=300 \n",
      "[CV] bootstrap=True, max_depth=None, max_features=2, min_samples_leaf=3, min_samples_split=5, n_estimators=300 \n",
      "[CV]  bootstrap=True, max_depth=None, max_features=2, min_samples_leaf=3, min_samples_split=5, n_estimators=200, total=   1.9s\n",
      "[CV] bootstrap=True, max_depth=None, max_features=2, min_samples_leaf=3, min_samples_split=5, n_estimators=1000 \n",
      "[CV]  bootstrap=True, max_depth=None, max_features=2, min_samples_leaf=2, min_samples_split=7, n_estimators=1000, total=  11.7s\n",
      "[CV] bootstrap=True, max_depth=None, max_features=2, min_samples_leaf=3, min_samples_split=5, n_estimators=1000 \n",
      "[CV]  bootstrap=True, max_depth=None, max_features=2, min_samples_leaf=3, min_samples_split=5, n_estimators=300, total=   2.9s\n",
      "[CV] bootstrap=True, max_depth=None, max_features=2, min_samples_leaf=3, min_samples_split=5, n_estimators=1000 \n",
      "[CV]  bootstrap=True, max_depth=None, max_features=2, min_samples_leaf=3, min_samples_split=5, n_estimators=300, total=   2.9s\n",
      "[CV] bootstrap=True, max_depth=None, max_features=2, min_samples_leaf=3, min_samples_split=7, n_estimators=100 \n",
      "[CV]  bootstrap=True, max_depth=None, max_features=2, min_samples_leaf=3, min_samples_split=5, n_estimators=300, total=   2.9s\n",
      "[CV] bootstrap=True, max_depth=None, max_features=2, min_samples_leaf=3, min_samples_split=7, n_estimators=100 \n",
      "[CV]  bootstrap=True, max_depth=None, max_features=2, min_samples_leaf=3, min_samples_split=3, n_estimators=1000, total=  10.1s\n",
      "[CV] bootstrap=True, max_depth=None, max_features=2, min_samples_leaf=3, min_samples_split=7, n_estimators=100 \n",
      "[CV]  bootstrap=True, max_depth=None, max_features=2, min_samples_leaf=3, min_samples_split=3, n_estimators=1000, total=  10.1s\n",
      "[CV] bootstrap=True, max_depth=None, max_features=2, min_samples_leaf=3, min_samples_split=7, n_estimators=200 \n",
      "[CV]  bootstrap=True, max_depth=None, max_features=2, min_samples_leaf=3, min_samples_split=7, n_estimators=100, total=   1.0s\n",
      "[CV] bootstrap=True, max_depth=None, max_features=2, min_samples_leaf=3, min_samples_split=7, n_estimators=200 \n",
      "[CV]  bootstrap=True, max_depth=None, max_features=2, min_samples_leaf=3, min_samples_split=7, n_estimators=100, total=   1.0s\n",
      "[CV] bootstrap=True, max_depth=None, max_features=2, min_samples_leaf=3, min_samples_split=7, n_estimators=200 \n",
      "[CV]  bootstrap=True, max_depth=None, max_features=2, min_samples_leaf=3, min_samples_split=7, n_estimators=100, total=   1.0s\n",
      "[CV] bootstrap=True, max_depth=None, max_features=2, min_samples_leaf=3, min_samples_split=7, n_estimators=300 \n",
      "[CV]  bootstrap=True, max_depth=None, max_features=2, min_samples_leaf=3, min_samples_split=3, n_estimators=1000, total=  10.1s\n"
     ]
    },
    {
     "name": "stdout",
     "output_type": "stream",
     "text": [
      "[CV] bootstrap=True, max_depth=None, max_features=2, min_samples_leaf=3, min_samples_split=7, n_estimators=300 \n",
      "[CV]  bootstrap=True, max_depth=None, max_features=2, min_samples_leaf=3, min_samples_split=7, n_estimators=200, total=   2.0s\n",
      "[CV] bootstrap=True, max_depth=None, max_features=2, min_samples_leaf=3, min_samples_split=7, n_estimators=300 \n",
      "[CV]  bootstrap=True, max_depth=None, max_features=2, min_samples_leaf=3, min_samples_split=7, n_estimators=200, total=   2.0s\n",
      "[CV] bootstrap=True, max_depth=None, max_features=2, min_samples_leaf=3, min_samples_split=7, n_estimators=1000 \n",
      "[CV]  bootstrap=True, max_depth=None, max_features=2, min_samples_leaf=3, min_samples_split=7, n_estimators=200, total=   2.0s\n",
      "[CV] bootstrap=True, max_depth=None, max_features=2, min_samples_leaf=3, min_samples_split=7, n_estimators=1000 \n",
      "[CV]  bootstrap=True, max_depth=None, max_features=2, min_samples_leaf=3, min_samples_split=7, n_estimators=300, total=   3.0s\n",
      "[CV] bootstrap=True, max_depth=None, max_features=2, min_samples_leaf=3, min_samples_split=7, n_estimators=1000 \n",
      "[CV]  bootstrap=True, max_depth=None, max_features=2, min_samples_leaf=3, min_samples_split=7, n_estimators=300, total=   3.0s\n",
      "[CV] bootstrap=True, max_depth=None, max_features=2, min_samples_leaf=4, min_samples_split=3, n_estimators=100 \n",
      "[CV]  bootstrap=True, max_depth=None, max_features=2, min_samples_leaf=3, min_samples_split=7, n_estimators=300, total=   3.0s\n",
      "[CV] bootstrap=True, max_depth=None, max_features=2, min_samples_leaf=4, min_samples_split=3, n_estimators=100 \n",
      "[CV]  bootstrap=True, max_depth=None, max_features=2, min_samples_leaf=4, min_samples_split=3, n_estimators=100, total=   0.9s\n",
      "[CV] bootstrap=True, max_depth=None, max_features=2, min_samples_leaf=4, min_samples_split=3, n_estimators=100 \n",
      "[CV]  bootstrap=True, max_depth=None, max_features=2, min_samples_leaf=4, min_samples_split=3, n_estimators=100, total=   0.9s\n",
      "[CV] bootstrap=True, max_depth=None, max_features=2, min_samples_leaf=4, min_samples_split=3, n_estimators=200 \n",
      "[CV]  bootstrap=True, max_depth=None, max_features=2, min_samples_leaf=4, min_samples_split=3, n_estimators=100, total=   0.9s\n",
      "[CV] bootstrap=True, max_depth=None, max_features=2, min_samples_leaf=4, min_samples_split=3, n_estimators=200 \n",
      "[CV]  bootstrap=True, max_depth=None, max_features=2, min_samples_leaf=3, min_samples_split=5, n_estimators=1000, total=  10.1s\n",
      "[CV]  bootstrap=True, max_depth=None, max_features=2, min_samples_leaf=4, min_samples_split=3, n_estimators=200, total=   1.8s\n",
      "[CV] bootstrap=True, max_depth=None, max_features=2, min_samples_leaf=4, min_samples_split=3, n_estimators=200 \n",
      "[CV] bootstrap=True, max_depth=None, max_features=2, min_samples_leaf=4, min_samples_split=3, n_estimators=300 \n",
      "[CV]  bootstrap=True, max_depth=None, max_features=2, min_samples_leaf=3, min_samples_split=5, n_estimators=1000, total=  10.0s\n",
      "[CV] bootstrap=True, max_depth=None, max_features=2, min_samples_leaf=4, min_samples_split=3, n_estimators=300 \n",
      "[CV]  bootstrap=True, max_depth=None, max_features=2, min_samples_leaf=4, min_samples_split=3, n_estimators=200, total=   1.7s\n",
      "[CV] bootstrap=True, max_depth=None, max_features=2, min_samples_leaf=4, min_samples_split=3, n_estimators=300 \n",
      "[CV]  bootstrap=True, max_depth=None, max_features=2, min_samples_leaf=3, min_samples_split=5, n_estimators=1000, total=   9.9s\n",
      "[CV] bootstrap=True, max_depth=None, max_features=2, min_samples_leaf=4, min_samples_split=3, n_estimators=1000 \n",
      "[CV]  bootstrap=True, max_depth=None, max_features=2, min_samples_leaf=4, min_samples_split=3, n_estimators=200, total=   2.0s\n",
      "[CV] bootstrap=True, max_depth=None, max_features=2, min_samples_leaf=4, min_samples_split=3, n_estimators=1000 \n",
      "[CV]  bootstrap=True, max_depth=None, max_features=2, min_samples_leaf=4, min_samples_split=3, n_estimators=300, total=   3.2s\n",
      "[CV]  bootstrap=True, max_depth=None, max_features=2, min_samples_leaf=4, min_samples_split=3, n_estimators=300, total=   3.1s\n",
      "[CV] bootstrap=True, max_depth=None, max_features=2, min_samples_leaf=4, min_samples_split=3, n_estimators=1000 \n",
      "[CV] bootstrap=True, max_depth=None, max_features=2, min_samples_leaf=4, min_samples_split=5, n_estimators=100 \n",
      "[CV]  bootstrap=True, max_depth=None, max_features=2, min_samples_leaf=4, min_samples_split=3, n_estimators=300, total=   3.2s\n",
      "[CV] bootstrap=True, max_depth=None, max_features=2, min_samples_leaf=4, min_samples_split=5, n_estimators=100 \n",
      "[CV]  bootstrap=True, max_depth=None, max_features=2, min_samples_leaf=4, min_samples_split=5, n_estimators=100, total=   0.9s\n",
      "[CV] bootstrap=True, max_depth=None, max_features=2, min_samples_leaf=4, min_samples_split=5, n_estimators=100 \n",
      "[CV]  bootstrap=True, max_depth=None, max_features=2, min_samples_leaf=4, min_samples_split=5, n_estimators=100, total=   0.9s\n",
      "[CV] bootstrap=True, max_depth=None, max_features=2, min_samples_leaf=4, min_samples_split=5, n_estimators=200 \n",
      "[CV]  bootstrap=True, max_depth=None, max_features=2, min_samples_leaf=4, min_samples_split=5, n_estimators=100, total=   0.9s\n",
      "[CV] bootstrap=True, max_depth=None, max_features=2, min_samples_leaf=4, min_samples_split=5, n_estimators=200 \n",
      "[CV]  bootstrap=True, max_depth=None, max_features=2, min_samples_leaf=3, min_samples_split=7, n_estimators=1000, total=  10.2s\n",
      "[CV] bootstrap=True, max_depth=None, max_features=2, min_samples_leaf=4, min_samples_split=5, n_estimators=200 \n",
      "[CV]  bootstrap=True, max_depth=None, max_features=2, min_samples_leaf=3, min_samples_split=7, n_estimators=1000, total=  10.4s\n",
      "[CV] bootstrap=True, max_depth=None, max_features=2, min_samples_leaf=4, min_samples_split=5, n_estimators=300 \n",
      "[CV]  bootstrap=True, max_depth=None, max_features=2, min_samples_leaf=4, min_samples_split=5, n_estimators=200, total=   1.7s\n",
      "[CV] bootstrap=True, max_depth=None, max_features=2, min_samples_leaf=4, min_samples_split=5, n_estimators=300 \n",
      "[CV]  bootstrap=True, max_depth=None, max_features=2, min_samples_leaf=3, min_samples_split=7, n_estimators=1000, total=  10.3s\n",
      "[CV] bootstrap=True, max_depth=None, max_features=2, min_samples_leaf=4, min_samples_split=5, n_estimators=300 \n",
      "[CV]  bootstrap=True, max_depth=None, max_features=2, min_samples_leaf=4, min_samples_split=5, n_estimators=200, total=   1.7s\n",
      "[CV] bootstrap=True, max_depth=None, max_features=2, min_samples_leaf=4, min_samples_split=5, n_estimators=1000 \n",
      "[CV]  bootstrap=True, max_depth=None, max_features=2, min_samples_leaf=4, min_samples_split=5, n_estimators=200, total=   1.7s\n",
      "[CV] bootstrap=True, max_depth=None, max_features=2, min_samples_leaf=4, min_samples_split=5, n_estimators=1000 \n",
      "[CV]  bootstrap=True, max_depth=None, max_features=2, min_samples_leaf=4, min_samples_split=5, n_estimators=300, total=   2.6s\n",
      "[CV] bootstrap=True, max_depth=None, max_features=2, min_samples_leaf=4, min_samples_split=5, n_estimators=1000 \n",
      "[CV]  bootstrap=True, max_depth=None, max_features=2, min_samples_leaf=4, min_samples_split=5, n_estimators=300, total=   2.7s\n",
      "[CV] bootstrap=True, max_depth=None, max_features=2, min_samples_leaf=4, min_samples_split=7, n_estimators=100 \n",
      "[CV]  bootstrap=True, max_depth=None, max_features=2, min_samples_leaf=4, min_samples_split=5, n_estimators=300, total=   2.8s\n",
      "[CV] bootstrap=True, max_depth=None, max_features=2, min_samples_leaf=4, min_samples_split=7, n_estimators=100 \n",
      "[CV]  bootstrap=True, max_depth=None, max_features=2, min_samples_leaf=4, min_samples_split=7, n_estimators=100, total=   1.0s\n",
      "[CV] bootstrap=True, max_depth=None, max_features=2, min_samples_leaf=4, min_samples_split=7, n_estimators=100 \n",
      "[CV]  bootstrap=True, max_depth=None, max_features=2, min_samples_leaf=4, min_samples_split=7, n_estimators=100, total=   1.0s\n",
      "[CV] bootstrap=True, max_depth=None, max_features=2, min_samples_leaf=4, min_samples_split=7, n_estimators=200 \n",
      "[CV]  bootstrap=True, max_depth=None, max_features=2, min_samples_leaf=4, min_samples_split=3, n_estimators=1000, total=   9.4s\n",
      "[CV] bootstrap=True, max_depth=None, max_features=2, min_samples_leaf=4, min_samples_split=7, n_estimators=200 \n",
      "[CV]  bootstrap=True, max_depth=None, max_features=2, min_samples_leaf=4, min_samples_split=7, n_estimators=100, total=   1.1s\n",
      "[CV] bootstrap=True, max_depth=None, max_features=2, min_samples_leaf=4, min_samples_split=7, n_estimators=200 \n"
     ]
    },
    {
     "name": "stdout",
     "output_type": "stream",
     "text": [
      "[CV]  bootstrap=True, max_depth=None, max_features=2, min_samples_leaf=4, min_samples_split=3, n_estimators=1000, total=   9.2s\n",
      "[CV] bootstrap=True, max_depth=None, max_features=2, min_samples_leaf=4, min_samples_split=7, n_estimators=300 \n",
      "[CV]  bootstrap=True, max_depth=None, max_features=2, min_samples_leaf=4, min_samples_split=7, n_estimators=200, total=   2.2s\n",
      "[CV] bootstrap=True, max_depth=None, max_features=2, min_samples_leaf=4, min_samples_split=7, n_estimators=300 \n",
      "[CV]  bootstrap=True, max_depth=None, max_features=2, min_samples_leaf=4, min_samples_split=3, n_estimators=1000, total=   9.2s\n",
      "[CV] bootstrap=True, max_depth=None, max_features=2, min_samples_leaf=4, min_samples_split=7, n_estimators=300 \n",
      "[CV]  bootstrap=True, max_depth=None, max_features=2, min_samples_leaf=4, min_samples_split=7, n_estimators=200, total=   2.1s\n",
      "[CV] bootstrap=True, max_depth=None, max_features=2, min_samples_leaf=4, min_samples_split=7, n_estimators=1000 \n",
      "[CV]  bootstrap=True, max_depth=None, max_features=2, min_samples_leaf=4, min_samples_split=7, n_estimators=200, total=   2.3s\n",
      "[CV] bootstrap=True, max_depth=None, max_features=2, min_samples_leaf=4, min_samples_split=7, n_estimators=1000 \n",
      "[CV]  bootstrap=True, max_depth=None, max_features=2, min_samples_leaf=4, min_samples_split=7, n_estimators=300, total=   3.3s\n",
      "[CV] bootstrap=True, max_depth=None, max_features=2, min_samples_leaf=4, min_samples_split=7, n_estimators=1000 \n",
      "[CV]  bootstrap=True, max_depth=None, max_features=2, min_samples_leaf=4, min_samples_split=7, n_estimators=300, total=   3.1s\n",
      "[CV] bootstrap=True, max_depth=None, max_features=3, min_samples_leaf=2, min_samples_split=3, n_estimators=100 \n",
      "[CV]  bootstrap=True, max_depth=None, max_features=2, min_samples_leaf=4, min_samples_split=7, n_estimators=300, total=   3.2s\n",
      "[CV] bootstrap=True, max_depth=None, max_features=3, min_samples_leaf=2, min_samples_split=3, n_estimators=100 \n",
      "[CV]  bootstrap=True, max_depth=None, max_features=2, min_samples_leaf=4, min_samples_split=5, n_estimators=1000, total=  10.1s\n",
      "[CV] bootstrap=True, max_depth=None, max_features=3, min_samples_leaf=2, min_samples_split=3, n_estimators=100 \n",
      "[CV]  bootstrap=True, max_depth=None, max_features=2, min_samples_leaf=4, min_samples_split=5, n_estimators=1000, total=  10.3s\n",
      "[CV] bootstrap=True, max_depth=None, max_features=3, min_samples_leaf=2, min_samples_split=3, n_estimators=200 \n",
      "[CV]  bootstrap=True, max_depth=None, max_features=3, min_samples_leaf=2, min_samples_split=3, n_estimators=100, total=   1.7s\n",
      "[CV] bootstrap=True, max_depth=None, max_features=3, min_samples_leaf=2, min_samples_split=3, n_estimators=200 \n",
      "[CV]  bootstrap=True, max_depth=None, max_features=3, min_samples_leaf=2, min_samples_split=3, n_estimators=100, total=   1.6s\n",
      "[CV] bootstrap=True, max_depth=None, max_features=3, min_samples_leaf=2, min_samples_split=3, n_estimators=200 \n",
      "[CV]  bootstrap=True, max_depth=None, max_features=2, min_samples_leaf=4, min_samples_split=5, n_estimators=1000, total=  10.6s\n",
      "[CV] bootstrap=True, max_depth=None, max_features=3, min_samples_leaf=2, min_samples_split=3, n_estimators=300 \n",
      "[CV]  bootstrap=True, max_depth=None, max_features=3, min_samples_leaf=2, min_samples_split=3, n_estimators=100, total=   1.6s\n",
      "[CV] bootstrap=True, max_depth=None, max_features=3, min_samples_leaf=2, min_samples_split=3, n_estimators=300 \n",
      "[CV]  bootstrap=True, max_depth=None, max_features=3, min_samples_leaf=2, min_samples_split=3, n_estimators=200, total=   3.3s\n",
      "[CV] bootstrap=True, max_depth=None, max_features=3, min_samples_leaf=2, min_samples_split=3, n_estimators=300 \n",
      "[CV]  bootstrap=True, max_depth=None, max_features=3, min_samples_leaf=2, min_samples_split=3, n_estimators=200, total=   3.2s\n",
      "[CV] bootstrap=True, max_depth=None, max_features=3, min_samples_leaf=2, min_samples_split=3, n_estimators=1000 \n",
      "[CV]  bootstrap=True, max_depth=None, max_features=3, min_samples_leaf=2, min_samples_split=3, n_estimators=200, total=   3.2s\n",
      "[CV] bootstrap=True, max_depth=None, max_features=3, min_samples_leaf=2, min_samples_split=3, n_estimators=1000 \n",
      "[CV]  bootstrap=True, max_depth=None, max_features=2, min_samples_leaf=4, min_samples_split=7, n_estimators=1000, total=   9.8s\n",
      "[CV] bootstrap=True, max_depth=None, max_features=3, min_samples_leaf=2, min_samples_split=3, n_estimators=1000 \n",
      "[CV]  bootstrap=True, max_depth=None, max_features=3, min_samples_leaf=2, min_samples_split=3, n_estimators=300, total=   4.5s\n",
      "[CV] bootstrap=True, max_depth=None, max_features=3, min_samples_leaf=2, min_samples_split=5, n_estimators=100 \n",
      "[CV]  bootstrap=True, max_depth=None, max_features=3, min_samples_leaf=2, min_samples_split=3, n_estimators=300, total=   4.5s\n",
      "[CV] bootstrap=True, max_depth=None, max_features=3, min_samples_leaf=2, min_samples_split=5, n_estimators=100 \n",
      "[CV]  bootstrap=True, max_depth=None, max_features=2, min_samples_leaf=4, min_samples_split=7, n_estimators=1000, total=   9.7s\n",
      "[CV] bootstrap=True, max_depth=None, max_features=3, min_samples_leaf=2, min_samples_split=5, n_estimators=100 \n",
      "[CV]  bootstrap=True, max_depth=None, max_features=2, min_samples_leaf=4, min_samples_split=7, n_estimators=1000, total=   9.6s\n",
      "[CV] bootstrap=True, max_depth=None, max_features=3, min_samples_leaf=2, min_samples_split=5, n_estimators=200 \n",
      "[CV]  bootstrap=True, max_depth=None, max_features=3, min_samples_leaf=2, min_samples_split=5, n_estimators=100, total=   1.5s\n",
      "[CV] bootstrap=True, max_depth=None, max_features=3, min_samples_leaf=2, min_samples_split=5, n_estimators=200 \n",
      "[CV]  bootstrap=True, max_depth=None, max_features=3, min_samples_leaf=2, min_samples_split=5, n_estimators=100, total=   1.5s\n",
      "[CV] bootstrap=True, max_depth=None, max_features=3, min_samples_leaf=2, min_samples_split=5, n_estimators=200 \n",
      "[CV]  bootstrap=True, max_depth=None, max_features=3, min_samples_leaf=2, min_samples_split=5, n_estimators=100, total=   1.5s\n",
      "[CV] bootstrap=True, max_depth=None, max_features=3, min_samples_leaf=2, min_samples_split=5, n_estimators=300 \n",
      "[CV]  bootstrap=True, max_depth=None, max_features=3, min_samples_leaf=2, min_samples_split=3, n_estimators=300, total=   4.5s\n",
      "[CV] bootstrap=True, max_depth=None, max_features=3, min_samples_leaf=2, min_samples_split=5, n_estimators=300 \n",
      "[CV]  bootstrap=True, max_depth=None, max_features=3, min_samples_leaf=2, min_samples_split=5, n_estimators=200, total=   3.5s\n",
      "[CV] bootstrap=True, max_depth=None, max_features=3, min_samples_leaf=2, min_samples_split=5, n_estimators=300 \n",
      "[CV]  bootstrap=True, max_depth=None, max_features=3, min_samples_leaf=2, min_samples_split=5, n_estimators=200, total=   3.4s\n",
      "[CV] bootstrap=True, max_depth=None, max_features=3, min_samples_leaf=2, min_samples_split=5, n_estimators=1000 \n",
      "[CV]  bootstrap=True, max_depth=None, max_features=3, min_samples_leaf=2, min_samples_split=5, n_estimators=200, total=   3.4s\n",
      "[CV] bootstrap=True, max_depth=None, max_features=3, min_samples_leaf=2, min_samples_split=5, n_estimators=1000 \n",
      "[CV]  bootstrap=True, max_depth=None, max_features=3, min_samples_leaf=2, min_samples_split=5, n_estimators=300, total=   5.0s\n",
      "[CV] bootstrap=True, max_depth=None, max_features=3, min_samples_leaf=2, min_samples_split=5, n_estimators=1000 \n",
      "[CV]  bootstrap=True, max_depth=None, max_features=3, min_samples_leaf=2, min_samples_split=5, n_estimators=300, total=   5.0s\n",
      "[CV] bootstrap=True, max_depth=None, max_features=3, min_samples_leaf=2, min_samples_split=7, n_estimators=100 \n",
      "[CV]  bootstrap=True, max_depth=None, max_features=3, min_samples_leaf=2, min_samples_split=7, n_estimators=100, total=   1.3s\n",
      "[CV] bootstrap=True, max_depth=None, max_features=3, min_samples_leaf=2, min_samples_split=7, n_estimators=100 \n",
      "[CV]  bootstrap=True, max_depth=None, max_features=3, min_samples_leaf=2, min_samples_split=5, n_estimators=300, total=   4.6s\n",
      "[CV] bootstrap=True, max_depth=None, max_features=3, min_samples_leaf=2, min_samples_split=7, n_estimators=100 \n",
      "[CV]  bootstrap=True, max_depth=None, max_features=3, min_samples_leaf=2, min_samples_split=7, n_estimators=100, total=   1.3s\n",
      "[CV] bootstrap=True, max_depth=None, max_features=3, min_samples_leaf=2, min_samples_split=7, n_estimators=200 \n",
      "[CV]  bootstrap=True, max_depth=None, max_features=3, min_samples_leaf=2, min_samples_split=7, n_estimators=100, total=   1.4s\n"
     ]
    },
    {
     "name": "stdout",
     "output_type": "stream",
     "text": [
      "[CV] bootstrap=True, max_depth=None, max_features=3, min_samples_leaf=2, min_samples_split=7, n_estimators=200 \n",
      "[CV]  bootstrap=True, max_depth=None, max_features=3, min_samples_leaf=2, min_samples_split=7, n_estimators=200, total=   2.8s\n",
      "[CV] bootstrap=True, max_depth=None, max_features=3, min_samples_leaf=2, min_samples_split=7, n_estimators=200 \n",
      "[CV]  bootstrap=True, max_depth=None, max_features=3, min_samples_leaf=2, min_samples_split=3, n_estimators=1000, total=  15.5s\n",
      "[CV] bootstrap=True, max_depth=None, max_features=3, min_samples_leaf=2, min_samples_split=7, n_estimators=300 \n",
      "[CV]  bootstrap=True, max_depth=None, max_features=3, min_samples_leaf=2, min_samples_split=3, n_estimators=1000, total=  15.4s\n",
      "[CV] bootstrap=True, max_depth=None, max_features=3, min_samples_leaf=2, min_samples_split=7, n_estimators=300 \n",
      "[CV]  bootstrap=True, max_depth=None, max_features=3, min_samples_leaf=2, min_samples_split=7, n_estimators=200, total=   2.8s\n",
      "[CV] bootstrap=True, max_depth=None, max_features=3, min_samples_leaf=2, min_samples_split=7, n_estimators=300 \n",
      "[CV]  bootstrap=True, max_depth=None, max_features=3, min_samples_leaf=2, min_samples_split=3, n_estimators=1000, total=  15.4s\n",
      "[CV] bootstrap=True, max_depth=None, max_features=3, min_samples_leaf=2, min_samples_split=7, n_estimators=1000 \n",
      "[CV]  bootstrap=True, max_depth=None, max_features=3, min_samples_leaf=2, min_samples_split=7, n_estimators=200, total=   2.8s\n",
      "[CV] bootstrap=True, max_depth=None, max_features=3, min_samples_leaf=2, min_samples_split=7, n_estimators=1000 \n",
      "[CV]  bootstrap=True, max_depth=None, max_features=3, min_samples_leaf=2, min_samples_split=7, n_estimators=300, total=   4.1s\n",
      "[CV] bootstrap=True, max_depth=None, max_features=3, min_samples_leaf=2, min_samples_split=7, n_estimators=1000 \n",
      "[CV]  bootstrap=True, max_depth=None, max_features=3, min_samples_leaf=2, min_samples_split=7, n_estimators=300, total=   4.1s\n",
      "[CV] bootstrap=True, max_depth=None, max_features=3, min_samples_leaf=3, min_samples_split=3, n_estimators=100 \n",
      "[CV]  bootstrap=True, max_depth=None, max_features=3, min_samples_leaf=2, min_samples_split=7, n_estimators=300, total=   4.2s\n",
      "[CV] bootstrap=True, max_depth=None, max_features=3, min_samples_leaf=3, min_samples_split=3, n_estimators=100 \n",
      "[CV]  bootstrap=True, max_depth=None, max_features=3, min_samples_leaf=3, min_samples_split=3, n_estimators=100, total=   1.4s\n",
      "[CV] bootstrap=True, max_depth=None, max_features=3, min_samples_leaf=3, min_samples_split=3, n_estimators=100 \n",
      "[CV]  bootstrap=True, max_depth=None, max_features=3, min_samples_leaf=3, min_samples_split=3, n_estimators=100, total=   1.4s\n",
      "[CV] bootstrap=True, max_depth=None, max_features=3, min_samples_leaf=3, min_samples_split=3, n_estimators=200 \n",
      "[CV]  bootstrap=True, max_depth=None, max_features=3, min_samples_leaf=2, min_samples_split=5, n_estimators=1000, total=  14.4s\n",
      "[CV] bootstrap=True, max_depth=None, max_features=3, min_samples_leaf=3, min_samples_split=3, n_estimators=200 \n",
      "[CV]  bootstrap=True, max_depth=None, max_features=3, min_samples_leaf=2, min_samples_split=5, n_estimators=1000, total=  14.8s\n",
      "[CV] bootstrap=True, max_depth=None, max_features=3, min_samples_leaf=3, min_samples_split=3, n_estimators=200 \n",
      "[CV]  bootstrap=True, max_depth=None, max_features=3, min_samples_leaf=3, min_samples_split=3, n_estimators=100, total=   1.7s\n",
      "[CV] bootstrap=True, max_depth=None, max_features=3, min_samples_leaf=3, min_samples_split=3, n_estimators=300 \n",
      "[CV]  bootstrap=True, max_depth=None, max_features=3, min_samples_leaf=2, min_samples_split=5, n_estimators=1000, total=  14.9s\n",
      "[CV] bootstrap=True, max_depth=None, max_features=3, min_samples_leaf=3, min_samples_split=3, n_estimators=300 \n",
      "[CV]  bootstrap=True, max_depth=None, max_features=3, min_samples_leaf=3, min_samples_split=3, n_estimators=200, total=   3.0s\n",
      "[CV] bootstrap=True, max_depth=None, max_features=3, min_samples_leaf=3, min_samples_split=3, n_estimators=300 \n",
      "[CV]  bootstrap=True, max_depth=None, max_features=3, min_samples_leaf=3, min_samples_split=3, n_estimators=200, total=   2.9s\n",
      "[CV] bootstrap=True, max_depth=None, max_features=3, min_samples_leaf=3, min_samples_split=3, n_estimators=1000 \n",
      "[CV]  bootstrap=True, max_depth=None, max_features=3, min_samples_leaf=3, min_samples_split=3, n_estimators=200, total=   3.0s\n",
      "[CV] bootstrap=True, max_depth=None, max_features=3, min_samples_leaf=3, min_samples_split=3, n_estimators=1000 \n"
     ]
    },
    {
     "name": "stderr",
     "output_type": "stream",
     "text": [
      "[Parallel(n_jobs=-1)]: Done 146 tasks      | elapsed:  1.6min\n"
     ]
    },
    {
     "name": "stdout",
     "output_type": "stream",
     "text": [
      "[CV]  bootstrap=True, max_depth=None, max_features=3, min_samples_leaf=3, min_samples_split=3, n_estimators=300, total=   4.5s\n",
      "[CV] bootstrap=True, max_depth=None, max_features=3, min_samples_leaf=3, min_samples_split=3, n_estimators=1000 \n",
      "[CV]  bootstrap=True, max_depth=None, max_features=3, min_samples_leaf=3, min_samples_split=3, n_estimators=300, total=   4.8s\n",
      "[CV] bootstrap=True, max_depth=None, max_features=3, min_samples_leaf=3, min_samples_split=5, n_estimators=100 \n",
      "[CV]  bootstrap=True, max_depth=None, max_features=3, min_samples_leaf=3, min_samples_split=3, n_estimators=300, total=   4.9s\n",
      "[CV] bootstrap=True, max_depth=None, max_features=3, min_samples_leaf=3, min_samples_split=5, n_estimators=100 \n",
      "[CV]  bootstrap=True, max_depth=None, max_features=3, min_samples_leaf=3, min_samples_split=5, n_estimators=100, total=   1.8s\n",
      "[CV] bootstrap=True, max_depth=None, max_features=3, min_samples_leaf=3, min_samples_split=5, n_estimators=100 \n",
      "[CV]  bootstrap=True, max_depth=None, max_features=3, min_samples_leaf=3, min_samples_split=5, n_estimators=100, total=   1.7s\n",
      "[CV] bootstrap=True, max_depth=None, max_features=3, min_samples_leaf=3, min_samples_split=5, n_estimators=200 \n",
      "[CV]  bootstrap=True, max_depth=None, max_features=3, min_samples_leaf=3, min_samples_split=5, n_estimators=100, total=   1.7s\n",
      "[CV] bootstrap=True, max_depth=None, max_features=3, min_samples_leaf=3, min_samples_split=5, n_estimators=200 \n",
      "[CV]  bootstrap=True, max_depth=None, max_features=3, min_samples_leaf=2, min_samples_split=7, n_estimators=1000, total=  17.2s\n",
      "[CV] bootstrap=True, max_depth=None, max_features=3, min_samples_leaf=3, min_samples_split=5, n_estimators=200 \n",
      "[CV]  bootstrap=True, max_depth=None, max_features=3, min_samples_leaf=3, min_samples_split=5, n_estimators=200, total=   3.5s\n",
      "[CV] bootstrap=True, max_depth=None, max_features=3, min_samples_leaf=3, min_samples_split=5, n_estimators=300 \n",
      "[CV]  bootstrap=True, max_depth=None, max_features=3, min_samples_leaf=2, min_samples_split=7, n_estimators=1000, total=  17.4s\n",
      "[CV] bootstrap=True, max_depth=None, max_features=3, min_samples_leaf=3, min_samples_split=5, n_estimators=300 \n",
      "[CV]  bootstrap=True, max_depth=None, max_features=3, min_samples_leaf=3, min_samples_split=5, n_estimators=200, total=   3.3s\n",
      "[CV] bootstrap=True, max_depth=None, max_features=3, min_samples_leaf=3, min_samples_split=5, n_estimators=300 \n",
      "[CV]  bootstrap=True, max_depth=None, max_features=3, min_samples_leaf=2, min_samples_split=7, n_estimators=1000, total=  18.0s\n",
      "[CV] bootstrap=True, max_depth=None, max_features=3, min_samples_leaf=3, min_samples_split=5, n_estimators=1000 \n",
      "[CV]  bootstrap=True, max_depth=None, max_features=3, min_samples_leaf=3, min_samples_split=5, n_estimators=200, total=   2.8s\n",
      "[CV] bootstrap=True, max_depth=None, max_features=3, min_samples_leaf=3, min_samples_split=5, n_estimators=1000 \n",
      "[CV]  bootstrap=True, max_depth=None, max_features=3, min_samples_leaf=3, min_samples_split=5, n_estimators=300, total=   4.1s\n",
      "[CV] bootstrap=True, max_depth=None, max_features=3, min_samples_leaf=3, min_samples_split=5, n_estimators=1000 \n",
      "[CV]  bootstrap=True, max_depth=None, max_features=3, min_samples_leaf=3, min_samples_split=5, n_estimators=300, total=   4.2s\n",
      "[CV] bootstrap=True, max_depth=None, max_features=3, min_samples_leaf=3, min_samples_split=7, n_estimators=100 \n",
      "[CV]  bootstrap=True, max_depth=None, max_features=3, min_samples_leaf=3, min_samples_split=5, n_estimators=300, total=   4.1s\n",
      "[CV] bootstrap=True, max_depth=None, max_features=3, min_samples_leaf=3, min_samples_split=7, n_estimators=100 \n",
      "[CV]  bootstrap=True, max_depth=None, max_features=3, min_samples_leaf=3, min_samples_split=7, n_estimators=100, total=   1.3s\n",
      "[CV] bootstrap=True, max_depth=None, max_features=3, min_samples_leaf=3, min_samples_split=7, n_estimators=100 \n",
      "[CV]  bootstrap=True, max_depth=None, max_features=3, min_samples_leaf=3, min_samples_split=3, n_estimators=1000, total=  15.9s\n",
      "[CV] bootstrap=True, max_depth=None, max_features=3, min_samples_leaf=3, min_samples_split=7, n_estimators=200 \n",
      "[CV]  bootstrap=True, max_depth=None, max_features=3, min_samples_leaf=3, min_samples_split=3, n_estimators=1000, total=  15.9s\n",
      "[CV] bootstrap=True, max_depth=None, max_features=3, min_samples_leaf=3, min_samples_split=7, n_estimators=200 \n",
      "[CV]  bootstrap=True, max_depth=None, max_features=3, min_samples_leaf=3, min_samples_split=7, n_estimators=100, total=   1.2s\n",
      "[CV] bootstrap=True, max_depth=None, max_features=3, min_samples_leaf=3, min_samples_split=7, n_estimators=200 \n",
      "[CV]  bootstrap=True, max_depth=None, max_features=3, min_samples_leaf=3, min_samples_split=7, n_estimators=100, total=   1.2s\n",
      "[CV] bootstrap=True, max_depth=None, max_features=3, min_samples_leaf=3, min_samples_split=7, n_estimators=300 \n",
      "[CV]  bootstrap=True, max_depth=None, max_features=3, min_samples_leaf=3, min_samples_split=3, n_estimators=1000, total=  15.4s\n",
      "[CV] bootstrap=True, max_depth=None, max_features=3, min_samples_leaf=3, min_samples_split=7, n_estimators=300 \n",
      "[CV]  bootstrap=True, max_depth=None, max_features=3, min_samples_leaf=3, min_samples_split=7, n_estimators=200, total=   2.4s\n",
      "[CV] bootstrap=True, max_depth=None, max_features=3, min_samples_leaf=3, min_samples_split=7, n_estimators=300 \n",
      "[CV]  bootstrap=True, max_depth=None, max_features=3, min_samples_leaf=3, min_samples_split=7, n_estimators=200, total=   2.4s\n",
      "[CV] bootstrap=True, max_depth=None, max_features=3, min_samples_leaf=3, min_samples_split=7, n_estimators=1000 \n",
      "[CV]  bootstrap=True, max_depth=None, max_features=3, min_samples_leaf=3, min_samples_split=7, n_estimators=200, total=   2.4s\n",
      "[CV] bootstrap=True, max_depth=None, max_features=3, min_samples_leaf=3, min_samples_split=7, n_estimators=1000 \n",
      "[CV]  bootstrap=True, max_depth=None, max_features=3, min_samples_leaf=3, min_samples_split=7, n_estimators=300, total=   3.6s\n",
      "[CV] bootstrap=True, max_depth=None, max_features=3, min_samples_leaf=3, min_samples_split=7, n_estimators=1000 \n",
      "[CV]  bootstrap=True, max_depth=None, max_features=3, min_samples_leaf=3, min_samples_split=7, n_estimators=300, total=   3.6s\n",
      "[CV] bootstrap=True, max_depth=None, max_features=3, min_samples_leaf=4, min_samples_split=3, n_estimators=100 \n",
      "[CV]  bootstrap=True, max_depth=None, max_features=3, min_samples_leaf=3, min_samples_split=7, n_estimators=300, total=   3.7s\n",
      "[CV] bootstrap=True, max_depth=None, max_features=3, min_samples_leaf=4, min_samples_split=3, n_estimators=100 \n",
      "[CV]  bootstrap=True, max_depth=None, max_features=3, min_samples_leaf=4, min_samples_split=3, n_estimators=100, total=   1.1s\n",
      "[CV] bootstrap=True, max_depth=None, max_features=3, min_samples_leaf=4, min_samples_split=3, n_estimators=100 \n",
      "[CV]  bootstrap=True, max_depth=None, max_features=3, min_samples_leaf=4, min_samples_split=3, n_estimators=100, total=   1.1s\n",
      "[CV] bootstrap=True, max_depth=None, max_features=3, min_samples_leaf=4, min_samples_split=3, n_estimators=200 \n",
      "[CV]  bootstrap=True, max_depth=None, max_features=3, min_samples_leaf=4, min_samples_split=3, n_estimators=100, total=   1.2s\n",
      "[CV] bootstrap=True, max_depth=None, max_features=3, min_samples_leaf=4, min_samples_split=3, n_estimators=200 \n",
      "[CV]  bootstrap=True, max_depth=None, max_features=3, min_samples_leaf=3, min_samples_split=5, n_estimators=1000, total=  12.7s\n",
      "[CV] bootstrap=True, max_depth=None, max_features=3, min_samples_leaf=4, min_samples_split=3, n_estimators=200 \n",
      "[CV]  bootstrap=True, max_depth=None, max_features=3, min_samples_leaf=3, min_samples_split=5, n_estimators=1000, total=  12.6s\n",
      "[CV] bootstrap=True, max_depth=None, max_features=3, min_samples_leaf=4, min_samples_split=3, n_estimators=300 \n",
      "[CV]  bootstrap=True, max_depth=None, max_features=3, min_samples_leaf=4, min_samples_split=3, n_estimators=200, total=   2.3s\n",
      "[CV] bootstrap=True, max_depth=None, max_features=3, min_samples_leaf=4, min_samples_split=3, n_estimators=300 \n",
      "[CV]  bootstrap=True, max_depth=None, max_features=3, min_samples_leaf=4, min_samples_split=3, n_estimators=200, total=   2.2s\n",
      "[CV] bootstrap=True, max_depth=None, max_features=3, min_samples_leaf=4, min_samples_split=3, n_estimators=300 \n",
      "[CV]  bootstrap=True, max_depth=None, max_features=3, min_samples_leaf=3, min_samples_split=5, n_estimators=1000, total=  12.4s\n"
     ]
    },
    {
     "name": "stdout",
     "output_type": "stream",
     "text": [
      "[CV] bootstrap=True, max_depth=None, max_features=3, min_samples_leaf=4, min_samples_split=3, n_estimators=1000 \n",
      "[CV]  bootstrap=True, max_depth=None, max_features=3, min_samples_leaf=4, min_samples_split=3, n_estimators=200, total=   2.2s\n",
      "[CV] bootstrap=True, max_depth=None, max_features=3, min_samples_leaf=4, min_samples_split=3, n_estimators=1000 \n",
      "[CV]  bootstrap=True, max_depth=None, max_features=3, min_samples_leaf=4, min_samples_split=3, n_estimators=300, total=   3.3s\n",
      "[CV] bootstrap=True, max_depth=None, max_features=3, min_samples_leaf=4, min_samples_split=3, n_estimators=1000 \n",
      "[CV]  bootstrap=True, max_depth=None, max_features=3, min_samples_leaf=4, min_samples_split=3, n_estimators=300, total=   3.3s\n",
      "[CV] bootstrap=True, max_depth=None, max_features=3, min_samples_leaf=4, min_samples_split=5, n_estimators=100 \n",
      "[CV]  bootstrap=True, max_depth=None, max_features=3, min_samples_leaf=4, min_samples_split=3, n_estimators=300, total=   3.3s\n",
      "[CV] bootstrap=True, max_depth=None, max_features=3, min_samples_leaf=4, min_samples_split=5, n_estimators=100 \n",
      "[CV]  bootstrap=True, max_depth=None, max_features=3, min_samples_leaf=4, min_samples_split=5, n_estimators=100, total=   1.2s\n",
      "[CV] bootstrap=True, max_depth=None, max_features=3, min_samples_leaf=4, min_samples_split=5, n_estimators=100 \n",
      "[CV]  bootstrap=True, max_depth=None, max_features=3, min_samples_leaf=4, min_samples_split=5, n_estimators=100, total=   1.2s\n",
      "[CV] bootstrap=True, max_depth=None, max_features=3, min_samples_leaf=4, min_samples_split=5, n_estimators=200 \n",
      "[CV]  bootstrap=True, max_depth=None, max_features=3, min_samples_leaf=3, min_samples_split=7, n_estimators=1000, total=  12.1s\n",
      "[CV] bootstrap=True, max_depth=None, max_features=3, min_samples_leaf=4, min_samples_split=5, n_estimators=200 \n",
      "[CV]  bootstrap=True, max_depth=None, max_features=3, min_samples_leaf=3, min_samples_split=7, n_estimators=1000, total=  12.1s\n",
      "[CV] bootstrap=True, max_depth=None, max_features=3, min_samples_leaf=4, min_samples_split=5, n_estimators=200 \n",
      "[CV]  bootstrap=True, max_depth=None, max_features=3, min_samples_leaf=4, min_samples_split=5, n_estimators=100, total=   1.2s\n",
      "[CV] bootstrap=True, max_depth=None, max_features=3, min_samples_leaf=4, min_samples_split=5, n_estimators=300 \n",
      "[CV]  bootstrap=True, max_depth=None, max_features=3, min_samples_leaf=4, min_samples_split=5, n_estimators=200, total=   2.3s\n",
      "[CV] bootstrap=True, max_depth=None, max_features=3, min_samples_leaf=4, min_samples_split=5, n_estimators=300 \n",
      "[CV]  bootstrap=True, max_depth=None, max_features=3, min_samples_leaf=4, min_samples_split=5, n_estimators=200, total=   2.2s\n",
      "[CV] bootstrap=True, max_depth=None, max_features=3, min_samples_leaf=4, min_samples_split=5, n_estimators=300 \n",
      "[CV]  bootstrap=True, max_depth=None, max_features=3, min_samples_leaf=3, min_samples_split=7, n_estimators=1000, total=  12.1s\n",
      "[CV] bootstrap=True, max_depth=None, max_features=3, min_samples_leaf=4, min_samples_split=5, n_estimators=1000 \n",
      "[CV]  bootstrap=True, max_depth=None, max_features=3, min_samples_leaf=4, min_samples_split=5, n_estimators=200, total=   2.3s\n",
      "[CV] bootstrap=True, max_depth=None, max_features=3, min_samples_leaf=4, min_samples_split=5, n_estimators=1000 \n",
      "[CV]  bootstrap=True, max_depth=None, max_features=3, min_samples_leaf=4, min_samples_split=5, n_estimators=300, total=   3.4s\n",
      "[CV] bootstrap=True, max_depth=None, max_features=3, min_samples_leaf=4, min_samples_split=5, n_estimators=1000 \n",
      "[CV]  bootstrap=True, max_depth=None, max_features=3, min_samples_leaf=4, min_samples_split=5, n_estimators=300, total=   3.3s\n",
      "[CV] bootstrap=True, max_depth=None, max_features=3, min_samples_leaf=4, min_samples_split=7, n_estimators=100 \n",
      "[CV]  bootstrap=True, max_depth=None, max_features=3, min_samples_leaf=4, min_samples_split=5, n_estimators=300, total=   3.3s\n",
      "[CV] bootstrap=True, max_depth=None, max_features=3, min_samples_leaf=4, min_samples_split=7, n_estimators=100 \n",
      "[CV]  bootstrap=True, max_depth=None, max_features=3, min_samples_leaf=4, min_samples_split=7, n_estimators=100, total=   1.2s\n",
      "[CV] bootstrap=True, max_depth=None, max_features=3, min_samples_leaf=4, min_samples_split=7, n_estimators=100 \n",
      "[CV]  bootstrap=True, max_depth=None, max_features=3, min_samples_leaf=4, min_samples_split=7, n_estimators=100, total=   1.1s\n",
      "[CV] bootstrap=True, max_depth=None, max_features=3, min_samples_leaf=4, min_samples_split=7, n_estimators=200 \n",
      "[CV]  bootstrap=True, max_depth=None, max_features=3, min_samples_leaf=4, min_samples_split=3, n_estimators=1000, total=  11.3s\n",
      "[CV] bootstrap=True, max_depth=None, max_features=3, min_samples_leaf=4, min_samples_split=7, n_estimators=200 \n",
      "[CV]  bootstrap=True, max_depth=None, max_features=3, min_samples_leaf=4, min_samples_split=7, n_estimators=100, total=   1.1s\n",
      "[CV] bootstrap=True, max_depth=None, max_features=3, min_samples_leaf=4, min_samples_split=7, n_estimators=200 \n",
      "[CV]  bootstrap=True, max_depth=None, max_features=3, min_samples_leaf=4, min_samples_split=3, n_estimators=1000, total=  11.3s\n",
      "[CV] bootstrap=True, max_depth=None, max_features=3, min_samples_leaf=4, min_samples_split=7, n_estimators=300 \n",
      "[CV]  bootstrap=True, max_depth=None, max_features=3, min_samples_leaf=4, min_samples_split=7, n_estimators=200, total=   2.3s\n",
      "[CV] bootstrap=True, max_depth=None, max_features=3, min_samples_leaf=4, min_samples_split=7, n_estimators=300 \n",
      "[CV]  bootstrap=True, max_depth=None, max_features=3, min_samples_leaf=4, min_samples_split=3, n_estimators=1000, total=  11.3s\n",
      "[CV] bootstrap=True, max_depth=None, max_features=3, min_samples_leaf=4, min_samples_split=7, n_estimators=300 \n",
      "[CV]  bootstrap=True, max_depth=None, max_features=3, min_samples_leaf=4, min_samples_split=7, n_estimators=200, total=   2.3s\n",
      "[CV] bootstrap=True, max_depth=None, max_features=3, min_samples_leaf=4, min_samples_split=7, n_estimators=1000 \n",
      "[CV]  bootstrap=True, max_depth=None, max_features=3, min_samples_leaf=4, min_samples_split=7, n_estimators=200, total=   2.3s\n",
      "[CV] bootstrap=True, max_depth=None, max_features=3, min_samples_leaf=4, min_samples_split=7, n_estimators=1000 \n",
      "[CV]  bootstrap=True, max_depth=None, max_features=3, min_samples_leaf=4, min_samples_split=7, n_estimators=300, total=   3.4s\n",
      "[CV] bootstrap=True, max_depth=None, max_features=3, min_samples_leaf=4, min_samples_split=7, n_estimators=1000 \n",
      "[CV]  bootstrap=True, max_depth=None, max_features=3, min_samples_leaf=4, min_samples_split=7, n_estimators=300, total=   3.4s\n",
      "[CV] bootstrap=False, max_depth=None, max_features=2, min_samples_leaf=2, min_samples_split=3, n_estimators=100 \n",
      "[CV]  bootstrap=True, max_depth=None, max_features=3, min_samples_leaf=4, min_samples_split=7, n_estimators=300, total=   3.3s\n",
      "[CV] bootstrap=False, max_depth=None, max_features=2, min_samples_leaf=2, min_samples_split=3, n_estimators=100 \n",
      "[CV]  bootstrap=True, max_depth=None, max_features=3, min_samples_leaf=4, min_samples_split=5, n_estimators=1000, total=  11.3s\n",
      "[CV] bootstrap=False, max_depth=None, max_features=2, min_samples_leaf=2, min_samples_split=3, n_estimators=100 \n",
      "[CV]  bootstrap=True, max_depth=None, max_features=3, min_samples_leaf=4, min_samples_split=5, n_estimators=1000, total=  11.2s\n",
      "[CV] bootstrap=False, max_depth=None, max_features=2, min_samples_leaf=2, min_samples_split=3, n_estimators=200 \n",
      "[CV]  bootstrap=False, max_depth=None, max_features=2, min_samples_leaf=2, min_samples_split=3, n_estimators=100, total=   1.6s\n",
      "[CV] bootstrap=False, max_depth=None, max_features=2, min_samples_leaf=2, min_samples_split=3, n_estimators=200 \n",
      "[CV]  bootstrap=False, max_depth=None, max_features=2, min_samples_leaf=2, min_samples_split=3, n_estimators=100, total=   1.6s\n",
      "[CV] bootstrap=False, max_depth=None, max_features=2, min_samples_leaf=2, min_samples_split=3, n_estimators=200 \n",
      "[CV]  bootstrap=True, max_depth=None, max_features=3, min_samples_leaf=4, min_samples_split=5, n_estimators=1000, total=  11.2s\n",
      "[CV] bootstrap=False, max_depth=None, max_features=2, min_samples_leaf=2, min_samples_split=3, n_estimators=300 \n",
      "[CV]  bootstrap=False, max_depth=None, max_features=2, min_samples_leaf=2, min_samples_split=3, n_estimators=100, total=   1.6s\n",
      "[CV] bootstrap=False, max_depth=None, max_features=2, min_samples_leaf=2, min_samples_split=3, n_estimators=300 \n"
     ]
    },
    {
     "name": "stdout",
     "output_type": "stream",
     "text": [
      "[CV]  bootstrap=False, max_depth=None, max_features=2, min_samples_leaf=2, min_samples_split=3, n_estimators=200, total=   3.2s\n",
      "[CV] bootstrap=False, max_depth=None, max_features=2, min_samples_leaf=2, min_samples_split=3, n_estimators=300 \n",
      "[CV]  bootstrap=False, max_depth=None, max_features=2, min_samples_leaf=2, min_samples_split=3, n_estimators=200, total=   3.2s\n",
      "[CV] bootstrap=False, max_depth=None, max_features=2, min_samples_leaf=2, min_samples_split=3, n_estimators=1000 \n",
      "[CV]  bootstrap=False, max_depth=None, max_features=2, min_samples_leaf=2, min_samples_split=3, n_estimators=200, total=   3.2s\n",
      "[CV] bootstrap=False, max_depth=None, max_features=2, min_samples_leaf=2, min_samples_split=3, n_estimators=1000 \n",
      "[CV]  bootstrap=False, max_depth=None, max_features=2, min_samples_leaf=2, min_samples_split=3, n_estimators=300, total=   4.9s\n",
      "[CV] bootstrap=False, max_depth=None, max_features=2, min_samples_leaf=2, min_samples_split=3, n_estimators=1000 \n",
      "[CV]  bootstrap=False, max_depth=None, max_features=2, min_samples_leaf=2, min_samples_split=3, n_estimators=300, total=   4.8s\n",
      "[CV] bootstrap=False, max_depth=None, max_features=2, min_samples_leaf=2, min_samples_split=5, n_estimators=100 \n",
      "[CV]  bootstrap=True, max_depth=None, max_features=3, min_samples_leaf=4, min_samples_split=7, n_estimators=1000, total=  11.1s\n",
      "[CV] bootstrap=False, max_depth=None, max_features=2, min_samples_leaf=2, min_samples_split=5, n_estimators=100 \n",
      "[CV]  bootstrap=True, max_depth=None, max_features=3, min_samples_leaf=4, min_samples_split=7, n_estimators=1000, total=  11.2s\n",
      "[CV] bootstrap=False, max_depth=None, max_features=2, min_samples_leaf=2, min_samples_split=5, n_estimators=100 \n",
      "[CV]  bootstrap=False, max_depth=None, max_features=2, min_samples_leaf=2, min_samples_split=5, n_estimators=100, total=   1.5s\n",
      "[CV] bootstrap=False, max_depth=None, max_features=2, min_samples_leaf=2, min_samples_split=5, n_estimators=200 \n",
      "[CV]  bootstrap=False, max_depth=None, max_features=2, min_samples_leaf=2, min_samples_split=3, n_estimators=300, total=   4.7s\n",
      "[CV] bootstrap=False, max_depth=None, max_features=2, min_samples_leaf=2, min_samples_split=5, n_estimators=200 \n",
      "[CV]  bootstrap=False, max_depth=None, max_features=2, min_samples_leaf=2, min_samples_split=5, n_estimators=100, total=   1.6s\n",
      "[CV] bootstrap=False, max_depth=None, max_features=2, min_samples_leaf=2, min_samples_split=5, n_estimators=200 \n",
      "[CV]  bootstrap=True, max_depth=None, max_features=3, min_samples_leaf=4, min_samples_split=7, n_estimators=1000, total=  11.1s\n",
      "[CV] bootstrap=False, max_depth=None, max_features=2, min_samples_leaf=2, min_samples_split=5, n_estimators=300 \n",
      "[CV]  bootstrap=False, max_depth=None, max_features=2, min_samples_leaf=2, min_samples_split=5, n_estimators=100, total=   1.5s\n",
      "[CV] bootstrap=False, max_depth=None, max_features=2, min_samples_leaf=2, min_samples_split=5, n_estimators=300 \n",
      "[CV]  bootstrap=False, max_depth=None, max_features=2, min_samples_leaf=2, min_samples_split=5, n_estimators=200, total=   3.1s\n",
      "[CV] bootstrap=False, max_depth=None, max_features=2, min_samples_leaf=2, min_samples_split=5, n_estimators=300 \n",
      "[CV]  bootstrap=False, max_depth=None, max_features=2, min_samples_leaf=2, min_samples_split=5, n_estimators=200, total=   3.1s\n",
      "[CV] bootstrap=False, max_depth=None, max_features=2, min_samples_leaf=2, min_samples_split=5, n_estimators=1000 \n",
      "[CV]  bootstrap=False, max_depth=None, max_features=2, min_samples_leaf=2, min_samples_split=5, n_estimators=200, total=   3.1s\n",
      "[CV] bootstrap=False, max_depth=None, max_features=2, min_samples_leaf=2, min_samples_split=5, n_estimators=1000 \n",
      "[CV]  bootstrap=False, max_depth=None, max_features=2, min_samples_leaf=2, min_samples_split=5, n_estimators=300, total=   4.6s\n",
      "[CV] bootstrap=False, max_depth=None, max_features=2, min_samples_leaf=2, min_samples_split=5, n_estimators=1000 \n",
      "[CV]  bootstrap=False, max_depth=None, max_features=2, min_samples_leaf=2, min_samples_split=5, n_estimators=300, total=   4.8s\n",
      "[CV] bootstrap=False, max_depth=None, max_features=2, min_samples_leaf=2, min_samples_split=7, n_estimators=100 \n",
      "[CV]  bootstrap=False, max_depth=None, max_features=2, min_samples_leaf=2, min_samples_split=7, n_estimators=100, total=   1.8s\n",
      "[CV] bootstrap=False, max_depth=None, max_features=2, min_samples_leaf=2, min_samples_split=7, n_estimators=100 \n",
      "[CV]  bootstrap=False, max_depth=None, max_features=2, min_samples_leaf=2, min_samples_split=5, n_estimators=300, total=   5.1s\n",
      "[CV] bootstrap=False, max_depth=None, max_features=2, min_samples_leaf=2, min_samples_split=7, n_estimators=100 \n",
      "[CV]  bootstrap=False, max_depth=None, max_features=2, min_samples_leaf=2, min_samples_split=7, n_estimators=100, total=   1.8s\n",
      "[CV] bootstrap=False, max_depth=None, max_features=2, min_samples_leaf=2, min_samples_split=7, n_estimators=200 \n",
      "[CV]  bootstrap=False, max_depth=None, max_features=2, min_samples_leaf=2, min_samples_split=7, n_estimators=100, total=   1.7s\n",
      "[CV] bootstrap=False, max_depth=None, max_features=2, min_samples_leaf=2, min_samples_split=7, n_estimators=200 \n",
      "[CV]  bootstrap=False, max_depth=None, max_features=2, min_samples_leaf=2, min_samples_split=3, n_estimators=1000, total=  16.8s\n",
      "[CV] bootstrap=False, max_depth=None, max_features=2, min_samples_leaf=2, min_samples_split=7, n_estimators=200 \n",
      "[CV]  bootstrap=False, max_depth=None, max_features=2, min_samples_leaf=2, min_samples_split=7, n_estimators=200, total=   3.3s\n",
      "[CV] bootstrap=False, max_depth=None, max_features=2, min_samples_leaf=2, min_samples_split=7, n_estimators=300 \n",
      "[CV]  bootstrap=False, max_depth=None, max_features=2, min_samples_leaf=2, min_samples_split=3, n_estimators=1000, total=  17.2s\n",
      "[CV] bootstrap=False, max_depth=None, max_features=2, min_samples_leaf=2, min_samples_split=7, n_estimators=300 \n",
      "[CV]  bootstrap=False, max_depth=None, max_features=2, min_samples_leaf=2, min_samples_split=7, n_estimators=200, total=   3.3s\n",
      "[CV] bootstrap=False, max_depth=None, max_features=2, min_samples_leaf=2, min_samples_split=7, n_estimators=300 \n",
      "[CV]  bootstrap=False, max_depth=None, max_features=2, min_samples_leaf=2, min_samples_split=3, n_estimators=1000, total=  16.7s\n",
      "[CV] bootstrap=False, max_depth=None, max_features=2, min_samples_leaf=2, min_samples_split=7, n_estimators=1000 \n",
      "[CV]  bootstrap=False, max_depth=None, max_features=2, min_samples_leaf=2, min_samples_split=7, n_estimators=200, total=   3.1s\n",
      "[CV] bootstrap=False, max_depth=None, max_features=2, min_samples_leaf=2, min_samples_split=7, n_estimators=1000 \n",
      "[CV]  bootstrap=False, max_depth=None, max_features=2, min_samples_leaf=2, min_samples_split=7, n_estimators=300, total=   4.7s\n",
      "[CV] bootstrap=False, max_depth=None, max_features=2, min_samples_leaf=2, min_samples_split=7, n_estimators=1000 \n",
      "[CV]  bootstrap=False, max_depth=None, max_features=2, min_samples_leaf=2, min_samples_split=7, n_estimators=300, total=   4.7s\n",
      "[CV] bootstrap=False, max_depth=None, max_features=2, min_samples_leaf=3, min_samples_split=3, n_estimators=100 \n",
      "[CV]  bootstrap=False, max_depth=None, max_features=2, min_samples_leaf=2, min_samples_split=7, n_estimators=300, total=   4.6s\n",
      "[CV] bootstrap=False, max_depth=None, max_features=2, min_samples_leaf=3, min_samples_split=3, n_estimators=100 \n",
      "[CV]  bootstrap=False, max_depth=None, max_features=2, min_samples_leaf=3, min_samples_split=3, n_estimators=100, total=   1.5s\n",
      "[CV] bootstrap=False, max_depth=None, max_features=2, min_samples_leaf=3, min_samples_split=3, n_estimators=100 \n",
      "[CV]  bootstrap=False, max_depth=None, max_features=2, min_samples_leaf=3, min_samples_split=3, n_estimators=100, total=   1.4s\n",
      "[CV] bootstrap=False, max_depth=None, max_features=2, min_samples_leaf=3, min_samples_split=3, n_estimators=200 \n",
      "[CV]  bootstrap=False, max_depth=None, max_features=2, min_samples_leaf=2, min_samples_split=5, n_estimators=1000, total=  16.9s\n",
      "[CV] bootstrap=False, max_depth=None, max_features=2, min_samples_leaf=3, min_samples_split=3, n_estimators=200 \n",
      "[CV]  bootstrap=False, max_depth=None, max_features=2, min_samples_leaf=3, min_samples_split=3, n_estimators=100, total=   1.5s\n",
      "[CV] bootstrap=False, max_depth=None, max_features=2, min_samples_leaf=3, min_samples_split=3, n_estimators=200 \n"
     ]
    },
    {
     "name": "stdout",
     "output_type": "stream",
     "text": [
      "[CV]  bootstrap=False, max_depth=None, max_features=2, min_samples_leaf=2, min_samples_split=5, n_estimators=1000, total=  17.1s\n",
      "[CV] bootstrap=False, max_depth=None, max_features=2, min_samples_leaf=3, min_samples_split=3, n_estimators=300 \n",
      "[CV]  bootstrap=False, max_depth=None, max_features=2, min_samples_leaf=3, min_samples_split=3, n_estimators=200, total=   2.8s\n",
      "[CV] bootstrap=False, max_depth=None, max_features=2, min_samples_leaf=3, min_samples_split=3, n_estimators=300 \n",
      "[CV]  bootstrap=False, max_depth=None, max_features=2, min_samples_leaf=2, min_samples_split=5, n_estimators=1000, total=  17.2s\n",
      "[CV] bootstrap=False, max_depth=None, max_features=2, min_samples_leaf=3, min_samples_split=3, n_estimators=300 \n",
      "[CV]  bootstrap=False, max_depth=None, max_features=2, min_samples_leaf=3, min_samples_split=3, n_estimators=200, total=   2.6s\n",
      "[CV] bootstrap=False, max_depth=None, max_features=2, min_samples_leaf=3, min_samples_split=3, n_estimators=1000 \n",
      "[CV]  bootstrap=False, max_depth=None, max_features=2, min_samples_leaf=3, min_samples_split=3, n_estimators=200, total=   2.6s\n",
      "[CV] bootstrap=False, max_depth=None, max_features=2, min_samples_leaf=3, min_samples_split=3, n_estimators=1000 \n",
      "[CV]  bootstrap=False, max_depth=None, max_features=2, min_samples_leaf=3, min_samples_split=3, n_estimators=300, total=   3.9s\n",
      "[CV] bootstrap=False, max_depth=None, max_features=2, min_samples_leaf=3, min_samples_split=3, n_estimators=1000 \n",
      "[CV]  bootstrap=False, max_depth=None, max_features=2, min_samples_leaf=3, min_samples_split=3, n_estimators=300, total=   3.9s\n",
      "[CV] bootstrap=False, max_depth=None, max_features=2, min_samples_leaf=3, min_samples_split=5, n_estimators=100 \n",
      "[CV]  bootstrap=False, max_depth=None, max_features=2, min_samples_leaf=3, min_samples_split=3, n_estimators=300, total=   3.9s\n",
      "[CV] bootstrap=False, max_depth=None, max_features=2, min_samples_leaf=3, min_samples_split=5, n_estimators=100 \n",
      "[CV]  bootstrap=False, max_depth=None, max_features=2, min_samples_leaf=3, min_samples_split=5, n_estimators=100, total=   1.3s\n",
      "[CV] bootstrap=False, max_depth=None, max_features=2, min_samples_leaf=3, min_samples_split=5, n_estimators=100 \n",
      "[CV]  bootstrap=False, max_depth=None, max_features=2, min_samples_leaf=3, min_samples_split=5, n_estimators=100, total=   1.3s\n",
      "[CV] bootstrap=False, max_depth=None, max_features=2, min_samples_leaf=3, min_samples_split=5, n_estimators=200 \n",
      "[CV]  bootstrap=False, max_depth=None, max_features=2, min_samples_leaf=3, min_samples_split=5, n_estimators=100, total=   1.3s\n",
      "[CV] bootstrap=False, max_depth=None, max_features=2, min_samples_leaf=3, min_samples_split=5, n_estimators=200 \n",
      "[CV]  bootstrap=False, max_depth=None, max_features=2, min_samples_leaf=3, min_samples_split=5, n_estimators=200, total=   2.6s\n",
      "[CV] bootstrap=False, max_depth=None, max_features=2, min_samples_leaf=3, min_samples_split=5, n_estimators=200 \n",
      "[CV]  bootstrap=False, max_depth=None, max_features=2, min_samples_leaf=2, min_samples_split=7, n_estimators=1000, total=  15.7s\n",
      "[CV] bootstrap=False, max_depth=None, max_features=2, min_samples_leaf=3, min_samples_split=5, n_estimators=300 \n",
      "[CV]  bootstrap=False, max_depth=None, max_features=2, min_samples_leaf=2, min_samples_split=7, n_estimators=1000, total=  15.6s\n",
      "[CV] bootstrap=False, max_depth=None, max_features=2, min_samples_leaf=3, min_samples_split=5, n_estimators=300 \n",
      "[CV]  bootstrap=False, max_depth=None, max_features=2, min_samples_leaf=3, min_samples_split=5, n_estimators=200, total=   2.5s\n",
      "[CV] bootstrap=False, max_depth=None, max_features=2, min_samples_leaf=3, min_samples_split=5, n_estimators=300 \n",
      "[CV]  bootstrap=False, max_depth=None, max_features=2, min_samples_leaf=2, min_samples_split=7, n_estimators=1000, total=  15.5s\n",
      "[CV] bootstrap=False, max_depth=None, max_features=2, min_samples_leaf=3, min_samples_split=5, n_estimators=1000 \n",
      "[CV]  bootstrap=False, max_depth=None, max_features=2, min_samples_leaf=3, min_samples_split=5, n_estimators=200, total=   2.5s\n",
      "[CV] bootstrap=False, max_depth=None, max_features=2, min_samples_leaf=3, min_samples_split=5, n_estimators=1000 \n",
      "[CV]  bootstrap=False, max_depth=None, max_features=2, min_samples_leaf=3, min_samples_split=5, n_estimators=300, total=   3.8s\n",
      "[CV] bootstrap=False, max_depth=None, max_features=2, min_samples_leaf=3, min_samples_split=5, n_estimators=1000 \n",
      "[CV]  bootstrap=False, max_depth=None, max_features=2, min_samples_leaf=3, min_samples_split=5, n_estimators=300, total=   3.8s\n",
      "[CV] bootstrap=False, max_depth=None, max_features=2, min_samples_leaf=3, min_samples_split=7, n_estimators=100 \n",
      "[CV]  bootstrap=False, max_depth=None, max_features=2, min_samples_leaf=3, min_samples_split=5, n_estimators=300, total=   3.8s\n",
      "[CV] bootstrap=False, max_depth=None, max_features=2, min_samples_leaf=3, min_samples_split=7, n_estimators=100 \n",
      "[CV]  bootstrap=False, max_depth=None, max_features=2, min_samples_leaf=3, min_samples_split=3, n_estimators=1000, total=  13.2s\n",
      "[CV] bootstrap=False, max_depth=None, max_features=2, min_samples_leaf=3, min_samples_split=7, n_estimators=100 \n",
      "[CV]  bootstrap=False, max_depth=None, max_features=2, min_samples_leaf=3, min_samples_split=7, n_estimators=100, total=   1.2s\n",
      "[CV] bootstrap=False, max_depth=None, max_features=2, min_samples_leaf=3, min_samples_split=7, n_estimators=200 \n",
      "[CV]  bootstrap=False, max_depth=None, max_features=2, min_samples_leaf=3, min_samples_split=3, n_estimators=1000, total=  13.0s\n",
      "[CV] bootstrap=False, max_depth=None, max_features=2, min_samples_leaf=3, min_samples_split=7, n_estimators=200 \n",
      "[CV]  bootstrap=False, max_depth=None, max_features=2, min_samples_leaf=3, min_samples_split=7, n_estimators=100, total=   1.3s\n",
      "[CV] bootstrap=False, max_depth=None, max_features=2, min_samples_leaf=3, min_samples_split=7, n_estimators=200 \n",
      "[CV]  bootstrap=False, max_depth=None, max_features=2, min_samples_leaf=3, min_samples_split=7, n_estimators=100, total=   1.3s\n",
      "[CV] bootstrap=False, max_depth=None, max_features=2, min_samples_leaf=3, min_samples_split=7, n_estimators=300 \n",
      "[CV]  bootstrap=False, max_depth=None, max_features=2, min_samples_leaf=3, min_samples_split=3, n_estimators=1000, total=  12.8s\n",
      "[CV] bootstrap=False, max_depth=None, max_features=2, min_samples_leaf=3, min_samples_split=7, n_estimators=300 \n",
      "[CV]  bootstrap=False, max_depth=None, max_features=2, min_samples_leaf=3, min_samples_split=7, n_estimators=200, total=   2.6s\n",
      "[CV] bootstrap=False, max_depth=None, max_features=2, min_samples_leaf=3, min_samples_split=7, n_estimators=300 \n",
      "[CV]  bootstrap=False, max_depth=None, max_features=2, min_samples_leaf=3, min_samples_split=7, n_estimators=200, total=   2.6s\n",
      "[CV] bootstrap=False, max_depth=None, max_features=2, min_samples_leaf=3, min_samples_split=7, n_estimators=1000 \n",
      "[CV]  bootstrap=False, max_depth=None, max_features=2, min_samples_leaf=3, min_samples_split=7, n_estimators=200, total=   2.6s\n",
      "[CV] bootstrap=False, max_depth=None, max_features=2, min_samples_leaf=3, min_samples_split=7, n_estimators=1000 \n",
      "[CV]  bootstrap=False, max_depth=None, max_features=2, min_samples_leaf=3, min_samples_split=7, n_estimators=300, total=   3.9s\n",
      "[CV] bootstrap=False, max_depth=None, max_features=2, min_samples_leaf=3, min_samples_split=7, n_estimators=1000 \n",
      "[CV]  bootstrap=False, max_depth=None, max_features=2, min_samples_leaf=3, min_samples_split=7, n_estimators=300, total=   3.9s\n",
      "[CV] bootstrap=False, max_depth=None, max_features=2, min_samples_leaf=4, min_samples_split=3, n_estimators=100 \n",
      "[CV]  bootstrap=False, max_depth=None, max_features=2, min_samples_leaf=3, min_samples_split=7, n_estimators=300, total=   3.8s\n",
      "[CV] bootstrap=False, max_depth=None, max_features=2, min_samples_leaf=4, min_samples_split=3, n_estimators=100 \n",
      "[CV]  bootstrap=False, max_depth=None, max_features=2, min_samples_leaf=4, min_samples_split=3, n_estimators=100, total=   1.1s\n",
      "[CV] bootstrap=False, max_depth=None, max_features=2, min_samples_leaf=4, min_samples_split=3, n_estimators=100 \n",
      "[CV]  bootstrap=False, max_depth=None, max_features=2, min_samples_leaf=4, min_samples_split=3, n_estimators=100, total=   1.2s\n",
      "[CV] bootstrap=False, max_depth=None, max_features=2, min_samples_leaf=4, min_samples_split=3, n_estimators=200 \n"
     ]
    },
    {
     "name": "stdout",
     "output_type": "stream",
     "text": [
      "[CV]  bootstrap=False, max_depth=None, max_features=2, min_samples_leaf=4, min_samples_split=3, n_estimators=100, total=   1.2s\n",
      "[CV] bootstrap=False, max_depth=None, max_features=2, min_samples_leaf=4, min_samples_split=3, n_estimators=200 \n",
      "[CV]  bootstrap=False, max_depth=None, max_features=2, min_samples_leaf=3, min_samples_split=5, n_estimators=1000, total=  13.1s\n",
      "[CV] bootstrap=False, max_depth=None, max_features=2, min_samples_leaf=4, min_samples_split=3, n_estimators=200 \n",
      "[CV]  bootstrap=False, max_depth=None, max_features=2, min_samples_leaf=3, min_samples_split=5, n_estimators=1000, total=  12.9s\n",
      "[CV] bootstrap=False, max_depth=None, max_features=2, min_samples_leaf=4, min_samples_split=3, n_estimators=300 \n",
      "[CV]  bootstrap=False, max_depth=None, max_features=2, min_samples_leaf=4, min_samples_split=3, n_estimators=200, total=   2.3s\n",
      "[CV] bootstrap=False, max_depth=None, max_features=2, min_samples_leaf=4, min_samples_split=3, n_estimators=300 \n",
      "[CV]  bootstrap=False, max_depth=None, max_features=2, min_samples_leaf=4, min_samples_split=3, n_estimators=200, total=   2.3s\n",
      "[CV] bootstrap=False, max_depth=None, max_features=2, min_samples_leaf=4, min_samples_split=3, n_estimators=300 \n",
      "[CV]  bootstrap=False, max_depth=None, max_features=2, min_samples_leaf=3, min_samples_split=5, n_estimators=1000, total=  12.8s\n",
      "[CV] bootstrap=False, max_depth=None, max_features=2, min_samples_leaf=4, min_samples_split=3, n_estimators=1000 \n",
      "[CV]  bootstrap=False, max_depth=None, max_features=2, min_samples_leaf=4, min_samples_split=3, n_estimators=200, total=   2.2s\n",
      "[CV] bootstrap=False, max_depth=None, max_features=2, min_samples_leaf=4, min_samples_split=3, n_estimators=1000 \n",
      "[CV]  bootstrap=False, max_depth=None, max_features=2, min_samples_leaf=4, min_samples_split=3, n_estimators=300, total=   3.4s\n",
      "[CV] bootstrap=False, max_depth=None, max_features=2, min_samples_leaf=4, min_samples_split=3, n_estimators=1000 \n",
      "[CV]  bootstrap=False, max_depth=None, max_features=2, min_samples_leaf=4, min_samples_split=3, n_estimators=300, total=   3.4s\n",
      "[CV] bootstrap=False, max_depth=None, max_features=2, min_samples_leaf=4, min_samples_split=5, n_estimators=100 \n",
      "[CV]  bootstrap=False, max_depth=None, max_features=2, min_samples_leaf=4, min_samples_split=3, n_estimators=300, total=   3.3s\n",
      "[CV] bootstrap=False, max_depth=None, max_features=2, min_samples_leaf=4, min_samples_split=5, n_estimators=100 \n",
      "[CV]  bootstrap=False, max_depth=None, max_features=2, min_samples_leaf=4, min_samples_split=5, n_estimators=100, total=   1.1s\n",
      "[CV] bootstrap=False, max_depth=None, max_features=2, min_samples_leaf=4, min_samples_split=5, n_estimators=100 \n",
      "[CV]  bootstrap=False, max_depth=None, max_features=2, min_samples_leaf=4, min_samples_split=5, n_estimators=100, total=   1.2s\n",
      "[CV] bootstrap=False, max_depth=None, max_features=2, min_samples_leaf=4, min_samples_split=5, n_estimators=200 \n",
      "[CV]  bootstrap=False, max_depth=None, max_features=2, min_samples_leaf=3, min_samples_split=7, n_estimators=1000, total=  12.6s\n",
      "[CV] bootstrap=False, max_depth=None, max_features=2, min_samples_leaf=4, min_samples_split=5, n_estimators=200 \n",
      "[CV]  bootstrap=False, max_depth=None, max_features=2, min_samples_leaf=3, min_samples_split=7, n_estimators=1000, total=  12.7s\n",
      "[CV] bootstrap=False, max_depth=None, max_features=2, min_samples_leaf=4, min_samples_split=5, n_estimators=200 \n",
      "[CV]  bootstrap=False, max_depth=None, max_features=2, min_samples_leaf=4, min_samples_split=5, n_estimators=100, total=   1.2s\n",
      "[CV] bootstrap=False, max_depth=None, max_features=2, min_samples_leaf=4, min_samples_split=5, n_estimators=300 \n",
      "[CV]  bootstrap=False, max_depth=None, max_features=2, min_samples_leaf=4, min_samples_split=5, n_estimators=200, total=   2.3s\n",
      "[CV] bootstrap=False, max_depth=None, max_features=2, min_samples_leaf=4, min_samples_split=5, n_estimators=300 \n",
      "[CV]  bootstrap=False, max_depth=None, max_features=2, min_samples_leaf=3, min_samples_split=7, n_estimators=1000, total=  12.6s\n",
      "[CV] bootstrap=False, max_depth=None, max_features=2, min_samples_leaf=4, min_samples_split=5, n_estimators=300 \n",
      "[CV]  bootstrap=False, max_depth=None, max_features=2, min_samples_leaf=4, min_samples_split=5, n_estimators=200, total=   2.4s\n",
      "[CV] bootstrap=False, max_depth=None, max_features=2, min_samples_leaf=4, min_samples_split=5, n_estimators=1000 \n",
      "[CV]  bootstrap=False, max_depth=None, max_features=2, min_samples_leaf=4, min_samples_split=5, n_estimators=200, total=   2.3s\n",
      "[CV] bootstrap=False, max_depth=None, max_features=2, min_samples_leaf=4, min_samples_split=5, n_estimators=1000 \n",
      "[CV]  bootstrap=False, max_depth=None, max_features=2, min_samples_leaf=4, min_samples_split=5, n_estimators=300, total=   3.5s\n",
      "[CV] bootstrap=False, max_depth=None, max_features=2, min_samples_leaf=4, min_samples_split=5, n_estimators=1000 \n",
      "[CV]  bootstrap=False, max_depth=None, max_features=2, min_samples_leaf=4, min_samples_split=5, n_estimators=300, total=   3.4s\n",
      "[CV] bootstrap=False, max_depth=None, max_features=2, min_samples_leaf=4, min_samples_split=7, n_estimators=100 \n",
      "[CV]  bootstrap=False, max_depth=None, max_features=2, min_samples_leaf=4, min_samples_split=5, n_estimators=300, total=   3.4s\n",
      "[CV] bootstrap=False, max_depth=None, max_features=2, min_samples_leaf=4, min_samples_split=7, n_estimators=100 \n",
      "[CV]  bootstrap=False, max_depth=None, max_features=2, min_samples_leaf=4, min_samples_split=7, n_estimators=100, total=   1.1s\n",
      "[CV] bootstrap=False, max_depth=None, max_features=2, min_samples_leaf=4, min_samples_split=7, n_estimators=100 \n",
      "[CV]  bootstrap=False, max_depth=None, max_features=2, min_samples_leaf=4, min_samples_split=7, n_estimators=100, total=   1.1s\n",
      "[CV] bootstrap=False, max_depth=None, max_features=2, min_samples_leaf=4, min_samples_split=7, n_estimators=200 \n",
      "[CV]  bootstrap=False, max_depth=None, max_features=2, min_samples_leaf=4, min_samples_split=3, n_estimators=1000, total=  11.4s\n",
      "[CV] bootstrap=False, max_depth=None, max_features=2, min_samples_leaf=4, min_samples_split=7, n_estimators=200 \n",
      "[CV]  bootstrap=False, max_depth=None, max_features=2, min_samples_leaf=4, min_samples_split=7, n_estimators=100, total=   1.1s\n",
      "[CV] bootstrap=False, max_depth=None, max_features=2, min_samples_leaf=4, min_samples_split=7, n_estimators=200 \n",
      "[CV]  bootstrap=False, max_depth=None, max_features=2, min_samples_leaf=4, min_samples_split=3, n_estimators=1000, total=  11.4s\n",
      "[CV] bootstrap=False, max_depth=None, max_features=2, min_samples_leaf=4, min_samples_split=7, n_estimators=300 \n",
      "[CV]  bootstrap=False, max_depth=None, max_features=2, min_samples_leaf=4, min_samples_split=7, n_estimators=200, total=   2.3s\n",
      "[CV] bootstrap=False, max_depth=None, max_features=2, min_samples_leaf=4, min_samples_split=7, n_estimators=300 \n",
      "[CV]  bootstrap=False, max_depth=None, max_features=2, min_samples_leaf=4, min_samples_split=3, n_estimators=1000, total=  11.6s\n",
      "[CV] bootstrap=False, max_depth=None, max_features=2, min_samples_leaf=4, min_samples_split=7, n_estimators=300 \n",
      "[CV]  bootstrap=False, max_depth=None, max_features=2, min_samples_leaf=4, min_samples_split=7, n_estimators=200, total=   2.3s\n",
      "[CV] bootstrap=False, max_depth=None, max_features=2, min_samples_leaf=4, min_samples_split=7, n_estimators=1000 \n",
      "[CV]  bootstrap=False, max_depth=None, max_features=2, min_samples_leaf=4, min_samples_split=7, n_estimators=200, total=   2.3s\n",
      "[CV] bootstrap=False, max_depth=None, max_features=2, min_samples_leaf=4, min_samples_split=7, n_estimators=1000 \n",
      "[CV]  bootstrap=False, max_depth=None, max_features=2, min_samples_leaf=4, min_samples_split=7, n_estimators=300, total=   3.4s\n",
      "[CV] bootstrap=False, max_depth=None, max_features=2, min_samples_leaf=4, min_samples_split=7, n_estimators=1000 \n",
      "[CV]  bootstrap=False, max_depth=None, max_features=2, min_samples_leaf=4, min_samples_split=7, n_estimators=300, total=   3.4s\n",
      "[CV] bootstrap=False, max_depth=None, max_features=3, min_samples_leaf=2, min_samples_split=3, n_estimators=100 \n",
      "[CV]  bootstrap=False, max_depth=None, max_features=2, min_samples_leaf=4, min_samples_split=7, n_estimators=300, total=   3.4s\n",
      "[CV] bootstrap=False, max_depth=None, max_features=3, min_samples_leaf=2, min_samples_split=3, n_estimators=100 \n"
     ]
    },
    {
     "name": "stdout",
     "output_type": "stream",
     "text": [
      "[CV]  bootstrap=False, max_depth=None, max_features=2, min_samples_leaf=4, min_samples_split=5, n_estimators=1000, total=  11.4s\n",
      "[CV] bootstrap=False, max_depth=None, max_features=3, min_samples_leaf=2, min_samples_split=3, n_estimators=100 \n",
      "[CV]  bootstrap=False, max_depth=None, max_features=2, min_samples_leaf=4, min_samples_split=5, n_estimators=1000, total=  11.5s\n",
      "[CV] bootstrap=False, max_depth=None, max_features=3, min_samples_leaf=2, min_samples_split=3, n_estimators=200 \n",
      "[CV]  bootstrap=False, max_depth=None, max_features=3, min_samples_leaf=2, min_samples_split=3, n_estimators=100, total=   2.0s\n",
      "[CV] bootstrap=False, max_depth=None, max_features=3, min_samples_leaf=2, min_samples_split=3, n_estimators=200 \n",
      "[CV]  bootstrap=False, max_depth=None, max_features=3, min_samples_leaf=2, min_samples_split=3, n_estimators=100, total=   2.0s\n",
      "[CV] bootstrap=False, max_depth=None, max_features=3, min_samples_leaf=2, min_samples_split=3, n_estimators=200 \n",
      "[CV]  bootstrap=False, max_depth=None, max_features=2, min_samples_leaf=4, min_samples_split=5, n_estimators=1000, total=  11.4s\n",
      "[CV] bootstrap=False, max_depth=None, max_features=3, min_samples_leaf=2, min_samples_split=3, n_estimators=300 \n",
      "[CV]  bootstrap=False, max_depth=None, max_features=3, min_samples_leaf=2, min_samples_split=3, n_estimators=100, total=   2.1s\n",
      "[CV] bootstrap=False, max_depth=None, max_features=3, min_samples_leaf=2, min_samples_split=3, n_estimators=300 \n",
      "[CV]  bootstrap=False, max_depth=None, max_features=3, min_samples_leaf=2, min_samples_split=3, n_estimators=200, total=   4.1s\n",
      "[CV] bootstrap=False, max_depth=None, max_features=3, min_samples_leaf=2, min_samples_split=3, n_estimators=300 \n",
      "[CV]  bootstrap=False, max_depth=None, max_features=3, min_samples_leaf=2, min_samples_split=3, n_estimators=200, total=   4.1s\n",
      "[CV] bootstrap=False, max_depth=None, max_features=3, min_samples_leaf=2, min_samples_split=3, n_estimators=1000 \n",
      "[CV]  bootstrap=False, max_depth=None, max_features=3, min_samples_leaf=2, min_samples_split=3, n_estimators=200, total=   4.2s\n",
      "[CV] bootstrap=False, max_depth=None, max_features=3, min_samples_leaf=2, min_samples_split=3, n_estimators=1000 \n",
      "[CV]  bootstrap=False, max_depth=None, max_features=2, min_samples_leaf=4, min_samples_split=7, n_estimators=1000, total=  11.5s\n",
      "[CV] bootstrap=False, max_depth=None, max_features=3, min_samples_leaf=2, min_samples_split=3, n_estimators=1000 \n",
      "[CV]  bootstrap=False, max_depth=None, max_features=2, min_samples_leaf=4, min_samples_split=7, n_estimators=1000, total=  11.5s\n",
      "[CV] bootstrap=False, max_depth=None, max_features=3, min_samples_leaf=2, min_samples_split=5, n_estimators=100 \n",
      "[CV]  bootstrap=False, max_depth=None, max_features=3, min_samples_leaf=2, min_samples_split=3, n_estimators=300, total=   6.2s\n",
      "[CV] bootstrap=False, max_depth=None, max_features=3, min_samples_leaf=2, min_samples_split=5, n_estimators=100 \n",
      "[CV]  bootstrap=False, max_depth=None, max_features=3, min_samples_leaf=2, min_samples_split=3, n_estimators=300, total=   6.2s\n",
      "[CV] bootstrap=False, max_depth=None, max_features=3, min_samples_leaf=2, min_samples_split=5, n_estimators=100 \n",
      "[CV]  bootstrap=False, max_depth=None, max_features=2, min_samples_leaf=4, min_samples_split=7, n_estimators=1000, total=  11.5s\n",
      "[CV] bootstrap=False, max_depth=None, max_features=3, min_samples_leaf=2, min_samples_split=5, n_estimators=200 \n",
      "[CV]  bootstrap=False, max_depth=None, max_features=3, min_samples_leaf=2, min_samples_split=5, n_estimators=100, total=   2.0s\n",
      "[CV] bootstrap=False, max_depth=None, max_features=3, min_samples_leaf=2, min_samples_split=5, n_estimators=200 \n",
      "[CV]  bootstrap=False, max_depth=None, max_features=3, min_samples_leaf=2, min_samples_split=5, n_estimators=100, total=   2.0s\n",
      "[CV] bootstrap=False, max_depth=None, max_features=3, min_samples_leaf=2, min_samples_split=5, n_estimators=200 \n",
      "[CV]  bootstrap=False, max_depth=None, max_features=3, min_samples_leaf=2, min_samples_split=5, n_estimators=100, total=   1.9s\n",
      "[CV] bootstrap=False, max_depth=None, max_features=3, min_samples_leaf=2, min_samples_split=5, n_estimators=300 \n",
      "[CV]  bootstrap=False, max_depth=None, max_features=3, min_samples_leaf=2, min_samples_split=3, n_estimators=300, total=   6.1s\n",
      "[CV] bootstrap=False, max_depth=None, max_features=3, min_samples_leaf=2, min_samples_split=5, n_estimators=300 \n",
      "[CV]  bootstrap=False, max_depth=None, max_features=3, min_samples_leaf=2, min_samples_split=5, n_estimators=200, total=   4.0s\n",
      "[CV] bootstrap=False, max_depth=None, max_features=3, min_samples_leaf=2, min_samples_split=5, n_estimators=300 \n",
      "[CV]  bootstrap=False, max_depth=None, max_features=3, min_samples_leaf=2, min_samples_split=5, n_estimators=200, total=   4.0s\n",
      "[CV] bootstrap=False, max_depth=None, max_features=3, min_samples_leaf=2, min_samples_split=5, n_estimators=1000 \n",
      "[CV]  bootstrap=False, max_depth=None, max_features=3, min_samples_leaf=2, min_samples_split=5, n_estimators=200, total=   4.0s\n",
      "[CV] bootstrap=False, max_depth=None, max_features=3, min_samples_leaf=2, min_samples_split=5, n_estimators=1000 \n",
      "[CV]  bootstrap=False, max_depth=None, max_features=3, min_samples_leaf=2, min_samples_split=5, n_estimators=300, total=   6.1s\n",
      "[CV] bootstrap=False, max_depth=None, max_features=3, min_samples_leaf=2, min_samples_split=5, n_estimators=1000 \n",
      "[CV]  bootstrap=False, max_depth=None, max_features=3, min_samples_leaf=2, min_samples_split=5, n_estimators=300, total=   6.1s\n",
      "[CV] bootstrap=False, max_depth=None, max_features=3, min_samples_leaf=2, min_samples_split=7, n_estimators=100 \n",
      "[CV]  bootstrap=False, max_depth=None, max_features=3, min_samples_leaf=2, min_samples_split=7, n_estimators=100, total=   1.9s\n",
      "[CV] bootstrap=False, max_depth=None, max_features=3, min_samples_leaf=2, min_samples_split=7, n_estimators=100 \n",
      "[CV]  bootstrap=False, max_depth=None, max_features=3, min_samples_leaf=2, min_samples_split=5, n_estimators=300, total=   5.9s\n",
      "[CV] bootstrap=False, max_depth=None, max_features=3, min_samples_leaf=2, min_samples_split=7, n_estimators=100 \n",
      "[CV]  bootstrap=False, max_depth=None, max_features=3, min_samples_leaf=2, min_samples_split=7, n_estimators=100, total=   1.9s\n",
      "[CV] bootstrap=False, max_depth=None, max_features=3, min_samples_leaf=2, min_samples_split=7, n_estimators=200 \n",
      "[CV]  bootstrap=False, max_depth=None, max_features=3, min_samples_leaf=2, min_samples_split=7, n_estimators=100, total=   1.9s\n",
      "[CV] bootstrap=False, max_depth=None, max_features=3, min_samples_leaf=2, min_samples_split=7, n_estimators=200 \n",
      "[CV]  bootstrap=False, max_depth=None, max_features=3, min_samples_leaf=2, min_samples_split=7, n_estimators=200, total=   3.9s\n",
      "[CV] bootstrap=False, max_depth=None, max_features=3, min_samples_leaf=2, min_samples_split=7, n_estimators=200 \n",
      "[CV]  bootstrap=False, max_depth=None, max_features=3, min_samples_leaf=2, min_samples_split=7, n_estimators=200, total=   3.9s\n",
      "[CV] bootstrap=False, max_depth=None, max_features=3, min_samples_leaf=2, min_samples_split=7, n_estimators=300 \n",
      "[CV]  bootstrap=False, max_depth=None, max_features=3, min_samples_leaf=2, min_samples_split=3, n_estimators=1000, total=  20.6s\n",
      "[CV] bootstrap=False, max_depth=None, max_features=3, min_samples_leaf=2, min_samples_split=7, n_estimators=300 \n",
      "[CV]  bootstrap=False, max_depth=None, max_features=3, min_samples_leaf=2, min_samples_split=3, n_estimators=1000, total=  20.5s\n",
      "[CV] bootstrap=False, max_depth=None, max_features=3, min_samples_leaf=2, min_samples_split=7, n_estimators=300 \n"
     ]
    },
    {
     "name": "stderr",
     "output_type": "stream",
     "text": [
      "[Parallel(n_jobs=-1)]: Done 349 tasks      | elapsed:  4.3min\n"
     ]
    },
    {
     "name": "stdout",
     "output_type": "stream",
     "text": [
      "[CV]  bootstrap=False, max_depth=None, max_features=3, min_samples_leaf=2, min_samples_split=3, n_estimators=1000, total=  20.4s\n",
      "[CV] bootstrap=False, max_depth=None, max_features=3, min_samples_leaf=2, min_samples_split=7, n_estimators=1000 \n",
      "[CV]  bootstrap=False, max_depth=None, max_features=3, min_samples_leaf=2, min_samples_split=7, n_estimators=200, total=   3.8s\n",
      "[CV] bootstrap=False, max_depth=None, max_features=3, min_samples_leaf=2, min_samples_split=7, n_estimators=1000 \n",
      "[CV]  bootstrap=False, max_depth=None, max_features=3, min_samples_leaf=2, min_samples_split=7, n_estimators=300, total=   5.7s\n",
      "[CV] bootstrap=False, max_depth=None, max_features=3, min_samples_leaf=2, min_samples_split=7, n_estimators=1000 \n",
      "[CV]  bootstrap=False, max_depth=None, max_features=3, min_samples_leaf=2, min_samples_split=7, n_estimators=300, total=   5.8s\n",
      "[CV] bootstrap=False, max_depth=None, max_features=3, min_samples_leaf=3, min_samples_split=3, n_estimators=100 \n",
      "[CV]  bootstrap=False, max_depth=None, max_features=3, min_samples_leaf=2, min_samples_split=7, n_estimators=300, total=   5.7s\n",
      "[CV] bootstrap=False, max_depth=None, max_features=3, min_samples_leaf=3, min_samples_split=3, n_estimators=100 \n",
      "[CV]  bootstrap=False, max_depth=None, max_features=3, min_samples_leaf=3, min_samples_split=3, n_estimators=100, total=   1.7s\n",
      "[CV] bootstrap=False, max_depth=None, max_features=3, min_samples_leaf=3, min_samples_split=3, n_estimators=100 \n",
      "[CV]  bootstrap=False, max_depth=None, max_features=3, min_samples_leaf=3, min_samples_split=3, n_estimators=100, total=   1.7s\n",
      "[CV] bootstrap=False, max_depth=None, max_features=3, min_samples_leaf=3, min_samples_split=3, n_estimators=200 \n",
      "[CV]  bootstrap=False, max_depth=None, max_features=3, min_samples_leaf=2, min_samples_split=5, n_estimators=1000, total=  19.8s\n",
      "[CV]  bootstrap=False, max_depth=None, max_features=3, min_samples_leaf=2, min_samples_split=5, n_estimators=1000, total=  20.0s\n",
      "[CV] bootstrap=False, max_depth=None, max_features=3, min_samples_leaf=3, min_samples_split=3, n_estimators=200 \n",
      "[CV] bootstrap=False, max_depth=None, max_features=3, min_samples_leaf=3, min_samples_split=3, n_estimators=200 \n",
      "[CV]  bootstrap=False, max_depth=None, max_features=3, min_samples_leaf=3, min_samples_split=3, n_estimators=100, total=   1.7s\n",
      "[CV] bootstrap=False, max_depth=None, max_features=3, min_samples_leaf=3, min_samples_split=3, n_estimators=300 \n",
      "[CV]  bootstrap=False, max_depth=None, max_features=3, min_samples_leaf=2, min_samples_split=5, n_estimators=1000, total=  19.8s\n",
      "[CV] bootstrap=False, max_depth=None, max_features=3, min_samples_leaf=3, min_samples_split=3, n_estimators=300 \n",
      "[CV]  bootstrap=False, max_depth=None, max_features=3, min_samples_leaf=3, min_samples_split=3, n_estimators=200, total=   3.5s\n",
      "[CV] bootstrap=False, max_depth=None, max_features=3, min_samples_leaf=3, min_samples_split=3, n_estimators=300 \n",
      "[CV]  bootstrap=False, max_depth=None, max_features=3, min_samples_leaf=3, min_samples_split=3, n_estimators=200, total=   3.4s\n",
      "[CV] bootstrap=False, max_depth=None, max_features=3, min_samples_leaf=3, min_samples_split=3, n_estimators=1000 \n",
      "[CV]  bootstrap=False, max_depth=None, max_features=3, min_samples_leaf=3, min_samples_split=3, n_estimators=200, total=   3.4s\n",
      "[CV] bootstrap=False, max_depth=None, max_features=3, min_samples_leaf=3, min_samples_split=3, n_estimators=1000 \n",
      "[CV]  bootstrap=False, max_depth=None, max_features=3, min_samples_leaf=3, min_samples_split=3, n_estimators=300, total=   5.2s\n",
      "[CV] bootstrap=False, max_depth=None, max_features=3, min_samples_leaf=3, min_samples_split=3, n_estimators=1000 \n",
      "[CV]  bootstrap=False, max_depth=None, max_features=3, min_samples_leaf=3, min_samples_split=3, n_estimators=300, total=   5.3s\n",
      "[CV] bootstrap=False, max_depth=None, max_features=3, min_samples_leaf=3, min_samples_split=5, n_estimators=100 \n",
      "[CV]  bootstrap=False, max_depth=None, max_features=3, min_samples_leaf=3, min_samples_split=3, n_estimators=300, total=   5.5s\n",
      "[CV] bootstrap=False, max_depth=None, max_features=3, min_samples_leaf=3, min_samples_split=5, n_estimators=100 \n",
      "[CV]  bootstrap=False, max_depth=None, max_features=3, min_samples_leaf=3, min_samples_split=5, n_estimators=100, total=   2.3s\n",
      "[CV] bootstrap=False, max_depth=None, max_features=3, min_samples_leaf=3, min_samples_split=5, n_estimators=100 \n",
      "[CV]  bootstrap=False, max_depth=None, max_features=3, min_samples_leaf=3, min_samples_split=5, n_estimators=100, total=   1.9s\n",
      "[CV] bootstrap=False, max_depth=None, max_features=3, min_samples_leaf=3, min_samples_split=5, n_estimators=200 \n",
      "[CV]  bootstrap=False, max_depth=None, max_features=3, min_samples_leaf=3, min_samples_split=5, n_estimators=100, total=   2.0s\n",
      "[CV] bootstrap=False, max_depth=None, max_features=3, min_samples_leaf=3, min_samples_split=5, n_estimators=200 \n",
      "[CV]  bootstrap=False, max_depth=None, max_features=3, min_samples_leaf=3, min_samples_split=5, n_estimators=200, total=   4.0s\n",
      "[CV] bootstrap=False, max_depth=None, max_features=3, min_samples_leaf=3, min_samples_split=5, n_estimators=200 \n",
      "[CV]  bootstrap=False, max_depth=None, max_features=3, min_samples_leaf=2, min_samples_split=7, n_estimators=1000, total=  20.5s\n",
      "[CV] bootstrap=False, max_depth=None, max_features=3, min_samples_leaf=3, min_samples_split=5, n_estimators=300 \n",
      "[CV]  bootstrap=False, max_depth=None, max_features=3, min_samples_leaf=2, min_samples_split=7, n_estimators=1000, total=  20.6s\n",
      "[CV] bootstrap=False, max_depth=None, max_features=3, min_samples_leaf=3, min_samples_split=5, n_estimators=300 \n",
      "[CV]  bootstrap=False, max_depth=None, max_features=3, min_samples_leaf=3, min_samples_split=5, n_estimators=200, total=   3.8s\n",
      "[CV] bootstrap=False, max_depth=None, max_features=3, min_samples_leaf=3, min_samples_split=5, n_estimators=300 \n",
      "[CV]  bootstrap=False, max_depth=None, max_features=3, min_samples_leaf=2, min_samples_split=7, n_estimators=1000, total=  20.8s\n",
      "[CV] bootstrap=False, max_depth=None, max_features=3, min_samples_leaf=3, min_samples_split=5, n_estimators=1000 \n",
      "[CV]  bootstrap=False, max_depth=None, max_features=3, min_samples_leaf=3, min_samples_split=5, n_estimators=200, total=   3.6s\n",
      "[CV] bootstrap=False, max_depth=None, max_features=3, min_samples_leaf=3, min_samples_split=5, n_estimators=1000 \n",
      "[CV]  bootstrap=False, max_depth=None, max_features=3, min_samples_leaf=3, min_samples_split=5, n_estimators=300, total=   5.4s\n",
      "[CV] bootstrap=False, max_depth=None, max_features=3, min_samples_leaf=3, min_samples_split=5, n_estimators=1000 \n",
      "[CV]  bootstrap=False, max_depth=None, max_features=3, min_samples_leaf=3, min_samples_split=5, n_estimators=300, total=   5.5s\n",
      "[CV] bootstrap=False, max_depth=None, max_features=3, min_samples_leaf=3, min_samples_split=7, n_estimators=100 \n",
      "[CV]  bootstrap=False, max_depth=None, max_features=3, min_samples_leaf=3, min_samples_split=5, n_estimators=300, total=   5.4s\n",
      "[CV] bootstrap=False, max_depth=None, max_features=3, min_samples_leaf=3, min_samples_split=7, n_estimators=100 \n",
      "[CV]  bootstrap=False, max_depth=None, max_features=3, min_samples_leaf=3, min_samples_split=3, n_estimators=1000, total=  19.1s\n",
      "[CV]  bootstrap=False, max_depth=None, max_features=3, min_samples_leaf=3, min_samples_split=3, n_estimators=1000, total=  19.1s\n",
      "[CV] bootstrap=False, max_depth=None, max_features=3, min_samples_leaf=3, min_samples_split=7, n_estimators=100 \n",
      "[CV] bootstrap=False, max_depth=None, max_features=3, min_samples_leaf=3, min_samples_split=7, n_estimators=200 \n",
      "[CV]  bootstrap=False, max_depth=None, max_features=3, min_samples_leaf=3, min_samples_split=7, n_estimators=100, total=   1.8s\n",
      "[CV] bootstrap=False, max_depth=None, max_features=3, min_samples_leaf=3, min_samples_split=7, n_estimators=200 \n",
      "[CV]  bootstrap=False, max_depth=None, max_features=3, min_samples_leaf=3, min_samples_split=7, n_estimators=100, total=   1.9s\n",
      "[CV] bootstrap=False, max_depth=None, max_features=3, min_samples_leaf=3, min_samples_split=7, n_estimators=200 \n",
      "[CV]  bootstrap=False, max_depth=None, max_features=3, min_samples_leaf=3, min_samples_split=7, n_estimators=100, total=   1.8s\n",
      "[CV] bootstrap=False, max_depth=None, max_features=3, min_samples_leaf=3, min_samples_split=7, n_estimators=300 \n"
     ]
    },
    {
     "name": "stdout",
     "output_type": "stream",
     "text": [
      "[CV]  bootstrap=False, max_depth=None, max_features=3, min_samples_leaf=3, min_samples_split=3, n_estimators=1000, total=  19.0s\n",
      "[CV] bootstrap=False, max_depth=None, max_features=3, min_samples_leaf=3, min_samples_split=7, n_estimators=300 \n",
      "[CV]  bootstrap=False, max_depth=None, max_features=3, min_samples_leaf=3, min_samples_split=7, n_estimators=200, total=   3.5s\n",
      "[CV] bootstrap=False, max_depth=None, max_features=3, min_samples_leaf=3, min_samples_split=7, n_estimators=300 \n",
      "[CV]  bootstrap=False, max_depth=None, max_features=3, min_samples_leaf=3, min_samples_split=7, n_estimators=200, total=   3.4s\n",
      "[CV] bootstrap=False, max_depth=None, max_features=3, min_samples_leaf=3, min_samples_split=7, n_estimators=1000 \n",
      "[CV]  bootstrap=False, max_depth=None, max_features=3, min_samples_leaf=3, min_samples_split=7, n_estimators=200, total=   3.5s\n",
      "[CV] bootstrap=False, max_depth=None, max_features=3, min_samples_leaf=3, min_samples_split=7, n_estimators=1000 \n",
      "[CV]  bootstrap=False, max_depth=None, max_features=3, min_samples_leaf=3, min_samples_split=7, n_estimators=300, total=   5.3s\n",
      "[CV] bootstrap=False, max_depth=None, max_features=3, min_samples_leaf=3, min_samples_split=7, n_estimators=1000 \n",
      "[CV]  bootstrap=False, max_depth=None, max_features=3, min_samples_leaf=3, min_samples_split=7, n_estimators=300, total=   5.4s\n",
      "[CV] bootstrap=False, max_depth=None, max_features=3, min_samples_leaf=4, min_samples_split=3, n_estimators=100 \n",
      "[CV]  bootstrap=False, max_depth=None, max_features=3, min_samples_leaf=3, min_samples_split=7, n_estimators=300, total=   5.3s\n",
      "[CV] bootstrap=False, max_depth=None, max_features=3, min_samples_leaf=4, min_samples_split=3, n_estimators=100 \n",
      "[CV]  bootstrap=False, max_depth=None, max_features=3, min_samples_leaf=4, min_samples_split=3, n_estimators=100, total=   1.7s\n",
      "[CV] bootstrap=False, max_depth=None, max_features=3, min_samples_leaf=4, min_samples_split=3, n_estimators=100 \n",
      "[CV]  bootstrap=False, max_depth=None, max_features=3, min_samples_leaf=4, min_samples_split=3, n_estimators=100, total=   1.7s\n",
      "[CV] bootstrap=False, max_depth=None, max_features=3, min_samples_leaf=4, min_samples_split=3, n_estimators=200 \n",
      "[CV]  bootstrap=False, max_depth=None, max_features=3, min_samples_leaf=4, min_samples_split=3, n_estimators=100, total=   1.6s\n",
      "[CV] bootstrap=False, max_depth=None, max_features=3, min_samples_leaf=4, min_samples_split=3, n_estimators=200 \n",
      "[CV]  bootstrap=False, max_depth=None, max_features=3, min_samples_leaf=3, min_samples_split=5, n_estimators=1000, total=  18.1s\n",
      "[CV]  bootstrap=False, max_depth=None, max_features=3, min_samples_leaf=4, min_samples_split=3, n_estimators=200, total=   3.4s\n",
      "[CV] bootstrap=False, max_depth=None, max_features=3, min_samples_leaf=4, min_samples_split=3, n_estimators=200 \n",
      "[CV] bootstrap=False, max_depth=None, max_features=3, min_samples_leaf=4, min_samples_split=3, n_estimators=300 \n",
      "[CV]  bootstrap=False, max_depth=None, max_features=3, min_samples_leaf=3, min_samples_split=5, n_estimators=1000, total=  18.0s\n",
      "[CV] bootstrap=False, max_depth=None, max_features=3, min_samples_leaf=4, min_samples_split=3, n_estimators=300 \n",
      "[CV]  bootstrap=False, max_depth=None, max_features=3, min_samples_leaf=4, min_samples_split=3, n_estimators=200, total=   3.5s\n",
      "[CV] bootstrap=False, max_depth=None, max_features=3, min_samples_leaf=4, min_samples_split=3, n_estimators=300 \n",
      "[CV]  bootstrap=False, max_depth=None, max_features=3, min_samples_leaf=3, min_samples_split=5, n_estimators=1000, total=  18.3s\n",
      "[CV] bootstrap=False, max_depth=None, max_features=3, min_samples_leaf=4, min_samples_split=3, n_estimators=1000 \n",
      "[CV]  bootstrap=False, max_depth=None, max_features=3, min_samples_leaf=4, min_samples_split=3, n_estimators=200, total=   3.8s\n",
      "[CV] bootstrap=False, max_depth=None, max_features=3, min_samples_leaf=4, min_samples_split=3, n_estimators=1000 \n",
      "[CV]  bootstrap=False, max_depth=None, max_features=3, min_samples_leaf=4, min_samples_split=3, n_estimators=300, total=   5.7s\n",
      "[CV] bootstrap=False, max_depth=None, max_features=3, min_samples_leaf=4, min_samples_split=3, n_estimators=1000 \n",
      "[CV]  bootstrap=False, max_depth=None, max_features=3, min_samples_leaf=4, min_samples_split=3, n_estimators=300, total=   5.6s\n",
      "[CV] bootstrap=False, max_depth=None, max_features=3, min_samples_leaf=4, min_samples_split=5, n_estimators=100 \n",
      "[CV]  bootstrap=False, max_depth=None, max_features=3, min_samples_leaf=4, min_samples_split=3, n_estimators=300, total=   5.6s\n",
      "[CV] bootstrap=False, max_depth=None, max_features=3, min_samples_leaf=4, min_samples_split=5, n_estimators=100 \n",
      "[CV]  bootstrap=False, max_depth=None, max_features=3, min_samples_leaf=4, min_samples_split=5, n_estimators=100, total=   1.9s\n",
      "[CV] bootstrap=False, max_depth=None, max_features=3, min_samples_leaf=4, min_samples_split=5, n_estimators=100 \n",
      "[CV]  bootstrap=False, max_depth=None, max_features=3, min_samples_leaf=4, min_samples_split=5, n_estimators=100, total=   1.9s\n",
      "[CV] bootstrap=False, max_depth=None, max_features=3, min_samples_leaf=4, min_samples_split=5, n_estimators=200 \n",
      "[CV]  bootstrap=False, max_depth=None, max_features=3, min_samples_leaf=3, min_samples_split=7, n_estimators=1000, total=  19.0s\n",
      "[CV] bootstrap=False, max_depth=None, max_features=3, min_samples_leaf=4, min_samples_split=5, n_estimators=200 \n",
      "[CV]  bootstrap=False, max_depth=None, max_features=3, min_samples_leaf=3, min_samples_split=7, n_estimators=1000, total=  19.1s\n",
      "[CV]  bootstrap=False, max_depth=None, max_features=3, min_samples_leaf=4, min_samples_split=5, n_estimators=100, total=   1.9s\n",
      "[CV] bootstrap=False, max_depth=None, max_features=3, min_samples_leaf=4, min_samples_split=5, n_estimators=200 \n",
      "[CV] bootstrap=False, max_depth=None, max_features=3, min_samples_leaf=4, min_samples_split=5, n_estimators=300 \n",
      "[CV]  bootstrap=False, max_depth=None, max_features=3, min_samples_leaf=4, min_samples_split=5, n_estimators=200, total=   3.9s\n",
      "[CV] bootstrap=False, max_depth=None, max_features=3, min_samples_leaf=4, min_samples_split=5, n_estimators=300 \n",
      "[CV]  bootstrap=False, max_depth=None, max_features=3, min_samples_leaf=3, min_samples_split=7, n_estimators=1000, total=  19.5s\n",
      "[CV] bootstrap=False, max_depth=None, max_features=3, min_samples_leaf=4, min_samples_split=5, n_estimators=300 \n",
      "[CV]  bootstrap=False, max_depth=None, max_features=3, min_samples_leaf=4, min_samples_split=5, n_estimators=200, total=   3.8s\n",
      "[CV] bootstrap=False, max_depth=None, max_features=3, min_samples_leaf=4, min_samples_split=5, n_estimators=1000 \n",
      "[CV]  bootstrap=False, max_depth=None, max_features=3, min_samples_leaf=4, min_samples_split=5, n_estimators=200, total=   3.7s\n",
      "[CV] bootstrap=False, max_depth=None, max_features=3, min_samples_leaf=4, min_samples_split=5, n_estimators=1000 \n",
      "[CV]  bootstrap=False, max_depth=None, max_features=3, min_samples_leaf=4, min_samples_split=5, n_estimators=300, total=   5.3s\n",
      "[CV] bootstrap=False, max_depth=None, max_features=3, min_samples_leaf=4, min_samples_split=5, n_estimators=1000 \n",
      "[CV]  bootstrap=False, max_depth=None, max_features=3, min_samples_leaf=4, min_samples_split=5, n_estimators=300, total=   4.8s\n",
      "[CV] bootstrap=False, max_depth=None, max_features=3, min_samples_leaf=4, min_samples_split=7, n_estimators=100 \n",
      "[CV]  bootstrap=False, max_depth=None, max_features=3, min_samples_leaf=4, min_samples_split=5, n_estimators=300, total=   4.8s\n",
      "[CV] bootstrap=False, max_depth=None, max_features=3, min_samples_leaf=4, min_samples_split=7, n_estimators=100 \n",
      "[CV]  bootstrap=False, max_depth=None, max_features=3, min_samples_leaf=4, min_samples_split=7, n_estimators=100, total=   1.6s\n",
      "[CV] bootstrap=False, max_depth=None, max_features=3, min_samples_leaf=4, min_samples_split=7, n_estimators=100 \n",
      "[CV]  bootstrap=False, max_depth=None, max_features=3, min_samples_leaf=4, min_samples_split=7, n_estimators=100, total=   1.6s\n",
      "[CV] bootstrap=False, max_depth=None, max_features=3, min_samples_leaf=4, min_samples_split=7, n_estimators=200 \n",
      "[CV]  bootstrap=False, max_depth=None, max_features=3, min_samples_leaf=4, min_samples_split=3, n_estimators=1000, total=  17.8s\n",
      "[CV] bootstrap=False, max_depth=None, max_features=3, min_samples_leaf=4, min_samples_split=7, n_estimators=200 \n"
     ]
    },
    {
     "name": "stdout",
     "output_type": "stream",
     "text": [
      "[CV]  bootstrap=False, max_depth=None, max_features=3, min_samples_leaf=4, min_samples_split=7, n_estimators=100, total=   1.7s\n",
      "[CV] bootstrap=False, max_depth=None, max_features=3, min_samples_leaf=4, min_samples_split=7, n_estimators=200 \n",
      "[CV]  bootstrap=False, max_depth=None, max_features=3, min_samples_leaf=4, min_samples_split=3, n_estimators=1000, total=  17.3s\n",
      "[CV] bootstrap=False, max_depth=None, max_features=3, min_samples_leaf=4, min_samples_split=7, n_estimators=300 \n",
      "[CV]  bootstrap=False, max_depth=None, max_features=3, min_samples_leaf=4, min_samples_split=7, n_estimators=200, total=   3.3s\n",
      "[CV] bootstrap=False, max_depth=None, max_features=3, min_samples_leaf=4, min_samples_split=7, n_estimators=300 \n",
      "[CV]  bootstrap=False, max_depth=None, max_features=3, min_samples_leaf=4, min_samples_split=3, n_estimators=1000, total=  17.2s\n",
      "[CV] bootstrap=False, max_depth=None, max_features=3, min_samples_leaf=4, min_samples_split=7, n_estimators=300 \n",
      "[CV]  bootstrap=False, max_depth=None, max_features=3, min_samples_leaf=4, min_samples_split=7, n_estimators=200, total=   3.2s\n",
      "[CV] bootstrap=False, max_depth=None, max_features=3, min_samples_leaf=4, min_samples_split=7, n_estimators=1000 \n",
      "[CV]  bootstrap=False, max_depth=None, max_features=3, min_samples_leaf=4, min_samples_split=7, n_estimators=200, total=   3.2s\n",
      "[CV] bootstrap=False, max_depth=None, max_features=3, min_samples_leaf=4, min_samples_split=7, n_estimators=1000 \n",
      "[CV]  bootstrap=False, max_depth=None, max_features=3, min_samples_leaf=4, min_samples_split=7, n_estimators=300, total=   4.7s\n",
      "[CV] bootstrap=False, max_depth=None, max_features=3, min_samples_leaf=4, min_samples_split=7, n_estimators=1000 \n",
      "[CV]  bootstrap=False, max_depth=None, max_features=3, min_samples_leaf=4, min_samples_split=7, n_estimators=300, total=   4.7s\n",
      "[CV]  bootstrap=False, max_depth=None, max_features=3, min_samples_leaf=4, min_samples_split=7, n_estimators=300, total=   4.7s\n",
      "[CV]  bootstrap=False, max_depth=None, max_features=3, min_samples_leaf=4, min_samples_split=5, n_estimators=1000, total=  16.0s\n",
      "[CV]  bootstrap=False, max_depth=None, max_features=3, min_samples_leaf=4, min_samples_split=5, n_estimators=1000, total=  15.8s\n",
      "[CV]  bootstrap=False, max_depth=None, max_features=3, min_samples_leaf=4, min_samples_split=5, n_estimators=1000, total=  15.6s\n",
      "[CV]  bootstrap=False, max_depth=None, max_features=3, min_samples_leaf=4, min_samples_split=7, n_estimators=1000, total=  11.7s\n",
      "[CV]  bootstrap=False, max_depth=None, max_features=3, min_samples_leaf=4, min_samples_split=7, n_estimators=1000, total=  11.6s\n",
      "[CV]  bootstrap=False, max_depth=None, max_features=3, min_samples_leaf=4, min_samples_split=7, n_estimators=1000, total=  10.6s\n"
     ]
    },
    {
     "name": "stderr",
     "output_type": "stream",
     "text": [
      "[Parallel(n_jobs=-1)]: Done 432 out of 432 | elapsed:  5.8min finished\n"
     ]
    },
    {
     "data": {
      "text/plain": [
       "{'bootstrap': False,\n",
       " 'max_depth': None,\n",
       " 'max_features': 3,\n",
       " 'min_samples_leaf': 2,\n",
       " 'min_samples_split': 3,\n",
       " 'n_estimators': 200}"
      ]
     },
     "execution_count": 66,
     "metadata": {},
     "output_type": "execute_result"
    }
   ],
   "source": [
    "# Fit the grid search to the data\n",
    "grid_search.fit(X_train_reg, y_train_reg)\n",
    "grid_search.best_params_"
   ]
  },
  {
   "cell_type": "code",
   "execution_count": 67,
   "metadata": {
    "scrolled": true
   },
   "outputs": [
    {
     "data": {
      "text/plain": [
       "{'bootstrap': False,\n",
       " 'max_depth': None,\n",
       " 'max_features': 3,\n",
       " 'min_samples_leaf': 2,\n",
       " 'min_samples_split': 3,\n",
       " 'n_estimators': 200}"
      ]
     },
     "execution_count": 67,
     "metadata": {},
     "output_type": "execute_result"
    }
   ],
   "source": [
    "grid_search.best_params_"
   ]
  },
  {
   "cell_type": "code",
   "execution_count": 68,
   "metadata": {},
   "outputs": [
    {
     "name": "stdout",
     "output_type": "stream",
     "text": [
      "Model Performance\n",
      "Average Error: 89551.3631 degrees.\n",
      "Accuracy = 82.25%.\n"
     ]
    }
   ],
   "source": [
    "best_grid = grid_search.best_estimator_\n",
    "grid_accuracy = evaluate_reg(best_grid, X_test_reg, y_test_reg)"
   ]
  },
  {
   "cell_type": "markdown",
   "metadata": {},
   "source": [
    "## Now lets implement XGBoost (eXtreme Gradient Boosting)"
   ]
  },
  {
   "cell_type": "code",
   "execution_count": 69,
   "metadata": {
    "collapsed": true
   },
   "outputs": [],
   "source": [
    "from xgboost import XGBRegressor"
   ]
  },
  {
   "cell_type": "code",
   "execution_count": 70,
   "metadata": {
    "scrolled": true
   },
   "outputs": [
    {
     "name": "stdout",
     "output_type": "stream",
     "text": [
      "Model Performance\n",
      "Average Error: 81710.5396 degrees.\n",
      "Accuracy = 84.13%.\n"
     ]
    }
   ],
   "source": [
    "base_model = XGBRegressor()\n",
    "base_model.fit(X_train_reg, y_train_reg)\n",
    "base_accuracy = evaluate_reg(base_model, X_test_reg, y_test_reg)"
   ]
  },
  {
   "cell_type": "code",
   "execution_count": 71,
   "metadata": {},
   "outputs": [
    {
     "data": {
      "text/plain": [
       "XGBRegressor(base_score=0.5, colsample_bylevel=1, colsample_bytree=1, gamma=0,\n",
       "       learning_rate=0.1, max_delta_step=0, max_depth=3,\n",
       "       min_child_weight=1, missing=None, n_estimators=100, nthread=-1,\n",
       "       objective='reg:linear', reg_alpha=0, reg_lambda=1,\n",
       "       scale_pos_weight=1, seed=0, silent=True, subsample=1)"
      ]
     },
     "execution_count": 71,
     "metadata": {},
     "output_type": "execute_result"
    }
   ],
   "source": [
    "base_model"
   ]
  },
  {
   "cell_type": "code",
   "execution_count": 72,
   "metadata": {},
   "outputs": [
    {
     "name": "stdout",
     "output_type": "stream",
     "text": [
      "Best: 0.709911 using {'n_estimators': 350}\n",
      "0.677030 (0.014310) with: {'n_estimators': 50}\n",
      "0.690376 (0.013324) with: {'n_estimators': 100}\n",
      "0.697536 (0.013723) with: {'n_estimators': 150}\n",
      "0.702459 (0.014077) with: {'n_estimators': 200}\n",
      "0.705793 (0.014242) with: {'n_estimators': 250}\n",
      "0.707962 (0.014136) with: {'n_estimators': 300}\n",
      "0.709911 (0.014147) with: {'n_estimators': 350}\n"
     ]
    }
   ],
   "source": [
    "model = XGBRegressor()\n",
    "n_estimators = range(50, 400, 50)\n",
    "param_grid = dict(n_estimators=n_estimators)\n",
    "kfold = StratifiedKFold(n_splits=10, shuffle=True, random_state=7)\n",
    "grid_search = GridSearchCV(model, param_grid, n_jobs=-1, cv=kfold)\n",
    "grid_result = grid_search.fit(X_train, y_train)\n",
    "# summarize results\n",
    "print(\"Best: %f using %s\" % (grid_result.best_score_, grid_result.best_params_))\n",
    "means = grid_result.cv_results_['mean_test_score']\n",
    "stds = grid_result.cv_results_['std_test_score']\n",
    "params = grid_result.cv_results_['params']\n",
    "for mean, stdev, param in zip(means, stds, params):\n",
    "\tprint(\"%f (%f) with: %r\" % (mean, stdev, param))\n"
   ]
  },
  {
   "cell_type": "code",
   "execution_count": 73,
   "metadata": {
    "scrolled": true
   },
   "outputs": [
    {
     "name": "stdout",
     "output_type": "stream",
     "text": [
      "range(1, 11, 2)\n",
      "Fitting 10 folds for each of 5 candidates, totalling 50 fits\n"
     ]
    },
    {
     "name": "stderr",
     "output_type": "stream",
     "text": [
      "/Users/bear/anaconda/lib/python3.6/site-packages/sklearn/model_selection/_split.py:581: Warning: The least populated class in y has only 1 members, which is too few. The minimum number of groups for any class cannot be less than n_splits=10.\n",
      "  % (min_groups, self.n_splits)), Warning)\n",
      "[Parallel(n_jobs=-1)]: Done  34 tasks      | elapsed:   14.5s\n",
      "[Parallel(n_jobs=-1)]: Done  50 out of  50 | elapsed:   28.0s finished\n"
     ]
    },
    {
     "name": "stdout",
     "output_type": "stream",
     "text": [
      "Best: 0.878535 using {'max_depth': 5}\n",
      "0.711466 (0.023176) with: {'max_depth': 1}\n",
      "0.851200 (0.026128) with: {'max_depth': 3}\n",
      "0.878535 (0.020533) with: {'max_depth': 5}\n",
      "0.873116 (0.028970) with: {'max_depth': 7}\n",
      "0.868793 (0.034995) with: {'max_depth': 9}\n"
     ]
    }
   ],
   "source": [
    "model = XGBRegressor()\n",
    "max_depth = range(1, 11, 2)\n",
    "print(max_depth)\n",
    "param_grid = dict(max_depth=max_depth)\n",
    "kfold = StratifiedKFold(n_splits=10, shuffle=True, random_state=7)\n",
    "grid_search = GridSearchCV(model, param_grid, n_jobs=-1, cv=kfold, verbose=1)\n",
    "grid_result = grid_search.fit(X_train_reg, y_train_reg)\n",
    "# summarize results\n",
    "print(\"Best: %f using %s\" % (grid_result.best_score_, grid_result.best_params_))\n",
    "means = grid_result.cv_results_['mean_test_score']\n",
    "stds = grid_result.cv_results_['std_test_score']\n",
    "params = grid_result.cv_results_['params']\n",
    "for mean, stdev, param in zip(means, stds, params):\n",
    "\tprint(\"%f (%f) with: %r\" % (mean, stdev, param))\n"
   ]
  },
  {
   "cell_type": "code",
   "execution_count": 74,
   "metadata": {},
   "outputs": [
    {
     "name": "stdout",
     "output_type": "stream",
     "text": [
      "[4, 5, 6, 7]\n",
      "Fitting 10 folds for each of 12 candidates, totalling 120 fits\n"
     ]
    },
    {
     "name": "stderr",
     "output_type": "stream",
     "text": [
      "[Parallel(n_jobs=-1)]: Done  34 tasks      | elapsed:  1.0min\n",
      "[Parallel(n_jobs=-1)]: Done 120 out of 120 | elapsed:  4.4min finished\n"
     ]
    },
    {
     "name": "stdout",
     "output_type": "stream",
     "text": [
      "Best: 0.730247 using {'max_depth': 6, 'n_estimators': 300}\n",
      "0.721790 (0.015349) with: {'max_depth': 4, 'n_estimators': 300}\n",
      "0.722091 (0.015293) with: {'max_depth': 4, 'n_estimators': 350}\n",
      "0.722979 (0.015751) with: {'max_depth': 4, 'n_estimators': 400}\n",
      "0.728381 (0.014635) with: {'max_depth': 5, 'n_estimators': 300}\n",
      "0.728550 (0.014849) with: {'max_depth': 5, 'n_estimators': 350}\n",
      "0.728606 (0.014992) with: {'max_depth': 5, 'n_estimators': 400}\n",
      "0.730247 (0.015700) with: {'max_depth': 6, 'n_estimators': 300}\n",
      "0.729590 (0.015404) with: {'max_depth': 6, 'n_estimators': 350}\n",
      "0.728738 (0.015835) with: {'max_depth': 6, 'n_estimators': 400}\n",
      "0.727266 (0.015186) with: {'max_depth': 7, 'n_estimators': 300}\n",
      "0.726640 (0.015170) with: {'max_depth': 7, 'n_estimators': 350}\n",
      "0.725502 (0.015193) with: {'max_depth': 7, 'n_estimators': 400}\n"
     ]
    }
   ],
   "source": [
    "# grid search\n",
    "model = XGBRegressor()\n",
    "n_estimators = [300,350,400]\n",
    "max_depth = [4,5,6,7]\n",
    "print(max_depth)\n",
    "param_grid = dict(max_depth=max_depth, n_estimators=n_estimators)\n",
    "kfold = StratifiedKFold(n_splits=10, shuffle=True, random_state=7)\n",
    "grid_search = GridSearchCV(model, param_grid, n_jobs=-1, cv=kfold, verbose=1)\n",
    "grid_result = grid_search.fit(X_train, y_train)\n",
    "# summarize results\n",
    "print(\"Best: %f using %s\" % (grid_result.best_score_, grid_result.best_params_))\n",
    "means = grid_result.cv_results_['mean_test_score']\n",
    "stds = grid_result.cv_results_['std_test_score']\n",
    "params = grid_result.cv_results_['params']\n",
    "for mean, stdev, param in zip(means, stds, params):\n",
    "\tprint(\"%f (%f) with: %r\" % (mean, stdev, param))"
   ]
  },
  {
   "cell_type": "code",
   "execution_count": 75,
   "metadata": {},
   "outputs": [
    {
     "data": {
      "text/plain": [
       "XGBRegressor(base_score=0.5, colsample_bylevel=1, colsample_bytree=1, gamma=0,\n",
       "       learning_rate=0.1, max_delta_step=0, max_depth=6,\n",
       "       min_child_weight=1, missing=None, n_estimators=300, nthread=-1,\n",
       "       objective='reg:linear', reg_alpha=0, reg_lambda=1,\n",
       "       scale_pos_weight=1, seed=0, silent=True, subsample=1)"
      ]
     },
     "execution_count": 75,
     "metadata": {},
     "output_type": "execute_result"
    }
   ],
   "source": [
    "best_XGBoost = grid_result.best_estimator_\n",
    "best_XGBoost"
   ]
  },
  {
   "cell_type": "code",
   "execution_count": 76,
   "metadata": {
    "scrolled": false
   },
   "outputs": [
    {
     "name": "stdout",
     "output_type": "stream",
     "text": [
      "Model Performance\n",
      "Average Error: 66236.3705 degrees.\n",
      "Accuracy = 87.28%.\n"
     ]
    }
   ],
   "source": [
    "best_XGBoost.fit(X_train_reg, y_train_reg)\n",
    "best_accuracy = evaluate_reg(best_XGBoost, X_test_reg, y_test_reg)"
   ]
  },
  {
   "cell_type": "markdown",
   "metadata": {},
   "source": [
    "### XGBoost Algo provides better predictions than Random Forest for the regression problem. And both of them provide a lower RMSE than Linear Regression"
   ]
  },
  {
   "cell_type": "markdown",
   "metadata": {},
   "source": [
    "#### Evaluating the regression models\n"
   ]
  },
  {
   "cell_type": "code",
   "execution_count": 77,
   "metadata": {
    "collapsed": true
   },
   "outputs": [],
   "source": [
    "from sklearn.metrics import mean_squared_error\n",
    "from math import sqrt"
   ]
  },
  {
   "cell_type": "code",
   "execution_count": 78,
   "metadata": {},
   "outputs": [
    {
     "name": "stdout",
     "output_type": "stream",
     "text": [
      "Random forest best model RMSE is : 129461.68\n"
     ]
    }
   ],
   "source": [
    "#Random Forest best model\n",
    "print('Random forest best model RMSE is : ' + str(round(sqrt(mean_squared_error(best_random.predict(X_test_reg), y_test_reg)),2)))"
   ]
  },
  {
   "cell_type": "code",
   "execution_count": 79,
   "metadata": {},
   "outputs": [
    {
     "name": "stdout",
     "output_type": "stream",
     "text": [
      "XGBoost best model RMSE is : 118366.35\n"
     ]
    }
   ],
   "source": [
    "#XGBoost Best model\n",
    "print('XGBoost best model RMSE is : ' + str(round(sqrt(mean_squared_error(best_XGBoost.predict(X_test_reg), y_test_reg)),2)))"
   ]
  },
  {
   "cell_type": "code",
   "execution_count": 80,
   "metadata": {},
   "outputs": [
    {
     "name": "stdout",
     "output_type": "stream",
     "text": [
      "Linear regression best model from Assignment 3: 205986.42\n"
     ]
    }
   ],
   "source": [
    "#Linear regression - multiple linear regression model from previous assignment\n",
    "print('Linear regression best model from Assignment 3: ' + str(205986.42))"
   ]
  },
  {
   "cell_type": "markdown",
   "metadata": {},
   "source": [
    "### Part E\n",
    "\n",
    "* For Part E:\n",
    "    * ??? Another supervised algorithm"
   ]
  },
  {
   "cell_type": "markdown",
   "metadata": {},
   "source": [
    "## Conclusions\n",
    "\n",
    "Summarize your results in a few sentences and use this summary to support your conclusion. State whether your results support or contradict your hypothesis. \n",
    "\n",
    "\n",
    "If you are comparing many models create a table that orders the models and their evaluation and hyperparameters.\n",
    "\n"
   ]
  },
  {
   "cell_type": "markdown",
   "metadata": {},
   "source": [
    "### Contributions\n",
    "\n",
    "Must explain what was done by you and estimate a percentage of the code written by you."
   ]
  },
  {
   "cell_type": "markdown",
   "metadata": {
    "collapsed": true
   },
   "source": [
    "## Citations\n",
    "\n",
    "Must cite any code used"
   ]
  },
  {
   "cell_type": "markdown",
   "metadata": {},
   "source": [
    "### License\n",
    "\n",
    "Must have a license such as the MIT License [https://opensource.org/licenses/MIT](https://opensource.org/licenses/MIT)    "
   ]
  }
 ],
 "metadata": {
  "kernelspec": {
   "display_name": "Python 3",
   "language": "python",
   "name": "python3"
  },
  "language_info": {
   "codemirror_mode": {
    "name": "ipython",
    "version": 3
   },
   "file_extension": ".py",
   "mimetype": "text/x-python",
   "name": "python",
   "nbconvert_exporter": "python",
   "pygments_lexer": "ipython3",
   "version": "3.6.5"
  }
 },
 "nbformat": 4,
 "nbformat_minor": 2
}
